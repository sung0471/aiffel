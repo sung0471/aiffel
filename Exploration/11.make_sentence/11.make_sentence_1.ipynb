{
 "cells": [
  {
   "cell_type": "markdown",
   "metadata": {},
   "source": [
    "## 문장 데이터 예시"
   ]
  },
  {
   "cell_type": "code",
   "execution_count": 1,
   "metadata": {},
   "outputs": [],
   "source": [
    "sentence = ' 나는 밥을 먹었다 '\n",
    "\n",
    "source_sentence = '<start>' + sentence\n",
    "target_sentence = sentence + '<end>'\n",
    "\n",
    "print('Source 문장 : ',source_sentence)\n",
    "print('Target 문장 : ',target_sentence)"
   ]
  },
  {
   "cell_type": "markdown",
   "metadata": {},
   "source": [
    "## 문장 생성\n",
    "### 데이터 다듬기"
   ]
  },
  {
   "cell_type": "code",
   "execution_count": 2,
   "metadata": {},
   "outputs": [
    {
     "name": "stdout",
     "output_type": "stream",
     "text": [
      "['First Citizen:', 'Before we proceed any further, hear me speak.', '', 'All:', 'Speak, speak.', '', 'First Citizen:', 'You are all resolved rather to die than to famish?', '']\n"
     ]
    }
   ],
   "source": [
    "import re                  # 정규표현식을 위한 Regex 지원 모듈 (문장 데이터를 정돈하기 위해) \n",
    "import numpy as np         # 변환된 문장 데이터(행렬)을 편하게 처리하기 위해\n",
    "import tensorflow as tf    # 대망의 텐서플로우!\n",
    "import os\n",
    "\n",
    "# 파일 읽기모드로 열기\n",
    "file_path = '/home/aiffel0049/aiffel/Exploration/11.make_sentence/data/shakespeare.txt'\n",
    "with open(file_path, 'r') as f:\n",
    "    raw_corpus = f.read().splitlines()  # 텍스트를 라인 단위로 끊어서 list로 부르기\n",
    "\n",
    "print(raw_corpus[:9])"
   ]
  },
  {
   "cell_type": "markdown",
   "metadata": {},
   "source": [
    "- 화자(':'로 끝나는 문장), 길이=0인 문장은 제거"
   ]
  },
  {
   "cell_type": "code",
   "execution_count": 3,
   "metadata": {},
   "outputs": [
    {
     "name": "stdout",
     "output_type": "stream",
     "text": [
      "Before we proceed any further, hear me speak.\n",
      "Speak, speak.\n",
      "You are all resolved rather to die than to famish?\n"
     ]
    }
   ],
   "source": [
    "for idx, sentence in enumerate(raw_corpus):\n",
    "    if len(sentence) == 0:   # 길이가 0인 문장은 건너뜁니다.\n",
    "        continue\n",
    "    if sentence[-1] == ':':  # 문장의 끝이 : 인 문장은 건너뜁니다.\n",
    "        continue\n",
    "    \n",
    "    if idx > 9:\n",
    "        break  # 9개 문장만 확인\n",
    "\n",
    "    print(sentence)"
   ]
  },
  {
   "cell_type": "markdown",
   "metadata": {},
   "source": [
    "#### 토큰화(tokenize)\n",
    "- 문장부호 (',', '.')\n",
    "- 대소문자 (First, first 등 대소문자에 따른 다른 의미)\n",
    "- 특수문자 (ten-year-old : 한 단어로 인식)"
   ]
  },
  {
   "cell_type": "code",
   "execution_count": 17,
   "metadata": {},
   "outputs": [
    {
     "name": "stdout",
     "output_type": "stream",
     "text": [
      "<start> this is sample sentence . <end>\n"
     ]
    }
   ],
   "source": [
    "def preprocess_sentence(sentence):\n",
    "    sentence = sentence.lower().strip()  # 소문자 전환, 띄어쓰기 제거\n",
    "    \n",
    "    sentence = re.sub(r'([?.!,¿])', r' \\1 ', sentence)  # 패턴의 특수문자를 만나면 특수문자 양쪽에 공백을 추가\n",
    "    sentence = re.sub(r'[\" \"]+', ' ', sentence)   # 공백 패턴을 만나면 스페이스 1개로 치환\n",
    "    sentence = re.sub(r'[^a-zA-Z?.!,¿]+', \" \", sentence)  # a-zA-Z?.!,¿ 패턴을 제외한 모든 문자(공백문자까지도)를 스페이스 1개로 치환\n",
    "    \n",
    "    sentence = sentence.strip()\n",
    "    \n",
    "    sentence = '<start> ' + sentence + ' <end>'  # 이전 스텝에서 본 것처럼 문장 앞뒤로 <start>와 <end>를 단어처럼 붙여 줍니다\n",
    "    \n",
    "    return sentence\n",
    "\n",
    "print(preprocess_sentence('This @_is ;;;sample        sentence.'))"
   ]
  },
  {
   "cell_type": "markdown",
   "metadata": {},
   "source": [
    "#### source, target 문장"
   ]
  },
  {
   "cell_type": "code",
   "execution_count": 18,
   "metadata": {
    "scrolled": true
   },
   "outputs": [
    {
     "data": {
      "text/plain": [
       "['<start> before we proceed any further , hear me speak . <end>',\n",
       " '<start> speak , speak . <end>',\n",
       " '<start> you are all resolved rather to die than to famish ? <end>',\n",
       " '<start> resolved . resolved . <end>',\n",
       " '<start> first , you know caius marcius is chief enemy to the people . <end>',\n",
       " '<start> we know t , we know t . <end>',\n",
       " '<start> let us kill him , and we ll have corn at our own price . <end>',\n",
       " '<start> is t a verdict ? <end>',\n",
       " '<start> no more talking on t let it be done away , away ! <end>',\n",
       " '<start> one word , good citizens . <end>']"
      ]
     },
     "execution_count": 18,
     "metadata": {},
     "output_type": "execute_result"
    }
   ],
   "source": [
    "corpus = []\n",
    "for sentence in raw_corpus:\n",
    "    if len(sentence) == 0:\n",
    "        continue\n",
    "    if sentence[-1] == ':':\n",
    "        continue\n",
    "    \n",
    "    corpus.append(preprocess_sentence(sentence))\n",
    "\n",
    "corpus[:10]"
   ]
  },
  {
   "cell_type": "markdown",
   "metadata": {},
   "source": [
    "##### 문자를 벡터로 바꿔줌\n",
    "- vertorize"
   ]
  },
  {
   "cell_type": "code",
   "execution_count": 19,
   "metadata": {},
   "outputs": [
    {
     "name": "stdout",
     "output_type": "stream",
     "text": [
      "[[   2  143   40 ...    0    0    0]\n",
      " [   2  110    4 ...    0    0    0]\n",
      " [   2   11   50 ...    0    0    0]\n",
      " ...\n",
      " [   2  149 4553 ...    0    0    0]\n",
      " [   2   34   71 ...    0    0    0]\n",
      " [   2  945   34 ...    0    0    0]] <keras_preprocessing.text.Tokenizer object at 0x7f742627d290>\n"
     ]
    }
   ],
   "source": [
    "def tokenize(corpus):\n",
    "    # Tokenizer 패키지 생성\n",
    "    tokenizer = tf.keras.preprocessing.text.Tokenizer(\n",
    "        num_words=7000,  # 전체 단어의 개수\n",
    "        filters=' ',  # 별도로 전처리 로직을 추가할 수 있음\n",
    "        oov_token='<unk>'  # out-of-vocabulary, 사전에 없는 단어 처리\n",
    "    )\n",
    "    tokenizer.fit_on_texts(corpus)  # 우리가 구축한 corpus로부터 Tokenizer가 사전을 자동구축\n",
    "    \n",
    "    # 이후 tokenizer를 활용하여 모델에 입력할 데이터셋 구축\n",
    "    tensor = tokenizer.texts_to_sequences(corpus)  # tokenizer는 구축한 사전으로부터 corpus를 해석해 tensor로 변환\n",
    "    \n",
    "    # 입력 데이터의 시퀀스 길이를 일정하게 맞추기 위해 padding 메소드 제공됨\n",
    "    # maxlen의 디폴트값 = None, 지금의 경우 corpus의 가장 긴 문장을 기준으로 시퀀스 길이가 맞춰짐\n",
    "    tensor = tf.keras.preprocessing.sequence.pad_sequences(tensor, padding='post')\n",
    "    \n",
    "    print(tensor, tokenizer)\n",
    "    return tensor, tokenizer\n",
    "\n",
    "tensor, tokenizer = tokenize(corpus)"
   ]
  },
  {
   "cell_type": "code",
   "execution_count": 20,
   "metadata": {},
   "outputs": [
    {
     "name": "stdout",
     "output_type": "stream",
     "text": [
      "[[   2  143   40  933  140  591    4  124   24  110]\n",
      " [   2  110    4  110    5    3    0    0    0    0]\n",
      " [   2   11   50   43 1201  316    9  201   74    9]]\n"
     ]
    }
   ],
   "source": [
    "print(tensor[:3, :10])"
   ]
  },
  {
   "cell_type": "markdown",
   "metadata": {},
   "source": [
    "##### 단어 사전"
   ]
  },
  {
   "cell_type": "code",
   "execution_count": 21,
   "metadata": {},
   "outputs": [
    {
     "name": "stdout",
     "output_type": "stream",
     "text": [
      "1  :  <unk>\n",
      "2  :  <start>\n",
      "3  :  <end>\n",
      "4  :  ,\n",
      "5  :  .\n",
      "6  :  the\n",
      "7  :  and\n",
      "8  :  i\n",
      "9  :  to\n",
      "10  :  of\n"
     ]
    }
   ],
   "source": [
    "for idx in tokenizer.index_word:\n",
    "    print(idx, \" : \", tokenizer.index_word[idx])\n",
    "    \n",
    "    if idx >= 10:\n",
    "        break"
   ]
  },
  {
   "cell_type": "code",
   "execution_count": 33,
   "metadata": {},
   "outputs": [
    {
     "name": "stdout",
     "output_type": "stream",
     "text": [
      "(24015, 20)\n",
      "[  2 143  40 933 140 591   4 124  24 110   5   3   0   0   0   0   0   0\n",
      "   0   0]\n",
      "[143  40 933 140 591   4 124  24 110   5   3   0   0   0   0   0   0   0\n",
      "   0   0]\n"
     ]
    }
   ],
   "source": [
    "src_input = tensor[:, :-1]  # 마지막을 제외한 문장 토큰을 source, 마지막 토큰은 <END> 보다는 <pad>능성이 높습니다.\n",
    "tgt_input = tensor[:, 1:]  # tensor에서 <START>를 잘라내 타겟 문장 생성\n",
    "\n",
    "print(src_input.shape)\n",
    "print(src_input[0])\n",
    "print(tgt_input[0])"
   ]
  },
  {
   "cell_type": "code",
   "execution_count": 24,
   "metadata": {},
   "outputs": [
    {
     "data": {
      "text/plain": [
       "<BatchDataset shapes: ((256, 20), (256, 20)), types: (tf.int32, tf.int32)>"
      ]
     },
     "execution_count": 24,
     "metadata": {},
     "output_type": "execute_result"
    }
   ],
   "source": [
    "BUFFER_SIZE = len(src_input)\n",
    "BATCH_SIZE = 256\n",
    "steps_per_epoch = len(src_input) // BATCH_SIZE\n",
    "\n",
    "VOCAB_SIZE = tokenizer.num_words + 1  # tokenizer에 있는 7천개 + 1: <pad>까지 7001개\n",
    "\n",
    "dataset = tf.data.Dataset.from_tensor_slices((src_input, tgt_input)).shuffle(BUFFER_SIZE)\n",
    "dataset = dataset.batch(BATCH_SIZE, drop_remainder=True)\n",
    "dataset"
   ]
  },
  {
   "cell_type": "markdown",
   "metadata": {},
   "source": [
    "### 인공지능 모델 학습"
   ]
  },
  {
   "attachments": {
    "image.png": {
     "image/png": "[encoded data removed]"
    }
   },
   "cell_type": "markdown",
   "metadata": {},
   "source": [
    "![image.png](attachment:image.png)"
   ]
  },
  {
   "cell_type": "code",
   "execution_count": 29,
   "metadata": {},
   "outputs": [],
   "source": [
    "class TextGenerator(tf.keras.Model):\n",
    "    def __init__(self, vocab_size, embedding_size, hidden_size):\n",
    "        super(TextGenerator, self).__init__()\n",
    "        \n",
    "        self.embedding = tf.keras.layers.Embedding(vocab_size, embedding_size)\n",
    "        self.rnn_1 = tf.keras.layers.LSTM(hidden_size, return_sequences=True)\n",
    "        self.rnn_2 = tf.keras.layers.LSTM(hidden_size, return_sequences=True)\n",
    "        self.linear = tf.keras.layers.Dense(vocab_size)\n",
    "    \n",
    "    def call(self, x):\n",
    "        out = self.embedding(x)\n",
    "        out = self.rnn_1(out)\n",
    "        out = self.rnn_2(out)\n",
    "        out = self.linear(out)\n",
    "        \n",
    "        return out\n",
    "\n",
    "embedding_size = 256\n",
    "hidden_size = 1024\n",
    "model = TextGenerator(tokenizer.num_words + 1, embedding_size, hidden_size)"
   ]
  },
  {
   "cell_type": "markdown",
   "metadata": {},
   "source": [
    "- input tensor : 단어 사전의 인덱스 들어있음\n",
    "- embedding layer : 인덱스 값 -> 해당 인덱스 번째의 워드 벡터로 변경\n",
    "- 워드벡터 : 의미 벡터 공간에서 단어의 추상적 표현(representation)으로 사용됨\n",
    "    - 차갑다: [0.0, 1.0]\n",
    "    - 뜨겁다: [1.0, 0.0]\n",
    "    - 미지근하다: [0.5, 0.5]   \n",
    "        -> 데이터가 충분치 않으면, 학습이 잘 안됨\n",
    "\n",
    "\n"
   ]
  },
  {
   "cell_type": "markdown",
   "metadata": {},
   "source": [
    "- LSTM의 hidden_size : 모델내에서 데이터로부터 특성을 추출하는 개수\n",
    "- return_sequences\n",
    "    - True : 입력된 Sequence길이만큼 동일한 시퀀스 출력\n",
    "    - False : 1개의 벡터만 출력함"
   ]
  },
  {
   "cell_type": "code",
   "execution_count": 30,
   "metadata": {},
   "outputs": [
    {
     "data": {
      "text/plain": [
       "<tf.Tensor: shape=(256, 20, 7001), dtype=float32, numpy=\n",
       "array([[[ 8.8707151e-05,  6.6256973e-05, -7.2956187e-05, ...,\n",
       "         -1.7346279e-04,  1.1405017e-04, -7.4191696e-05],\n",
       "        [-9.2536888e-05,  4.5700130e-04, -2.9564026e-04, ...,\n",
       "         -2.6519794e-04,  2.7288834e-04, -4.2956715e-04],\n",
       "        [-2.1004886e-04,  9.0725400e-04, -5.0104689e-04, ...,\n",
       "         -4.3996199e-04,  3.4590944e-04, -6.5795664e-04],\n",
       "        ...,\n",
       "        [-1.6460156e-03,  4.4615194e-04,  5.0121354e-04, ...,\n",
       "          1.0973685e-03,  3.0473240e-03,  2.7792084e-03],\n",
       "        [-1.7137632e-03,  8.1542775e-04,  4.9683126e-04, ...,\n",
       "          1.1209032e-03,  3.3810947e-03,  3.2518683e-03],\n",
       "        [-1.7577948e-03,  1.1804379e-03,  4.9412920e-04, ...,\n",
       "          1.1588880e-03,  3.6196029e-03,  3.6767200e-03]],\n",
       "\n",
       "       [[ 8.8707151e-05,  6.6256973e-05, -7.2956187e-05, ...,\n",
       "         -1.7346279e-04,  1.1405017e-04, -7.4191696e-05],\n",
       "        [ 2.2397729e-05, -5.4028433e-06, -1.6754121e-04, ...,\n",
       "         -4.9368857e-04, -1.0881513e-04, -1.2579137e-04],\n",
       "        [-5.0691982e-05,  3.1078067e-05, -1.4650369e-04, ...,\n",
       "         -5.6684308e-04, -2.0915143e-04, -3.0865235e-04],\n",
       "        ...,\n",
       "        [-1.2723586e-03,  2.5402333e-03,  6.7307858e-04, ...,\n",
       "          1.0744212e-03,  3.5689094e-03,  4.4323909e-03],\n",
       "        [-1.3123081e-03,  2.7183408e-03,  6.2156498e-04, ...,\n",
       "          1.2390792e-03,  3.5690574e-03,  4.7138287e-03],\n",
       "        [-1.3499415e-03,  2.8664039e-03,  5.6906097e-04, ...,\n",
       "          1.3809588e-03,  3.5483944e-03,  4.9505942e-03]],\n",
       "\n",
       "       [[ 8.8707151e-05,  6.6256973e-05, -7.2956187e-05, ...,\n",
       "         -1.7346279e-04,  1.1405017e-04, -7.4191696e-05],\n",
       "        [ 2.2397729e-05, -5.4028433e-06, -1.6754121e-04, ...,\n",
       "         -4.9368857e-04, -1.0881513e-04, -1.2579137e-04],\n",
       "        [ 1.3348710e-04, -5.0256265e-05, -3.0497622e-04, ...,\n",
       "         -4.2784002e-04, -1.7887955e-04, -1.6413239e-04],\n",
       "        ...,\n",
       "        [-1.0923459e-03,  2.2117433e-03, -3.4263555e-04, ...,\n",
       "          5.2256347e-04,  2.9993521e-03,  4.7497582e-03],\n",
       "        [-1.1294740e-03,  2.4465795e-03, -2.4391306e-04, ...,\n",
       "          7.4563798e-04,  3.2276404e-03,  5.0517446e-03],\n",
       "        [-1.1627787e-03,  2.6525545e-03, -1.5179666e-04, ...,\n",
       "          9.4635261e-04,  3.3825533e-03,  5.2993833e-03]],\n",
       "\n",
       "       ...,\n",
       "\n",
       "       [[ 8.8707151e-05,  6.6256973e-05, -7.2956187e-05, ...,\n",
       "         -1.7346279e-04,  1.1405017e-04, -7.4191696e-05],\n",
       "        [ 1.9931680e-04,  2.0621048e-04,  2.3011709e-04, ...,\n",
       "         -3.7826193e-04,  2.6972400e-04, -3.6906295e-05],\n",
       "        [ 4.2547047e-04,  1.1150057e-04,  1.2103047e-04, ...,\n",
       "         -4.4693251e-04,  5.3114485e-04, -3.9508210e-05],\n",
       "        ...,\n",
       "        [-1.2509699e-03,  1.3843112e-03, -5.9849292e-04, ...,\n",
       "          1.3160498e-03,  2.3465827e-03,  3.7983120e-03],\n",
       "        [-1.3188786e-03,  1.7300245e-03, -5.1162066e-04, ...,\n",
       "          1.3488173e-03,  2.6843317e-03,  4.1742269e-03],\n",
       "        [-1.3744562e-03,  2.0427816e-03, -4.1727629e-04, ...,\n",
       "          1.3817829e-03,  2.9409756e-03,  4.4984082e-03]],\n",
       "\n",
       "       [[ 8.8707151e-05,  6.6256973e-05, -7.2956187e-05, ...,\n",
       "         -1.7346279e-04,  1.1405017e-04, -7.4191696e-05],\n",
       "        [-1.2169853e-04, -5.5296761e-05, -2.9205589e-04, ...,\n",
       "         -4.0825646e-04,  3.5999937e-04, -1.5163094e-04],\n",
       "        [ 5.1310526e-05,  4.9682745e-05, -8.2802078e-05, ...,\n",
       "         -9.5000962e-04,  4.2269361e-04, -5.7934531e-06],\n",
       "        ...,\n",
       "        [-6.6089339e-04,  1.9462245e-03,  9.6002441e-05, ...,\n",
       "          4.6856669e-04,  3.0592410e-03,  4.0763542e-03],\n",
       "        [-7.9490489e-04,  2.2110667e-03,  8.5898842e-05, ...,\n",
       "          7.0094730e-04,  3.2540883e-03,  4.4482849e-03],\n",
       "        [-9.0812513e-04,  2.4482072e-03,  8.5042360e-05, ...,\n",
       "          9.0738869e-04,  3.3796765e-03,  4.7643315e-03]],\n",
       "\n",
       "       [[ 8.8707151e-05,  6.6256973e-05, -7.2956187e-05, ...,\n",
       "         -1.7346279e-04,  1.1405017e-04, -7.4191696e-05],\n",
       "        [ 1.2322700e-04,  1.3221127e-04, -2.4456144e-04, ...,\n",
       "         -3.3344384e-04,  1.8753771e-04,  2.1496642e-05],\n",
       "        [-2.3892133e-04,  3.0234692e-04,  6.7865214e-05, ...,\n",
       "         -3.3403427e-04,  4.9188541e-04,  2.2068286e-04],\n",
       "        ...,\n",
       "        [-1.5014126e-03,  3.1178235e-03,  4.0142718e-04, ...,\n",
       "          1.5781583e-03,  3.5770494e-03,  5.5860733e-03],\n",
       "        [-1.5309674e-03,  3.1905407e-03,  3.5784929e-04, ...,\n",
       "          1.6506561e-03,  3.5227251e-03,  5.6753927e-03],\n",
       "        [-1.5614806e-03,  3.2451050e-03,  3.0982646e-04, ...,\n",
       "          1.7123612e-03,  3.4669884e-03,  5.7432489e-03]]], dtype=float32)>"
      ]
     },
     "execution_count": 30,
     "metadata": {},
     "output_type": "execute_result"
    }
   ],
   "source": [
    "for src_sample, tgt_sample in dataset.take(1):\n",
    "    break\n",
    "model(src_sample)"
   ]
  },
  {
   "cell_type": "code",
   "execution_count": 34,
   "metadata": {},
   "outputs": [
    {
     "name": "stdout",
     "output_type": "stream",
     "text": [
      "Model: \"text_generator_2\"\n",
      "_________________________________________________________________\n",
      "Layer (type)                 Output Shape              Param #   \n",
      "=================================================================\n",
      "embedding_2 (Embedding)      multiple                  1792256   \n",
      "_________________________________________________________________\n",
      "lstm_4 (LSTM)                multiple                  5246976   \n",
      "_________________________________________________________________\n",
      "lstm_5 (LSTM)                multiple                  8392704   \n",
      "_________________________________________________________________\n",
      "dense_2 (Dense)              multiple                  7176025   \n",
      "=================================================================\n",
      "Total params: 22,607,961\n",
      "Trainable params: 22,607,961\n",
      "Non-trainable params: 0\n",
      "_________________________________________________________________\n"
     ]
    }
   ],
   "source": [
    "model.summary()"
   ]
  },
  {
   "cell_type": "markdown",
   "metadata": {},
   "source": [
    "- output shape : 입력하기 전엔 sequence 길이를 알 수가 없음   \n",
    "    -> maxlen = 20이므로, sequence = 20으로 고정됨"
   ]
  },
  {
   "cell_type": "code",
   "execution_count": 35,
   "metadata": {},
   "outputs": [
    {
     "name": "stdout",
     "output_type": "stream",
     "text": [
      "WARNING:tensorflow:From <ipython-input-35-17bb7203622b>:1: is_gpu_available (from tensorflow.python.framework.test_util) is deprecated and will be removed in a future version.\n",
      "Instructions for updating:\n",
      "Use `tf.config.list_physical_devices('GPU')` instead.\n"
     ]
    },
    {
     "data": {
      "text/plain": [
       "True"
      ]
     },
     "execution_count": 35,
     "metadata": {},
     "output_type": "execute_result"
    }
   ],
   "source": [
    "tf.test.is_gpu_available()"
   ]
  },
  {
   "cell_type": "code",
   "execution_count": 36,
   "metadata": {},
   "outputs": [
    {
     "name": "stdout",
     "output_type": "stream",
     "text": [
      "Epoch 1/30\n",
      "93/93 [==============================] - 16s 170ms/step - loss: 3.5268\n",
      "Epoch 2/30\n",
      "93/93 [==============================] - 16s 172ms/step - loss: 2.8170\n",
      "Epoch 3/30\n",
      "93/93 [==============================] - 16s 172ms/step - loss: 2.7370\n",
      "Epoch 4/30\n",
      "93/93 [==============================] - 16s 173ms/step - loss: 2.6470\n",
      "Epoch 5/30\n",
      "93/93 [==============================] - 16s 171ms/step - loss: 2.5773\n",
      "Epoch 6/30\n",
      "93/93 [==============================] - 16s 172ms/step - loss: 2.5282\n",
      "Epoch 7/30\n",
      "93/93 [==============================] - 16s 172ms/step - loss: 2.4809\n",
      "Epoch 8/30\n",
      "93/93 [==============================] - 16s 174ms/step - loss: 2.4298\n",
      "Epoch 9/30\n",
      "93/93 [==============================] - 16s 172ms/step - loss: 2.3849\n",
      "Epoch 10/30\n",
      "93/93 [==============================] - 16s 174ms/step - loss: 2.3426\n",
      "Epoch 11/30\n",
      "93/93 [==============================] - 16s 173ms/step - loss: 2.3055\n",
      "Epoch 12/30\n",
      "93/93 [==============================] - 16s 173ms/step - loss: 2.2654\n",
      "Epoch 13/30\n",
      "93/93 [==============================] - 16s 172ms/step - loss: 2.2294\n",
      "Epoch 14/30\n",
      "93/93 [==============================] - 16s 173ms/step - loss: 2.1925\n",
      "Epoch 15/30\n",
      "93/93 [==============================] - 16s 173ms/step - loss: 2.1562\n",
      "Epoch 16/30\n",
      "93/93 [==============================] - 16s 171ms/step - loss: 2.1222\n",
      "Epoch 17/30\n",
      "93/93 [==============================] - 16s 174ms/step - loss: 2.0867\n",
      "Epoch 18/30\n",
      "93/93 [==============================] - 16s 172ms/step - loss: 2.0521\n",
      "Epoch 19/30\n",
      "93/93 [==============================] - 16s 174ms/step - loss: 2.0159\n",
      "Epoch 20/30\n",
      "93/93 [==============================] - 16s 172ms/step - loss: 1.9808\n",
      "Epoch 21/30\n",
      "93/93 [==============================] - 16s 174ms/step - loss: 1.9442\n",
      "Epoch 22/30\n",
      "93/93 [==============================] - 16s 172ms/step - loss: 1.9092\n",
      "Epoch 23/30\n",
      "93/93 [==============================] - 16s 174ms/step - loss: 1.8739\n",
      "Epoch 24/30\n",
      "93/93 [==============================] - 16s 172ms/step - loss: 1.8400\n",
      "Epoch 25/30\n",
      "93/93 [==============================] - 16s 174ms/step - loss: 1.8047\n",
      "Epoch 26/30\n",
      "93/93 [==============================] - 16s 174ms/step - loss: 1.7709\n",
      "Epoch 27/30\n",
      "93/93 [==============================] - 16s 172ms/step - loss: 1.7364\n",
      "Epoch 28/30\n",
      "93/93 [==============================] - 16s 173ms/step - loss: 1.7022\n",
      "Epoch 29/30\n",
      "93/93 [==============================] - 16s 172ms/step - loss: 1.6683\n",
      "Epoch 30/30\n",
      "93/93 [==============================] - 16s 173ms/step - loss: 1.6356\n"
     ]
    },
    {
     "data": {
      "text/plain": [
       "<tensorflow.python.keras.callbacks.History at 0x7f73c0603710>"
      ]
     },
     "execution_count": 36,
     "metadata": {},
     "output_type": "execute_result"
    }
   ],
   "source": [
    "optimizer = tf.keras.optimizers.Adam()\n",
    "loss = tf.keras.losses.SparseCategoricalCrossentropy(\n",
    "    from_logits=True,\n",
    "    reduction = 'none'\n",
    ")\n",
    "\n",
    "model.compile(loss=loss, optimizer=optimizer)\n",
    "model.fit(dataset, epochs=30)"
   ]
  },
  {
   "cell_type": "markdown",
   "metadata": {},
   "source": [
    "### 모델로 작문시키기"
   ]
  },
  {
   "cell_type": "code",
   "execution_count": 37,
   "metadata": {},
   "outputs": [],
   "source": [
    "def generate_text(model, tokenizer, init_sentence='<start>', max_len=20):\n",
    "    # 테스트를 위해서 입력받은 init_sentence도 일단 텐서로 변환\n",
    "    test_input = tokenizer.texts_to_sequences([init_sentence])\n",
    "    test_tensor = tf.convert_to_tensor(test_input, dtype=tf.int64)\n",
    "    end_token = tokenizer.word_index['<end>']\n",
    "    \n",
    "    # 텍스트를 실제로 생성할 때, 루프를 돌면서 단어 하나씩 생성해야 함\n",
    "    while True:\n",
    "        predict = model(test_tensor)\n",
    "        predict_word = tf.argmax(tf.nn.softmax(predict, axis=-1), axis=-1)[:, -1]  # 우리 모델이 예측한 마지막 단어가 바로 새롭게 생성한 단어가 됨\n",
    "        \n",
    "        # 우리 모델이 새롭게 예측한 단어를 입력 문장의 뒤에 붙여줌\n",
    "        test_tensor = tf.concat([test_tensor, \n",
    "                                tf.expand_dims(predict_word, axis=0)], axis=-1)\n",
    "        # 우리 모델이 <END>를 예측 or max_len에 도달하지 않았다면, while 루프를 돌며 다음 단어 예측해야 함\n",
    "        if predict_word.numpy()[0] == end_token:\n",
    "            break\n",
    "        if test_tensor.shape[1] >= max_len:\n",
    "            break\n",
    "    \n",
    "    generated = ''\n",
    "    # 생성된 tensor안에 있는 word index를 tokenizer.index_word 사전을 통해 실제 단어로 하나씩 변환\n",
    "    for word_index in test_tensor[0].numpy():\n",
    "        generated += tokenizer.index_word[word_index] + ' '\n",
    "    \n",
    "    return generated  # 이것이 최종적으로 모델이 생성한 자연어 문장"
   ]
  },
  {
   "cell_type": "code",
   "execution_count": 39,
   "metadata": {},
   "outputs": [
    {
     "data": {
      "text/plain": [
       "'<start> he s a changeling and of the <unk> of the <end> '"
      ]
     },
     "execution_count": 39,
     "metadata": {},
     "output_type": "execute_result"
    }
   ],
   "source": [
    "generate_text(model, tokenizer, init_sentence=\"<start> he\")"
   ]
  },
  {
   "cell_type": "code",
   "execution_count": 40,
   "metadata": {},
   "outputs": [
    {
     "data": {
      "text/plain": [
       "'<start> she s not fourteen . <end> '"
      ]
     },
     "execution_count": 40,
     "metadata": {},
     "output_type": "execute_result"
    }
   ],
   "source": [
    "generate_text(model, tokenizer, init_sentence=\"<start> she\")"
   ]
  }
 ],
 "metadata": {
  "kernelspec": {
   "display_name": "aiffel",
   "language": "python",
   "name": "aiffel"
  },
  "language_info": {
   "codemirror_mode": {
    "name": "ipython",
    "version": 3
   },
   "file_extension": ".py",
   "mimetype": "text/x-python",
   "name": "python",
   "nbconvert_exporter": "python",
   "pygments_lexer": "ipython3",
   "version": "3.7.6"
  },
  "toc": {
   "base_numbering": 1,
   "nav_menu": {},
   "number_sections": true,
   "sideBar": true,
   "skip_h1_title": false,
   "title_cell": "Table of Contents",
   "title_sidebar": "Contents",
   "toc_cell": false,
   "toc_position": {},
   "toc_section_display": true,
   "toc_window_display": false
  },
  "varInspector": {
   "cols": {
    "lenName": 16,
    "lenType": 16,
    "lenVar": 40
   },
   "kernels_config": {
    "python": {
     "delete_cmd_postfix": "",
     "delete_cmd_prefix": "del ",
     "library": "var_list.py",
     "varRefreshCmd": "print(var_dic_list())"
    },
    "r": {
     "delete_cmd_postfix": ") ",
     "delete_cmd_prefix": "rm(",
     "library": "var_list.r",
     "varRefreshCmd": "cat(var_dic_list()) "
    }
   },
   "types_to_exclude": [
    "module",
    "function",
    "builtin_function_or_method",
    "instance",
    "_Feature"
   ],
   "window_display": false
  }
 },
 "nbformat": 4,
 "nbformat_minor": 4
}
