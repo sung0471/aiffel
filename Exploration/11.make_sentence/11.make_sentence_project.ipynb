{
 "cells": [
  {
   "cell_type": "markdown",
   "metadata": {},
   "source": [
    "## 데이터 읽기"
   ]
  },
  {
   "cell_type": "code",
   "execution_count": 1,
   "metadata": {},
   "outputs": [
    {
     "name": "stdout",
     "output_type": "stream",
     "text": [
      "데이터 크기:  187088\n",
      "Examples: \n",
      " [\"I'll undress you, 'cause you're tired\", 'Cover you as you desire', 'When you fall asleep inside my arms']\n"
     ]
    }
   ],
   "source": [
    "import glob\n",
    "import os\n",
    "import re\n",
    "import tensorflow as tf\n",
    "import numpy as np\n",
    "from sklearn.model_selection import train_test_split\n",
    "import matplotlib.pyplot as plt\n",
    "\n",
    "txt_file_path = '/home/aiffel0049/aiffel/Exploration/11.make_sentence/data/lyrics/*'\n",
    "txt_list = glob.glob(txt_file_path)\n",
    "\n",
    "raw_corpus = []\n",
    "\n",
    "# 여러개의 txt파일을 모두 읽음 -> raw_corpus에 담음\n",
    "for txt_file in txt_list:\n",
    "    with open(txt_file, 'r') as f:\n",
    "        raw = f.read().splitlines()\n",
    "        raw_corpus.extend(raw)\n",
    "        \n",
    "print('데이터 크기: ', len(raw_corpus))\n",
    "print('Examples: \\n', raw_corpus[:3])"
   ]
  },
  {
   "cell_type": "markdown",
   "metadata": {},
   "source": [
    "## 데이터 정제"
   ]
  },
  {
   "cell_type": "code",
   "execution_count": 2,
   "metadata": {},
   "outputs": [
    {
     "name": "stdout",
     "output_type": "stream",
     "text": [
      "<start> this's is sample sentence . <end>\n"
     ]
    }
   ],
   "source": [
    "def preprocess_sentence(sentence):\n",
    "    sentence = sentence.lower().strip()  # 소문자 전환, 띄어쓰기 제거\n",
    "    \n",
    "    sentence = re.sub(r'([?.!,¿])', r' \\1 ', sentence)  # 패턴의 특수문자를 만나면 특수문자 양쪽에 공백을 추가\n",
    "    sentence = re.sub(r'[\" \"]+', ' ', sentence)   # 공백 패턴을 만나면 스페이스 1개로 치환\n",
    "    sentence = re.sub(r'[^a-zA-Z?.!,¿\\']+', \" \", sentence)  # a-zA-Z?.!,¿ 패턴을 제외한 모든 문자(공백문자까지도)를 스페이스 1개로 치환\n",
    "    \n",
    "    sentence = sentence.strip()\n",
    "    \n",
    "    sentence = '<start> ' + sentence + ' <end>'  # 이전 스텝에서 본 것처럼 문장 앞뒤로 <start>와 <end>를 단어처럼 붙여 줍니다\n",
    "    \n",
    "    return sentence\n",
    "\n",
    "print(preprocess_sentence(\"This's @_is ;;;sample        sentence.\"))"
   ]
  },
  {
   "cell_type": "code",
   "execution_count": 3,
   "metadata": {},
   "outputs": [
    {
     "data": {
      "text/plain": [
       "[\"I'll undress you, 'cause you're tired\",\n",
       " 'Cover you as you desire',\n",
       " 'When you fall asleep inside my arms',\n",
       " 'May not have the fancy things',\n",
       " \"But I'll give you everything\",\n",
       " \"You could ever want, it's in my arms So baby tell me yes\",\n",
       " 'And I will give you everything',\n",
       " 'So baby tell me yes',\n",
       " 'And I will be all yours tonight',\n",
       " 'So baby tell me yes']"
      ]
     },
     "execution_count": 3,
     "metadata": {},
     "output_type": "execute_result"
    }
   ],
   "source": [
    "raw_corpus[:10]"
   ]
  },
  {
   "cell_type": "code",
   "execution_count": 4,
   "metadata": {},
   "outputs": [
    {
     "data": {
      "text/plain": [
       "[\"<start> i'll undress you , 'cause you're tired <end>\",\n",
       " '<start> cover you as you desire <end>',\n",
       " '<start> when you fall asleep inside my arms <end>',\n",
       " '<start> may not have the fancy things <end>',\n",
       " \"<start> but i'll give you everything <end>\",\n",
       " \"<start> you could ever want , it's in my arms so baby tell me yes <end>\",\n",
       " '<start> and i will give you everything <end>',\n",
       " '<start> so baby tell me yes <end>',\n",
       " '<start> and i will be all yours tonight <end>',\n",
       " '<start> so baby tell me yes <end>']"
      ]
     },
     "execution_count": 4,
     "metadata": {},
     "output_type": "execute_result"
    }
   ],
   "source": [
    "corpus = []\n",
    "for sentence in raw_corpus:\n",
    "    if len(sentence) == 0:\n",
    "        continue\n",
    "    \n",
    "    corpus.append(preprocess_sentence(sentence))\n",
    "\n",
    "corpus[:10]"
   ]
  },
  {
   "cell_type": "code",
   "execution_count": 5,
   "metadata": {},
   "outputs": [
    {
     "name": "stdout",
     "output_type": "stream",
     "text": [
      "[[   2   95 3211 ...    0    0    0]\n",
      " [   2 1195    7 ...    0    0    0]\n",
      " [   2   42    7 ...    0    0    0]\n",
      " ...\n",
      " [   2   25   71 ...    0    0    0]\n",
      " [   2   38   23 ...    0    0    0]\n",
      " [   2   25   71 ...    0    0    0]] <keras_preprocessing.text.Tokenizer object at 0x7f275cdd6bd0>\n"
     ]
    }
   ],
   "source": [
    "def tokenize(corpus):\n",
    "    tokenizer = tf.keras.preprocessing.text.Tokenizer(\n",
    "        num_words=12000,\n",
    "        filters=' ',\n",
    "        oov_token='<unk>'\n",
    "    )\n",
    "    tokenizer.fit_on_texts(corpus)\n",
    "    \n",
    "    tensor = tokenizer.texts_to_sequences(corpus)\n",
    "    \n",
    "    tensor = tf.keras.preprocessing.sequence.pad_sequences(tensor, padding='post')\n",
    "    \n",
    "    print(tensor, tokenizer)\n",
    "    return tensor, tokenizer\n",
    "\n",
    "tensor, tokenizer = tokenize(corpus)"
   ]
  },
  {
   "cell_type": "code",
   "execution_count": 6,
   "metadata": {},
   "outputs": [
    {
     "name": "stdout",
     "output_type": "stream",
     "text": [
      "(175986, 15)\n",
      "(175986, 15)\n"
     ]
    }
   ],
   "source": [
    "max_len = 15\n",
    "src_input = tensor[:, :max_len]\n",
    "tgt_input = tensor[:, 1:max_len+1]\n",
    "\n",
    "print(src_input.shape)\n",
    "print(tgt_input.shape)"
   ]
  },
  {
   "cell_type": "markdown",
   "metadata": {},
   "source": [
    "## 평가 데이터셋 분리"
   ]
  },
  {
   "cell_type": "code",
   "execution_count": 7,
   "metadata": {},
   "outputs": [],
   "source": [
    "BUFFER_SIZE = len(src_input)\n",
    "BATCH_SIZE = 256\n",
    "steps_per_epoch = len(src_input) // BATCH_SIZE\n",
    "\n",
    "VOCAB_SIZE = tokenizer.num_words + 1"
   ]
  },
  {
   "cell_type": "code",
   "execution_count": 8,
   "metadata": {},
   "outputs": [],
   "source": [
    "enc_train, enc_val, dec_train, dec_val = train_test_split(src_input,\n",
    "                                                          tgt_input,\n",
    "                                                          test_size=0.29,\n",
    "                                                          random_state=2020)"
   ]
  },
  {
   "cell_type": "code",
   "execution_count": 9,
   "metadata": {},
   "outputs": [
    {
     "name": "stdout",
     "output_type": "stream",
     "text": [
      "Source Train :  (124950, 15)\n",
      "Target Train :  (124950, 15)\n"
     ]
    }
   ],
   "source": [
    "print('Source Train : ', enc_train.shape)\n",
    "print('Target Train : ', dec_train.shape)"
   ]
  },
  {
   "cell_type": "code",
   "execution_count": 10,
   "metadata": {},
   "outputs": [
    {
     "data": {
      "text/plain": [
       "<BatchDataset shapes: ((256, 15), (256, 15)), types: (tf.int32, tf.int32)>"
      ]
     },
     "execution_count": 10,
     "metadata": {},
     "output_type": "execute_result"
    }
   ],
   "source": [
    "dataset_train = tf.data.Dataset.from_tensor_slices((enc_train, dec_train)).shuffle(BUFFER_SIZE)\n",
    "dataset_train = dataset_train.batch(BATCH_SIZE, drop_remainder=True)\n",
    "dataset_train"
   ]
  },
  {
   "cell_type": "code",
   "execution_count": 11,
   "metadata": {},
   "outputs": [
    {
     "data": {
      "text/plain": [
       "<BatchDataset shapes: ((256, 15), (256, 15)), types: (tf.int32, tf.int32)>"
      ]
     },
     "execution_count": 11,
     "metadata": {},
     "output_type": "execute_result"
    }
   ],
   "source": [
    "dataset_val = tf.data.Dataset.from_tensor_slices((enc_val, dec_val)).shuffle(BUFFER_SIZE)\n",
    "dataset_val = dataset_val.batch(BATCH_SIZE, drop_remainder=True)\n",
    "dataset_val"
   ]
  },
  {
   "cell_type": "markdown",
   "metadata": {},
   "source": [
    "## 인공지능 모델 만들기"
   ]
  },
  {
   "cell_type": "code",
   "execution_count": 12,
   "metadata": {},
   "outputs": [],
   "source": [
    "class TextGenerator(tf.keras.Model):\n",
    "    def __init__(self, vocab_size, embedding_size, hidden_size):\n",
    "        super(TextGenerator, self).__init__()\n",
    "        \n",
    "        self.embedding = tf.keras.layers.Embedding(vocab_size, embedding_size)\n",
    "        self.rnn_1 = tf.keras.layers.LSTM(hidden_size, return_sequences=True)\n",
    "        self.rnn_2 = tf.keras.layers.LSTM(hidden_size * 2, return_sequences=True)\n",
    "        self.linear = tf.keras.layers.Dense(vocab_size)\n",
    "    \n",
    "    def call(self, x):\n",
    "        out = self.embedding(x)\n",
    "        out = self.rnn_1(out)\n",
    "        out = self.rnn_2(out)\n",
    "        out = self.linear(out)\n",
    "        \n",
    "        return out\n",
    "\n",
    "embedding_size = 256\n",
    "hidden_size = 1024\n",
    "model = TextGenerator(VOCAB_SIZE, embedding_size, hidden_size)"
   ]
  },
  {
   "cell_type": "code",
   "execution_count": 13,
   "metadata": {},
   "outputs": [
    {
     "name": "stdout",
     "output_type": "stream",
     "text": [
      "Model: \"text_generator\"\n",
      "_________________________________________________________________\n",
      "Layer (type)                 Output Shape              Param #   \n",
      "=================================================================\n",
      "embedding (Embedding)        multiple                  3072256   \n",
      "_________________________________________________________________\n",
      "lstm (LSTM)                  multiple                  5246976   \n",
      "_________________________________________________________________\n",
      "lstm_1 (LSTM)                multiple                  25174016  \n",
      "_________________________________________________________________\n",
      "dense (Dense)                multiple                  24590049  \n",
      "=================================================================\n",
      "Total params: 58,083,297\n",
      "Trainable params: 58,083,297\n",
      "Non-trainable params: 0\n",
      "_________________________________________________________________\n"
     ]
    }
   ],
   "source": [
    "model.build((VOCAB_SIZE, embedding_size))\n",
    "model.summary()"
   ]
  },
  {
   "cell_type": "markdown",
   "metadata": {},
   "source": [
    "https://datascience.stackexchange.com/questions/10615/number-of-parameters-in-an-lstm-model\n",
    "- param 수\n",
    "\n",
    "        params = dim(W) + dim(V) + dim(U) = 4n(m+n+1)\n",
    "        n = hidden layer 차원\n",
    "        m = input layer 차원\n",
    "        \n",
    "        embedding\n",
    "            params : 3072256\n",
    "            vocab_size : 12001\n",
    "            embedding_size : 256\n",
    "        lstm-1\n",
    "            params : 5246976\n",
    "            input : m=256 \n",
    "            hidden : n=1024\n",
    "            bias : 1\n",
    "        lstm-2\n",
    "            params : 8392704\n",
    "            input : 1024\n",
    "            hidden : 1024\n",
    "            bias : 1\n",
    "        dense\n",
    "            params : 12301025\n",
    "            input : 1024\n",
    "            hidden(output) : 12001\n",
    "            bias : 1            "
   ]
  },
  {
   "cell_type": "code",
   "execution_count": 14,
   "metadata": {},
   "outputs": [
    {
     "name": "stdout",
     "output_type": "stream",
     "text": [
      "WARNING:tensorflow:From <ipython-input-14-17bb7203622b>:1: is_gpu_available (from tensorflow.python.framework.test_util) is deprecated and will be removed in a future version.\n",
      "Instructions for updating:\n",
      "Use `tf.config.list_physical_devices('GPU')` instead.\n"
     ]
    },
    {
     "data": {
      "text/plain": [
       "True"
      ]
     },
     "execution_count": 14,
     "metadata": {},
     "output_type": "execute_result"
    }
   ],
   "source": [
    "tf.test.is_gpu_available()"
   ]
  },
  {
   "cell_type": "markdown",
   "metadata": {},
   "source": [
    "- https://www.tensorflow.org/api_docs/python/tf/keras/Sequential#fit\n",
    "- fit에서 train, val 넣기"
   ]
  },
  {
   "cell_type": "code",
   "execution_count": 15,
   "metadata": {},
   "outputs": [
    {
     "name": "stdout",
     "output_type": "stream",
     "text": [
      "Epoch 1/10\n",
      "488/488 [==============================] - 822s 2s/step - loss: 3.4227 - val_loss: 3.0370\n",
      "Epoch 2/10\n",
      "488/488 [==============================] - 196s 401ms/step - loss: 2.8697 - val_loss: 2.7887\n",
      "Epoch 3/10\n",
      "488/488 [==============================] - 194s 398ms/step - loss: 2.5947 - val_loss: 2.6416\n",
      "Epoch 4/10\n",
      "488/488 [==============================] - 195s 400ms/step - loss: 2.3506 - val_loss: 2.5376\n",
      "Epoch 5/10\n",
      "488/488 [==============================] - 208s 426ms/step - loss: 2.1237 - val_loss: 2.4608\n",
      "Epoch 6/10\n",
      "488/488 [==============================] - 208s 427ms/step - loss: 1.9110 - val_loss: 2.4062\n",
      "Epoch 7/10\n",
      "488/488 [==============================] - 194s 398ms/step - loss: 1.7160 - val_loss: 2.3696\n",
      "Epoch 8/10\n",
      "488/488 [==============================] - 191s 391ms/step - loss: 1.5410 - val_loss: 2.3518\n",
      "Epoch 9/10\n",
      "488/488 [==============================] - 197s 404ms/step - loss: 1.3867 - val_loss: 2.3481\n",
      "Epoch 10/10\n",
      "488/488 [==============================] - 204s 417ms/step - loss: 1.2548 - val_loss: 2.3568\n"
     ]
    }
   ],
   "source": [
    "#Loss\n",
    "epochs = 10\n",
    "lr = 2e-3\n",
    "decay = 5e-5\n",
    "optimizer = tf.keras.optimizers.Adam(learning_rate=lr, decay=decay)\n",
    "loss = tf.keras.losses.SparseCategoricalCrossentropy(\n",
    "    from_logits=True, reduction='none')\n",
    "\n",
    "model.compile(loss=loss, optimizer=optimizer)\n",
    "history = model.fit(dataset_train, validation_data=dataset_val, epochs=epochs)"
   ]
  },
  {
   "cell_type": "code",
   "execution_count": 16,
   "metadata": {},
   "outputs": [],
   "source": [
    "history = history.history"
   ]
  },
  {
   "cell_type": "code",
   "execution_count": 17,
   "metadata": {},
   "outputs": [],
   "source": [
    "model_path = '/home/aiffel0049/aiffel/Exploration/11.make_sentence/models/'\n",
    "val_loss = history['val_loss'][-1]\n",
    "model.save_weights(model_path + 'lstm_' + str(val_loss)[:6] + '.h5')"
   ]
  },
  {
   "cell_type": "code",
   "execution_count": 18,
   "metadata": {},
   "outputs": [
    {
     "name": "stdout",
     "output_type": "stream",
     "text": [
      "dict_keys(['loss', 'val_loss'])\n"
     ]
    },
    {
     "data": {
      "image/png": "[encoded data removed]",
      "text/plain": [
       "<Figure size 432x288 with 1 Axes>"
      ]
     },
     "metadata": {
      "needs_background": "light"
     },
     "output_type": "display_data"
    }
   ],
   "source": [
    "print(history.keys())\n",
    "\n",
    "# acc = history['acc']\n",
    "losses = history['loss']\n",
    "# val_acc = history['val_acc']\n",
    "val_loss = history['val_loss']\n",
    "\n",
    "plt.plot(losses, 'b', label='train_loss')\n",
    "plt.plot(val_loss, 'r', label='val_loss')\n",
    "plt.xlabel('epoch')\n",
    "\n",
    "plt.show()"
   ]
  },
  {
   "cell_type": "code",
   "execution_count": 19,
   "metadata": {},
   "outputs": [],
   "source": [
    "def generate_text(model, tokenizer, init_sentence='<start>', max_len=20):\n",
    "    # 테스트를 위해서 입력받은 init_sentence도 일단 텐서로 변환\n",
    "    test_input = tokenizer.texts_to_sequences([init_sentence])\n",
    "    test_tensor = tf.convert_to_tensor(test_input, dtype=tf.int64)\n",
    "    end_token = tokenizer.word_index['<end>']\n",
    "    \n",
    "    # 텍스트를 실제로 생성할 때, 루프를 돌면서 단어 하나씩 생성해야 함\n",
    "    while True:\n",
    "        predict = model(test_tensor)\n",
    "        predict_word = tf.argmax(tf.nn.softmax(predict, axis=-1), axis=-1)[:, -1]  # 우리 모델이 예측한 마지막 단어가 바로 새롭게 생성한 단어가 됨\n",
    "        \n",
    "        # 우리 모델이 새롭게 예측한 단어를 입력 문장의 뒤에 붙여줌\n",
    "        test_tensor = tf.concat([test_tensor, \n",
    "                                tf.expand_dims(predict_word, axis=0)], axis=-1)\n",
    "        # 우리 모델이 <END>를 예측 or max_len에 도달하지 않았다면, while 루프를 돌며 다음 단어 예측해야 함\n",
    "        if predict_word.numpy()[0] == end_token:\n",
    "            break\n",
    "        if test_tensor.shape[1] >= max_len:\n",
    "            break\n",
    "    \n",
    "    generated = ''\n",
    "    # 생성된 tensor안에 있는 word index를 tokenizer.index_word 사전을 통해 실제 단어로 하나씩 변환\n",
    "    for word_index in test_tensor[0].numpy():\n",
    "        generated += tokenizer.index_word[word_index] + ' '\n",
    "    \n",
    "    return generated  # 이것이 최종적으로 모델이 생성한 자연어 문장"
   ]
  },
  {
   "cell_type": "code",
   "execution_count": 20,
   "metadata": {},
   "outputs": [
    {
     "data": {
      "text/plain": [
       "'<start> i love you so much , i love you so much , i love you so much , i '"
      ]
     },
     "execution_count": 20,
     "metadata": {},
     "output_type": "execute_result"
    }
   ],
   "source": [
    "generate_text(model, tokenizer, init_sentence=\"<start> i love\", max_len=20)"
   ]
  },
  {
   "cell_type": "markdown",
   "metadata": {},
   "source": [
    "## 실험내용"
   ]
  },
  {
   "attachments": {},
   "cell_type": "markdown",
   "metadata": {},
   "source": [
    "1. 기본\n",
    "\n",
    "        embedding_size = 256\n",
    "        hidden_size = 1024\n",
    "        lr=1e-3\n",
    "        \n",
    "        loss: 2.2793 - val_loss: 2.5783\n",
    "\n",
    "        '<start> i love you , i need you <end> '\n",
    "\n",
    "2. embedding_size = 512\n",
    "        \n",
    "        embedding_size = 512\n",
    "        hidden_size = 1024\n",
    "        lr=1e-3\n",
    "\n",
    "        val_loss: 2.5551\n",
    "        \n",
    "        <start> i love you , i love you , i love you , i love <end>\n",
    "\n",
    "3. hidden_size=512\n",
    "        \n",
    "        embedding_size = 256\n",
    "        hidden_size = 512\n",
    "        lr=1e-3\n",
    "\n",
    "        loss: 2.6123 - val_loss: 2.7325\n",
    "        \n",
    "        \"<start> i love you , i don't know what i do <end> \"\n",
    "\n",
    "4. layer node 변경\n",
    "        \n",
    "        embedding_size = 256\n",
    "        hidden_size = 1024, 512 (1, 2 layer)\n",
    "        lr=1e-3\n",
    "        \n",
    "        loss: 2.7151 - val_loss: 2.8008\n",
    "        \n",
    "        \"<start> i love you , i don't know , i don't know , i know \"\n",
    "\n",
    "5. decay = 5e-4\n",
    "\n",
    "        embedding_size = 256\n",
    "        hidden_size = 1024, 512 (1, 2 layer)\n",
    "        lr=1e-3, decay=5e-4\n",
    "\n",
    "        loss: 2.6293 - val_loss: 2.7735\n",
    "        \n",
    "        \"<start> i love you , i don't know what i want <end> \"\n",
    "\n",
    "6. decay = 5e-5\n",
    "        \n",
    "        embedding_size = 256\n",
    "        hidden_size = 1024\n",
    "        lr=1e-3, decay=5e-5\n",
    "\n",
    "        loss: 2.3956 - val_loss: 2.6381\n",
    "        \n",
    "        '<start> i love you , i love you <end> '\n",
    "\n",
    "7. lr=3e-3\n",
    "\n",
    "        embedding_size = 256\n",
    "        hidden_size = 1024\n",
    "        lr=3e-3\n",
    "\n",
    "        loss: 1.8772 - val_loss: 2.4724\n",
    "        \n",
    "        '<start> i love ma little nasty girl <end> '\n",
    "\n",
    "8. lr=3e-3, decay=5e-5\n",
    "\n",
    "        embedding_size = 256\n",
    "        hidden_size = 1024\n",
    "        lr=3e-3, decay=5e-5\n",
    "\n",
    "        loss: 1.2963 - val_loss: 2.3904\n",
    "        \n",
    "        '<start> i love you , i love you <end> '\n",
    "\n",
    "9. layer 3개, lr=3e-3, decay=5e-5\n",
    "\n",
    "        embedding_size = 256\n",
    "        hidden_size = 1024 (3 layer)\n",
    "        lr=3e-3, decay=5e-5\n",
    "        \n",
    "        loss: 2.5328 - val_loss: 2.7627\n",
    "        \n",
    "        \"<start> i love you , i don't wanna , i don't wanna , i don't \"\n",
    "        \n",
    "10. layer 4개, hidden_size=512, lr=3e-3, decay=5e-5\n",
    "\n",
    "        embedding_size = 256\n",
    "        hidden_size = 512 (4 layer)\n",
    "        lr=3e-3, decay=5e-5\n",
    "        \n",
    "        loss: 2.6150 - val_loss: 2.8053\n",
    "        \n",
    "        \"<start> i love you , i don't know what i want <end> \"\n",
    "        \n",
    "11. hidden_size=1024, 2048, lr=3e-3, decay=5e-5\n",
    "\n",
    "        embedding_size = 256\n",
    "        hidden_size = 1024, 2048\n",
    "        lr=3e-3, decay=5e-5\n",
    "        \n",
    "        loss: 1.0288 - val_loss: 2.4507\n",
    "        \n",
    "        '<start> i love you mom , you always be my favorite girl . <end> '\n",
    "        \n",
    "        epoch 6부터 fit\n",
    "\n",
    "12. hidden_size=1024, 2048, lr=2e-3, decay=5e-5\n",
    "\n",
    "        embedding_size = 256\n",
    "        hidden_size = 1024, 2048\n",
    "        lr=3e-3, decay=5e-5\n",
    "        \n",
    "        loss: 1.2548 - val_loss: 2.3568\n",
    "        \n",
    "        '<start> i love you so much , i love you so much , i love you so much , i '"
   ]
  },
  {
   "cell_type": "code",
   "execution_count": null,
   "metadata": {},
   "outputs": [],
   "source": []
  }
 ],
 "metadata": {
  "kernelspec": {
   "display_name": "aiffel",
   "language": "python",
   "name": "aiffel"
  },
  "language_info": {
   "codemirror_mode": {
    "name": "ipython",
    "version": 3
   },
   "file_extension": ".py",
   "mimetype": "text/x-python",
   "name": "python",
   "nbconvert_exporter": "python",
   "pygments_lexer": "ipython3",
   "version": "3.7.6"
  },
  "toc": {
   "base_numbering": 1,
   "nav_menu": {},
   "number_sections": true,
   "sideBar": true,
   "skip_h1_title": false,
   "title_cell": "Table of Contents",
   "title_sidebar": "Contents",
   "toc_cell": false,
   "toc_position": {},
   "toc_section_display": true,
   "toc_window_display": false
  },
  "varInspector": {
   "cols": {
    "lenName": 16,
    "lenType": 16,
    "lenVar": 40
   },
   "kernels_config": {
    "python": {
     "delete_cmd_postfix": "",
     "delete_cmd_prefix": "del ",
     "library": "var_list.py",
     "varRefreshCmd": "print(var_dic_list())"
    },
    "r": {
     "delete_cmd_postfix": ") ",
     "delete_cmd_prefix": "rm(",
     "library": "var_list.r",
     "varRefreshCmd": "cat(var_dic_list()) "
    }
   },
   "types_to_exclude": [
    "module",
    "function",
    "builtin_function_or_method",
    "instance",
    "_Feature"
   ],
   "window_display": false
  }
 },
 "nbformat": 4,
 "nbformat_minor": 4
}
