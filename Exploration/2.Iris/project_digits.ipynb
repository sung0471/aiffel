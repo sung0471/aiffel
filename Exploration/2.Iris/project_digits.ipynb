{
 "cells": [
  {
   "cell_type": "code",
   "execution_count": 1,
   "metadata": {},
   "outputs": [],
   "source": [
    "from sklearn.datasets import load_digits\n",
    "from sklearn.model_selection import train_test_split\n",
    "from sklearn.metrics import classification_report"
   ]
  },
  {
   "cell_type": "code",
   "execution_count": 2,
   "metadata": {},
   "outputs": [],
   "source": [
    "# 데이터 준비\n",
    "digits = load_digits()"
   ]
  },
  {
   "cell_type": "code",
   "execution_count": 4,
   "metadata": {},
   "outputs": [],
   "source": [
    "# 데이터 이해하기\n",
    "data = digits.data\n",
    "label = digits.target\n",
    "target_name = digits.target_names\n",
    "desc = digits.DESCR"
   ]
  },
  {
   "cell_type": "code",
   "execution_count": 5,
   "metadata": {},
   "outputs": [
    {
     "name": "stdout",
     "output_type": "stream",
     "text": [
      ".. _digits_dataset:\n",
      "\n",
      "Optical recognition of handwritten digits dataset\n",
      "--------------------------------------------------\n",
      "\n",
      "**Data Set Characteristics:**\n",
      "\n",
      "    :Number of Instances: 5620\n",
      "    :Number of Attributes: 64\n",
      "    :Attribute Information: 8x8 image of integer pixels in the range 0..16.\n",
      "    :Missing Attribute Values: None\n",
      "    :Creator: E. Alpaydin (alpaydin '@' boun.edu.tr)\n",
      "    :Date: July; 1998\n",
      "\n",
      "This is a copy of the test set of the UCI ML hand-written digits datasets\n",
      "https://archive.ics.uci.edu/ml/datasets/Optical+Recognition+of+Handwritten+Digits\n",
      "\n",
      "The data set contains images of hand-written digits: 10 classes where\n",
      "each class refers to a digit.\n",
      "\n",
      "Preprocessing programs made available by NIST were used to extract\n",
      "normalized bitmaps of handwritten digits from a preprinted form. From a\n",
      "total of 43 people, 30 contributed to the training set and different 13\n",
      "to the test set. 32x32 bitmaps are divided into nonoverlapping blocks of\n",
      "4x4 and the number of on pixels are counted in each block. This generates\n",
      "an input matrix of 8x8 where each element is an integer in the range\n",
      "0..16. This reduces dimensionality and gives invariance to small\n",
      "distortions.\n",
      "\n",
      "For info on NIST preprocessing routines, see M. D. Garris, J. L. Blue, G.\n",
      "T. Candela, D. L. Dimmick, J. Geist, P. J. Grother, S. A. Janet, and C.\n",
      "L. Wilson, NIST Form-Based Handprint Recognition System, NISTIR 5469,\n",
      "1994.\n",
      "\n",
      ".. topic:: References\n",
      "\n",
      "  - C. Kaynak (1995) Methods of Combining Multiple Classifiers and Their\n",
      "    Applications to Handwritten Digit Recognition, MSc Thesis, Institute of\n",
      "    Graduate Studies in Science and Engineering, Bogazici University.\n",
      "  - E. Alpaydin, C. Kaynak (1998) Cascading Classifiers, Kybernetika.\n",
      "  - Ken Tang and Ponnuthurai N. Suganthan and Xi Yao and A. Kai Qin.\n",
      "    Linear dimensionalityreduction using relevance weighted LDA. School of\n",
      "    Electrical and Electronic Engineering Nanyang Technological University.\n",
      "    2005.\n",
      "  - Claudio Gentile. A New Approximate Maximal Margin Classification\n",
      "    Algorithm. NIPS. 2000.\n"
     ]
    }
   ],
   "source": [
    "print(desc)"
   ]
  },
  {
   "cell_type": "code",
   "execution_count": 6,
   "metadata": {},
   "outputs": [
    {
     "name": "stdout",
     "output_type": "stream",
     "text": [
      "[0 1 2 3 4 5 6 7 8 9]\n"
     ]
    }
   ],
   "source": [
    "print(target_name)"
   ]
  },
  {
   "cell_type": "code",
   "execution_count": 9,
   "metadata": {},
   "outputs": [],
   "source": [
    "# train, test 분리\n",
    "from sklearn.model_selection import train_test_split\n",
    "\n",
    "random_seed = 25\n",
    "\n",
    "x_train, x_test, y_train, y_test = train_test_split(\n",
    "    data,\n",
    "    label,\n",
    "    test_size=0.2,\n",
    "    random_state=random_seed\n",
    ")"
   ]
  },
  {
   "cell_type": "code",
   "execution_count": 12,
   "metadata": {},
   "outputs": [
    {
     "name": "stderr",
     "output_type": "stream",
     "text": [
      "/home/aiffel0049/anaconda3/envs/aiffel/lib/python3.7/site-packages/sklearn/linear_model/_logistic.py:764: ConvergenceWarning: lbfgs failed to converge (status=1):\n",
      "STOP: TOTAL NO. of ITERATIONS REACHED LIMIT.\n",
      "\n",
      "Increase the number of iterations (max_iter) or scale the data as shown in:\n",
      "    https://scikit-learn.org/stable/modules/preprocessing.html\n",
      "Please also refer to the documentation for alternative solver options:\n",
      "    https://scikit-learn.org/stable/modules/linear_model.html#logistic-regression\n",
      "  extra_warning_msg=_LOGISTIC_SOLVER_CONVERGENCE_MSG)\n"
     ]
    }
   ],
   "source": [
    "# 다양한 모델로 학습\n",
    "from sklearn.tree import DecisionTreeClassifier\n",
    "from sklearn.ensemble import RandomForestClassifier\n",
    "from sklearn import svm\n",
    "from sklearn.linear_model import SGDClassifier\n",
    "from sklearn.linear_model import LogisticRegression\n",
    "\n",
    "decision = DecisionTreeClassifier(random_state=random_seed)\n",
    "random_forest = RandomForestClassifier(random_state=random_seed)\n",
    "svm_model = svm.SVC(random_state=random_seed)\n",
    "sgd = SGDClassifier(random_state=random_seed)\n",
    "logisitic = LogisticRegression(random_state=random_seed)\n",
    "\n",
    "decision.fit(x_train, y_train)\n",
    "random_forest.fit(x_train, y_train)\n",
    "svm_model.fit(x_train, y_train)\n",
    "sgd.fit(x_train, y_train)\n",
    "logisitic.fit(x_train, y_train)\n",
    "\n",
    "decision_pred = decision.predict(x_test)\n",
    "random_pred = random_forest.predict(x_test)\n",
    "svm_pred = svm_model.predict(x_test)\n",
    "sgd_pred = sgd.predict(x_test)\n",
    "logistic_pred = logisitic.predict(x_test)"
   ]
  },
  {
   "cell_type": "code",
   "execution_count": 13,
   "metadata": {},
   "outputs": [
    {
     "name": "stdout",
     "output_type": "stream",
     "text": [
      "              precision    recall  f1-score   support\n",
      "\n",
      "           0       0.92      0.97      0.95        36\n",
      "           1       0.64      0.83      0.72        36\n",
      "           2       0.89      0.73      0.80        33\n",
      "           3       0.89      0.80      0.84        40\n",
      "           4       0.74      0.88      0.80        40\n",
      "           5       0.86      0.84      0.85        37\n",
      "           6       0.97      0.89      0.93        35\n",
      "           7       0.97      0.76      0.85        38\n",
      "           8       0.74      0.74      0.74        31\n",
      "           9       0.75      0.79      0.77        34\n",
      "\n",
      "    accuracy                           0.82       360\n",
      "   macro avg       0.84      0.82      0.83       360\n",
      "weighted avg       0.84      0.82      0.83       360\n",
      "\n",
      "              precision    recall  f1-score   support\n",
      "\n",
      "           0       1.00      1.00      1.00        36\n",
      "           1       0.97      1.00      0.99        36\n",
      "           2       1.00      1.00      1.00        33\n",
      "           3       1.00      0.93      0.96        40\n",
      "           4       1.00      1.00      1.00        40\n",
      "           5       0.97      0.97      0.97        37\n",
      "           6       1.00      0.94      0.97        35\n",
      "           7       0.93      0.97      0.95        38\n",
      "           8       0.91      0.97      0.94        31\n",
      "           9       0.94      0.94      0.94        34\n",
      "\n",
      "    accuracy                           0.97       360\n",
      "   macro avg       0.97      0.97      0.97       360\n",
      "weighted avg       0.97      0.97      0.97       360\n",
      "\n",
      "              precision    recall  f1-score   support\n",
      "\n",
      "           0       1.00      1.00      1.00        36\n",
      "           1       1.00      1.00      1.00        36\n",
      "           2       0.97      1.00      0.99        33\n",
      "           3       1.00      0.97      0.99        40\n",
      "           4       1.00      1.00      1.00        40\n",
      "           5       1.00      0.97      0.99        37\n",
      "           6       1.00      1.00      1.00        35\n",
      "           7       1.00      0.97      0.99        38\n",
      "           8       0.94      1.00      0.97        31\n",
      "           9       0.94      0.94      0.94        34\n",
      "\n",
      "    accuracy                           0.99       360\n",
      "   macro avg       0.99      0.99      0.99       360\n",
      "weighted avg       0.99      0.99      0.99       360\n",
      "\n",
      "              precision    recall  f1-score   support\n",
      "\n",
      "           0       1.00      1.00      1.00        36\n",
      "           1       0.95      1.00      0.97        36\n",
      "           2       1.00      0.97      0.98        33\n",
      "           3       0.97      0.95      0.96        40\n",
      "           4       0.98      1.00      0.99        40\n",
      "           5       1.00      0.95      0.97        37\n",
      "           6       1.00      0.94      0.97        35\n",
      "           7       1.00      0.92      0.96        38\n",
      "           8       0.82      0.90      0.86        31\n",
      "           9       0.86      0.94      0.90        34\n",
      "\n",
      "    accuracy                           0.96       360\n",
      "   macro avg       0.96      0.96      0.96       360\n",
      "weighted avg       0.96      0.96      0.96       360\n",
      "\n",
      "              precision    recall  f1-score   support\n",
      "\n",
      "           0       1.00      1.00      1.00        36\n",
      "           1       0.95      1.00      0.97        36\n",
      "           2       1.00      0.97      0.98        33\n",
      "           3       1.00      0.97      0.99        40\n",
      "           4       1.00      0.97      0.99        40\n",
      "           5       0.95      0.95      0.95        37\n",
      "           6       1.00      0.94      0.97        35\n",
      "           7       1.00      0.87      0.93        38\n",
      "           8       0.88      0.97      0.92        31\n",
      "           9       0.85      0.97      0.90        34\n",
      "\n",
      "    accuracy                           0.96       360\n",
      "   macro avg       0.96      0.96      0.96       360\n",
      "weighted avg       0.96      0.96      0.96       360\n",
      "\n"
     ]
    }
   ],
   "source": [
    "# 평가하기\n",
    "from sklearn.metrics import classification_report\n",
    "\n",
    "print(classification_report(y_test, decision_pred))\n",
    "print(classification_report(y_test, random_pred))\n",
    "print(classification_report(y_test, svm_pred))\n",
    "print(classification_report(y_test, sgd_pred))\n",
    "print(classification_report(y_test, logistic_pred))"
   ]
  },
  {
   "cell_type": "markdown",
   "metadata": {},
   "source": [
    "### 모델 성능 비교 (macro avg, f1 score)\n",
    "\n",
    "##### support vector machine > randome_forest > logistic_regression > stochastic gradient descent = decision_tree\n",
    "\n",
    "### metrics = macro avg, f1 score\n",
    "\n",
    "- f1 score : 정밀도와 재현율을 모두 따지므로 모든 지표를 볼 수 있어 더 정확하다고 생각합니다.\n",
    "- macro avg : 각 클래스의 데이터 수와 관계없이 정확도를 반영할 수 있어서 좋다고 생각합니다.\n",
    "    weighted avg는 수가 많은 데이터의 영향을 너무 많이 받아, 적은 데이터의 정확도가 무시됩니다."
   ]
  },
  {
   "cell_type": "code",
   "execution_count": null,
   "metadata": {},
   "outputs": [],
   "source": []
  }
 ],
 "metadata": {
  "kernelspec": {
   "display_name": "aiffel",
   "language": "python",
   "name": "aiffel"
  },
  "language_info": {
   "codemirror_mode": {
    "name": "ipython",
    "version": 3
   },
   "file_extension": ".py",
   "mimetype": "text/x-python",
   "name": "python",
   "nbconvert_exporter": "python",
   "pygments_lexer": "ipython3",
   "version": "3.7.6"
  }
 },
 "nbformat": 4,
 "nbformat_minor": 4
}
