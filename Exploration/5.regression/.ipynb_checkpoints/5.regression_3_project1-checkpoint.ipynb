{
 "cells": [
  {
   "cell_type": "code",
   "execution_count": 8,
   "metadata": {},
   "outputs": [],
   "source": [
    "from sklearn.datasets import load_diabetes\n",
    "\n",
    "data = load_diabetes()\n",
    "df_X = data.data\n",
    "df_y = data.target"
   ]
  },
  {
   "cell_type": "code",
   "execution_count": 11,
   "metadata": {},
   "outputs": [
    {
     "data": {
      "text/plain": [
       "(442, 10)"
      ]
     },
     "execution_count": 11,
     "metadata": {},
     "output_type": "execute_result"
    }
   ],
   "source": [
    "df_X = np.array(df_X)\n",
    "df_X.shape"
   ]
  },
  {
   "cell_type": "code",
   "execution_count": 13,
   "metadata": {},
   "outputs": [
    {
     "data": {
      "text/plain": [
       "(442,)"
      ]
     },
     "execution_count": 13,
     "metadata": {},
     "output_type": "execute_result"
    }
   ],
   "source": [
    "df_y = np.array(df_y)\n",
    "df_y.shape"
   ]
  },
  {
   "cell_type": "code",
   "execution_count": 26,
   "metadata": {},
   "outputs": [],
   "source": [
    "from sklearn.model_selection import train_test_split\n",
    "train_X, test_X, train_y, test_y = train_test_split(df_X, df_y, random_state=32, test_size=0.2)"
   ]
  },
  {
   "cell_type": "code",
   "execution_count": 27,
   "metadata": {},
   "outputs": [
    {
     "name": "stdout",
     "output_type": "stream",
     "text": [
      "(353, 10) (353,)\n",
      "(89, 10) (89,)\n"
     ]
    }
   ],
   "source": [
    "print(train_X.shape, train_y.shape)\n",
    "print(test_X.shape, test_y.shape)"
   ]
  },
  {
   "cell_type": "code",
   "execution_count": 116,
   "metadata": {},
   "outputs": [],
   "source": [
    "W = np.random.rand(10)\n",
    "b = np.random.rand()"
   ]
  },
  {
   "cell_type": "code",
   "execution_count": 117,
   "metadata": {},
   "outputs": [
    {
     "data": {
      "text/plain": [
       "(array([0.61963676, 0.75342346, 0.70003492, 0.13784053, 0.34459667,\n",
       "        0.5119295 , 0.92695667, 0.10184599, 0.64994693, 0.87340138]),\n",
       " 0.14365755256041357)"
      ]
     },
     "execution_count": 117,
     "metadata": {},
     "output_type": "execute_result"
    }
   ],
   "source": [
    "W, b"
   ]
  },
  {
   "cell_type": "code",
   "execution_count": 118,
   "metadata": {},
   "outputs": [],
   "source": [
    "def model(X, W, b):\n",
    "    predictions = 0\n",
    "    for i in range(10):\n",
    "        predictions += X[:, i] * W[i]\n",
    "    predictions += b\n",
    "    return predictions"
   ]
  },
  {
   "cell_type": "code",
   "execution_count": 119,
   "metadata": {},
   "outputs": [],
   "source": [
    "def MSE(a, b):\n",
    "    mse = ((a-b)**2).mean()\n",
    "    return mse"
   ]
  },
  {
   "cell_type": "code",
   "execution_count": 120,
   "metadata": {},
   "outputs": [],
   "source": [
    "def loss(X, W, b, y):\n",
    "    predictions = model(X, W, b)\n",
    "    L = MSE(predictions, y)\n",
    "    return L"
   ]
  },
  {
   "cell_type": "code",
   "execution_count": 121,
   "metadata": {},
   "outputs": [],
   "source": [
    "lr = 1e-2\n",
    "def gradient(X, W, b, y):\n",
    "    N = len(W)\n",
    "    y_pred = model(X, W, b)\n",
    "    dW = 1/N * 2 * X.T.dot(y_pred - y)\n",
    "    db = 2 * (y_pred - y).mean()\n",
    "    return dW,db"
   ]
  },
  {
   "cell_type": "code",
   "execution_count": 122,
   "metadata": {},
   "outputs": [
    {
     "name": "stdout",
     "output_type": "stream",
     "text": [
      "Iteration 10 : Loss 21551.282383105125\n",
      "Iteration 20 : Loss 16085.619978618497\n",
      "Iteration 30 : Loss 12382.556557945712\n",
      "Iteration 40 : Loss 9861.413196194108\n",
      "Iteration 50 : Loss 8134.003112471748\n",
      "Iteration 60 : Loss 6940.688830589149\n",
      "Iteration 70 : Loss 6107.695729207013\n",
      "Iteration 80 : Loss 5518.613896280902\n",
      "Iteration 90 : Loss 5095.370677388843\n",
      "Iteration 100 : Loss 4785.525110397683\n",
      "Iteration 110 : Loss 4553.782525333426\n",
      "Iteration 120 : Loss 4376.326461641666\n",
      "Iteration 130 : Loss 4237.031517550679\n",
      "Iteration 140 : Loss 4124.932088576292\n",
      "Iteration 150 : Loss 4032.52976087923\n",
      "Iteration 160 : Loss 3954.6608309650137\n",
      "Iteration 170 : Loss 3887.738006493525\n",
      "Iteration 180 : Loss 3829.242141744199\n",
      "Iteration 190 : Loss 3777.381112764691\n",
      "Iteration 200 : Loss 3730.8604741554905\n",
      "Iteration 210 : Loss 3688.7289222859217\n",
      "Iteration 220 : Loss 3650.273862378347\n",
      "Iteration 230 : Loss 3614.9505709817913\n",
      "Iteration 240 : Loss 3582.3339169212913\n",
      "Iteration 250 : Loss 3552.085257963184\n",
      "Iteration 260 : Loss 3523.929571316955\n",
      "Iteration 270 : Loss 3497.6395069559726\n",
      "Iteration 280 : Loss 3473.024142757439\n",
      "Iteration 290 : Loss 3449.920949317921\n",
      "Iteration 300 : Loss 3428.1899599432627\n",
      "Iteration 310 : Loss 3407.7094678172457\n",
      "Iteration 320 : Loss 3388.3727911857145\n",
      "Iteration 330 : Loss 3370.085794250295\n",
      "Iteration 340 : Loss 3352.7649501878927\n",
      "Iteration 350 : Loss 3336.3357992221486\n",
      "Iteration 360 : Loss 3320.7316996085897\n",
      "Iteration 370 : Loss 3305.8927998656613\n",
      "Iteration 380 : Loss 3291.765181341957\n",
      "Iteration 390 : Loss 3278.3001344347567\n",
      "Iteration 400 : Loss 3265.453541594847\n",
      "Iteration 410 : Loss 3253.185347092814\n",
      "Iteration 420 : Loss 3241.4590983392695\n",
      "Iteration 430 : Loss 3230.241546987947\n",
      "Iteration 440 : Loss 3219.5023005390235\n",
      "Iteration 450 : Loss 3209.2135169919356\n",
      "Iteration 460 : Loss 3199.3496364703474\n",
      "Iteration 470 : Loss 3189.887144790866\n",
      "Iteration 480 : Loss 3180.8043647637505\n",
      "Iteration 490 : Loss 3172.081271661278\n",
      "Iteration 500 : Loss 3163.6993298116904\n",
      "Iteration 510 : Loss 3155.64134770442\n",
      "Iteration 520 : Loss 3147.891349347526\n",
      "Iteration 530 : Loss 3140.434459916729\n",
      "Iteration 540 : Loss 3133.2568039885\n",
      "Iteration 550 : Loss 3126.3454148660903\n",
      "Iteration 560 : Loss 3119.6881536936007\n",
      "Iteration 570 : Loss 3113.2736372141494\n",
      "Iteration 580 : Loss 3107.0911731680685\n",
      "Iteration 590 : Loss 3101.13070244875\n",
      "Iteration 600 : Loss 3095.3827472401385\n",
      "Iteration 610 : Loss 3089.838364452805\n",
      "Iteration 620 : Loss 3084.489103857079\n",
      "Iteration 630 : Loss 3079.326970383108\n",
      "Iteration 640 : Loss 3074.3443901205023\n",
      "Iteration 650 : Loss 3069.53417960533\n",
      "Iteration 660 : Loss 3064.8895180306617\n",
      "Iteration 670 : Loss 3060.403922059523\n",
      "Iteration 680 : Loss 3056.071222956551\n",
      "Iteration 690 : Loss 3051.885545787724\n",
      "Iteration 700 : Loss 3047.8412904665356\n",
      "Iteration 710 : Loss 3043.9331144506114\n",
      "Iteration 720 : Loss 3040.155916915303\n",
      "Iteration 730 : Loss 3036.5048242506614\n",
      "Iteration 740 : Loss 3032.975176745711\n",
      "Iteration 750 : Loss 3029.562516339368\n",
      "Iteration 760 : Loss 3026.262575331005\n",
      "Iteration 770 : Loss 3023.071265955622\n",
      "Iteration 780 : Loss 3019.9846707392253\n",
      "Iteration 790 : Loss 3016.9990335593775\n",
      "Iteration 800 : Loss 3014.110751344089\n",
      "Iteration 810 : Loss 3011.3163663496107\n",
      "Iteration 820 : Loss 3008.6125589640537\n",
      "Iteration 830 : Loss 3005.996140989516\n",
      "Iteration 840 : Loss 3003.464049360432\n",
      "Iteration 850 : Loss 3001.0133402603014\n",
      "Iteration 860 : Loss 2998.641183602947\n",
      "Iteration 870 : Loss 2996.344857847914\n",
      "Iteration 880 : Loss 2994.121745122755\n",
      "Iteration 890 : Loss 2991.9693266276763\n",
      "Iteration 900 : Loss 2989.885178300488\n",
      "Iteration 910 : Loss 2987.866966721954\n",
      "Iteration 920 : Loss 2985.912445243571\n",
      "Iteration 930 : Loss 2984.019450321527\n",
      "Iteration 940 : Loss 2982.1858980421202\n",
      "Iteration 950 : Loss 2980.409780825272\n",
      "Iteration 960 : Loss 2978.689164293984\n",
      "Iteration 970 : Loss 2977.0221842987035\n",
      "Iteration 980 : Loss 2975.407044086482\n",
      "Iteration 990 : Loss 2973.8420116057223\n",
      "Iteration 1000 : Loss 2972.3254169380753\n",
      "Iteration 1010 : Loss 2970.8556498497364\n",
      "Iteration 1020 : Loss 2969.4311574550347\n",
      "Iteration 1030 : Loss 2968.050441985771\n",
      "Iteration 1040 : Loss 2966.712058660252\n",
      "Iteration 1050 : Loss 2965.414613646452\n",
      "Iteration 1060 : Loss 2964.156762114139\n",
      "Iteration 1070 : Loss 2962.937206371167\n",
      "Iteration 1080 : Loss 2961.7546940794987\n",
      "Iteration 1090 : Loss 2960.6080165468097\n",
      "Iteration 1100 : Loss 2959.496007089829\n",
      "Iteration 1110 : Loss 2958.417539465807\n",
      "Iteration 1120 : Loss 2957.371526368754\n",
      "Iteration 1130 : Loss 2956.356917987292\n",
      "Iteration 1140 : Loss 2955.3727006211716\n",
      "Iteration 1150 : Loss 2954.417895353673\n",
      "Iteration 1160 : Loss 2953.491556777292\n",
      "Iteration 1170 : Loss 2952.592771770249\n",
      "Iteration 1180 : Loss 2951.720658321508\n",
      "Iteration 1190 : Loss 2950.8743644021247\n",
      "Iteration 1200 : Loss 2950.053066880857\n",
      "Iteration 1210 : Loss 2949.2559704820837\n",
      "Iteration 1220 : Loss 2948.482306784196\n",
      "Iteration 1230 : Loss 2947.7313332566973\n",
      "Iteration 1240 : Loss 2947.0023323343535\n",
      "Iteration 1250 : Loss 2946.2946105268315\n",
      "Iteration 1260 : Loss 2945.6074975623064\n",
      "Iteration 1270 : Loss 2944.9403455636334\n",
      "Iteration 1280 : Loss 2944.292528255717\n",
      "Iteration 1290 : Loss 2943.6634402027985\n",
      "Iteration 1300 : Loss 2943.05249607442\n",
      "Iteration 1310 : Loss 2942.459129938913\n",
      "Iteration 1320 : Loss 2941.8827945832722\n",
      "Iteration 1330 : Loss 2941.3229608583724\n",
      "Iteration 1340 : Loss 2940.779117048492\n",
      "Iteration 1350 : Loss 2940.25076826418\n",
      "Iteration 1360 : Loss 2939.7374358575416\n",
      "Iteration 1370 : Loss 2939.2386568590496\n",
      "Iteration 1380 : Loss 2938.7539834350277\n",
      "Iteration 1390 : Loss 2938.282982365012\n",
      "Iteration 1400 : Loss 2937.8252345381893\n",
      "Iteration 1410 : Loss 2937.3803344681905\n",
      "Iteration 1420 : Loss 2936.9478898255165\n",
      "Iteration 1430 : Loss 2936.527520986909\n",
      "Iteration 1440 : Loss 2936.1188606010296\n",
      "Iteration 1450 : Loss 2935.721553169802\n",
      "Iteration 1460 : Loss 2935.335254644834\n",
      "Iteration 1470 : Loss 2934.9596320383266\n",
      "Iteration 1480 : Loss 2934.5943630479396\n",
      "Iteration 1490 : Loss 2934.2391356950593\n",
      "Iteration 1500 : Loss 2933.8936479759836\n",
      "Iteration 1510 : Loss 2933.557607525525\n",
      "Iteration 1520 : Loss 2933.2307312925595\n",
      "Iteration 1530 : Loss 2932.9127452270923\n",
      "Iteration 1540 : Loss 2932.603383978385\n",
      "Iteration 1550 : Loss 2932.302390603747\n",
      "Iteration 1560 : Loss 2932.00951628759\n",
      "Iteration 1570 : Loss 2931.724520070363\n",
      "Iteration 1580 : Loss 2931.4471685869958\n",
      "Iteration 1590 : Loss 2931.1772358145186\n",
      "Iteration 1600 : Loss 2930.914502828489\n",
      "Iteration 1610 : Loss 2930.658757567928\n",
      "Iteration 1620 : Loss 2930.4097946084457\n",
      "Iteration 1630 : Loss 2930.167414943242\n",
      "Iteration 1640 : Loss 2929.931425771716\n",
      "Iteration 1650 : Loss 2929.7016402953936\n",
      "Iteration 1660 : Loss 2929.477877520903\n",
      "Iteration 1670 : Loss 2929.2599620697583\n",
      "Iteration 1680 : Loss 2929.0477239946845\n",
      "Iteration 1690 : Loss 2928.8409986022616\n",
      "Iteration 1700 : Loss 2928.639626281651\n",
      "Iteration 1710 : Loss 2928.443452339193\n",
      "Iteration 1720 : Loss 2928.2523268386526\n",
      "Iteration 1730 : Loss 2928.066104446926\n",
      "Iteration 1740 : Loss 2927.884644284992\n",
      "Iteration 1750 : Loss 2927.707809783945\n",
      "Iteration 1760 : Loss 2927.5354685459056\n",
      "Iteration 1770 : Loss 2927.3674922096498\n",
      "Iteration 1780 : Loss 2927.2037563207805\n",
      "Iteration 1790 : Loss 2927.044140206287\n",
      "Iteration 1800 : Loss 2926.8885268533318\n",
      "Iteration 1810 : Loss 2926.7368027921143\n",
      "Iteration 1820 : Loss 2926.5888579826756\n",
      "Iteration 1830 : Loss 2926.4445857054952\n",
      "Iteration 1840 : Loss 2926.3038824557516\n",
      "Iteration 1850 : Loss 2926.1666478411207\n",
      "Iteration 1860 : Loss 2926.0327844829812\n",
      "Iteration 1870 : Loss 2925.9021979209147\n",
      "Iteration 1880 : Loss 2925.7747965203753\n",
      "Iteration 1890 : Loss 2925.6504913834397\n",
      "Iteration 1900 : Loss 2925.529196262496\n",
      "Iteration 1910 : Loss 2925.410827476809\n",
      "Iteration 1920 : Loss 2925.2953038318287\n",
      "Iteration 1930 : Loss 2925.1825465411653\n",
      "Iteration 1940 : Loss 2925.0724791511366\n",
      "Iteration 1950 : Loss 2924.9650274677933\n",
      "Iteration 1960 : Loss 2924.860119486342\n",
      "Iteration 1970 : Loss 2924.7576853228766\n",
      "Iteration 1980 : Loss 2924.657657148355\n",
      "Iteration 1990 : Loss 2924.559969124722\n",
      "Iteration 2000 : Loss 2924.46455734312\n"
     ]
    }
   ],
   "source": [
    "losses = list()\n",
    "for i in range(1, 2001):\n",
    "    dW, db = gradient(train_X, W, b, train_y)\n",
    "    W -= lr * dW\n",
    "    b -= lr * db\n",
    "    \n",
    "    L = loss(train_X, W, b, train_y)\n",
    "    losses.append(L)\n",
    "    if i % 10 == 0:\n",
    "        print('Iteration {} : Loss {}'.format(i, L))"
   ]
  },
  {
   "cell_type": "code",
   "execution_count": 123,
   "metadata": {},
   "outputs": [
    {
     "data": {
      "image/png": "[encoded data removed]",
      "text/plain": [
       "<Figure size 432x288 with 1 Axes>"
      ]
     },
     "metadata": {
      "needs_background": "light"
     },
     "output_type": "display_data"
    }
   ],
   "source": [
    "import matplotlib.pyplot as plt\n",
    "plt.plot(losses)\n",
    "plt.show()"
   ]
  },
  {
   "cell_type": "code",
   "execution_count": 124,
   "metadata": {},
   "outputs": [
    {
     "data": {
      "text/plain": [
       "(array([  34.90417577, -255.58856503,  496.30112415,  356.91757587,\n",
       "         -56.94554222, -111.34700637, -211.02112999,  107.23232078,\n",
       "         424.26024779,  116.0409132 ]),\n",
       " 154.09766322753728)"
      ]
     },
     "execution_count": 124,
     "metadata": {},
     "output_type": "execute_result"
    }
   ],
   "source": [
    "W, b"
   ]
  },
  {
   "cell_type": "code",
   "execution_count": 125,
   "metadata": {},
   "outputs": [
    {
     "data": {
      "text/plain": [
       "2796.9047005456146"
      ]
     },
     "execution_count": 125,
     "metadata": {},
     "output_type": "execute_result"
    }
   ],
   "source": [
    "predictions = model(test_X, W, b)\n",
    "mse = loss(test_X, W, b, test_y)\n",
    "mse"
   ]
  },
  {
   "cell_type": "code",
   "execution_count": 126,
   "metadata": {},
   "outputs": [
    {
     "data": {
      "image/png": "[encoded data removed]",
      "text/plain": [
       "<Figure size 432x288 with 1 Axes>"
      ]
     },
     "metadata": {
      "needs_background": "light"
     },
     "output_type": "display_data"
    }
   ],
   "source": [
    "plt.scatter(test_X[:, 0], test_y, label='true')\n",
    "plt.scatter(test_X[:, 0], predictions, label='pred')\n",
    "plt.legend()\n",
    "plt.show()"
   ]
  },
  {
   "cell_type": "markdown",
   "metadata": {},
   "source": [
    "- Review\n",
    "\n",
    "학습률과 학습횟수가 모델의 성능에 큰 영향을 끼치는 것을 확인했다.   \n",
    "lr가 높거나 학습횟수가 높을수록 높은 정확도를 보였다.   \n",
    "\n",
    "학습횟수=2000회 기준으로 학습률=1e-4, 1e-5는 학습이 잘 되지 않았다."
   ]
  },
  {
   "cell_type": "code",
   "execution_count": null,
   "metadata": {},
   "outputs": [],
   "source": []
  }
 ],
 "metadata": {
  "kernelspec": {
   "display_name": "Python 3",
   "language": "python",
   "name": "python3"
  },
  "language_info": {
   "codemirror_mode": {
    "name": "ipython",
    "version": 3
   },
   "file_extension": ".py",
   "mimetype": "text/x-python",
   "name": "python",
   "nbconvert_exporter": "python",
   "pygments_lexer": "ipython3",
   "version": "3.7.6"
  },
  "toc": {
   "base_numbering": 1,
   "nav_menu": {},
   "number_sections": true,
   "sideBar": true,
   "skip_h1_title": false,
   "title_cell": "Table of Contents",
   "title_sidebar": "Contents",
   "toc_cell": false,
   "toc_position": {},
   "toc_section_display": true,
   "toc_window_display": false
  },
  "varInspector": {
   "cols": {
    "lenName": 16,
    "lenType": 16,
    "lenVar": 40
   },
   "kernels_config": {
    "python": {
     "delete_cmd_postfix": "",
     "delete_cmd_prefix": "del ",
     "library": "var_list.py",
     "varRefreshCmd": "print(var_dic_list())"
    },
    "r": {
     "delete_cmd_postfix": ") ",
     "delete_cmd_prefix": "rm(",
     "library": "var_list.r",
     "varRefreshCmd": "cat(var_dic_list()) "
    }
   },
   "types_to_exclude": [
    "module",
    "function",
    "builtin_function_or_method",
    "instance",
    "_Feature"
   ],
   "window_display": false
  }
 },
 "nbformat": 4,
 "nbformat_minor": 4
}
