{
 "cells": [
  {
   "cell_type": "markdown",
   "metadata": {},
   "source": [
    "## 데이터셋 준비 및 전처리"
   ]
  },
  {
   "cell_type": "markdown",
   "metadata": {},
   "source": [
    "- 유저가 영화에 대해 평점을 매긴 데이터가 데이터 크기 별로 있습니다. MovieLens 1M Dataset 사용을 권장합니다.\n",
    "- 별점 데이터는 대표적인 explicit 데이터입니다. 하지만 implicit 데이터로 간주하고 테스트해볼 수 있습니다.\n",
    "- 별점을 시청횟수로 해석해서 생각하겠습니다.\n",
    "- 또한 유저가 3점 미만으로 준 데이터는 선호하지 않는다고 가정하고 제외하겠습니다."
   ]
  },
  {
   "cell_type": "code",
   "execution_count": 1,
   "metadata": {},
   "outputs": [
    {
     "name": "stdout",
     "output_type": "stream",
     "text": [
      "/home/aiffel0049/aiffel/Exploration/7.recommendation\r\n"
     ]
    }
   ],
   "source": [
    "!pwd"
   ]
  },
  {
   "cell_type": "code",
   "execution_count": 2,
   "metadata": {},
   "outputs": [
    {
     "data": {
      "text/html": [
       "<div>\n",
       "<style scoped>\n",
       "    .dataframe tbody tr th:only-of-type {\n",
       "        vertical-align: middle;\n",
       "    }\n",
       "\n",
       "    .dataframe tbody tr th {\n",
       "        vertical-align: top;\n",
       "    }\n",
       "\n",
       "    .dataframe thead th {\n",
       "        text-align: right;\n",
       "    }\n",
       "</style>\n",
       "<table border=\"1\" class=\"dataframe\">\n",
       "  <thead>\n",
       "    <tr style=\"text-align: right;\">\n",
       "      <th></th>\n",
       "      <th>user_id</th>\n",
       "      <th>movie_id</th>\n",
       "      <th>rating</th>\n",
       "    </tr>\n",
       "  </thead>\n",
       "  <tbody>\n",
       "    <tr>\n",
       "      <th>0</th>\n",
       "      <td>1</td>\n",
       "      <td>1193</td>\n",
       "      <td>5</td>\n",
       "    </tr>\n",
       "    <tr>\n",
       "      <th>1</th>\n",
       "      <td>1</td>\n",
       "      <td>661</td>\n",
       "      <td>3</td>\n",
       "    </tr>\n",
       "    <tr>\n",
       "      <th>2</th>\n",
       "      <td>1</td>\n",
       "      <td>914</td>\n",
       "      <td>3</td>\n",
       "    </tr>\n",
       "    <tr>\n",
       "      <th>3</th>\n",
       "      <td>1</td>\n",
       "      <td>3408</td>\n",
       "      <td>4</td>\n",
       "    </tr>\n",
       "    <tr>\n",
       "      <th>4</th>\n",
       "      <td>1</td>\n",
       "      <td>2355</td>\n",
       "      <td>5</td>\n",
       "    </tr>\n",
       "  </tbody>\n",
       "</table>\n",
       "</div>"
      ],
      "text/plain": [
       "   user_id  movie_id  rating\n",
       "0        1      1193       5\n",
       "1        1       661       3\n",
       "2        1       914       3\n",
       "3        1      3408       4\n",
       "4        1      2355       5"
      ]
     },
     "execution_count": 2,
     "metadata": {},
     "output_type": "execute_result"
    }
   ],
   "source": [
    "import os\n",
    "import pandas as pd\n",
    "\n",
    "rating_file_path='/home/aiffel0049/aiffel/Exploration/7.recommendation/data/ml-1m/ratings.dat'\n",
    "ratings_cols = ['user_id', 'movie_id', 'rating', 'timestamp']\n",
    "ratings = pd.read_csv(rating_file_path, sep='::', names=ratings_cols, engine='python')\n",
    "orginal_data_size = len(ratings)\n",
    "del ratings['timestamp']\n",
    "ratings.head()"
   ]
  },
  {
   "cell_type": "code",
   "execution_count": 3,
   "metadata": {},
   "outputs": [
    {
     "name": "stdout",
     "output_type": "stream",
     "text": [
      "orginal_data_size: 1000209, filtered_data_size: 836478\n",
      "Ratio of Remaining Data is 83.63%\n"
     ]
    }
   ],
   "source": [
    "# 3점 이상만 남깁니다.\n",
    "ratings = ratings[ratings['rating']>=3]\n",
    "filtered_data_size = len(ratings)\n",
    "\n",
    "print(f'orginal_data_size: {orginal_data_size}, filtered_data_size: {filtered_data_size}')\n",
    "print(f'Ratio of Remaining Data is {filtered_data_size / orginal_data_size:.2%}')"
   ]
  },
  {
   "cell_type": "code",
   "execution_count": 4,
   "metadata": {},
   "outputs": [],
   "source": [
    "# rating 컬럼의 이름을 count로 바꿉니다.\n",
    "ratings.rename(columns={'rating':'count'}, inplace=True)"
   ]
  },
  {
   "cell_type": "code",
   "execution_count": 5,
   "metadata": {},
   "outputs": [
    {
     "data": {
      "text/html": [
       "<div>\n",
       "<style scoped>\n",
       "    .dataframe tbody tr th:only-of-type {\n",
       "        vertical-align: middle;\n",
       "    }\n",
       "\n",
       "    .dataframe tbody tr th {\n",
       "        vertical-align: top;\n",
       "    }\n",
       "\n",
       "    .dataframe thead th {\n",
       "        text-align: right;\n",
       "    }\n",
       "</style>\n",
       "<table border=\"1\" class=\"dataframe\">\n",
       "  <thead>\n",
       "    <tr style=\"text-align: right;\">\n",
       "      <th></th>\n",
       "      <th>movie_id</th>\n",
       "      <th>title</th>\n",
       "      <th>genre</th>\n",
       "    </tr>\n",
       "  </thead>\n",
       "  <tbody>\n",
       "    <tr>\n",
       "      <th>0</th>\n",
       "      <td>1</td>\n",
       "      <td>Toy Story (1995)</td>\n",
       "      <td>Animation|Children's|Comedy</td>\n",
       "    </tr>\n",
       "    <tr>\n",
       "      <th>1</th>\n",
       "      <td>2</td>\n",
       "      <td>Jumanji (1995)</td>\n",
       "      <td>Adventure|Children's|Fantasy</td>\n",
       "    </tr>\n",
       "    <tr>\n",
       "      <th>2</th>\n",
       "      <td>3</td>\n",
       "      <td>Grumpier Old Men (1995)</td>\n",
       "      <td>Comedy|Romance</td>\n",
       "    </tr>\n",
       "    <tr>\n",
       "      <th>3</th>\n",
       "      <td>4</td>\n",
       "      <td>Waiting to Exhale (1995)</td>\n",
       "      <td>Comedy|Drama</td>\n",
       "    </tr>\n",
       "    <tr>\n",
       "      <th>4</th>\n",
       "      <td>5</td>\n",
       "      <td>Father of the Bride Part II (1995)</td>\n",
       "      <td>Comedy</td>\n",
       "    </tr>\n",
       "  </tbody>\n",
       "</table>\n",
       "</div>"
      ],
      "text/plain": [
       "   movie_id                               title                         genre\n",
       "0         1                    Toy Story (1995)   Animation|Children's|Comedy\n",
       "1         2                      Jumanji (1995)  Adventure|Children's|Fantasy\n",
       "2         3             Grumpier Old Men (1995)                Comedy|Romance\n",
       "3         4            Waiting to Exhale (1995)                  Comedy|Drama\n",
       "4         5  Father of the Bride Part II (1995)                        Comedy"
      ]
     },
     "execution_count": 5,
     "metadata": {},
     "output_type": "execute_result"
    }
   ],
   "source": [
    "# 영화 제목을 보기 위해 메타 데이터를 읽어옵니다.\n",
    "movie_file_path='/home/aiffel0049/aiffel/Exploration/7.recommendation/data/ml-1m/movies.dat'\n",
    "cols = ['movie_id', 'title', 'genre'] \n",
    "movies = pd.read_csv(movie_file_path, sep='::', names=cols, engine='python')\n",
    "movies.head()"
   ]
  },
  {
   "cell_type": "markdown",
   "metadata": {},
   "source": [
    "## 데이터 분석\n",
    "- ratings에 있는 유니크한 영화 개수\n",
    "- rating에 있는 유니크한 사용자 수\n",
    "- 가장 인기있는 영화 30개(인기순)"
   ]
  },
  {
   "cell_type": "code",
   "execution_count": 6,
   "metadata": {},
   "outputs": [
    {
     "data": {
      "text/plain": [
       "3628"
      ]
     },
     "execution_count": 6,
     "metadata": {},
     "output_type": "execute_result"
    }
   ],
   "source": [
    "# 유니크 영화 개수\n",
    "ratings['movie_id'].nunique()"
   ]
  },
  {
   "cell_type": "code",
   "execution_count": 7,
   "metadata": {},
   "outputs": [
    {
     "data": {
      "text/plain": [
       "6039"
      ]
     },
     "execution_count": 7,
     "metadata": {},
     "output_type": "execute_result"
    }
   ],
   "source": [
    "# 사용자 수\n",
    "ratings['user_id'].nunique()"
   ]
  },
  {
   "cell_type": "code",
   "execution_count": 8,
   "metadata": {},
   "outputs": [
    {
     "data": {
      "text/plain": [
       "movie_id\n",
       "2858    14449\n",
       "260     13178\n",
       "1196    12648\n",
       "2028    11348\n",
       "1210    11303\n",
       "1198    11179\n",
       "593     11096\n",
       "2571    10903\n",
       "2762    10703\n",
       "589     10513\n",
       "608     10465\n",
       "527     10317\n",
       "110     10125\n",
       "318     10085\n",
       "1270    10081\n",
       "858      9965\n",
       "1197     9866\n",
       "480      9601\n",
       "1617     9515\n",
       "2396     9503\n",
       "1580     9057\n",
       "296      9053\n",
       "2997     8964\n",
       "1265     8727\n",
       "1097     8696\n",
       "356      8679\n",
       "1240     8571\n",
       "1        8475\n",
       "2716     8282\n",
       "1214     8244\n",
       "Name: count, dtype: int64"
      ]
     },
     "execution_count": 8,
     "metadata": {},
     "output_type": "execute_result"
    }
   ],
   "source": [
    "# movie_id 기준으로 count의 합을 저장\n",
    "# 내림차순 정렬\n",
    "movies_count = ratings.groupby('movie_id')['count'].sum()\n",
    "movies_count.sort_values(ascending=False).head(30)"
   ]
  },
  {
   "cell_type": "code",
   "execution_count": 9,
   "metadata": {},
   "outputs": [
    {
     "name": "stdout",
     "output_type": "stream",
     "text": [
      "Jumanji (1995)\n",
      "Kids of the Round Table (1995)\n",
      "Indian in the Cupboard, The (1995)\n",
      "NeverEnding Story III, The (1994)\n",
      "Heavenly Creatures (1994)\n",
      "Kid in King Arthur's Court, A (1995)\n",
      "Star Wars: Episode IV - A New Hope (1977)\n",
      "Santa Clause, The (1994)\n",
      "Mask, The (1994)\n",
      "Pagemaster, The (1994)\n",
      "Dragonheart (1996)\n",
      "Space Jam (1996)\n",
      "Nutty Professor, The (1996)\n",
      "Hungarian Fairy Tale, A (1987)\n",
      "Kazaam (1996)\n",
      "Bogus (1996)\n",
      "Escape to Witch Mountain (1975)\n",
      "20,000 Leagues Under the Sea (1954)\n",
      "Willy Wonka and the Chocolate Factory (1971)\n",
      "E.T. the Extra-Terrestrial (1982)\n",
      "Drop Dead Fred (1991)\n",
      "Warriors of Virtue (1997)\n",
      "Simple Wish, A (1997)\n",
      "FairyTale: A True Story (1997)\n",
      "Flubber (1997)\n",
      "Star Kid (1997)\n",
      "Borrowers, The (1997)\n",
      "Quest for Camelot (1998)\n",
      "Small Soldiers (1998)\n",
      "Labyrinth (1986)\n",
      "Goonies, The (1985)\n",
      "Absent Minded Professor, The (1961)\n",
      "Babes in Toyland (1961)\n",
      "Dune (1984)\n",
      "Darby O'Gill and the Little People (1959)\n",
      "Honey, I Shrunk the Kids (1989)\n",
      "One Magic Christmas (1985)\n",
      "Peter Pan (1953)\n",
      "Return to Oz (1985)\n",
      "Splash (1984)\n",
      "Tron (1982)\n",
      "Watership Down (1978)\n",
      "Dark Crystal, The (1982)\n",
      "Legend (1985)\n",
      "NeverEnding Story, The (1984)\n",
      "NeverEnding Story II: The Next Chapter, The (1990)\n",
      "Navigator: A Mediaeval Odyssey, The (1988)\n",
      "Beetlejuice (1988)\n",
      "Willow (1988)\n",
      "Toys (1992)\n",
      "Santa Claus: The Movie (1985)\n",
      "Boy Who Could Fly, The (1986)\n",
      "Midsummer Night's Dream, A (1999)\n",
      "Star Wars: Episode I - The Phantom Menace (1999)\n",
      "Big (1988)\n",
      "Excalibur (1981)\n",
      "Time Bandits (1981)\n",
      "7th Voyage of Sinbad, The (1958)\n",
      "Date with an Angel (1987)\n",
      "Teenage Mutant Ninja Turtles (1990)\n",
      "Teenage Mutant Ninja Turtles II: The Secret of the Ooze (1991)\n",
      "Teenage Mutant Ninja Turtles III (1993)\n",
      "Heart and Souls (1993)\n",
      "Ladyhawke (1985)\n",
      "Hook (1991)\n",
      "Supergirl (1984)\n",
      "Highlander: Endgame (2000)\n",
      "Faraway, So Close (In Weiter Ferne, So Nah!) (1993)\n"
     ]
    }
   ],
   "source": [
    "for name, genre in zip(movies['title'], movies['genre']):\n",
    "    if 'Fantasy' in genre:\n",
    "        print(name)"
   ]
  },
  {
   "cell_type": "markdown",
   "metadata": {},
   "source": [
    "## 선호하는 영화 5가지를 rating에 추가"
   ]
  },
  {
   "cell_type": "code",
   "execution_count": 10,
   "metadata": {},
   "outputs": [
    {
     "name": "stdout",
     "output_type": "stream",
     "text": [
      "[2, 1097, 2105, 2399, 3114]\n"
     ]
    },
    {
     "data": {
      "text/html": [
       "<div>\n",
       "<style scoped>\n",
       "    .dataframe tbody tr th:only-of-type {\n",
       "        vertical-align: middle;\n",
       "    }\n",
       "\n",
       "    .dataframe tbody tr th {\n",
       "        vertical-align: top;\n",
       "    }\n",
       "\n",
       "    .dataframe thead th {\n",
       "        text-align: right;\n",
       "    }\n",
       "</style>\n",
       "<table border=\"1\" class=\"dataframe\">\n",
       "  <thead>\n",
       "    <tr style=\"text-align: right;\">\n",
       "      <th></th>\n",
       "      <th>user_id</th>\n",
       "      <th>movie_id</th>\n",
       "      <th>count</th>\n",
       "    </tr>\n",
       "  </thead>\n",
       "  <tbody>\n",
       "    <tr>\n",
       "      <th>1000203</th>\n",
       "      <td>6040</td>\n",
       "      <td>1090</td>\n",
       "      <td>3</td>\n",
       "    </tr>\n",
       "    <tr>\n",
       "      <th>1000205</th>\n",
       "      <td>6040</td>\n",
       "      <td>1094</td>\n",
       "      <td>5</td>\n",
       "    </tr>\n",
       "    <tr>\n",
       "      <th>1000206</th>\n",
       "      <td>6040</td>\n",
       "      <td>562</td>\n",
       "      <td>5</td>\n",
       "    </tr>\n",
       "    <tr>\n",
       "      <th>1000207</th>\n",
       "      <td>6040</td>\n",
       "      <td>1096</td>\n",
       "      <td>4</td>\n",
       "    </tr>\n",
       "    <tr>\n",
       "      <th>1000208</th>\n",
       "      <td>6040</td>\n",
       "      <td>1097</td>\n",
       "      <td>4</td>\n",
       "    </tr>\n",
       "    <tr>\n",
       "      <th>0</th>\n",
       "      <td>6041</td>\n",
       "      <td>2</td>\n",
       "      <td>4</td>\n",
       "    </tr>\n",
       "    <tr>\n",
       "      <th>1</th>\n",
       "      <td>6041</td>\n",
       "      <td>1097</td>\n",
       "      <td>4</td>\n",
       "    </tr>\n",
       "    <tr>\n",
       "      <th>2</th>\n",
       "      <td>6041</td>\n",
       "      <td>2105</td>\n",
       "      <td>4</td>\n",
       "    </tr>\n",
       "    <tr>\n",
       "      <th>3</th>\n",
       "      <td>6041</td>\n",
       "      <td>2399</td>\n",
       "      <td>4</td>\n",
       "    </tr>\n",
       "    <tr>\n",
       "      <th>4</th>\n",
       "      <td>6041</td>\n",
       "      <td>3114</td>\n",
       "      <td>4</td>\n",
       "    </tr>\n",
       "  </tbody>\n",
       "</table>\n",
       "</div>"
      ],
      "text/plain": [
       "         user_id  movie_id  count\n",
       "1000203     6040      1090      3\n",
       "1000205     6040      1094      5\n",
       "1000206     6040       562      5\n",
       "1000207     6040      1096      4\n",
       "1000208     6040      1097      4\n",
       "0           6041         2      4\n",
       "1           6041      1097      4\n",
       "2           6041      2105      4\n",
       "3           6041      2399      4\n",
       "4           6041      3114      4"
      ]
     },
     "execution_count": 10,
     "metadata": {},
     "output_type": "execute_result"
    }
   ],
   "source": [
    "my_favorite = ['E.T. the Extra-Terrestrial (1982)', 'Toy Story 2 (1999)', 'Jumanji (1995)',\n",
    "               'Santa Claus: The Movie (1985)','Tron (1982)']\n",
    "my_favorite_ids = []\n",
    "for name, ids in zip(movies['title'], movies['movie_id']):\n",
    "    if name in my_favorite:\n",
    "        my_favorite_ids.append(ids)\n",
    "\n",
    "print(my_favorite_ids)\n",
    "my_movies = pd.DataFrame({'user_id':[6041]*5, 'movie_id': my_favorite_ids, 'count': [4]*5})\n",
    "\n",
    "if not ratings.isin({'user_id':[6041]})['user_id'].any():  # user_id에 6041이라는 데이터가 없다면\n",
    "    ratings = ratings.append(my_movies)                           # 위에 임의로 만든 my_favorite_ids 데이터를 추가해 줍니다. \n",
    "\n",
    "ratings.tail(10)       # 잘 추가되었는지 확인해 봅시다."
   ]
  },
  {
   "cell_type": "code",
   "execution_count": 11,
   "metadata": {},
   "outputs": [],
   "source": [
    "user_unique = ratings['user_id'].unique()\n",
    "movie_unique = ratings['movie_id'].unique()\n",
    "user_to_idx = {v:k for k,v in enumerate(user_unique)}\n",
    "movie_to_idx = {v:k for k,v in enumerate(movie_unique)}"
   ]
  },
  {
   "cell_type": "code",
   "execution_count": 12,
   "metadata": {},
   "outputs": [
    {
     "name": "stdout",
     "output_type": "stream",
     "text": [
      "6039\n",
      "704\n"
     ]
    }
   ],
   "source": [
    "print(user_to_idx[6041])\n",
    "print(movie_to_idx[2105])"
   ]
  },
  {
   "cell_type": "code",
   "execution_count": 13,
   "metadata": {},
   "outputs": [
    {
     "name": "stdout",
     "output_type": "stream",
     "text": [
      "user_id column indexing OK\n",
      "artist column indexing OK\n"
     ]
    },
    {
     "data": {
      "text/html": [
       "<div>\n",
       "<style scoped>\n",
       "    .dataframe tbody tr th:only-of-type {\n",
       "        vertical-align: middle;\n",
       "    }\n",
       "\n",
       "    .dataframe tbody tr th {\n",
       "        vertical-align: top;\n",
       "    }\n",
       "\n",
       "    .dataframe thead th {\n",
       "        text-align: right;\n",
       "    }\n",
       "</style>\n",
       "<table border=\"1\" class=\"dataframe\">\n",
       "  <thead>\n",
       "    <tr style=\"text-align: right;\">\n",
       "      <th></th>\n",
       "      <th>user_id</th>\n",
       "      <th>movie_id</th>\n",
       "      <th>count</th>\n",
       "    </tr>\n",
       "  </thead>\n",
       "  <tbody>\n",
       "    <tr>\n",
       "      <th>0</th>\n",
       "      <td>0</td>\n",
       "      <td>0</td>\n",
       "      <td>5</td>\n",
       "    </tr>\n",
       "    <tr>\n",
       "      <th>1</th>\n",
       "      <td>0</td>\n",
       "      <td>1</td>\n",
       "      <td>3</td>\n",
       "    </tr>\n",
       "    <tr>\n",
       "      <th>2</th>\n",
       "      <td>0</td>\n",
       "      <td>2</td>\n",
       "      <td>3</td>\n",
       "    </tr>\n",
       "    <tr>\n",
       "      <th>3</th>\n",
       "      <td>0</td>\n",
       "      <td>3</td>\n",
       "      <td>4</td>\n",
       "    </tr>\n",
       "    <tr>\n",
       "      <th>4</th>\n",
       "      <td>0</td>\n",
       "      <td>4</td>\n",
       "      <td>5</td>\n",
       "    </tr>\n",
       "    <tr>\n",
       "      <th>...</th>\n",
       "      <td>...</td>\n",
       "      <td>...</td>\n",
       "      <td>...</td>\n",
       "    </tr>\n",
       "    <tr>\n",
       "      <th>0</th>\n",
       "      <td>6039</td>\n",
       "      <td>513</td>\n",
       "      <td>4</td>\n",
       "    </tr>\n",
       "    <tr>\n",
       "      <th>1</th>\n",
       "      <td>6039</td>\n",
       "      <td>26</td>\n",
       "      <td>4</td>\n",
       "    </tr>\n",
       "    <tr>\n",
       "      <th>2</th>\n",
       "      <td>6039</td>\n",
       "      <td>704</td>\n",
       "      <td>4</td>\n",
       "    </tr>\n",
       "    <tr>\n",
       "      <th>3</th>\n",
       "      <td>6039</td>\n",
       "      <td>701</td>\n",
       "      <td>4</td>\n",
       "    </tr>\n",
       "    <tr>\n",
       "      <th>4</th>\n",
       "      <td>6039</td>\n",
       "      <td>50</td>\n",
       "      <td>4</td>\n",
       "    </tr>\n",
       "  </tbody>\n",
       "</table>\n",
       "<p>836483 rows × 3 columns</p>\n",
       "</div>"
      ],
      "text/plain": [
       "    user_id  movie_id  count\n",
       "0         0         0      5\n",
       "1         0         1      3\n",
       "2         0         2      3\n",
       "3         0         3      4\n",
       "4         0         4      5\n",
       "..      ...       ...    ...\n",
       "0      6039       513      4\n",
       "1      6039        26      4\n",
       "2      6039       704      4\n",
       "3      6039       701      4\n",
       "4      6039        50      4\n",
       "\n",
       "[836483 rows x 3 columns]"
      ]
     },
     "execution_count": 13,
     "metadata": {},
     "output_type": "execute_result"
    }
   ],
   "source": [
    "temp_user_data = ratings['user_id'].map(user_to_idx.get).dropna()\n",
    "if len(temp_user_data) == len(ratings):\n",
    "    print('user_id column indexing OK')\n",
    "    ratings['user_id'] = temp_user_data\n",
    "else:\n",
    "    print('user_id column indexing Fail')\n",
    "\n",
    "# movie_to_idx 통해 artist 컬럼도 동일한 방식으로 인덱싱해 줍니다. \n",
    "temp_movie_data = ratings['movie_id'].map(movie_to_idx.get).dropna()\n",
    "if len(temp_movie_data) == len(ratings):\n",
    "    print('artist column indexing OK')\n",
    "    ratings['movie_id'] = temp_movie_data\n",
    "else:\n",
    "    print('artist column indexing Fail')\n",
    "\n",
    "ratings"
   ]
  },
  {
   "cell_type": "markdown",
   "metadata": {},
   "source": [
    "## CSR matrix 제작"
   ]
  },
  {
   "cell_type": "code",
   "execution_count": 14,
   "metadata": {},
   "outputs": [
    {
     "data": {
      "text/plain": [
       "<6040x3628 sparse matrix of type '<class 'numpy.int64'>'\n",
       "\twith 836483 stored elements in Compressed Sparse Row format>"
      ]
     },
     "execution_count": 14,
     "metadata": {},
     "output_type": "execute_result"
    }
   ],
   "source": [
    "from scipy.sparse import csr_matrix\n",
    "\n",
    "num_user = ratings['user_id'].nunique()\n",
    "num_movies = ratings['movie_id'].nunique()\n",
    "\n",
    "csr_data = csr_matrix((ratings['count'], (ratings.user_id, ratings.movie_id)), shape=(num_user, num_movies))\n",
    "csr_data"
   ]
  },
  {
   "cell_type": "markdown",
   "metadata": {},
   "source": [
    "## als_model = AlternatingLeastSquares 모델을 직접 구성하여 훈련"
   ]
  },
  {
   "cell_type": "code",
   "execution_count": 15,
   "metadata": {},
   "outputs": [],
   "source": [
    "from implicit.als import AlternatingLeastSquares\n",
    "import os\n",
    "import numpy as np\n",
    "\n",
    "# implicit 라이브러리에서 권장하고 있는 부분입니다. 학습 내용과는 무관합니다.\n",
    "os.environ['OPENBLAS_NUM_THREADS']='1'\n",
    "os.environ['KMP_DUPLICATE_LIB_OK']='True'\n",
    "os.environ['MKL_NUM_THREADS']='1'"
   ]
  },
  {
   "cell_type": "code",
   "execution_count": 16,
   "metadata": {},
   "outputs": [],
   "source": [
    "# AlternatingLeastSquares 모델 선언\n",
    "\n",
    "als_model = AlternatingLeastSquares(factors=100, regularization=0.01, use_gpu=False, iterations=100, dtype=np.float32)"
   ]
  },
  {
   "cell_type": "code",
   "execution_count": 17,
   "metadata": {},
   "outputs": [
    {
     "data": {
      "text/plain": [
       "<3628x6040 sparse matrix of type '<class 'numpy.int64'>'\n",
       "\twith 836483 stored elements in Compressed Sparse Column format>"
      ]
     },
     "execution_count": 17,
     "metadata": {},
     "output_type": "execute_result"
    }
   ],
   "source": [
    "# als 모델은 input으로 (item X user) 형태로 받음. transpose 필요\n",
    "csr_data_transpose = csr_data.T\n",
    "csr_data_transpose"
   ]
  },
  {
   "cell_type": "code",
   "execution_count": 18,
   "metadata": {},
   "outputs": [
    {
     "data": {
      "application/vnd.jupyter.widget-view+json": {
       "model_id": "2483d5027e2f4c22839a0d572a6276b1",
       "version_major": 2,
       "version_minor": 0
      },
      "text/plain": [
       "HBox(children=(FloatProgress(value=0.0), HTML(value='')))"
      ]
     },
     "metadata": {},
     "output_type": "display_data"
    },
    {
     "name": "stdout",
     "output_type": "stream",
     "text": [
      "\n"
     ]
    }
   ],
   "source": [
    "als_model.fit(csr_data_transpose)"
   ]
  },
  {
   "cell_type": "markdown",
   "metadata": {},
   "source": [
    "## 내가 선호하는 5가지 영화 중 하나와 그 외의 영화 하나를 골라 훈련된 모델이 예측한 나의 선호도를 파악"
   ]
  },
  {
   "cell_type": "code",
   "execution_count": 19,
   "metadata": {},
   "outputs": [],
   "source": [
    "me, my_movie = user_to_idx[6041], movie_to_idx[2399]\n",
    "my_vector, movie_vector = als_model.user_factors[me], als_model.item_factors[my_movie]"
   ]
  },
  {
   "cell_type": "code",
   "execution_count": 20,
   "metadata": {},
   "outputs": [
    {
     "data": {
      "text/plain": [
       "0.12847224"
      ]
     },
     "execution_count": 20,
     "metadata": {},
     "output_type": "execute_result"
    }
   ],
   "source": [
    "np.dot(my_vector, movie_vector)"
   ]
  },
  {
   "cell_type": "code",
   "execution_count": 21,
   "metadata": {},
   "outputs": [
    {
     "data": {
      "text/plain": [
       "0.07022386"
      ]
     },
     "execution_count": 21,
     "metadata": {},
     "output_type": "execute_result"
    }
   ],
   "source": [
    "other_movie = movie_to_idx[1090]\n",
    "other_movie_vector = als_model.item_factors[other_movie]\n",
    "np.dot(my_vector, other_movie_vector)"
   ]
  },
  {
   "cell_type": "markdown",
   "metadata": {},
   "source": [
    "## 좋아하는 영화와 비슷한 영화 추천받기"
   ]
  },
  {
   "cell_type": "code",
   "execution_count": 22,
   "metadata": {},
   "outputs": [
    {
     "data": {
      "text/plain": [
       "[(701, 0.14016704),\n",
       " (1813, 0.074067734),\n",
       " (2549, 0.0740507),\n",
       " (684, 0.073826395),\n",
       " (1993, 0.07341926),\n",
       " (1985, 0.07289947),\n",
       " (2477, 0.07081206),\n",
       " (2689, 0.069730766),\n",
       " (3232, 0.0696123),\n",
       " (722, 0.06886212)]"
      ]
     },
     "execution_count": 22,
     "metadata": {},
     "output_type": "execute_result"
    }
   ],
   "source": [
    "similar_movie = als_model.similar_items(my_movie, N=10)\n",
    "similar_movie"
   ]
  },
  {
   "cell_type": "code",
   "execution_count": 23,
   "metadata": {},
   "outputs": [
    {
     "data": {
      "text/plain": [
       "[(2399, 0.14016704),\n",
       " (2057, 0.074067734),\n",
       " (2050, 0.0740507),\n",
       " (2453, 0.073826395),\n",
       " (885, 0.07341926),\n",
       " (2162, 0.07289947),\n",
       " (3673, 0.07081206),\n",
       " (2016, 0.069730766),\n",
       " (1426, 0.0696123),\n",
       " (2047, 0.06886212)]"
      ]
     },
     "execution_count": 23,
     "metadata": {},
     "output_type": "execute_result"
    }
   ],
   "source": [
    "idx_to_movie = {v:k for k, v in movie_to_idx.items()}\n",
    "similar_movie = [(idx_to_movie[i[0]], i[1]) for i in similar_movie]\n",
    "similar_movie"
   ]
  },
  {
   "cell_type": "code",
   "execution_count": 24,
   "metadata": {
    "scrolled": true
   },
   "outputs": [
    {
     "name": "stdout",
     "output_type": "stream",
     "text": [
      "2399, Santa Claus: The Movie (1985), Adventure|Children's|Fantasy, 0.14016704261302948\n",
      "2057, Incredible Journey, The (1963), Adventure|Children's, 0.07406773418188095\n",
      "2050, Herbie Goes Bananas (1980), Adventure|Children's|Comedy, 0.07405070215463638\n",
      "2453, Boy Who Could Fly, The (1986), Drama|Fantasy, 0.0738263949751854\n",
      "885, Bogus (1996), Children's|Drama|Fantasy, 0.07341925799846649\n",
      "2162, NeverEnding Story II: The Next Chapter, The (1990), Adventure|Children's|Fantasy, 0.0728994682431221\n",
      "3673, Benji the Hunted (1987), Adventure|Children's, 0.07081206142902374\n",
      "2016, Apple Dumpling Gang Rides Again, The (1979), Children's|Comedy|Western, 0.06973076611757278\n",
      "1426, Zeus and Roxanne (1997), Children's, 0.0696123018860817\n",
      "2047, Gnome-Mobile, The (1967), Children's, 0.06886211782693863\n",
      "Counter({\"Children's\": 9, 'Adventure': 5, 'Fantasy': 4, 'Comedy': 2, 'Drama': 2, 'Western': 1})\n"
     ]
    }
   ],
   "source": [
    "similar_info = []\n",
    "genre_list = []\n",
    "for movie_idx in similar_movie:\n",
    "    similar_info.append((*movies.loc[movies['movie_id'] == movie_idx[0]].values[0], movie_idx[1]))\n",
    "    print('{}, {}, {}, {}'.format(*similar_info[-1]))\n",
    "    genre_list += similar_info[-1][2].split('|')\n",
    "\n",
    "from collections import Counter\n",
    "print(Counter(genre_list))"
   ]
  },
  {
   "cell_type": "markdown",
   "metadata": {},
   "source": [
    "## 가장 좋아할만한 영화 추천받기"
   ]
  },
  {
   "cell_type": "code",
   "execution_count": 25,
   "metadata": {},
   "outputs": [
    {
     "data": {
      "text/plain": [
       "[(40, 0.35363936),\n",
       " (4, 0.33799627),\n",
       " (531, 0.30815232),\n",
       " (499, 0.30187213),\n",
       " (561, 0.287902),\n",
       " (322, 0.27772212),\n",
       " (545, 0.2732821),\n",
       " (611, 0.26438951),\n",
       " (616, 0.25970992),\n",
       " (458, 0.25856438)]"
      ]
     },
     "execution_count": 25,
     "metadata": {},
     "output_type": "execute_result"
    }
   ],
   "source": [
    "user = user_to_idx[6041]\n",
    "\n",
    "movie_recommended = als_model.recommend(user, csr_data, N=10, filter_already_liked_items=True)\n",
    "movie_recommended"
   ]
  },
  {
   "cell_type": "code",
   "execution_count": 26,
   "metadata": {},
   "outputs": [
    {
     "data": {
      "text/plain": [
       "[(1, 0.35363936),\n",
       " (2355, 0.33799627),\n",
       " (2140, 0.30815232),\n",
       " (2054, 0.30187213),\n",
       " (2161, 0.287902),\n",
       " (34, 0.27772212),\n",
       " (317, 0.2732821),\n",
       " (1967, 0.26438951),\n",
       " (2193, 0.25970992),\n",
       " (367, 0.25856438)]"
      ]
     },
     "execution_count": 26,
     "metadata": {},
     "output_type": "execute_result"
    }
   ],
   "source": [
    "movie_recommended = [(idx_to_movie[i[0]], i[1]) for i in movie_recommended]\n",
    "movie_recommended"
   ]
  },
  {
   "cell_type": "code",
   "execution_count": 27,
   "metadata": {},
   "outputs": [
    {
     "name": "stdout",
     "output_type": "stream",
     "text": [
      "Toy Story (1995), Animation|Children's|Comedy, 1, 0.3536393642425537\n",
      "Bug's Life, A (1998), Animation|Children's|Comedy, 2355, 0.3379962742328644\n",
      "Dark Crystal, The (1982), Children's|Fantasy|Sci-Fi, 2140, 0.30815231800079346\n",
      "Honey, I Shrunk the Kids (1989), Adventure|Children's|Comedy|Fantasy|Sci-Fi, 2054, 0.3018721342086792\n",
      "NeverEnding Story, The (1984), Adventure|Children's|Fantasy, 2161, 0.28790199756622314\n",
      "Babe (1995), Children's|Comedy|Drama, 34, 0.2777221202850342\n",
      "Santa Clause, The (1994), Children's|Comedy|Fantasy, 317, 0.27328211069107056\n",
      "Labyrinth (1986), Adventure|Children's|Fantasy, 1967, 0.2643895149230957\n",
      "Willow (1988), Action|Adventure|Fantasy, 2193, 0.2597099244594574\n",
      "Mask, The (1994), Comedy|Crime|Fantasy, 367, 0.25856438279151917\n",
      "Counter({\"Children's\": 8, 'Fantasy': 7, 'Comedy': 6, 'Adventure': 4, 'Animation': 2, 'Sci-Fi': 2, 'Drama': 1, 'Action': 1, 'Crime': 1})\n"
     ]
    }
   ],
   "source": [
    "recommended_info = []\n",
    "genre = list()\n",
    "for i, tup in enumerate(movie_recommended):\n",
    "    movie_info = movies.loc[movies['movie_id'] == tup[0]]\n",
    "    recommended_info.append((movie_info['title'].values[0], movie_info['genre'].values[0], *tup))\n",
    "    print('{}, {}, {}, {}'.format(*recommended_info[i]))\n",
    "    genre += recommended_info[i][1].split('|')\n",
    "print(Counter(genre))"
   ]
  },
  {
   "cell_type": "code",
   "execution_count": 28,
   "metadata": {
    "scrolled": true
   },
   "outputs": [
    {
     "name": "stdout",
     "output_type": "stream",
     "text": [
      "1097, E.T. the Extra-Terrestrial (1982), Children's|Drama|Fantasy|Sci-Fi\n",
      "3114, Toy Story 2 (1999), Animation|Children's|Comedy\n",
      "2, Jumanji (1995), Adventure|Children's|Fantasy\n",
      "2399, Santa Claus: The Movie (1985), Adventure|Children's|Fantasy\n",
      "2105, Tron (1982), Action|Adventure|Fantasy|Sci-Fi\n",
      "Counter({\"Children's\": 4, 'Fantasy': 4, 'Adventure': 3, 'Sci-Fi': 2, 'Drama': 1, 'Animation': 1, 'Comedy': 1, 'Action': 1})\n"
     ]
    }
   ],
   "source": [
    "favorite_movie_info = [movies.loc[movies.title == movie_name] for movie_name in my_favorite]\n",
    "# print(favorite_movie_info)\n",
    "favorite_movie_info = [(info.movie_id.values[0], info.title.values[0], info.genre.values[0]) for info in favorite_movie_info]\n",
    "favorite_genre = []\n",
    "for info in favorite_movie_info:\n",
    "    print('{}, {}, {}'.format(*info))\n",
    "    favorite_genre += info[-1].split('|')\n",
    "\n",
    "print(Counter(favorite_genre))"
   ]
  },
  {
   "cell_type": "markdown",
   "metadata": {},
   "source": [
    "## 기여도"
   ]
  },
  {
   "cell_type": "code",
   "execution_count": 29,
   "metadata": {},
   "outputs": [
    {
     "name": "stdout",
     "output_type": "stream",
     "text": [
      "[2355 \"Bug's Life, A (1998)\" \"Animation|Children's|Comedy\"]\n"
     ]
    },
    {
     "data": {
      "text/plain": [
       "(0.33697338146417277,\n",
       " [(50, 0.3064068202811457),\n",
       "  (704, 0.025424215469956542),\n",
       "  (26, 0.005258519212720549),\n",
       "  (513, 0.0022956261132989165),\n",
       "  (701, -0.002411799612948932)],\n",
       " (array([[ 1.05185627e+00,  1.08734323e-01,  3.88522661e-02, ...,\n",
       "           1.68171934e-02, -5.19482783e-03,  5.10162042e-02],\n",
       "         [ 1.14372880e-01,  1.03446322e+00,  5.42475165e-02, ...,\n",
       "           6.50645635e-02,  3.10063123e-02,  1.62765343e-02],\n",
       "         [ 4.08669996e-02,  6.03416357e-02,  9.79511431e-01, ...,\n",
       "           2.00388236e-02,  3.62460831e-02,  3.31375918e-02],\n",
       "         ...,\n",
       "         [ 1.76892703e-02,  6.91355043e-02,  2.38112339e-02, ...,\n",
       "           9.67259461e-01,  1.65166249e-02, -7.37702172e-04],\n",
       "         [-5.46421221e-03,  3.15100337e-02,  3.69836374e-02, ...,\n",
       "           5.68473777e-02,  9.59319769e-01,  3.76577717e-02],\n",
       "         [ 5.36617142e-02,  2.23846886e-02,  3.53237067e-02, ...,\n",
       "           2.67589778e-02,  7.34072745e-02,  9.57503457e-01]]),\n",
       "  False))"
      ]
     },
     "execution_count": 29,
     "metadata": {},
     "output_type": "execute_result"
    }
   ],
   "source": [
    "movie_id = 2355\n",
    "print(movies.loc[movies['movie_id'] == movie_id].values[0])\n",
    "movie_idx = movie_to_idx[movie_id]\n",
    "explain = als_model.explain(user, csr_data, itemid=movie_idx)\n",
    "explain"
   ]
  },
  {
   "cell_type": "code",
   "execution_count": 30,
   "metadata": {},
   "outputs": [
    {
     "data": {
      "text/plain": [
       "[(3114, 0.3064068202811457),\n",
       " (2105, 0.025424215469956542),\n",
       " (1097, 0.005258519212720549),\n",
       " (2, 0.0022956261132989165),\n",
       " (2399, -0.002411799612948932)]"
      ]
     },
     "execution_count": 30,
     "metadata": {},
     "output_type": "execute_result"
    }
   ],
   "source": [
    "explain_top5 = [(idx_to_movie[i[0]], i[1]) for i in explain[1]]\n",
    "explain_top5"
   ]
  },
  {
   "cell_type": "code",
   "execution_count": 31,
   "metadata": {
    "scrolled": false
   },
   "outputs": [
    {
     "name": "stdout",
     "output_type": "stream",
     "text": [
      "Toy Story 2 (1999), Animation|Children's|Comedy, 3114, 0.3064068202811457\n",
      "Tron (1982), Action|Adventure|Fantasy|Sci-Fi, 2105, 0.025424215469956542\n",
      "E.T. the Extra-Terrestrial (1982), Children's|Drama|Fantasy|Sci-Fi, 1097, 0.005258519212720549\n",
      "Jumanji (1995), Adventure|Children's|Fantasy, 2, 0.0022956261132989165\n",
      "Santa Claus: The Movie (1985), Adventure|Children's|Fantasy, 2399, -0.002411799612948932\n",
      "Counter({\"Children's\": 4, 'Fantasy': 4, 'Adventure': 3, 'Sci-Fi': 2, 'Animation': 1, 'Comedy': 1, 'Action': 1, 'Drama': 1})\n"
     ]
    }
   ],
   "source": [
    "explain_info = []\n",
    "explain_genre = []\n",
    "for i, tup in enumerate(explain_top5):\n",
    "    movie_info = movies.loc[movies['movie_id'] == tup[0]]\n",
    "    explain_info.append((movie_info['title'].values[0], movie_info['genre'].values[0], *tup))\n",
    "    print('{}, {}, {}, {}'.format(*explain_info[i]))\n",
    "    explain_genre += explain_info[i][1].split('|')\n",
    "print(Counter(explain_genre))"
   ]
  },
  {
   "cell_type": "markdown",
   "metadata": {},
   "source": [
    "## 분석결과"
   ]
  },
  {
   "cell_type": "markdown",
   "metadata": {},
   "source": [
    "### 내가 선호하는 영화 정보"
   ]
  },
  {
   "cell_type": "markdown",
   "metadata": {},
   "source": [
    "- favorite movie info   \n",
    "1097, 'E.T. the Extra-Terrestrial (1982)', \"Children's|Drama|Fantasy|Sci-Fi\"   \n",
    "3114, 'Toy Story 2 (1999)', \"Animation|Children's|Comedy\"   \n",
    "2, 'Jumanji (1995)', \"Adventure|Children's|Fantasy\"   \n",
    "2399, 'Santa Claus: The Movie (1985)', \"Adventure|Children's|Fantasy\"   \n",
    "2105, 'Tron (1982)', 'Action|Adventure|Fantasy|Sci-Fi'\n",
    "\n",
    "- movie genre   \n",
    "\"Children's\": 4, 'Fantasy': 4, 'Adventure': 3, 'Sci-Fi': 2,   \n",
    "'Drama': 1, 'Animation': 1, 'Comedy': 1, 'Action': 1"
   ]
  },
  {
   "cell_type": "markdown",
   "metadata": {},
   "source": [
    "### 비슷한 영화 추천받기\n",
    "- 영화 : Santa Claus: The Movie (1985)', \"Adventure|Children's|Fantasy\""
   ]
  },
  {
   "cell_type": "markdown",
   "metadata": {},
   "source": [
    "- 결과   \n",
    "2399, Santa Claus: The Movie (1985), Adventure|Children's|Fantasy, 0.14016704261302948   \n",
    "2057, Incredible Journey, The (1963), Adventure|Children's, 0.07406773418188095   \n",
    "2050, Herbie Goes Bananas (1980), Adventure|Children's|Comedy, 0.07405070215463638   \n",
    "2453, Boy Who Could Fly, The (1986), Drama|Fantasy, 0.0738263949751854   \n",
    "885, Bogus (1996), Children's|Drama|Fantasy, 0.07341925799846649   \n",
    "2162, NeverEnding Story II: The Next Chapter, The (1990), Adventure|Children's|Fantasy, 0.0728994682431221   \n",
    "3673, Benji the Hunted (1987), Adventure|Children's, 0.07081206142902374   \n",
    "2016, Apple Dumpling Gang Rides Again, The (1979), Children's|Comedy|Western, 0.06973076611757278   \n",
    "1426, Zeus and Roxanne (1997), Children's, 0.0696123018860817   \n",
    "2047, Gnome-Mobile, The (1967), Children's, 0.06886211782693863   \n",
    "\n",
    "\n",
    "- Genre   \n",
    "\"Children's\": 9, 'Adventure': 5, 'Fantasy': 4, 'Comedy': 2, 'Drama': 2, 'Western': 1\n",
    "\n",
    "\n",
    "- 장르별 연관성 : Adventure = 6개, Children's = 9개, Fantasy = 5개\n",
    "- 장르가 다른 영화의 경우 : Drama = 3개, Comedy = 2개, Western = 1개\n",
    "- 모든 영화가 추천 대상 영화의 장르에 속했다.\n",
    "- 이 중 일부는 장르가 다른 경우도 존재했다."
   ]
  },
  {
   "cell_type": "markdown",
   "metadata": {},
   "source": [
    "### 좋아할만한 영화 추천 받기"
   ]
  },
  {
   "cell_type": "markdown",
   "metadata": {},
   "source": [
    "- 결과   \n",
    "Toy Story (1995), Animation|Children's|Comedy, 1, 0.3536393642425537   \n",
    "Bug's Life, A (1998), Animation|Children's|Comedy, 2355, 0.3379962742328644   \n",
    "Dark Crystal, The (1982), Children's|Fantasy|Sci-Fi, 2140, 0.30815231800079346   \n",
    "Honey, I Shrunk the Kids (1989), Adventure|Children's|Comedy|Fantasy|Sci-Fi, 2054, 0.3018721342086792   \n",
    "NeverEnding Story, The (1984), Adventure|Children's|Fantasy, 2161, 0.28790199756622314   \n",
    "Babe (1995), Children's|Comedy|Drama, 34, 0.2777221202850342   \n",
    "Santa Clause, The (1994), Children's|Comedy|Fantasy, 317, 0.27328211069107056   \n",
    "Labyrinth (1986), Adventure|Children's|Fantasy, 1967, 0.2643895149230957   \n",
    "Willow (1988), Action|Adventure|Fantasy, 2193, 0.2597099244594574   \n",
    "Mask, The (1994), Comedy|Crime|Fantasy, 367, 0.25856438279151917   \n",
    "\n",
    "\n",
    "- Genre   \n",
    "\"Children's\": 8, 'Fantasy': 7, 'Comedy': 6, 'Adventure': 4,   \n",
    "'Animation': 2, 'Sci-Fi': 2, 'Drama': 1, 'Action': 1, 'Crime': 1\n",
    "\n",
    "- Children's = 9개, Comedy = 7개, Fantasy = 7개, Adventure = 4개\n",
    "- 기준이 된 영화의 장르 중 2개인 Children's와 Fantasy와 같은 영화가 7개 이상 추천되었다."
   ]
  },
  {
   "cell_type": "markdown",
   "metadata": {},
   "source": [
    "#### 기여도 검사"
   ]
  },
  {
   "cell_type": "markdown",
   "metadata": {},
   "source": [
    "- 영화 정보   \n",
    "\"Bug's Life, A (1998)\" \"Animation|Children's|Comedy\"\n",
    "\n",
    "\n",
    "- 기여도 정보   \n",
    "Toy Story 2 (1999), Animation|Children's|Comedy, 3114, 0.3064068202811457   \n",
    "Tron (1982), Action|Adventure|Fantasy|Sci-Fi, 2105, 0.025424215469956542   \n",
    "E.T. the Extra-Terrestrial (1982), Children's|Drama|Fantasy|Sci-Fi, 1097, 0.005258519212720549   \n",
    "Jumanji (1995), Adventure|Children's|Fantasy, 2, 0.0022956261132989165   \n",
    "Santa Claus: The Movie (1985), Adventure|Children's|Fantasy, 2399, -0.002411799612948932   \n",
    "\n",
    "\n",
    "- 기여도 영화 장르   \n",
    "\"Children's\": 4, 'Fantasy': 4, 'Adventure': 3, 'Sci-Fi': 2,   \n",
    "'Animation': 1, 'Comedy': 1, 'Drama': 1, 'Action': 1"
   ]
  },
  {
   "cell_type": "markdown",
   "metadata": {},
   "source": [
    "- 영화 하나 (Toy Story 2)가 강한 기여를 하여 추천되었다.\n",
    "- 영화의 장르가 100% 일치하는 영화의 영향을 크게 받은 것으로 생각된다."
   ]
  },
  {
   "cell_type": "code",
   "execution_count": null,
   "metadata": {},
   "outputs": [],
   "source": []
  }
 ],
 "metadata": {
  "kernelspec": {
   "display_name": "aiffel",
   "language": "python",
   "name": "aiffel"
  },
  "language_info": {
   "codemirror_mode": {
    "name": "ipython",
    "version": 3
   },
   "file_extension": ".py",
   "mimetype": "text/x-python",
   "name": "python",
   "nbconvert_exporter": "python",
   "pygments_lexer": "ipython3",
   "version": "3.7.6"
  },
  "toc": {
   "base_numbering": 1,
   "nav_menu": {},
   "number_sections": true,
   "sideBar": true,
   "skip_h1_title": false,
   "title_cell": "Table of Contents",
   "title_sidebar": "Contents",
   "toc_cell": false,
   "toc_position": {},
   "toc_section_display": true,
   "toc_window_display": false
  },
  "varInspector": {
   "cols": {
    "lenName": 16,
    "lenType": 16,
    "lenVar": 40
   },
   "kernels_config": {
    "python": {
     "delete_cmd_postfix": "",
     "delete_cmd_prefix": "del ",
     "library": "var_list.py",
     "varRefreshCmd": "print(var_dic_list())"
    },
    "r": {
     "delete_cmd_postfix": ") ",
     "delete_cmd_prefix": "rm(",
     "library": "var_list.r",
     "varRefreshCmd": "cat(var_dic_list()) "
    }
   },
   "types_to_exclude": [
    "module",
    "function",
    "builtin_function_or_method",
    "instance",
    "_Feature"
   ],
   "window_display": false
  }
 },
 "nbformat": 4,
 "nbformat_minor": 4
}
