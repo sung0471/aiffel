{
 "cells": [
  {
   "cell_type": "markdown",
   "metadata": {},
   "source": [
    "## Tkinter"
   ]
  },
  {
   "cell_type": "markdown",
   "metadata": {},
   "source": [
    "### 창 띄우기"
   ]
  },
  {
   "cell_type": "code",
   "execution_count": 1,
   "metadata": {},
   "outputs": [
    {
     "name": "stdout",
     "output_type": "stream",
     "text": [
      "코드 실행 중..🛸\n",
      "완료!\n"
     ]
    }
   ],
   "source": [
    "# import\n",
    "from tkinter import *\n",
    "\n",
    "print('코드 실행 중..🛸')\n",
    "# Tk 클래스의 객체를 생성\n",
    "window = Tk()\n",
    "# window 객체의 제목\n",
    "window.title(\"My First GUI\")\n",
    "# mainloop함수를 호출해 window의 이벤트 루프 시작\n",
    "window.mainloop()\n",
    "print('완료!')"
   ]
  },
  {
   "cell_type": "markdown",
   "metadata": {},
   "source": [
    "- 공식문서 : https://docs.python.org/3/library/tkinter.html"
   ]
  },
  {
   "cell_type": "markdown",
   "metadata": {},
   "source": [
    "### size 조정"
   ]
  },
  {
   "cell_type": "code",
   "execution_count": 2,
   "metadata": {},
   "outputs": [
    {
     "name": "stdout",
     "output_type": "stream",
     "text": [
      "코드 실행 중..🛸\n",
      "완료!\n"
     ]
    }
   ],
   "source": [
    "from tkinter import *\n",
    "\n",
    "print('코드 실행 중..🛸')\n",
    "window = Tk()\n",
    "window.title(\"ex1_size\")              # 윈도우 타이틀바 제목을 지정합니다.\n",
    "\n",
    "# 윈도우 크기 조정\n",
    "window.geometry(\"480x320\")   # 창의 크기를 지정합니다.\n",
    "window.resizable(False, False)   # 가로, 세로 크기조절을 불가능하게 합니다.\n",
    "\n",
    "window.mainloop()\n",
    "print('완료!')"
   ]
  },
  {
   "cell_type": "markdown",
   "metadata": {},
   "source": [
    "### Label 구현"
   ]
  },
  {
   "cell_type": "code",
   "execution_count": 3,
   "metadata": {},
   "outputs": [
    {
     "name": "stdout",
     "output_type": "stream",
     "text": [
      "코드 실행 중..🛸\n",
      "완료!\n"
     ]
    }
   ],
   "source": [
    "from tkinter import *\n",
    "import tkinter.ttk as ttk\n",
    "\n",
    "print('코드 실행 중..🛸')\n",
    "window = Tk()\n",
    "window.title(\"ex2_label\")\n",
    "window.geometry(\"480x320\") \n",
    "window.resizable(False, False)\n",
    "\n",
    "# 라벨 생성\n",
    "label1 = ttk.Label(window,text='label')    # 라벨을 생성합니다. 텍스트 내용은 'label'로 합니다.\n",
    "label1.grid(column=0, row=0)    # 위 생성된 라벨의 레이아웃을 지정합니다.\n",
    "\n",
    "window.mainloop()\n",
    "print('완료!')"
   ]
  },
  {
   "cell_type": "code",
   "execution_count": 4,
   "metadata": {},
   "outputs": [
    {
     "name": "stdout",
     "output_type": "stream",
     "text": [
      "코드 실행 중..🛸\n",
      "완료!\n"
     ]
    }
   ],
   "source": [
    "from tkinter import *\n",
    "import tkinter.ttk as ttk\n",
    "\n",
    "print('코드 실행 중..🛸')\n",
    "window = Tk()\n",
    "window.title(\"ex2_label\")\n",
    "window.geometry(\"480x320\") \n",
    "window.resizable(False, False)\n",
    "\n",
    "# 라벨 생성\n",
    "label1 = ttk.Label(window,text='revision_label')    # 라벨을 생성합니다. 텍스트 내용은 'label'로 합니다.\n",
    "label1.grid(column=0, row=0)    # 위 생성된 라벨의 레이아웃을 지정합니다. (위치)\n",
    "\n",
    "window.mainloop()\n",
    "print('완료!')"
   ]
  },
  {
   "cell_type": "markdown",
   "metadata": {},
   "source": [
    "### Tkinter 위치"
   ]
  },
  {
   "cell_type": "code",
   "execution_count": 5,
   "metadata": {},
   "outputs": [
    {
     "data": {
      "text/plain": [
       "['/home/aiffel0049/aiffel/Foundamental/14.tkinter',\n",
       " '/home/aiffel0049/anaconda3/envs/aiffel/lib/python37.zip',\n",
       " '/home/aiffel0049/anaconda3/envs/aiffel/lib/python3.7',\n",
       " '/home/aiffel0049/anaconda3/envs/aiffel/lib/python3.7/lib-dynload',\n",
       " '',\n",
       " '/home/aiffel0049/anaconda3/envs/aiffel/lib/python3.7/site-packages',\n",
       " '/home/aiffel0049/anaconda3/envs/aiffel/lib/python3.7/site-packages/IPython/extensions',\n",
       " '/home/aiffel0049/.ipython']"
      ]
     },
     "execution_count": 5,
     "metadata": {},
     "output_type": "execute_result"
    }
   ],
   "source": [
    "import sys\n",
    "sys.path"
   ]
  },
  {
   "cell_type": "markdown",
   "metadata": {},
   "source": [
    "- /home/aiffel0049/anaconda3/envs/aiffel/lib/python3.7 가 tkinter가 있는 위치"
   ]
  },
  {
   "cell_type": "markdown",
   "metadata": {},
   "source": [
    "### 텍스트 박스 생성"
   ]
  },
  {
   "cell_type": "code",
   "execution_count": 6,
   "metadata": {},
   "outputs": [
    {
     "name": "stdout",
     "output_type": "stream",
     "text": [
      "코드 실행 중..🛸\n",
      "완료!\n"
     ]
    }
   ],
   "source": [
    "from tkinter import *\n",
    "import tkinter.ttk as ttk\n",
    "\n",
    "print('코드 실행 중..🛸')\n",
    "window = Tk()\n",
    "window.title(\"ex2_label\")\n",
    "window.geometry(\"480x320\") \n",
    "window.resizable(False, False)\n",
    "\n",
    "label1 = ttk.Label(window,text='label')  \n",
    "label1.grid(row=0, column=0)  \n",
    "\n",
    "# 텍스트 박스 생성\n",
    "text1 = Text(window, width=60, height=40)    # 텍스트박스를 크기까지 지정하여 생성합니다.\n",
    "text1.grid(row=1, column=0, padx=20, pady=10)   # 생성된 텍스트박스의 레이아웃을 지정합니다. \n",
    "\n",
    "window.mainloop()\n",
    "print('완료!')"
   ]
  },
  {
   "cell_type": "markdown",
   "metadata": {},
   "source": [
    "### 버튼 생성"
   ]
  },
  {
   "cell_type": "code",
   "execution_count": 9,
   "metadata": {},
   "outputs": [
    {
     "name": "stdout",
     "output_type": "stream",
     "text": [
      "코드 실행 중..🛸\n",
      "완료!\n"
     ]
    }
   ],
   "source": [
    "from tkinter import *\n",
    "import tkinter.ttk as ttk\n",
    "import tkinter.messagebox as tmb\n",
    "\n",
    "print('코드 실행 중..🛸')\n",
    "window = Tk()   \n",
    "window.title(\"ex3_Button\")   \n",
    "window.geometry(\"480x320\") \n",
    "\n",
    "label1 = ttk.Label(window, text=\"Label\")\n",
    "label1.grid(column=0, row=0)\n",
    "\n",
    "# 버튼클릭 이벤트 핸들러 정의\n",
    "def click():\n",
    "    label1.configure(text='버튼이 눌렸습니다.')   # 버튼이 눌리면 라벨 텍스트값을 바꿉니다.\n",
    "    tmb.showinfo(\"버튼\", \"버튼클릭!!\")                 # 그리고 메시지박스로 버튼클릭을 알립니다.\n",
    "\n",
    "# 버튼 생성\n",
    "action = ttk.Button(window, text=\"버튼을 눌러주세요\", command=click)   \n",
    "action.grid(row=0, column=1)\n",
    "\n",
    "window.mainloop()\n",
    "print('완료!')"
   ]
  },
  {
   "cell_type": "markdown",
   "metadata": {},
   "source": [
    "#### Click 함수\n",
    "    - def 키워드로 함수 선언\n",
    "    - 버튼이 클릭되면 호출되는 동작, 이벤트 핸들러라고도 함\n",
    "    - Button 객체에 command 키워드를 이용하여 이 함수를 바인딩\n",
    "    - command 키워드에 전달될 때는 콜백(callback) 함수라고 함\n",
    "\n",
    "#### 콜백 함수\n",
    "    - 이벤트 바인딩으로 호출되는 함수 = 콜백함수\n",
    "    - Tkinter에서는 command에 의해 전달되어 생성되는 함수\n",
    "    - 함수 바인딩 할 때는 괄호'()'를 쓰지 않음\n",
    "    - 이렇게 함수를 매개변수로 전달되는 함수 = 콜백 함수\n",
    "\n",
    "#### 이벤트 핸들러\n",
    "    - 이벤트 발생 시 처리할 동작\n",
    "    - 버튼 클릭하는 이벤트 발생 시, 행해지는 동작인 click() = 이벤트 핸들러\n",
    "\n",
    "#### 바인딩\n",
    "    - 바인딩 : 결속시키다, 고정시키다\n",
    "        → 객체와 속성, 메서드를 결합해 준다는 의미\n",
    "    - Button 객체에 콜백 함수를 command라는 키워드(인자)로 바인딩"
   ]
  },
  {
   "cell_type": "markdown",
   "metadata": {},
   "source": [
    "### 콤보박스(여러 리스트 중 하나 선택하는 박스) 추가"
   ]
  },
  {
   "cell_type": "code",
   "execution_count": 10,
   "metadata": {},
   "outputs": [
    {
     "name": "stdout",
     "output_type": "stream",
     "text": [
      "코드 실행 중..🛸\n",
      "완료!\n"
     ]
    }
   ],
   "source": [
    "from tkinter import *\n",
    "import tkinter.ttk as ttk\n",
    "import tkinter.messagebox as tmb\n",
    "\n",
    "print('코드 실행 중..🛸')\n",
    "window = Tk()   \n",
    "window.title(\"ex3_Button\")   \n",
    "window.geometry(\"480x320\") \n",
    "\n",
    "label1 = ttk.Label(window, text=\"Label\")\n",
    "label1.grid(column=0, row=0)\n",
    "\n",
    "# 콤보 생성\n",
    "combo = ttk.Combobox(window, width=10)\n",
    "combo['values']= (\"A\", \"B\", \"C\")\n",
    "combo.current(0) #set the selected item\n",
    "combo.grid(row=1, column=1)\n",
    "\n",
    "# 버튼클릭 이벤트 핸들러 정의\n",
    "def click():\n",
    "    label1.configure(text='버튼이 눌렸습니다.')   # 버튼이 눌리면 라벨 텍스트값을 바꿉니다.\n",
    "    tmb.showinfo(\"버튼\", combo.get())                # 메시지박스로 combo.get()을 통해 가져온 메뉴값을 출력합니다.\n",
    "\n",
    "# 버튼 생성\n",
    "action = ttk.Button(window, text=\"버튼을 눌러주세요\", command=click)   \n",
    "action.grid(row=0, column=1)\n",
    "\n",
    "window.mainloop()\n",
    "print('완료!')"
   ]
  },
  {
   "cell_type": "markdown",
   "metadata": {},
   "source": [
    "### 텍스트 박스추가 및 텍스트 박스의 데이터 + 콤보박스 데이터를 메시지 박스에 출력"
   ]
  },
  {
   "cell_type": "code",
   "execution_count": 11,
   "metadata": {},
   "outputs": [
    {
     "name": "stdout",
     "output_type": "stream",
     "text": [
      "코드 실행 중..🛸\n",
      "완료!\n"
     ]
    }
   ],
   "source": [
    "from tkinter import *\n",
    "import tkinter.ttk as ttk\n",
    "\n",
    "print('코드 실행 중..🛸')\n",
    "window = Tk()   \n",
    "window.title(\"ex3_Button\")   \n",
    "window.geometry(\"1024x512\")     # 윈도우 크기를 좀더 키웁시다.\n",
    "\n",
    "label1 = ttk.Label(window, text=\"Label\")\n",
    "label1.grid(column=0, row=0)\n",
    "\n",
    "combo = ttk.Combobox(window, width=10)\n",
    "combo['values']= (\"A\", \"B\", \"C\")\n",
    "combo.current(0) #set the selected item\n",
    "combo.grid(row=1, column=1)\n",
    "\n",
    "# 텍스트 박스 2개 생성\n",
    "text1 = Text(window, width=60, height=40)\n",
    "text2 = Text(window, width=60, height=40)\n",
    "text1.grid(row=2, column=0, padx=20, pady=10)   \n",
    "text2.grid(row=2, column=1, padx=20, pady=10)\n",
    "\n",
    "# 버튼클릭 이벤트 핸들러 정의\n",
    "def click():\n",
    "    label1.configure(text='버튼이 눌렸습니다.')   \n",
    "    text1_string = text1.get(\"1.0\",\"end\")   # text1의 텍스트값을 가져와서\n",
    "    text2_string = \"{} and {}\".format(text1_string, combo.get()) # text2에 들어갈 텍스트값을 생성한 후\n",
    "    text2.delete(1.0, \"end\")     # text2의 텍스트값을 초기화하고 나서 \n",
    "    text2.insert(\"end\", text2_string)   # text2에 새로 생성한 텍스트를 넣어줍니다.  \n",
    "\n",
    "action = ttk.Button(window, text=\"버튼을 눌러주세요\", command=click)   \n",
    "action.grid(row=0, column=1)\n",
    "\n",
    "window.mainloop()\n",
    "print('완료!')"
   ]
  },
  {
   "cell_type": "markdown",
   "metadata": {},
   "source": [
    "- 위젯 관련 링크\n",
    "    - https://docs.python.org/3.3/library/tkinter.ttk.html\n",
    "    - https://tkdocs.com/tutorial/widgets.html"
   ]
  },
  {
   "cell_type": "markdown",
   "metadata": {},
   "source": [
    "## Layout"
   ]
  },
  {
   "cell_type": "code",
   "execution_count": 12,
   "metadata": {},
   "outputs": [
    {
     "name": "stdout",
     "output_type": "stream",
     "text": [
      "코드 실행 중..🛸\n",
      "완료!\n"
     ]
    }
   ],
   "source": [
    "from tkinter import *\n",
    "import tkinter.ttk as ttk\n",
    "\n",
    "print('코드 실행 중..🛸')\n",
    "window = Tk()\n",
    "window.title(\"Layout\")\n",
    "window.geometry(\"480x320\") \n",
    "\n",
    "Label(window, text=\"First\").grid(row=0)      # row=0, column=0\n",
    "Label(window, text=\"Second\").grid(row=1)  # row=1, column=0\n",
    "\n",
    "entry1 = Entry(window)\n",
    "entry2 = Entry(window)\n",
    "\n",
    "entry1.grid(row=0, column=1)    # row=0, column=1\n",
    "entry2.grid(row=1, column=1)    # row=1, column=1\n",
    "window.mainloop()\n",
    "print('완료!')"
   ]
  },
  {
   "cell_type": "markdown",
   "metadata": {},
   "source": [
    "### grid : 위젯의 위치를 지정하는 함수\n",
    "\n",
    "column: 위젯을 넣을 열   \n",
    "columnspan : 위젯이 차지하는 열의 수 (열방향으로 병합하는 셀의 갯수)   \n",
    "row : 위젯을 넣을 행   \n",
    "rowspan : 위젯이 차지하는 행의 수(행방향으로 병합하는 셀의 갯수)\n",
    "sticky, ipadx, ipady, padx, pady 로 위치와 여백을 조정할 수 있습니다."
   ]
  },
  {
   "cell_type": "code",
   "execution_count": 13,
   "metadata": {},
   "outputs": [
    {
     "name": "stdout",
     "output_type": "stream",
     "text": [
      "코드 실행 중..🛸\n",
      "완료!\n"
     ]
    }
   ],
   "source": [
    "from tkinter import *\n",
    "import tkinter.ttk as ttk\n",
    "\n",
    "print('코드 실행 중..🛸')\n",
    "window = Tk()\n",
    "window.title(\"Layout_pack\")\n",
    "window.geometry(\"480x320\") \n",
    "\n",
    "Label(window, text=\"First\").pack()\n",
    "Label(window, text=\"Second\").pack()\n",
    "\n",
    "entry1 = Entry(window)\n",
    "entry2 = Entry(window)\n",
    "entry1.pack()\n",
    "entry2.pack()\n",
    "\n",
    "window.mainloop()\n",
    "print('완료!')"
   ]
  },
  {
   "cell_type": "markdown",
   "metadata": {},
   "source": [
    "### pack : 정렬기능\n",
    "\n",
    "pack(side='left') : 왼쪽에 위치   \n",
    "pack(side='right') : 오른쪽에 위치   \n",
    "pack(side='top') : 위쪽에 위치   \n",
    "pack(side='bottom') : 아래쪽에 위치  "
   ]
  },
  {
   "cell_type": "code",
   "execution_count": 14,
   "metadata": {},
   "outputs": [
    {
     "name": "stdout",
     "output_type": "stream",
     "text": [
      "코드 실행 중..🛸\n",
      "완료!\n"
     ]
    }
   ],
   "source": [
    "from tkinter import *\n",
    "import tkinter.ttk as ttk\n",
    "\n",
    "print('코드 실행 중..🛸')\n",
    "window = Tk()\n",
    "window.title(\"Layout_pack\")\n",
    "window.geometry(\"480x320\") \n",
    "\n",
    "B1 = Button(window, text=\"Left\").pack(side=\"left\")\n",
    "B2 = Button(window, text=\"Right\").pack(side=\"right\")\n",
    "B3 = Button(window, text=\"Top\").pack(side=\"top\")\n",
    "B4 = Button(window, text=\"Bottom\").pack(side=\"bottom\")\n",
    "\n",
    "window.mainloop()\n",
    "print('완료!')"
   ]
  },
  {
   "cell_type": "markdown",
   "metadata": {},
   "source": [
    "### 여백 추가\n",
    "\n",
    "- pixel만큼 공백을 띄움"
   ]
  },
  {
   "cell_type": "code",
   "execution_count": 15,
   "metadata": {},
   "outputs": [
    {
     "name": "stdout",
     "output_type": "stream",
     "text": [
      "코드 실행 중..🛸\n",
      "완료!\n"
     ]
    }
   ],
   "source": [
    "from tkinter import *\n",
    "import tkinter.ttk as ttk\n",
    "\n",
    "print('코드 실행 중..🛸')\n",
    "window = Tk()\n",
    "window.title(\"Layout_pack\")\n",
    "window.geometry(\"480x320\") \n",
    "\n",
    "B1 = Button(window, text=\"Left\").pack(side=\"left\", padx=20, pady=20)\n",
    "B2 = Button(window, text=\"Right\").pack(side=\"right\", padx=20, pady=20)\n",
    "B3 = Button(window, text=\"Top\").pack(side=\"top\", padx=20, pady=20)\n",
    "B4 = Button(window, text=\"Bottom\").pack(side=\"bottom\", padx=20, pady=20)\n",
    "\n",
    "window.mainloop()\n",
    "print('완료!')"
   ]
  },
  {
   "cell_type": "markdown",
   "metadata": {},
   "source": [
    "### place : 수평, 수직 방향으로 얼마나 떨어져있을지 설정\n",
    "\n",
    "- 위젯의 크기와 여백 등을 설정\n",
    "- 너무 가까우면 겹칠 수 있음"
   ]
  },
  {
   "cell_type": "code",
   "execution_count": 19,
   "metadata": {},
   "outputs": [
    {
     "name": "stdout",
     "output_type": "stream",
     "text": [
      "코드 실행 중..🛸\n",
      "완료!\n"
     ]
    }
   ],
   "source": [
    "from tkinter import *\n",
    "import tkinter.ttk as ttk\n",
    "\n",
    "print('코드 실행 중..🛸')\n",
    "window = Tk()\n",
    "window.title(\"Layout_place\")\n",
    "window.geometry(\"480x320\") \n",
    "\n",
    "Label(window, text=\"First\").place(x=10,y=50)\n",
    "Label(window, text=\"Second\").place(x=10,y=80)\n",
    "\n",
    "e1 = Entry(window)\n",
    "e2 = Entry(window)\n",
    "e1.place(x=80,y=50)\n",
    "e2.place(x=80,y=80)\n",
    "\n",
    "window.mainloop()\n",
    "print('완료!')"
   ]
  },
  {
   "cell_type": "code",
   "execution_count": null,
   "metadata": {},
   "outputs": [],
   "source": []
  }
 ],
 "metadata": {
  "kernelspec": {
   "display_name": "aiffel",
   "language": "python",
   "name": "aiffel"
  },
  "language_info": {
   "codemirror_mode": {
    "name": "ipython",
    "version": 3
   },
   "file_extension": ".py",
   "mimetype": "text/x-python",
   "name": "python",
   "nbconvert_exporter": "python",
   "pygments_lexer": "ipython3",
   "version": "3.7.6"
  },
  "toc": {
   "base_numbering": 1,
   "nav_menu": {},
   "number_sections": true,
   "sideBar": true,
   "skip_h1_title": false,
   "title_cell": "Table of Contents",
   "title_sidebar": "Contents",
   "toc_cell": false,
   "toc_position": {},
   "toc_section_display": true,
   "toc_window_display": false
  },
  "varInspector": {
   "cols": {
    "lenName": 16,
    "lenType": 16,
    "lenVar": 40
   },
   "kernels_config": {
    "python": {
     "delete_cmd_postfix": "",
     "delete_cmd_prefix": "del ",
     "library": "var_list.py",
     "varRefreshCmd": "print(var_dic_list())"
    },
    "r": {
     "delete_cmd_postfix": ") ",
     "delete_cmd_prefix": "rm(",
     "library": "var_list.r",
     "varRefreshCmd": "cat(var_dic_list()) "
    }
   },
   "types_to_exclude": [
    "module",
    "function",
    "builtin_function_or_method",
    "instance",
    "_Feature"
   ],
   "window_display": false
  }
 },
 "nbformat": 4,
 "nbformat_minor": 4
}
