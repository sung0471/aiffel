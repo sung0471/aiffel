{
 "cells": [
  {
   "cell_type": "code",
   "execution_count": 1,
   "metadata": {},
   "outputs": [],
   "source": [
    "!pip list | grep googletrans"
   ]
  },
  {
   "cell_type": "code",
   "execution_count": 2,
   "metadata": {},
   "outputs": [
    {
     "name": "stdout",
     "output_type": "stream",
     "text": [
      "Collecting googletrans\n",
      "  Downloading googletrans-3.0.0.tar.gz (17 kB)\n",
      "Collecting httpx==0.13.3\n",
      "  Downloading httpx-0.13.3-py3-none-any.whl (55 kB)\n",
      "\u001b[K     |████████████████████████████████| 55 kB 697 kB/s eta 0:00:011\n",
      "\u001b[?25hCollecting hstspreload\n",
      "  Downloading hstspreload-2020.8.12-py3-none-any.whl (934 kB)\n",
      "\u001b[K     |████████████████████████████████| 934 kB 1.5 MB/s eta 0:00:01\n",
      "\u001b[?25hRequirement already satisfied: chardet==3.* in /home/aiffel0049/anaconda3/envs/aiffel/lib/python3.7/site-packages (from httpx==0.13.3->googletrans) (3.0.4)\n",
      "Collecting rfc3986<2,>=1.3\n",
      "  Downloading rfc3986-1.4.0-py2.py3-none-any.whl (31 kB)\n",
      "Requirement already satisfied: certifi in /home/aiffel0049/anaconda3/envs/aiffel/lib/python3.7/site-packages (from httpx==0.13.3->googletrans) (2020.6.20)\n",
      "Collecting sniffio\n",
      "  Downloading sniffio-1.1.0-py3-none-any.whl (4.5 kB)\n",
      "Requirement already satisfied: idna==2.* in /home/aiffel0049/anaconda3/envs/aiffel/lib/python3.7/site-packages (from httpx==0.13.3->googletrans) (2.10)\n",
      "Collecting httpcore==0.9.*\n",
      "  Downloading httpcore-0.9.1-py3-none-any.whl (42 kB)\n",
      "\u001b[K     |████████████████████████████████| 42 kB 1.4 MB/s eta 0:00:011\n",
      "\u001b[?25hCollecting h11<0.10,>=0.8\n",
      "  Downloading h11-0.9.0-py2.py3-none-any.whl (53 kB)\n",
      "\u001b[K     |████████████████████████████████| 53 kB 2.6 MB/s eta 0:00:01\n",
      "\u001b[?25hCollecting h2==3.*\n",
      "  Downloading h2-3.2.0-py2.py3-none-any.whl (65 kB)\n",
      "\u001b[K     |████████████████████████████████| 65 kB 2.8 MB/s eta 0:00:011\n",
      "\u001b[?25hCollecting hpack<4,>=3.0\n",
      "  Downloading hpack-3.0.0-py2.py3-none-any.whl (38 kB)\n",
      "Collecting hyperframe<6,>=5.2.0\n",
      "  Downloading hyperframe-5.2.0-py2.py3-none-any.whl (12 kB)\n",
      "Building wheels for collected packages: googletrans\n",
      "  Building wheel for googletrans (setup.py) ... \u001b[?25ldone\n",
      "\u001b[?25h  Created wheel for googletrans: filename=googletrans-3.0.0-py3-none-any.whl size=15734 sha256=9ad941b3d4f28e154128088c8ae5db3024ca2d6e18944eb322adc37cc17b0dbf\n",
      "  Stored in directory: /home/aiffel0049/.cache/pip/wheels/20/da/eb/a54579056f265eede0417df537dd56d3df5b9eb2b25df0003d\n",
      "Successfully built googletrans\n",
      "Installing collected packages: hstspreload, rfc3986, sniffio, h11, hpack, hyperframe, h2, httpcore, httpx, googletrans\n",
      "Successfully installed googletrans-3.0.0 h11-0.9.0 h2-3.2.0 hpack-3.0.0 hstspreload-2020.8.12 httpcore-0.9.1 httpx-0.13.3 hyperframe-5.2.0 rfc3986-1.4.0 sniffio-1.1.0\n"
     ]
    }
   ],
   "source": [
    "!pip install googletrans"
   ]
  },
  {
   "cell_type": "markdown",
   "metadata": {},
   "source": [
    "## 구글 번역기 만들기"
   ]
  },
  {
   "cell_type": "markdown",
   "metadata": {},
   "source": [
    "### 번역기 import"
   ]
  },
  {
   "cell_type": "code",
   "execution_count": 3,
   "metadata": {},
   "outputs": [
    {
     "data": {
      "text/plain": [
       "'Hello'"
      ]
     },
     "execution_count": 3,
     "metadata": {},
     "output_type": "execute_result"
    }
   ],
   "source": [
    "from googletrans import Translator\n",
    "\n",
    "def translate(input_str, lang='en'):\n",
    "    translator = Translator()\n",
    "    result = translator.translate(input_str, dest=lang)\n",
    "    return result.text\n",
    "\n",
    "translate('안녕하세요', lang='en')"
   ]
  },
  {
   "cell_type": "code",
   "execution_count": 15,
   "metadata": {},
   "outputs": [
    {
     "name": "stdout",
     "output_type": "stream",
     "text": [
      "코드 실행 중..🛸\n",
      "완료!\n"
     ]
    }
   ],
   "source": [
    "from tkinter import *\n",
    "import tkinter.ttk as ttk\n",
    "from googletrans import Translator\n",
    "\n",
    "print('코드 실행 중..🛸')\n",
    "window = Tk()\n",
    "window.title(\"나의 구글 번역기\")\n",
    "window.geometry(\"1024x512\")\n",
    "\n",
    "# 라벨 생성\n",
    "# [[YOUR CODE]]\n",
    "label = ttk.Label(window, text='언어 선택')\n",
    "label.place(x=40, y=10)\n",
    "\n",
    "# 콤보박스 생성\n",
    "# [[YOUR CODE]]\n",
    "combo = ttk.Combobox(window, width=10)\n",
    "combo['values'] = ('ko', 'ja','en','fr','de', 'zh-CN')\n",
    "combo.current(0)\n",
    "combo.place(x=40, y=30)\n",
    "# 텍스트 박스 생성\n",
    "# [[YOUR CODE]]\n",
    "text1 = Text(window, width=60, height=20)\n",
    "text1.place(x=40, y=60)\n",
    "text2 = Text(window, width=60, height=20)\n",
    "text2.place(x=500, y=60)\n",
    "\n",
    "# 번역기 함수\n",
    "def translate(input_str, lang='en'):\n",
    "    translator = Translator()\n",
    "    result = translator.translate(input_str, dest=lang)\n",
    "    return result.text\n",
    "\n",
    "# 버튼클릭 콜백 함수    \n",
    "# [[YOUR CODE]]\n",
    "def click():\n",
    "    string = text1.get('1.0', 'end')\n",
    "    lang = combo.get()\n",
    "    out_string = translate(string, lang=lang)\n",
    "    text2.delete(1.0, 'end')\n",
    "    text2.insert('end', out_string)\n",
    "\n",
    "# 버튼 생성    \n",
    "# [[YOUR CODE]]\n",
    "button = ttk.Button(window, text=\"번역\", command=click)\n",
    "button.place(x=200, y=30)\n",
    "\n",
    "window.mainloop()\n",
    "print('완료!')"
   ]
  },
  {
   "cell_type": "code",
   "execution_count": null,
   "metadata": {},
   "outputs": [],
   "source": []
  }
 ],
 "metadata": {
  "kernelspec": {
   "display_name": "aiffel",
   "language": "python",
   "name": "aiffel"
  },
  "language_info": {
   "codemirror_mode": {
    "name": "ipython",
    "version": 3
   },
   "file_extension": ".py",
   "mimetype": "text/x-python",
   "name": "python",
   "nbconvert_exporter": "python",
   "pygments_lexer": "ipython3",
   "version": "3.7.6"
  },
  "toc": {
   "base_numbering": 1,
   "nav_menu": {},
   "number_sections": true,
   "sideBar": true,
   "skip_h1_title": false,
   "title_cell": "Table of Contents",
   "title_sidebar": "Contents",
   "toc_cell": false,
   "toc_position": {},
   "toc_section_display": true,
   "toc_window_display": false
  },
  "varInspector": {
   "cols": {
    "lenName": 16,
    "lenType": 16,
    "lenVar": 40
   },
   "kernels_config": {
    "python": {
     "delete_cmd_postfix": "",
     "delete_cmd_prefix": "del ",
     "library": "var_list.py",
     "varRefreshCmd": "print(var_dic_list())"
    },
    "r": {
     "delete_cmd_postfix": ") ",
     "delete_cmd_prefix": "rm(",
     "library": "var_list.r",
     "varRefreshCmd": "cat(var_dic_list()) "
    }
   },
   "types_to_exclude": [
    "module",
    "function",
    "builtin_function_or_method",
    "instance",
    "_Feature"
   ],
   "window_display": false
  }
 },
 "nbformat": 4,
 "nbformat_minor": 4
}
