{
 "cells": [
  {
   "cell_type": "markdown",
   "metadata": {},
   "source": [
    "## 데이터셋 준비\n",
    "\n",
    "    $ mkdir -p ~/aiffel/data_preprocess/data\n",
    "$ wget https://aiffelstaticprd.blob.core.windows.net/media/documents/trade.csv\n",
    "    $ mv trade.csv ~/aiffel/data_preprocess/data\n",
    "\n",
    "- 관세청 추출입 무역 통계 데이터를 가공한 것\n",
    "    \n",
    "    https://unipass.customs.go.kr/ets/index.do"
   ]
  },
  {
   "cell_type": "markdown",
   "metadata": {},
   "source": [
    "### import"
   ]
  },
  {
   "cell_type": "code",
   "execution_count": 9,
   "metadata": {},
   "outputs": [],
   "source": [
    "import pandas as pd\n",
    "import numpy as np\n",
    "import matplotlib.pyplot as plt"
   ]
  },
  {
   "cell_type": "code",
   "execution_count": 10,
   "metadata": {},
   "outputs": [
    {
     "name": "stdout",
     "output_type": "stream",
     "text": [
      "/home/aiffel0049/aiffel/Foundamental/17.preprocessing\r\n"
     ]
    }
   ],
   "source": [
    "!pwd"
   ]
  },
  {
   "cell_type": "markdown",
   "metadata": {},
   "source": [
    "### data load"
   ]
  },
  {
   "cell_type": "code",
   "execution_count": 11,
   "metadata": {},
   "outputs": [
    {
     "data": {
      "text/html": [
       "<div>\n",
       "<style scoped>\n",
       "    .dataframe tbody tr th:only-of-type {\n",
       "        vertical-align: middle;\n",
       "    }\n",
       "\n",
       "    .dataframe tbody tr th {\n",
       "        vertical-align: top;\n",
       "    }\n",
       "\n",
       "    .dataframe thead th {\n",
       "        text-align: right;\n",
       "    }\n",
       "</style>\n",
       "<table border=\"1\" class=\"dataframe\">\n",
       "  <thead>\n",
       "    <tr style=\"text-align: right;\">\n",
       "      <th></th>\n",
       "      <th>기간</th>\n",
       "      <th>국가명</th>\n",
       "      <th>수출건수</th>\n",
       "      <th>수출금액</th>\n",
       "      <th>수입건수</th>\n",
       "      <th>수입금액</th>\n",
       "      <th>무역수지</th>\n",
       "      <th>기타사항</th>\n",
       "    </tr>\n",
       "  </thead>\n",
       "  <tbody>\n",
       "    <tr>\n",
       "      <th>0</th>\n",
       "      <td>2015년 01월</td>\n",
       "      <td>중국</td>\n",
       "      <td>116932.0</td>\n",
       "      <td>12083947.0</td>\n",
       "      <td>334522.0</td>\n",
       "      <td>8143271.0</td>\n",
       "      <td>3940676.0</td>\n",
       "      <td>NaN</td>\n",
       "    </tr>\n",
       "    <tr>\n",
       "      <th>1</th>\n",
       "      <td>2015년 01월</td>\n",
       "      <td>미국</td>\n",
       "      <td>65888.0</td>\n",
       "      <td>5561545.0</td>\n",
       "      <td>509564.0</td>\n",
       "      <td>3625062.0</td>\n",
       "      <td>1936484.0</td>\n",
       "      <td>NaN</td>\n",
       "    </tr>\n",
       "    <tr>\n",
       "      <th>2</th>\n",
       "      <td>2015년 01월</td>\n",
       "      <td>일본</td>\n",
       "      <td>54017.0</td>\n",
       "      <td>2251307.0</td>\n",
       "      <td>82480.0</td>\n",
       "      <td>3827247.0</td>\n",
       "      <td>-1575940.0</td>\n",
       "      <td>NaN</td>\n",
       "    </tr>\n",
       "    <tr>\n",
       "      <th>3</th>\n",
       "      <td>2015년 02월</td>\n",
       "      <td>중국</td>\n",
       "      <td>86228.0</td>\n",
       "      <td>9927642.0</td>\n",
       "      <td>209100.0</td>\n",
       "      <td>6980874.0</td>\n",
       "      <td>2946768.0</td>\n",
       "      <td>NaN</td>\n",
       "    </tr>\n",
       "    <tr>\n",
       "      <th>4</th>\n",
       "      <td>2015년 02월</td>\n",
       "      <td>미국</td>\n",
       "      <td>60225.0</td>\n",
       "      <td>5021264.0</td>\n",
       "      <td>428678.0</td>\n",
       "      <td>2998216.0</td>\n",
       "      <td>2023048.0</td>\n",
       "      <td>NaN</td>\n",
       "    </tr>\n",
       "  </tbody>\n",
       "</table>\n",
       "</div>"
      ],
      "text/plain": [
       "          기간 국가명      수출건수        수출금액      수입건수       수입금액       무역수지  기타사항\n",
       "0  2015년 01월  중국  116932.0  12083947.0  334522.0  8143271.0  3940676.0   NaN\n",
       "1  2015년 01월  미국   65888.0   5561545.0  509564.0  3625062.0  1936484.0   NaN\n",
       "2  2015년 01월  일본   54017.0   2251307.0   82480.0  3827247.0 -1575940.0   NaN\n",
       "3  2015년 02월  중국   86228.0   9927642.0  209100.0  6980874.0  2946768.0   NaN\n",
       "4  2015년 02월  미국   60225.0   5021264.0  428678.0  2998216.0  2023048.0   NaN"
      ]
     },
     "execution_count": 11,
     "metadata": {},
     "output_type": "execute_result"
    }
   ],
   "source": [
    "import os\n",
    "csv_file_path = '/home/aiffel0049/aiffel/Foundamental/17.preprocessing/data/trade.csv'\n",
    "trade = pd.read_csv(csv_file_path)\n",
    "trade.head()"
   ]
  },
  {
   "cell_type": "markdown",
   "metadata": {},
   "source": [
    "## 결측치 (Missing data)"
   ]
  },
  {
   "cell_type": "markdown",
   "metadata": {},
   "source": [
    "- 결측치가 있는 데이터를 제거\n",
    "- 결측치를 어떤 값으로 대체\n",
    "    - 데이터마다 특성을 반영하여 대체해야 함"
   ]
  },
  {
   "cell_type": "markdown",
   "metadata": {},
   "source": [
    "### 결측치 여부 확인"
   ]
  },
  {
   "cell_type": "code",
   "execution_count": 12,
   "metadata": {},
   "outputs": [
    {
     "name": "stdout",
     "output_type": "stream",
     "text": [
      "all data size :  199\n"
     ]
    }
   ],
   "source": [
    "print('all data size : ', len(trade))"
   ]
  },
  {
   "cell_type": "code",
   "execution_count": 13,
   "metadata": {},
   "outputs": [
    {
     "name": "stdout",
     "output_type": "stream",
     "text": [
      "컬럼별 결측치 수\n"
     ]
    },
    {
     "data": {
      "text/plain": [
       "기간        0\n",
       "국가명       0\n",
       "수출건수      3\n",
       "수출금액      4\n",
       "수입건수      3\n",
       "수입금액      3\n",
       "무역수지      4\n",
       "기타사항    199\n",
       "dtype: int64"
      ]
     },
     "execution_count": 13,
     "metadata": {},
     "output_type": "execute_result"
    }
   ],
   "source": [
    "print('컬럼별 결측치 수')\n",
    "len(trade) - trade.count()"
   ]
  },
  {
   "cell_type": "markdown",
   "metadata": {},
   "source": [
    "### 의미없는 컬럼 삭제"
   ]
  },
  {
   "cell_type": "code",
   "execution_count": 14,
   "metadata": {},
   "outputs": [
    {
     "data": {
      "text/html": [
       "<div>\n",
       "<style scoped>\n",
       "    .dataframe tbody tr th:only-of-type {\n",
       "        vertical-align: middle;\n",
       "    }\n",
       "\n",
       "    .dataframe tbody tr th {\n",
       "        vertical-align: top;\n",
       "    }\n",
       "\n",
       "    .dataframe thead th {\n",
       "        text-align: right;\n",
       "    }\n",
       "</style>\n",
       "<table border=\"1\" class=\"dataframe\">\n",
       "  <thead>\n",
       "    <tr style=\"text-align: right;\">\n",
       "      <th></th>\n",
       "      <th>기간</th>\n",
       "      <th>국가명</th>\n",
       "      <th>수출건수</th>\n",
       "      <th>수출금액</th>\n",
       "      <th>수입건수</th>\n",
       "      <th>수입금액</th>\n",
       "      <th>무역수지</th>\n",
       "    </tr>\n",
       "  </thead>\n",
       "  <tbody>\n",
       "    <tr>\n",
       "      <th>0</th>\n",
       "      <td>2015년 01월</td>\n",
       "      <td>중국</td>\n",
       "      <td>116932.0</td>\n",
       "      <td>12083947.0</td>\n",
       "      <td>334522.0</td>\n",
       "      <td>8143271.0</td>\n",
       "      <td>3940676.0</td>\n",
       "    </tr>\n",
       "    <tr>\n",
       "      <th>1</th>\n",
       "      <td>2015년 01월</td>\n",
       "      <td>미국</td>\n",
       "      <td>65888.0</td>\n",
       "      <td>5561545.0</td>\n",
       "      <td>509564.0</td>\n",
       "      <td>3625062.0</td>\n",
       "      <td>1936484.0</td>\n",
       "    </tr>\n",
       "    <tr>\n",
       "      <th>2</th>\n",
       "      <td>2015년 01월</td>\n",
       "      <td>일본</td>\n",
       "      <td>54017.0</td>\n",
       "      <td>2251307.0</td>\n",
       "      <td>82480.0</td>\n",
       "      <td>3827247.0</td>\n",
       "      <td>-1575940.0</td>\n",
       "    </tr>\n",
       "    <tr>\n",
       "      <th>3</th>\n",
       "      <td>2015년 02월</td>\n",
       "      <td>중국</td>\n",
       "      <td>86228.0</td>\n",
       "      <td>9927642.0</td>\n",
       "      <td>209100.0</td>\n",
       "      <td>6980874.0</td>\n",
       "      <td>2946768.0</td>\n",
       "    </tr>\n",
       "    <tr>\n",
       "      <th>4</th>\n",
       "      <td>2015년 02월</td>\n",
       "      <td>미국</td>\n",
       "      <td>60225.0</td>\n",
       "      <td>5021264.0</td>\n",
       "      <td>428678.0</td>\n",
       "      <td>2998216.0</td>\n",
       "      <td>2023048.0</td>\n",
       "    </tr>\n",
       "  </tbody>\n",
       "</table>\n",
       "</div>"
      ],
      "text/plain": [
       "          기간 국가명      수출건수        수출금액      수입건수       수입금액       무역수지\n",
       "0  2015년 01월  중국  116932.0  12083947.0  334522.0  8143271.0  3940676.0\n",
       "1  2015년 01월  미국   65888.0   5561545.0  509564.0  3625062.0  1936484.0\n",
       "2  2015년 01월  일본   54017.0   2251307.0   82480.0  3827247.0 -1575940.0\n",
       "3  2015년 02월  중국   86228.0   9927642.0  209100.0  6980874.0  2946768.0\n",
       "4  2015년 02월  미국   60225.0   5021264.0  428678.0  2998216.0  2023048.0"
      ]
     },
     "execution_count": 14,
     "metadata": {},
     "output_type": "execute_result"
    }
   ],
   "source": [
    "trade = trade.drop('기타사항', axis=1)\n",
    "trade.head()"
   ]
  },
  {
   "cell_type": "markdown",
   "metadata": {},
   "source": [
    "### 결측치 있는 행 탐색"
   ]
  },
  {
   "cell_type": "code",
   "execution_count": 15,
   "metadata": {},
   "outputs": [
    {
     "data": {
      "text/html": [
       "<div>\n",
       "<style scoped>\n",
       "    .dataframe tbody tr th:only-of-type {\n",
       "        vertical-align: middle;\n",
       "    }\n",
       "\n",
       "    .dataframe tbody tr th {\n",
       "        vertical-align: top;\n",
       "    }\n",
       "\n",
       "    .dataframe thead th {\n",
       "        text-align: right;\n",
       "    }\n",
       "</style>\n",
       "<table border=\"1\" class=\"dataframe\">\n",
       "  <thead>\n",
       "    <tr style=\"text-align: right;\">\n",
       "      <th></th>\n",
       "      <th>기간</th>\n",
       "      <th>국가명</th>\n",
       "      <th>수출건수</th>\n",
       "      <th>수출금액</th>\n",
       "      <th>수입건수</th>\n",
       "      <th>수입금액</th>\n",
       "      <th>무역수지</th>\n",
       "    </tr>\n",
       "  </thead>\n",
       "  <tbody>\n",
       "    <tr>\n",
       "      <th>0</th>\n",
       "      <td>False</td>\n",
       "      <td>False</td>\n",
       "      <td>False</td>\n",
       "      <td>False</td>\n",
       "      <td>False</td>\n",
       "      <td>False</td>\n",
       "      <td>False</td>\n",
       "    </tr>\n",
       "    <tr>\n",
       "      <th>1</th>\n",
       "      <td>False</td>\n",
       "      <td>False</td>\n",
       "      <td>False</td>\n",
       "      <td>False</td>\n",
       "      <td>False</td>\n",
       "      <td>False</td>\n",
       "      <td>False</td>\n",
       "    </tr>\n",
       "    <tr>\n",
       "      <th>2</th>\n",
       "      <td>False</td>\n",
       "      <td>False</td>\n",
       "      <td>False</td>\n",
       "      <td>False</td>\n",
       "      <td>False</td>\n",
       "      <td>False</td>\n",
       "      <td>False</td>\n",
       "    </tr>\n",
       "    <tr>\n",
       "      <th>3</th>\n",
       "      <td>False</td>\n",
       "      <td>False</td>\n",
       "      <td>False</td>\n",
       "      <td>False</td>\n",
       "      <td>False</td>\n",
       "      <td>False</td>\n",
       "      <td>False</td>\n",
       "    </tr>\n",
       "    <tr>\n",
       "      <th>4</th>\n",
       "      <td>False</td>\n",
       "      <td>False</td>\n",
       "      <td>False</td>\n",
       "      <td>False</td>\n",
       "      <td>False</td>\n",
       "      <td>False</td>\n",
       "      <td>False</td>\n",
       "    </tr>\n",
       "    <tr>\n",
       "      <th>...</th>\n",
       "      <td>...</td>\n",
       "      <td>...</td>\n",
       "      <td>...</td>\n",
       "      <td>...</td>\n",
       "      <td>...</td>\n",
       "      <td>...</td>\n",
       "      <td>...</td>\n",
       "    </tr>\n",
       "    <tr>\n",
       "      <th>194</th>\n",
       "      <td>False</td>\n",
       "      <td>False</td>\n",
       "      <td>False</td>\n",
       "      <td>False</td>\n",
       "      <td>False</td>\n",
       "      <td>False</td>\n",
       "      <td>False</td>\n",
       "    </tr>\n",
       "    <tr>\n",
       "      <th>195</th>\n",
       "      <td>False</td>\n",
       "      <td>False</td>\n",
       "      <td>False</td>\n",
       "      <td>False</td>\n",
       "      <td>False</td>\n",
       "      <td>False</td>\n",
       "      <td>False</td>\n",
       "    </tr>\n",
       "    <tr>\n",
       "      <th>196</th>\n",
       "      <td>False</td>\n",
       "      <td>False</td>\n",
       "      <td>True</td>\n",
       "      <td>True</td>\n",
       "      <td>True</td>\n",
       "      <td>True</td>\n",
       "      <td>True</td>\n",
       "    </tr>\n",
       "    <tr>\n",
       "      <th>197</th>\n",
       "      <td>False</td>\n",
       "      <td>False</td>\n",
       "      <td>True</td>\n",
       "      <td>True</td>\n",
       "      <td>True</td>\n",
       "      <td>True</td>\n",
       "      <td>True</td>\n",
       "    </tr>\n",
       "    <tr>\n",
       "      <th>198</th>\n",
       "      <td>False</td>\n",
       "      <td>False</td>\n",
       "      <td>True</td>\n",
       "      <td>True</td>\n",
       "      <td>True</td>\n",
       "      <td>True</td>\n",
       "      <td>True</td>\n",
       "    </tr>\n",
       "  </tbody>\n",
       "</table>\n",
       "<p>199 rows × 7 columns</p>\n",
       "</div>"
      ],
      "text/plain": [
       "        기간    국가명   수출건수   수출금액   수입건수   수입금액   무역수지\n",
       "0    False  False  False  False  False  False  False\n",
       "1    False  False  False  False  False  False  False\n",
       "2    False  False  False  False  False  False  False\n",
       "3    False  False  False  False  False  False  False\n",
       "4    False  False  False  False  False  False  False\n",
       "..     ...    ...    ...    ...    ...    ...    ...\n",
       "194  False  False  False  False  False  False  False\n",
       "195  False  False  False  False  False  False  False\n",
       "196  False  False   True   True   True   True   True\n",
       "197  False  False   True   True   True   True   True\n",
       "198  False  False   True   True   True   True   True\n",
       "\n",
       "[199 rows x 7 columns]"
      ]
     },
     "execution_count": 15,
     "metadata": {},
     "output_type": "execute_result"
    }
   ],
   "source": [
    "trade.isnull()"
   ]
  },
  {
   "cell_type": "code",
   "execution_count": 16,
   "metadata": {},
   "outputs": [
    {
     "data": {
      "text/plain": [
       "0      False\n",
       "1      False\n",
       "2      False\n",
       "3      False\n",
       "4      False\n",
       "       ...  \n",
       "194    False\n",
       "195    False\n",
       "196     True\n",
       "197     True\n",
       "198     True\n",
       "Length: 199, dtype: bool"
      ]
     },
     "execution_count": 16,
     "metadata": {},
     "output_type": "execute_result"
    }
   ],
   "source": [
    "trade.isnull().any(axis=1)"
   ]
  },
  {
   "cell_type": "code",
   "execution_count": 17,
   "metadata": {},
   "outputs": [
    {
     "data": {
      "text/html": [
       "<div>\n",
       "<style scoped>\n",
       "    .dataframe tbody tr th:only-of-type {\n",
       "        vertical-align: middle;\n",
       "    }\n",
       "\n",
       "    .dataframe tbody tr th {\n",
       "        vertical-align: top;\n",
       "    }\n",
       "\n",
       "    .dataframe thead th {\n",
       "        text-align: right;\n",
       "    }\n",
       "</style>\n",
       "<table border=\"1\" class=\"dataframe\">\n",
       "  <thead>\n",
       "    <tr style=\"text-align: right;\">\n",
       "      <th></th>\n",
       "      <th>기간</th>\n",
       "      <th>국가명</th>\n",
       "      <th>수출건수</th>\n",
       "      <th>수출금액</th>\n",
       "      <th>수입건수</th>\n",
       "      <th>수입금액</th>\n",
       "      <th>무역수지</th>\n",
       "    </tr>\n",
       "  </thead>\n",
       "  <tbody>\n",
       "    <tr>\n",
       "      <th>191</th>\n",
       "      <td>2020년 04월</td>\n",
       "      <td>미국</td>\n",
       "      <td>105360.0</td>\n",
       "      <td>NaN</td>\n",
       "      <td>1141118.0</td>\n",
       "      <td>5038739.0</td>\n",
       "      <td>NaN</td>\n",
       "    </tr>\n",
       "    <tr>\n",
       "      <th>196</th>\n",
       "      <td>2020년 06월</td>\n",
       "      <td>중국</td>\n",
       "      <td>NaN</td>\n",
       "      <td>NaN</td>\n",
       "      <td>NaN</td>\n",
       "      <td>NaN</td>\n",
       "      <td>NaN</td>\n",
       "    </tr>\n",
       "    <tr>\n",
       "      <th>197</th>\n",
       "      <td>2020년 06월</td>\n",
       "      <td>미국</td>\n",
       "      <td>NaN</td>\n",
       "      <td>NaN</td>\n",
       "      <td>NaN</td>\n",
       "      <td>NaN</td>\n",
       "      <td>NaN</td>\n",
       "    </tr>\n",
       "    <tr>\n",
       "      <th>198</th>\n",
       "      <td>2020년 06월</td>\n",
       "      <td>일본</td>\n",
       "      <td>NaN</td>\n",
       "      <td>NaN</td>\n",
       "      <td>NaN</td>\n",
       "      <td>NaN</td>\n",
       "      <td>NaN</td>\n",
       "    </tr>\n",
       "  </tbody>\n",
       "</table>\n",
       "</div>"
      ],
      "text/plain": [
       "            기간 국가명      수출건수  수출금액       수입건수       수입금액  무역수지\n",
       "191  2020년 04월  미국  105360.0   NaN  1141118.0  5038739.0   NaN\n",
       "196  2020년 06월  중국       NaN   NaN        NaN        NaN   NaN\n",
       "197  2020년 06월  미국       NaN   NaN        NaN        NaN   NaN\n",
       "198  2020년 06월  일본       NaN   NaN        NaN        NaN   NaN"
      ]
     },
     "execution_count": 17,
     "metadata": {},
     "output_type": "execute_result"
    }
   ],
   "source": [
    "trade[trade.isnull().any(axis=1)]"
   ]
  },
  {
   "cell_type": "markdown",
   "metadata": {},
   "source": [
    "- 우선 '수출건수', '수출금액', '수입건수', '수입금액', '무역수지' 열이 모두 결측치인 index 196, 197, 198을 삭제   \n",
    "- DataFrame의 dropna는 결측치를 삭제해주는 메서드입니다.\n",
    "    - subset 옵션으로 특정 컬럼들을 선택했습니다.\n",
    "    - how 옵션으로 선택한 컬럼 전부가 결측치인 행을 삭제하겠다는 의미로 'all'을 선택합니다.   \n",
    "      ('any': 하나라도 결측치인 경우)\n",
    "    - inplace 옵션으로 해당 DataFrame 내부에 바로 적용"
   ]
  },
  {
   "cell_type": "code",
   "execution_count": 18,
   "metadata": {},
   "outputs": [],
   "source": [
    "trade.dropna(how='all',subset=['수출건수', '수출금액', '수입건수', '무역수지'], inplace=True)"
   ]
  },
  {
   "cell_type": "code",
   "execution_count": 19,
   "metadata": {},
   "outputs": [
    {
     "data": {
      "text/html": [
       "<div>\n",
       "<style scoped>\n",
       "    .dataframe tbody tr th:only-of-type {\n",
       "        vertical-align: middle;\n",
       "    }\n",
       "\n",
       "    .dataframe tbody tr th {\n",
       "        vertical-align: top;\n",
       "    }\n",
       "\n",
       "    .dataframe thead th {\n",
       "        text-align: right;\n",
       "    }\n",
       "</style>\n",
       "<table border=\"1\" class=\"dataframe\">\n",
       "  <thead>\n",
       "    <tr style=\"text-align: right;\">\n",
       "      <th></th>\n",
       "      <th>기간</th>\n",
       "      <th>국가명</th>\n",
       "      <th>수출건수</th>\n",
       "      <th>수출금액</th>\n",
       "      <th>수입건수</th>\n",
       "      <th>수입금액</th>\n",
       "      <th>무역수지</th>\n",
       "    </tr>\n",
       "  </thead>\n",
       "  <tbody>\n",
       "    <tr>\n",
       "      <th>191</th>\n",
       "      <td>2020년 04월</td>\n",
       "      <td>미국</td>\n",
       "      <td>105360.0</td>\n",
       "      <td>NaN</td>\n",
       "      <td>1141118.0</td>\n",
       "      <td>5038739.0</td>\n",
       "      <td>NaN</td>\n",
       "    </tr>\n",
       "  </tbody>\n",
       "</table>\n",
       "</div>"
      ],
      "text/plain": [
       "            기간 국가명      수출건수  수출금액       수입건수       수입금액  무역수지\n",
       "191  2020년 04월  미국  105360.0   NaN  1141118.0  5038739.0   NaN"
      ]
     },
     "execution_count": 19,
     "metadata": {},
     "output_type": "execute_result"
    }
   ],
   "source": [
    "trade[trade.isnull().any(axis=1)]"
   ]
  },
  {
   "cell_type": "markdown",
   "metadata": {},
   "source": [
    "- 보완방법\n",
    "    - 특정 값 지정 (결측치가 많을 때, 데이터의 분산이 실제보다 작아질 수 있음)\n",
    "    - 평균, 중앙값 지정 (결측치가 많을 때, 데이터의 분산이 실제보다 작아질 수 있음)\n",
    "    - 다른 데이터를 이용해 예측값으로 대체 (2020년 4월 미국을 예측하는 모델로 수치 예측하여 보완)\n",
    "    - 시계열의 경우, 앞뒤 데이터를 통해 대체"
   ]
  },
  {
   "cell_type": "code",
   "execution_count": 21,
   "metadata": {},
   "outputs": [
    {
     "data": {
      "text/html": [
       "<div>\n",
       "<style scoped>\n",
       "    .dataframe tbody tr th:only-of-type {\n",
       "        vertical-align: middle;\n",
       "    }\n",
       "\n",
       "    .dataframe tbody tr th {\n",
       "        vertical-align: top;\n",
       "    }\n",
       "\n",
       "    .dataframe thead th {\n",
       "        text-align: right;\n",
       "    }\n",
       "</style>\n",
       "<table border=\"1\" class=\"dataframe\">\n",
       "  <thead>\n",
       "    <tr style=\"text-align: right;\">\n",
       "      <th></th>\n",
       "      <th>기간</th>\n",
       "      <th>국가명</th>\n",
       "      <th>수출건수</th>\n",
       "      <th>수출금액</th>\n",
       "      <th>수입건수</th>\n",
       "      <th>수입금액</th>\n",
       "      <th>무역수지</th>\n",
       "    </tr>\n",
       "  </thead>\n",
       "  <tbody>\n",
       "    <tr>\n",
       "      <th>188</th>\n",
       "      <td>2020년 03월</td>\n",
       "      <td>미국</td>\n",
       "      <td>97117.0</td>\n",
       "      <td>7292838.0</td>\n",
       "      <td>1368345.0</td>\n",
       "      <td>5388338.0</td>\n",
       "      <td>1904500.0</td>\n",
       "    </tr>\n",
       "    <tr>\n",
       "      <th>191</th>\n",
       "      <td>2020년 04월</td>\n",
       "      <td>미국</td>\n",
       "      <td>105360.0</td>\n",
       "      <td>NaN</td>\n",
       "      <td>1141118.0</td>\n",
       "      <td>5038739.0</td>\n",
       "      <td>NaN</td>\n",
       "    </tr>\n",
       "    <tr>\n",
       "      <th>194</th>\n",
       "      <td>2020년 05월</td>\n",
       "      <td>미국</td>\n",
       "      <td>126598.0</td>\n",
       "      <td>4600726.0</td>\n",
       "      <td>1157163.0</td>\n",
       "      <td>4286873.0</td>\n",
       "      <td>313853.0</td>\n",
       "    </tr>\n",
       "  </tbody>\n",
       "</table>\n",
       "</div>"
      ],
      "text/plain": [
       "            기간 국가명      수출건수       수출금액       수입건수       수입금액       무역수지\n",
       "188  2020년 03월  미국   97117.0  7292838.0  1368345.0  5388338.0  1904500.0\n",
       "191  2020년 04월  미국  105360.0        NaN  1141118.0  5038739.0        NaN\n",
       "194  2020년 05월  미국  126598.0  4600726.0  1157163.0  4286873.0   313853.0"
      ]
     },
     "execution_count": 21,
     "metadata": {},
     "output_type": "execute_result"
    }
   ],
   "source": [
    "trade.loc[[188, 191, 194]]"
   ]
  },
  {
   "cell_type": "code",
   "execution_count": 22,
   "metadata": {},
   "outputs": [
    {
     "data": {
      "text/html": [
       "<div>\n",
       "<style scoped>\n",
       "    .dataframe tbody tr th:only-of-type {\n",
       "        vertical-align: middle;\n",
       "    }\n",
       "\n",
       "    .dataframe tbody tr th {\n",
       "        vertical-align: top;\n",
       "    }\n",
       "\n",
       "    .dataframe thead th {\n",
       "        text-align: right;\n",
       "    }\n",
       "</style>\n",
       "<table border=\"1\" class=\"dataframe\">\n",
       "  <thead>\n",
       "    <tr style=\"text-align: right;\">\n",
       "      <th></th>\n",
       "      <th>기간</th>\n",
       "      <th>국가명</th>\n",
       "      <th>수출건수</th>\n",
       "      <th>수출금액</th>\n",
       "      <th>수입건수</th>\n",
       "      <th>수입금액</th>\n",
       "      <th>무역수지</th>\n",
       "    </tr>\n",
       "  </thead>\n",
       "  <tbody>\n",
       "    <tr>\n",
       "      <th>191</th>\n",
       "      <td>2020년 04월</td>\n",
       "      <td>미국</td>\n",
       "      <td>105360.0</td>\n",
       "      <td>5946782.0</td>\n",
       "      <td>1141118.0</td>\n",
       "      <td>5038739.0</td>\n",
       "      <td>NaN</td>\n",
       "    </tr>\n",
       "  </tbody>\n",
       "</table>\n",
       "</div>"
      ],
      "text/plain": [
       "            기간 국가명      수출건수       수출금액       수입건수       수입금액  무역수지\n",
       "191  2020년 04월  미국  105360.0  5946782.0  1141118.0  5038739.0   NaN"
      ]
     },
     "execution_count": 22,
     "metadata": {},
     "output_type": "execute_result"
    }
   ],
   "source": [
    "# 평균값\n",
    "trade.loc[191, '수출금액'] = (trade.loc[188, '수출금액'] + trade.loc[194, '수출금액']) / 2\n",
    "trade.loc[[191]]"
   ]
  },
  {
   "cell_type": "code",
   "execution_count": 26,
   "metadata": {},
   "outputs": [
    {
     "data": {
      "text/html": [
       "<div>\n",
       "<style scoped>\n",
       "    .dataframe tbody tr th:only-of-type {\n",
       "        vertical-align: middle;\n",
       "    }\n",
       "\n",
       "    .dataframe tbody tr th {\n",
       "        vertical-align: top;\n",
       "    }\n",
       "\n",
       "    .dataframe thead th {\n",
       "        text-align: right;\n",
       "    }\n",
       "</style>\n",
       "<table border=\"1\" class=\"dataframe\">\n",
       "  <thead>\n",
       "    <tr style=\"text-align: right;\">\n",
       "      <th></th>\n",
       "      <th>기간</th>\n",
       "      <th>국가명</th>\n",
       "      <th>수출건수</th>\n",
       "      <th>수출금액</th>\n",
       "      <th>수입건수</th>\n",
       "      <th>수입금액</th>\n",
       "      <th>무역수지</th>\n",
       "    </tr>\n",
       "  </thead>\n",
       "  <tbody>\n",
       "    <tr>\n",
       "      <th>191</th>\n",
       "      <td>2020년 04월</td>\n",
       "      <td>미국</td>\n",
       "      <td>105360.0</td>\n",
       "      <td>5946782.0</td>\n",
       "      <td>1141118.0</td>\n",
       "      <td>5038739.0</td>\n",
       "      <td>908043.0</td>\n",
       "    </tr>\n",
       "  </tbody>\n",
       "</table>\n",
       "</div>"
      ],
      "text/plain": [
       "            기간 국가명      수출건수       수출금액       수입건수       수입금액      무역수지\n",
       "191  2020년 04월  미국  105360.0  5946782.0  1141118.0  5038739.0  908043.0"
      ]
     },
     "execution_count": 26,
     "metadata": {},
     "output_type": "execute_result"
    }
   ],
   "source": [
    "# 차이\n",
    "trade.loc[191, '무역수지'] = trade.loc[191, '수출금액'] - trade.loc[191, '수입금액']\n",
    "trade.loc[[191]]"
   ]
  },
  {
   "cell_type": "code",
   "execution_count": 27,
   "metadata": {},
   "outputs": [
    {
     "data": {
      "text/html": [
       "<div>\n",
       "<style scoped>\n",
       "    .dataframe tbody tr th:only-of-type {\n",
       "        vertical-align: middle;\n",
       "    }\n",
       "\n",
       "    .dataframe tbody tr th {\n",
       "        vertical-align: top;\n",
       "    }\n",
       "\n",
       "    .dataframe thead th {\n",
       "        text-align: right;\n",
       "    }\n",
       "</style>\n",
       "<table border=\"1\" class=\"dataframe\">\n",
       "  <thead>\n",
       "    <tr style=\"text-align: right;\">\n",
       "      <th></th>\n",
       "      <th>기간</th>\n",
       "      <th>국가명</th>\n",
       "      <th>수출건수</th>\n",
       "      <th>수출금액</th>\n",
       "      <th>수입건수</th>\n",
       "      <th>수입금액</th>\n",
       "      <th>무역수지</th>\n",
       "    </tr>\n",
       "  </thead>\n",
       "  <tbody>\n",
       "    <tr>\n",
       "      <th>191</th>\n",
       "      <td>2020년 04월</td>\n",
       "      <td>미국</td>\n",
       "      <td>105360.0</td>\n",
       "      <td>6147915.5</td>\n",
       "      <td>1141118.0</td>\n",
       "      <td>5038739.0</td>\n",
       "      <td>1109176.5</td>\n",
       "    </tr>\n",
       "  </tbody>\n",
       "</table>\n",
       "</div>"
      ],
      "text/plain": [
       "            기간 국가명      수출건수       수출금액       수입건수       수입금액       무역수지\n",
       "191  2020년 04월  미국  105360.0  6147915.5  1141118.0  5038739.0  1109176.5"
      ]
     },
     "execution_count": 27,
     "metadata": {},
     "output_type": "execute_result"
    }
   ],
   "source": [
    "# 위 코드는 수출금액 채우고, 무역수지 채우기\n",
    "# 아래는 무역수지 채우고, 수출금액 채우기\n",
    "trade.loc[191, '무역수지'] = (trade.loc[188, '무역수지'] + trade.loc[194, '무역수지']) / 2\n",
    "trade.loc[191, '수출금액'] = trade.loc[191, '무역수지'] + trade.loc[191, '수입금액']\n",
    "trade.loc[[191]]"
   ]
  },
  {
   "cell_type": "markdown",
   "metadata": {},
   "source": [
    "## 중복 데이터 처리"
   ]
  },
  {
   "cell_type": "markdown",
   "metadata": {},
   "source": [
    "### 중복 데이터 확인"
   ]
  },
  {
   "cell_type": "code",
   "execution_count": 28,
   "metadata": {},
   "outputs": [
    {
     "data": {
      "text/plain": [
       "0      False\n",
       "1      False\n",
       "2      False\n",
       "3      False\n",
       "4      False\n",
       "       ...  \n",
       "191    False\n",
       "192    False\n",
       "193    False\n",
       "194    False\n",
       "195    False\n",
       "Length: 196, dtype: bool"
      ]
     },
     "execution_count": 28,
     "metadata": {},
     "output_type": "execute_result"
    }
   ],
   "source": [
    "trade.duplicated()"
   ]
  },
  {
   "cell_type": "code",
   "execution_count": 31,
   "metadata": {},
   "outputs": [
    {
     "data": {
      "text/html": [
       "<div>\n",
       "<style scoped>\n",
       "    .dataframe tbody tr th:only-of-type {\n",
       "        vertical-align: middle;\n",
       "    }\n",
       "\n",
       "    .dataframe tbody tr th {\n",
       "        vertical-align: top;\n",
       "    }\n",
       "\n",
       "    .dataframe thead th {\n",
       "        text-align: right;\n",
       "    }\n",
       "</style>\n",
       "<table border=\"1\" class=\"dataframe\">\n",
       "  <thead>\n",
       "    <tr style=\"text-align: right;\">\n",
       "      <th></th>\n",
       "      <th>기간</th>\n",
       "      <th>국가명</th>\n",
       "      <th>수출건수</th>\n",
       "      <th>수출금액</th>\n",
       "      <th>수입건수</th>\n",
       "      <th>수입금액</th>\n",
       "      <th>무역수지</th>\n",
       "    </tr>\n",
       "  </thead>\n",
       "  <tbody>\n",
       "    <tr>\n",
       "      <th>187</th>\n",
       "      <td>2020년 03월</td>\n",
       "      <td>중국</td>\n",
       "      <td>248059.0</td>\n",
       "      <td>10658599.0</td>\n",
       "      <td>358234.0</td>\n",
       "      <td>8948918.0</td>\n",
       "      <td>1709682.0</td>\n",
       "    </tr>\n",
       "  </tbody>\n",
       "</table>\n",
       "</div>"
      ],
      "text/plain": [
       "            기간 국가명      수출건수        수출금액      수입건수       수입금액       무역수지\n",
       "187  2020년 03월  중국  248059.0  10658599.0  358234.0  8948918.0  1709682.0"
      ]
     },
     "execution_count": 31,
     "metadata": {},
     "output_type": "execute_result"
    }
   ],
   "source": [
    "trade.loc[trade.duplicated()]"
   ]
  },
  {
   "cell_type": "code",
   "execution_count": 32,
   "metadata": {},
   "outputs": [
    {
     "data": {
      "text/html": [
       "<div>\n",
       "<style scoped>\n",
       "    .dataframe tbody tr th:only-of-type {\n",
       "        vertical-align: middle;\n",
       "    }\n",
       "\n",
       "    .dataframe tbody tr th {\n",
       "        vertical-align: top;\n",
       "    }\n",
       "\n",
       "    .dataframe thead th {\n",
       "        text-align: right;\n",
       "    }\n",
       "</style>\n",
       "<table border=\"1\" class=\"dataframe\">\n",
       "  <thead>\n",
       "    <tr style=\"text-align: right;\">\n",
       "      <th></th>\n",
       "      <th>기간</th>\n",
       "      <th>국가명</th>\n",
       "      <th>수출건수</th>\n",
       "      <th>수출금액</th>\n",
       "      <th>수입건수</th>\n",
       "      <th>수입금액</th>\n",
       "      <th>무역수지</th>\n",
       "    </tr>\n",
       "  </thead>\n",
       "  <tbody>\n",
       "    <tr>\n",
       "      <th>186</th>\n",
       "      <td>2020년 03월</td>\n",
       "      <td>중국</td>\n",
       "      <td>248059.0</td>\n",
       "      <td>10658599.0</td>\n",
       "      <td>358234.0</td>\n",
       "      <td>8948918.0</td>\n",
       "      <td>1709682.0</td>\n",
       "    </tr>\n",
       "    <tr>\n",
       "      <th>187</th>\n",
       "      <td>2020년 03월</td>\n",
       "      <td>중국</td>\n",
       "      <td>248059.0</td>\n",
       "      <td>10658599.0</td>\n",
       "      <td>358234.0</td>\n",
       "      <td>8948918.0</td>\n",
       "      <td>1709682.0</td>\n",
       "    </tr>\n",
       "  </tbody>\n",
       "</table>\n",
       "</div>"
      ],
      "text/plain": [
       "            기간 국가명      수출건수        수출금액      수입건수       수입금액       무역수지\n",
       "186  2020년 03월  중국  248059.0  10658599.0  358234.0  8948918.0  1709682.0\n",
       "187  2020년 03월  중국  248059.0  10658599.0  358234.0  8948918.0  1709682.0"
      ]
     },
     "execution_count": 32,
     "metadata": {},
     "output_type": "execute_result"
    }
   ],
   "source": [
    "trade[(trade['기간']=='2020년 03월')&(trade['국가명']=='중국')]"
   ]
  },
  {
   "cell_type": "markdown",
   "metadata": {},
   "source": [
    "### 중복데이터 제거"
   ]
  },
  {
   "cell_type": "code",
   "execution_count": 39,
   "metadata": {},
   "outputs": [
    {
     "data": {
      "text/html": [
       "<div>\n",
       "<style scoped>\n",
       "    .dataframe tbody tr th:only-of-type {\n",
       "        vertical-align: middle;\n",
       "    }\n",
       "\n",
       "    .dataframe tbody tr th {\n",
       "        vertical-align: top;\n",
       "    }\n",
       "\n",
       "    .dataframe thead th {\n",
       "        text-align: right;\n",
       "    }\n",
       "</style>\n",
       "<table border=\"1\" class=\"dataframe\">\n",
       "  <thead>\n",
       "    <tr style=\"text-align: right;\">\n",
       "      <th></th>\n",
       "      <th>기간</th>\n",
       "      <th>국가명</th>\n",
       "      <th>수출건수</th>\n",
       "      <th>수출금액</th>\n",
       "      <th>수입건수</th>\n",
       "      <th>수입금액</th>\n",
       "      <th>무역수지</th>\n",
       "    </tr>\n",
       "  </thead>\n",
       "  <tbody>\n",
       "    <tr>\n",
       "      <th>0</th>\n",
       "      <td>2015년 01월</td>\n",
       "      <td>중국</td>\n",
       "      <td>116932.0</td>\n",
       "      <td>12083947.0</td>\n",
       "      <td>334522.0</td>\n",
       "      <td>8143271.0</td>\n",
       "      <td>3940676.0</td>\n",
       "    </tr>\n",
       "    <tr>\n",
       "      <th>1</th>\n",
       "      <td>2015년 01월</td>\n",
       "      <td>미국</td>\n",
       "      <td>65888.0</td>\n",
       "      <td>5561545.0</td>\n",
       "      <td>509564.0</td>\n",
       "      <td>3625062.0</td>\n",
       "      <td>1936484.0</td>\n",
       "    </tr>\n",
       "    <tr>\n",
       "      <th>2</th>\n",
       "      <td>2015년 01월</td>\n",
       "      <td>일본</td>\n",
       "      <td>54017.0</td>\n",
       "      <td>2251307.0</td>\n",
       "      <td>82480.0</td>\n",
       "      <td>3827247.0</td>\n",
       "      <td>-1575940.0</td>\n",
       "    </tr>\n",
       "    <tr>\n",
       "      <th>3</th>\n",
       "      <td>2015년 02월</td>\n",
       "      <td>중국</td>\n",
       "      <td>86228.0</td>\n",
       "      <td>9927642.0</td>\n",
       "      <td>209100.0</td>\n",
       "      <td>6980874.0</td>\n",
       "      <td>2946768.0</td>\n",
       "    </tr>\n",
       "    <tr>\n",
       "      <th>4</th>\n",
       "      <td>2015년 02월</td>\n",
       "      <td>미국</td>\n",
       "      <td>60225.0</td>\n",
       "      <td>5021264.0</td>\n",
       "      <td>428678.0</td>\n",
       "      <td>2998216.0</td>\n",
       "      <td>2023048.0</td>\n",
       "    </tr>\n",
       "    <tr>\n",
       "      <th>...</th>\n",
       "      <td>...</td>\n",
       "      <td>...</td>\n",
       "      <td>...</td>\n",
       "      <td>...</td>\n",
       "      <td>...</td>\n",
       "      <td>...</td>\n",
       "      <td>...</td>\n",
       "    </tr>\n",
       "    <tr>\n",
       "      <th>191</th>\n",
       "      <td>2020년 04월</td>\n",
       "      <td>미국</td>\n",
       "      <td>105360.0</td>\n",
       "      <td>6147915.5</td>\n",
       "      <td>1141118.0</td>\n",
       "      <td>5038739.0</td>\n",
       "      <td>1109176.5</td>\n",
       "    </tr>\n",
       "    <tr>\n",
       "      <th>192</th>\n",
       "      <td>2020년 04월</td>\n",
       "      <td>일본</td>\n",
       "      <td>134118.0</td>\n",
       "      <td>1989323.0</td>\n",
       "      <td>141207.0</td>\n",
       "      <td>3989562.0</td>\n",
       "      <td>-2000239.0</td>\n",
       "    </tr>\n",
       "    <tr>\n",
       "      <th>193</th>\n",
       "      <td>2020년 05월</td>\n",
       "      <td>중국</td>\n",
       "      <td>185320.0</td>\n",
       "      <td>10746069.0</td>\n",
       "      <td>349007.0</td>\n",
       "      <td>8989920.0</td>\n",
       "      <td>1756149.0</td>\n",
       "    </tr>\n",
       "    <tr>\n",
       "      <th>194</th>\n",
       "      <td>2020년 05월</td>\n",
       "      <td>미국</td>\n",
       "      <td>126598.0</td>\n",
       "      <td>4600726.0</td>\n",
       "      <td>1157163.0</td>\n",
       "      <td>4286873.0</td>\n",
       "      <td>313853.0</td>\n",
       "    </tr>\n",
       "    <tr>\n",
       "      <th>195</th>\n",
       "      <td>2020년 05월</td>\n",
       "      <td>일본</td>\n",
       "      <td>166568.0</td>\n",
       "      <td>1798128.0</td>\n",
       "      <td>133763.0</td>\n",
       "      <td>3102734.0</td>\n",
       "      <td>-1304606.0</td>\n",
       "    </tr>\n",
       "  </tbody>\n",
       "</table>\n",
       "<p>195 rows × 7 columns</p>\n",
       "</div>"
      ],
      "text/plain": [
       "            기간 국가명      수출건수        수출금액       수입건수       수입금액       무역수지\n",
       "0    2015년 01월  중국  116932.0  12083947.0   334522.0  8143271.0  3940676.0\n",
       "1    2015년 01월  미국   65888.0   5561545.0   509564.0  3625062.0  1936484.0\n",
       "2    2015년 01월  일본   54017.0   2251307.0    82480.0  3827247.0 -1575940.0\n",
       "3    2015년 02월  중국   86228.0   9927642.0   209100.0  6980874.0  2946768.0\n",
       "4    2015년 02월  미국   60225.0   5021264.0   428678.0  2998216.0  2023048.0\n",
       "..         ...  ..       ...         ...        ...        ...        ...\n",
       "191  2020년 04월  미국  105360.0   6147915.5  1141118.0  5038739.0  1109176.5\n",
       "192  2020년 04월  일본  134118.0   1989323.0   141207.0  3989562.0 -2000239.0\n",
       "193  2020년 05월  중국  185320.0  10746069.0   349007.0  8989920.0  1756149.0\n",
       "194  2020년 05월  미국  126598.0   4600726.0  1157163.0  4286873.0   313853.0\n",
       "195  2020년 05월  일본  166568.0   1798128.0   133763.0  3102734.0 -1304606.0\n",
       "\n",
       "[195 rows x 7 columns]"
      ]
     },
     "execution_count": 39,
     "metadata": {},
     "output_type": "execute_result"
    }
   ],
   "source": [
    "trade.drop_duplicates(inplace=True)\n",
    "trade"
   ]
  },
  {
   "cell_type": "code",
   "execution_count": 40,
   "metadata": {},
   "outputs": [
    {
     "data": {
      "text/html": [
       "<div>\n",
       "<style scoped>\n",
       "    .dataframe tbody tr th:only-of-type {\n",
       "        vertical-align: middle;\n",
       "    }\n",
       "\n",
       "    .dataframe tbody tr th {\n",
       "        vertical-align: top;\n",
       "    }\n",
       "\n",
       "    .dataframe thead th {\n",
       "        text-align: right;\n",
       "    }\n",
       "</style>\n",
       "<table border=\"1\" class=\"dataframe\">\n",
       "  <thead>\n",
       "    <tr style=\"text-align: right;\">\n",
       "      <th></th>\n",
       "      <th>id</th>\n",
       "      <th>name</th>\n",
       "    </tr>\n",
       "  </thead>\n",
       "  <tbody>\n",
       "    <tr>\n",
       "      <th>0</th>\n",
       "      <td>001</td>\n",
       "      <td>Park Yun</td>\n",
       "    </tr>\n",
       "    <tr>\n",
       "      <th>1</th>\n",
       "      <td>002</td>\n",
       "      <td>Kim Sung</td>\n",
       "    </tr>\n",
       "    <tr>\n",
       "      <th>2</th>\n",
       "      <td>003</td>\n",
       "      <td>Park Jin</td>\n",
       "    </tr>\n",
       "    <tr>\n",
       "      <th>3</th>\n",
       "      <td>004</td>\n",
       "      <td>Lee Han</td>\n",
       "    </tr>\n",
       "    <tr>\n",
       "      <th>4</th>\n",
       "      <td>002</td>\n",
       "      <td>Kim Min</td>\n",
       "    </tr>\n",
       "  </tbody>\n",
       "</table>\n",
       "</div>"
      ],
      "text/plain": [
       "    id      name\n",
       "0  001  Park Yun\n",
       "1  002  Kim Sung\n",
       "2  003  Park Jin\n",
       "3  004   Lee Han\n",
       "4  002   Kim Min"
      ]
     },
     "execution_count": 40,
     "metadata": {},
     "output_type": "execute_result"
    }
   ],
   "source": [
    "df = pd.DataFrame({'id':['001', '002', '003', '004', '002'], \n",
    "                   'name':['Park Yun', 'Kim Sung', 'Park Jin', 'Lee Han', 'Kim Min']})\n",
    "df"
   ]
  },
  {
   "cell_type": "code",
   "execution_count": 41,
   "metadata": {},
   "outputs": [
    {
     "data": {
      "text/html": [
       "<div>\n",
       "<style scoped>\n",
       "    .dataframe tbody tr th:only-of-type {\n",
       "        vertical-align: middle;\n",
       "    }\n",
       "\n",
       "    .dataframe tbody tr th {\n",
       "        vertical-align: top;\n",
       "    }\n",
       "\n",
       "    .dataframe thead th {\n",
       "        text-align: right;\n",
       "    }\n",
       "</style>\n",
       "<table border=\"1\" class=\"dataframe\">\n",
       "  <thead>\n",
       "    <tr style=\"text-align: right;\">\n",
       "      <th></th>\n",
       "      <th>id</th>\n",
       "      <th>name</th>\n",
       "    </tr>\n",
       "  </thead>\n",
       "  <tbody>\n",
       "    <tr>\n",
       "      <th>0</th>\n",
       "      <td>001</td>\n",
       "      <td>Park Yun</td>\n",
       "    </tr>\n",
       "    <tr>\n",
       "      <th>2</th>\n",
       "      <td>003</td>\n",
       "      <td>Park Jin</td>\n",
       "    </tr>\n",
       "    <tr>\n",
       "      <th>3</th>\n",
       "      <td>004</td>\n",
       "      <td>Lee Han</td>\n",
       "    </tr>\n",
       "    <tr>\n",
       "      <th>4</th>\n",
       "      <td>002</td>\n",
       "      <td>Kim Min</td>\n",
       "    </tr>\n",
       "  </tbody>\n",
       "</table>\n",
       "</div>"
      ],
      "text/plain": [
       "    id      name\n",
       "0  001  Park Yun\n",
       "2  003  Park Jin\n",
       "3  004   Lee Han\n",
       "4  002   Kim Min"
      ]
     },
     "execution_count": 41,
     "metadata": {},
     "output_type": "execute_result"
    }
   ],
   "source": [
    "df.drop_duplicates(subset=['id'], keep='last')"
   ]
  },
  {
   "cell_type": "markdown",
   "metadata": {},
   "source": [
    "- 나중에 들어온 값만 유지"
   ]
  },
  {
   "cell_type": "markdown",
   "metadata": {},
   "source": [
    "## 이상치(Outlier)"
   ]
  },
  {
   "cell_type": "markdown",
   "metadata": {},
   "source": [
    "### z-score method\n",
    "- z score = X - mean / std"
   ]
  },
  {
   "cell_type": "code",
   "execution_count": 43,
   "metadata": {},
   "outputs": [],
   "source": [
    "# z보다 큰 데이터의 index 추출\n",
    "def outlier(df, col, z):\n",
    "    z_score = abs(df[col] - np.mean(df[col])) / np.std(df[col])\n",
    "    return df[z_score > z].index "
   ]
  },
  {
   "cell_type": "code",
   "execution_count": 44,
   "metadata": {},
   "outputs": [
    {
     "data": {
      "text/html": [
       "<div>\n",
       "<style scoped>\n",
       "    .dataframe tbody tr th:only-of-type {\n",
       "        vertical-align: middle;\n",
       "    }\n",
       "\n",
       "    .dataframe tbody tr th {\n",
       "        vertical-align: top;\n",
       "    }\n",
       "\n",
       "    .dataframe thead th {\n",
       "        text-align: right;\n",
       "    }\n",
       "</style>\n",
       "<table border=\"1\" class=\"dataframe\">\n",
       "  <thead>\n",
       "    <tr style=\"text-align: right;\">\n",
       "      <th></th>\n",
       "      <th>기간</th>\n",
       "      <th>국가명</th>\n",
       "      <th>수출건수</th>\n",
       "      <th>수출금액</th>\n",
       "      <th>수입건수</th>\n",
       "      <th>수입금액</th>\n",
       "      <th>무역수지</th>\n",
       "    </tr>\n",
       "  </thead>\n",
       "  <tbody>\n",
       "    <tr>\n",
       "      <th>6</th>\n",
       "      <td>2015년 03월</td>\n",
       "      <td>중국</td>\n",
       "      <td>117529.0</td>\n",
       "      <td>11868032.0</td>\n",
       "      <td>234321.0</td>\n",
       "      <td>7226911.0</td>\n",
       "      <td>4641121.0</td>\n",
       "    </tr>\n",
       "    <tr>\n",
       "      <th>75</th>\n",
       "      <td>2017년 02월</td>\n",
       "      <td>중국</td>\n",
       "      <td>159062.0</td>\n",
       "      <td>11118131.0</td>\n",
       "      <td>188555.0</td>\n",
       "      <td>6600637.0</td>\n",
       "      <td>4517495.0</td>\n",
       "    </tr>\n",
       "    <tr>\n",
       "      <th>80</th>\n",
       "      <td>2017년 03월</td>\n",
       "      <td>일본</td>\n",
       "      <td>65093.0</td>\n",
       "      <td>2395932.0</td>\n",
       "      <td>165734.0</td>\n",
       "      <td>5157589.0</td>\n",
       "      <td>-2761657.0</td>\n",
       "    </tr>\n",
       "    <tr>\n",
       "      <th>96</th>\n",
       "      <td>2017년 09월</td>\n",
       "      <td>중국</td>\n",
       "      <td>183442.0</td>\n",
       "      <td>13540683.0</td>\n",
       "      <td>295443.0</td>\n",
       "      <td>8443414.0</td>\n",
       "      <td>5097269.0</td>\n",
       "    </tr>\n",
       "    <tr>\n",
       "      <th>99</th>\n",
       "      <td>2017년 10월</td>\n",
       "      <td>중국</td>\n",
       "      <td>137873.0</td>\n",
       "      <td>12580474.0</td>\n",
       "      <td>244977.0</td>\n",
       "      <td>7932403.0</td>\n",
       "      <td>4648071.0</td>\n",
       "    </tr>\n",
       "    <tr>\n",
       "      <th>101</th>\n",
       "      <td>2017년 10월</td>\n",
       "      <td>일본</td>\n",
       "      <td>63510.0</td>\n",
       "      <td>1847999.0</td>\n",
       "      <td>127696.0</td>\n",
       "      <td>4418583.0</td>\n",
       "      <td>-2570584.0</td>\n",
       "    </tr>\n",
       "    <tr>\n",
       "      <th>102</th>\n",
       "      <td>2017년 11월</td>\n",
       "      <td>중국</td>\n",
       "      <td>421194.0</td>\n",
       "      <td>14000887.0</td>\n",
       "      <td>307790.0</td>\n",
       "      <td>9253318.0</td>\n",
       "      <td>4747569.0</td>\n",
       "    </tr>\n",
       "    <tr>\n",
       "      <th>105</th>\n",
       "      <td>2017년 12월</td>\n",
       "      <td>중국</td>\n",
       "      <td>218114.0</td>\n",
       "      <td>13848364.0</td>\n",
       "      <td>290347.0</td>\n",
       "      <td>8600132.0</td>\n",
       "      <td>5248232.0</td>\n",
       "    </tr>\n",
       "    <tr>\n",
       "      <th>114</th>\n",
       "      <td>2018년 03월</td>\n",
       "      <td>중국</td>\n",
       "      <td>232396.0</td>\n",
       "      <td>13576667.0</td>\n",
       "      <td>267249.0</td>\n",
       "      <td>8412516.0</td>\n",
       "      <td>5164151.0</td>\n",
       "    </tr>\n",
       "    <tr>\n",
       "      <th>116</th>\n",
       "      <td>2018년 03월</td>\n",
       "      <td>일본</td>\n",
       "      <td>80142.0</td>\n",
       "      <td>2603450.0</td>\n",
       "      <td>159601.0</td>\n",
       "      <td>5226141.0</td>\n",
       "      <td>-2622691.0</td>\n",
       "    </tr>\n",
       "    <tr>\n",
       "      <th>120</th>\n",
       "      <td>2018년 05월</td>\n",
       "      <td>중국</td>\n",
       "      <td>214145.0</td>\n",
       "      <td>13851900.0</td>\n",
       "      <td>307183.0</td>\n",
       "      <td>9279720.0</td>\n",
       "      <td>4572180.0</td>\n",
       "    </tr>\n",
       "    <tr>\n",
       "      <th>123</th>\n",
       "      <td>2018년 06월</td>\n",
       "      <td>중국</td>\n",
       "      <td>257130.0</td>\n",
       "      <td>13814241.0</td>\n",
       "      <td>279023.0</td>\n",
       "      <td>8713018.0</td>\n",
       "      <td>5101223.0</td>\n",
       "    </tr>\n",
       "    <tr>\n",
       "      <th>126</th>\n",
       "      <td>2018년 07월</td>\n",
       "      <td>중국</td>\n",
       "      <td>181772.0</td>\n",
       "      <td>13721233.0</td>\n",
       "      <td>293164.0</td>\n",
       "      <td>8869278.0</td>\n",
       "      <td>4851955.0</td>\n",
       "    </tr>\n",
       "    <tr>\n",
       "      <th>129</th>\n",
       "      <td>2018년 08월</td>\n",
       "      <td>중국</td>\n",
       "      <td>199010.0</td>\n",
       "      <td>14401521.0</td>\n",
       "      <td>280033.0</td>\n",
       "      <td>8525532.0</td>\n",
       "      <td>5875989.0</td>\n",
       "    </tr>\n",
       "    <tr>\n",
       "      <th>132</th>\n",
       "      <td>2018년 09월</td>\n",
       "      <td>중국</td>\n",
       "      <td>171328.0</td>\n",
       "      <td>14590529.0</td>\n",
       "      <td>280337.0</td>\n",
       "      <td>7889890.0</td>\n",
       "      <td>6700639.0</td>\n",
       "    </tr>\n",
       "    <tr>\n",
       "      <th>135</th>\n",
       "      <td>2018년 10월</td>\n",
       "      <td>중국</td>\n",
       "      <td>169809.0</td>\n",
       "      <td>14767041.0</td>\n",
       "      <td>319876.0</td>\n",
       "      <td>9963108.0</td>\n",
       "      <td>4803932.0</td>\n",
       "    </tr>\n",
       "  </tbody>\n",
       "</table>\n",
       "</div>"
      ],
      "text/plain": [
       "            기간 국가명      수출건수        수출금액      수입건수       수입금액       무역수지\n",
       "6    2015년 03월  중국  117529.0  11868032.0  234321.0  7226911.0  4641121.0\n",
       "75   2017년 02월  중국  159062.0  11118131.0  188555.0  6600637.0  4517495.0\n",
       "80   2017년 03월  일본   65093.0   2395932.0  165734.0  5157589.0 -2761657.0\n",
       "96   2017년 09월  중국  183442.0  13540683.0  295443.0  8443414.0  5097269.0\n",
       "99   2017년 10월  중국  137873.0  12580474.0  244977.0  7932403.0  4648071.0\n",
       "101  2017년 10월  일본   63510.0   1847999.0  127696.0  4418583.0 -2570584.0\n",
       "102  2017년 11월  중국  421194.0  14000887.0  307790.0  9253318.0  4747569.0\n",
       "105  2017년 12월  중국  218114.0  13848364.0  290347.0  8600132.0  5248232.0\n",
       "114  2018년 03월  중국  232396.0  13576667.0  267249.0  8412516.0  5164151.0\n",
       "116  2018년 03월  일본   80142.0   2603450.0  159601.0  5226141.0 -2622691.0\n",
       "120  2018년 05월  중국  214145.0  13851900.0  307183.0  9279720.0  4572180.0\n",
       "123  2018년 06월  중국  257130.0  13814241.0  279023.0  8713018.0  5101223.0\n",
       "126  2018년 07월  중국  181772.0  13721233.0  293164.0  8869278.0  4851955.0\n",
       "129  2018년 08월  중국  199010.0  14401521.0  280033.0  8525532.0  5875989.0\n",
       "132  2018년 09월  중국  171328.0  14590529.0  280337.0  7889890.0  6700639.0\n",
       "135  2018년 10월  중국  169809.0  14767041.0  319876.0  9963108.0  4803932.0"
      ]
     },
     "execution_count": 44,
     "metadata": {},
     "output_type": "execute_result"
    }
   ],
   "source": [
    "trade.loc[outlier(trade, '무역수지', 1.5)]"
   ]
  },
  {
   "cell_type": "code",
   "execution_count": 45,
   "metadata": {},
   "outputs": [
    {
     "data": {
      "text/html": [
       "<div>\n",
       "<style scoped>\n",
       "    .dataframe tbody tr th:only-of-type {\n",
       "        vertical-align: middle;\n",
       "    }\n",
       "\n",
       "    .dataframe tbody tr th {\n",
       "        vertical-align: top;\n",
       "    }\n",
       "\n",
       "    .dataframe thead th {\n",
       "        text-align: right;\n",
       "    }\n",
       "</style>\n",
       "<table border=\"1\" class=\"dataframe\">\n",
       "  <thead>\n",
       "    <tr style=\"text-align: right;\">\n",
       "      <th></th>\n",
       "      <th>기간</th>\n",
       "      <th>국가명</th>\n",
       "      <th>수출건수</th>\n",
       "      <th>수출금액</th>\n",
       "      <th>수입건수</th>\n",
       "      <th>수입금액</th>\n",
       "      <th>무역수지</th>\n",
       "    </tr>\n",
       "  </thead>\n",
       "  <tbody>\n",
       "    <tr>\n",
       "      <th>129</th>\n",
       "      <td>2018년 08월</td>\n",
       "      <td>중국</td>\n",
       "      <td>199010.0</td>\n",
       "      <td>14401521.0</td>\n",
       "      <td>280033.0</td>\n",
       "      <td>8525532.0</td>\n",
       "      <td>5875989.0</td>\n",
       "    </tr>\n",
       "    <tr>\n",
       "      <th>132</th>\n",
       "      <td>2018년 09월</td>\n",
       "      <td>중국</td>\n",
       "      <td>171328.0</td>\n",
       "      <td>14590529.0</td>\n",
       "      <td>280337.0</td>\n",
       "      <td>7889890.0</td>\n",
       "      <td>6700639.0</td>\n",
       "    </tr>\n",
       "  </tbody>\n",
       "</table>\n",
       "</div>"
      ],
      "text/plain": [
       "            기간 국가명      수출건수        수출금액      수입건수       수입금액       무역수지\n",
       "129  2018년 08월  중국  199010.0  14401521.0  280033.0  8525532.0  5875989.0\n",
       "132  2018년 09월  중국  171328.0  14590529.0  280337.0  7889890.0  6700639.0"
      ]
     },
     "execution_count": 45,
     "metadata": {},
     "output_type": "execute_result"
    }
   ],
   "source": [
    "trade.loc[outlier(trade, '무역수지', 2)]"
   ]
  },
  {
   "cell_type": "code",
   "execution_count": 46,
   "metadata": {},
   "outputs": [
    {
     "data": {
      "text/html": [
       "<div>\n",
       "<style scoped>\n",
       "    .dataframe tbody tr th:only-of-type {\n",
       "        vertical-align: middle;\n",
       "    }\n",
       "\n",
       "    .dataframe tbody tr th {\n",
       "        vertical-align: top;\n",
       "    }\n",
       "\n",
       "    .dataframe thead th {\n",
       "        text-align: right;\n",
       "    }\n",
       "</style>\n",
       "<table border=\"1\" class=\"dataframe\">\n",
       "  <thead>\n",
       "    <tr style=\"text-align: right;\">\n",
       "      <th></th>\n",
       "      <th>기간</th>\n",
       "      <th>국가명</th>\n",
       "      <th>수출건수</th>\n",
       "      <th>수출금액</th>\n",
       "      <th>수입건수</th>\n",
       "      <th>수입금액</th>\n",
       "      <th>무역수지</th>\n",
       "    </tr>\n",
       "  </thead>\n",
       "  <tbody>\n",
       "  </tbody>\n",
       "</table>\n",
       "</div>"
      ],
      "text/plain": [
       "Empty DataFrame\n",
       "Columns: [기간, 국가명, 수출건수, 수출금액, 수입건수, 수입금액, 무역수지]\n",
       "Index: []"
      ]
     },
     "execution_count": 46,
     "metadata": {},
     "output_type": "execute_result"
    }
   ],
   "source": [
    "trade.loc[outlier(trade, '무역수지', 3)]"
   ]
  },
  {
   "cell_type": "code",
   "execution_count": 49,
   "metadata": {},
   "outputs": [],
   "source": [
    "# 이상치가 아닌 데이터 추출\n",
    "def not_outlier(df, col, z):\n",
    "    return df[abs(df[col] - np.mean(df[col])) / np.std(df[col]) <= z].index"
   ]
  },
  {
   "cell_type": "code",
   "execution_count": 50,
   "metadata": {},
   "outputs": [
    {
     "data": {
      "text/html": [
       "<div>\n",
       "<style scoped>\n",
       "    .dataframe tbody tr th:only-of-type {\n",
       "        vertical-align: middle;\n",
       "    }\n",
       "\n",
       "    .dataframe tbody tr th {\n",
       "        vertical-align: top;\n",
       "    }\n",
       "\n",
       "    .dataframe thead th {\n",
       "        text-align: right;\n",
       "    }\n",
       "</style>\n",
       "<table border=\"1\" class=\"dataframe\">\n",
       "  <thead>\n",
       "    <tr style=\"text-align: right;\">\n",
       "      <th></th>\n",
       "      <th>기간</th>\n",
       "      <th>국가명</th>\n",
       "      <th>수출건수</th>\n",
       "      <th>수출금액</th>\n",
       "      <th>수입건수</th>\n",
       "      <th>수입금액</th>\n",
       "      <th>무역수지</th>\n",
       "    </tr>\n",
       "  </thead>\n",
       "  <tbody>\n",
       "    <tr>\n",
       "      <th>0</th>\n",
       "      <td>2015년 01월</td>\n",
       "      <td>중국</td>\n",
       "      <td>116932.0</td>\n",
       "      <td>12083947.0</td>\n",
       "      <td>334522.0</td>\n",
       "      <td>8143271.0</td>\n",
       "      <td>3940676.0</td>\n",
       "    </tr>\n",
       "    <tr>\n",
       "      <th>1</th>\n",
       "      <td>2015년 01월</td>\n",
       "      <td>미국</td>\n",
       "      <td>65888.0</td>\n",
       "      <td>5561545.0</td>\n",
       "      <td>509564.0</td>\n",
       "      <td>3625062.0</td>\n",
       "      <td>1936484.0</td>\n",
       "    </tr>\n",
       "    <tr>\n",
       "      <th>2</th>\n",
       "      <td>2015년 01월</td>\n",
       "      <td>일본</td>\n",
       "      <td>54017.0</td>\n",
       "      <td>2251307.0</td>\n",
       "      <td>82480.0</td>\n",
       "      <td>3827247.0</td>\n",
       "      <td>-1575940.0</td>\n",
       "    </tr>\n",
       "    <tr>\n",
       "      <th>3</th>\n",
       "      <td>2015년 02월</td>\n",
       "      <td>중국</td>\n",
       "      <td>86228.0</td>\n",
       "      <td>9927642.0</td>\n",
       "      <td>209100.0</td>\n",
       "      <td>6980874.0</td>\n",
       "      <td>2946768.0</td>\n",
       "    </tr>\n",
       "    <tr>\n",
       "      <th>4</th>\n",
       "      <td>2015년 02월</td>\n",
       "      <td>미국</td>\n",
       "      <td>60225.0</td>\n",
       "      <td>5021264.0</td>\n",
       "      <td>428678.0</td>\n",
       "      <td>2998216.0</td>\n",
       "      <td>2023048.0</td>\n",
       "    </tr>\n",
       "    <tr>\n",
       "      <th>...</th>\n",
       "      <td>...</td>\n",
       "      <td>...</td>\n",
       "      <td>...</td>\n",
       "      <td>...</td>\n",
       "      <td>...</td>\n",
       "      <td>...</td>\n",
       "      <td>...</td>\n",
       "    </tr>\n",
       "    <tr>\n",
       "      <th>191</th>\n",
       "      <td>2020년 04월</td>\n",
       "      <td>미국</td>\n",
       "      <td>105360.0</td>\n",
       "      <td>6147915.5</td>\n",
       "      <td>1141118.0</td>\n",
       "      <td>5038739.0</td>\n",
       "      <td>1109176.5</td>\n",
       "    </tr>\n",
       "    <tr>\n",
       "      <th>192</th>\n",
       "      <td>2020년 04월</td>\n",
       "      <td>일본</td>\n",
       "      <td>134118.0</td>\n",
       "      <td>1989323.0</td>\n",
       "      <td>141207.0</td>\n",
       "      <td>3989562.0</td>\n",
       "      <td>-2000239.0</td>\n",
       "    </tr>\n",
       "    <tr>\n",
       "      <th>193</th>\n",
       "      <td>2020년 05월</td>\n",
       "      <td>중국</td>\n",
       "      <td>185320.0</td>\n",
       "      <td>10746069.0</td>\n",
       "      <td>349007.0</td>\n",
       "      <td>8989920.0</td>\n",
       "      <td>1756149.0</td>\n",
       "    </tr>\n",
       "    <tr>\n",
       "      <th>194</th>\n",
       "      <td>2020년 05월</td>\n",
       "      <td>미국</td>\n",
       "      <td>126598.0</td>\n",
       "      <td>4600726.0</td>\n",
       "      <td>1157163.0</td>\n",
       "      <td>4286873.0</td>\n",
       "      <td>313853.0</td>\n",
       "    </tr>\n",
       "    <tr>\n",
       "      <th>195</th>\n",
       "      <td>2020년 05월</td>\n",
       "      <td>일본</td>\n",
       "      <td>166568.0</td>\n",
       "      <td>1798128.0</td>\n",
       "      <td>133763.0</td>\n",
       "      <td>3102734.0</td>\n",
       "      <td>-1304606.0</td>\n",
       "    </tr>\n",
       "  </tbody>\n",
       "</table>\n",
       "<p>179 rows × 7 columns</p>\n",
       "</div>"
      ],
      "text/plain": [
       "            기간 국가명      수출건수        수출금액       수입건수       수입금액       무역수지\n",
       "0    2015년 01월  중국  116932.0  12083947.0   334522.0  8143271.0  3940676.0\n",
       "1    2015년 01월  미국   65888.0   5561545.0   509564.0  3625062.0  1936484.0\n",
       "2    2015년 01월  일본   54017.0   2251307.0    82480.0  3827247.0 -1575940.0\n",
       "3    2015년 02월  중국   86228.0   9927642.0   209100.0  6980874.0  2946768.0\n",
       "4    2015년 02월  미국   60225.0   5021264.0   428678.0  2998216.0  2023048.0\n",
       "..         ...  ..       ...         ...        ...        ...        ...\n",
       "191  2020년 04월  미국  105360.0   6147915.5  1141118.0  5038739.0  1109176.5\n",
       "192  2020년 04월  일본  134118.0   1989323.0   141207.0  3989562.0 -2000239.0\n",
       "193  2020년 05월  중국  185320.0  10746069.0   349007.0  8989920.0  1756149.0\n",
       "194  2020년 05월  미국  126598.0   4600726.0  1157163.0  4286873.0   313853.0\n",
       "195  2020년 05월  일본  166568.0   1798128.0   133763.0  3102734.0 -1304606.0\n",
       "\n",
       "[179 rows x 7 columns]"
      ]
     },
     "execution_count": 50,
     "metadata": {},
     "output_type": "execute_result"
    }
   ],
   "source": [
    "trade.loc[not_outlier(trade, '무역수지', 1.5)]"
   ]
  },
  {
   "cell_type": "markdown",
   "metadata": {},
   "source": [
    "### IQR Method"
   ]
  },
  {
   "cell_type": "markdown",
   "metadata": {},
   "source": [
    "#### example"
   ]
  },
  {
   "cell_type": "code",
   "execution_count": 52,
   "metadata": {},
   "outputs": [
    {
     "data": {
      "text/plain": [
       "array([-1.76884571,  0.07555227, -1.1306297 , -0.65143017, -0.89311563,\n",
       "       -1.27410098, -0.06115443,  0.06451384,  0.41011295, -0.57288249,\n",
       "       -0.80133362,  1.31203519,  1.27469887, -1.2143576 ,  0.31371941,\n",
       "       -1.44482142, -0.3689613 , -0.76922658,  0.3926161 ,  0.05729383,\n",
       "        2.08997884,  0.04197131, -0.04834072, -0.51315392, -0.08458928,\n",
       "       -1.21545008, -1.41293073, -1.48691055,  0.38222486,  0.937673  ,\n",
       "        1.77267804,  0.87882801,  0.33171912, -0.30603567,  1.24026615,\n",
       "       -0.21562684,  0.15592948,  0.09805553,  0.83209585,  2.04520542,\n",
       "       -0.31681392, -1.31283291, -1.75445746,  0.10209408, -1.36150208,\n",
       "        0.48178488, -0.20832874, -0.09186351,  0.70268816,  0.10365506,\n",
       "        0.62123638,  0.95411497,  2.03781352, -0.48445122,  0.2071549 ,\n",
       "        1.64424216, -0.4882074 , -0.01782826,  0.46891556,  0.27987266,\n",
       "       -0.64664972, -0.54406002, -0.16008985,  0.03781172,  1.03383296,\n",
       "       -1.23096117, -1.24673665,  0.29572055,  2.1409624 , -0.92020227,\n",
       "       -0.06000238,  0.27978391, -1.53126966, -0.30293101, -0.14601413,\n",
       "        0.27746159, -0.13952066,  0.69515966, -0.11338746, -1.233267  ,\n",
       "       -0.79614131, -0.46739138,  0.65890607, -0.41063115,  0.17344356,\n",
       "        0.28946174,  1.03451736,  1.22661712,  1.71998252,  0.40806834,\n",
       "        0.32256894,  1.04722748, -1.8196003 , -0.42582157,  0.12454883,\n",
       "        2.31256634, -0.96557586, -0.34627486,  0.96668378, -0.92550192,\n",
       "        8.        , 10.        , -3.        , -5.        ])"
      ]
     },
     "execution_count": 52,
     "metadata": {},
     "output_type": "execute_result"
    }
   ],
   "source": [
    "np.random.seed(2020)\n",
    "data = np.random.randn(100) # 평균 0, 표준편차 1의 분포에서 100개 샘플링\n",
    "data = np.concatenate((data, np.array([8, 10, -3, -5])))  # [8, 10, -3, -5] 추가\n",
    "data"
   ]
  },
  {
   "cell_type": "code",
   "execution_count": 53,
   "metadata": {},
   "outputs": [
    {
     "data": {
      "image/png": "[encoded data removed]",
      "text/plain": [
       "<Figure size 432x288 with 1 Axes>"
      ]
     },
     "metadata": {
      "needs_background": "light"
     },
     "output_type": "display_data"
    }
   ],
   "source": [
    "fig, ax = plt.subplots()\n",
    "ax.boxplot(data)\n",
    "plt.show()"
   ]
  },
  {
   "cell_type": "markdown",
   "metadata": {},
   "source": [
    "- 박스플롯에서 벗어난 지점 존재"
   ]
  },
  {
   "attachments": {
    "image.png": {
     "image/png": "[encoded data removed]"
    }
   },
   "cell_type": "markdown",
   "metadata": {},
   "source": [
    "- IQR = Q_3 - Q_1\n",
    "    - 제 3사분위수와 제 1사분위수를 뺀 값\n",
    "    - 데이터의 중간 50% 범위\n",
    "- 이상치 범위\n",
    "    - Q_1 - 1.5*IQR보다 작거나\n",
    "    - Q_3 + 1.5*IQR보다 큰 경우\n",
    "![image.png](attachment:image.png)"
   ]
  },
  {
   "cell_type": "markdown",
   "metadata": {},
   "source": [
    "#### iQR 구하기"
   ]
  },
  {
   "cell_type": "code",
   "execution_count": 55,
   "metadata": {},
   "outputs": [
    {
     "data": {
      "text/plain": [
       "1.1644925829790964"
      ]
     },
     "execution_count": 55,
     "metadata": {},
     "output_type": "execute_result"
    }
   ],
   "source": [
    "# Q3, Q1 구하기\n",
    "Q3, Q1 = np.percentile(data, [75, 25])\n",
    "IQR = Q3 - Q1\n",
    "IQR"
   ]
  },
  {
   "cell_type": "code",
   "execution_count": 58,
   "metadata": {},
   "outputs": [
    {
     "data": {
      "text/plain": [
       "Int64Index([], dtype='int64')"
      ]
     },
     "execution_count": 58,
     "metadata": {},
     "output_type": "execute_result"
    }
   ],
   "source": [
    "def outlier2(df, col):\n",
    "    # [[YOUR CODE]]\n",
    "    Q3, Q1 = np.percentile(df[col], [75, 25])\n",
    "    IQR = Q3 - Q1\n",
    "    return df[(df[col] < Q1 - IQR * 1.5) | (df[col] > Q3 + IQR * 1.5)].index\n",
    "\n",
    "outlier2(trade, '무역수지')"
   ]
  },
  {
   "cell_type": "code",
   "execution_count": 59,
   "metadata": {},
   "outputs": [],
   "source": [
    "# 예시 코드\n",
    "# def outlier2(df, col):\n",
    "#     q1 = df[col].quantile(0.25)\n",
    "#     q3 = df[col].quantile(0.75)\n",
    "#     iqr = q3 - q1\n",
    "#     return df[(df[col] < q1-1.5*iqr)|(df[col] > q3+1.5*iqr)].index\n",
    "\n",
    "# outlier2(trade, '무역수지')"
   ]
  },
  {
   "cell_type": "markdown",
   "metadata": {},
   "source": [
    "## 정규화"
   ]
  },
  {
   "cell_type": "code",
   "execution_count": 66,
   "metadata": {},
   "outputs": [
    {
     "data": {
      "text/html": [
       "<div>\n",
       "<style scoped>\n",
       "    .dataframe tbody tr th:only-of-type {\n",
       "        vertical-align: middle;\n",
       "    }\n",
       "\n",
       "    .dataframe tbody tr th {\n",
       "        vertical-align: top;\n",
       "    }\n",
       "\n",
       "    .dataframe thead th {\n",
       "        text-align: right;\n",
       "    }\n",
       "</style>\n",
       "<table border=\"1\" class=\"dataframe\">\n",
       "  <thead>\n",
       "    <tr style=\"text-align: right;\">\n",
       "      <th></th>\n",
       "      <th>A</th>\n",
       "      <th>B</th>\n",
       "    </tr>\n",
       "  </thead>\n",
       "  <tbody>\n",
       "    <tr>\n",
       "      <th>0</th>\n",
       "      <td>-3.075383</td>\n",
       "      <td>-0.448552</td>\n",
       "    </tr>\n",
       "    <tr>\n",
       "      <th>1</th>\n",
       "      <td>4.302209</td>\n",
       "      <td>-2.151012</td>\n",
       "    </tr>\n",
       "    <tr>\n",
       "      <th>2</th>\n",
       "      <td>-0.522519</td>\n",
       "      <td>-1.245304</td>\n",
       "    </tr>\n",
       "    <tr>\n",
       "      <th>3</th>\n",
       "      <td>1.394279</td>\n",
       "      <td>-1.169169</td>\n",
       "    </tr>\n",
       "    <tr>\n",
       "      <th>4</th>\n",
       "      <td>0.427537</td>\n",
       "      <td>-0.458080</td>\n",
       "    </tr>\n",
       "    <tr>\n",
       "      <th>...</th>\n",
       "      <td>...</td>\n",
       "      <td>...</td>\n",
       "    </tr>\n",
       "    <tr>\n",
       "      <th>95</th>\n",
       "      <td>13.250265</td>\n",
       "      <td>-0.734271</td>\n",
       "    </tr>\n",
       "    <tr>\n",
       "      <th>96</th>\n",
       "      <td>0.137697</td>\n",
       "      <td>-2.041710</td>\n",
       "    </tr>\n",
       "    <tr>\n",
       "      <th>97</th>\n",
       "      <td>2.614901</td>\n",
       "      <td>-3.057545</td>\n",
       "    </tr>\n",
       "    <tr>\n",
       "      <th>98</th>\n",
       "      <td>7.866735</td>\n",
       "      <td>-2.140529</td>\n",
       "    </tr>\n",
       "    <tr>\n",
       "      <th>99</th>\n",
       "      <td>0.297992</td>\n",
       "      <td>-0.503868</td>\n",
       "    </tr>\n",
       "  </tbody>\n",
       "</table>\n",
       "<p>100 rows × 2 columns</p>\n",
       "</div>"
      ],
      "text/plain": [
       "            A         B\n",
       "0   -3.075383 -0.448552\n",
       "1    4.302209 -2.151012\n",
       "2   -0.522519 -1.245304\n",
       "3    1.394279 -1.169169\n",
       "4    0.427537 -0.458080\n",
       "..        ...       ...\n",
       "95  13.250265 -0.734271\n",
       "96   0.137697 -2.041710\n",
       "97   2.614901 -3.057545\n",
       "98   7.866735 -2.140529\n",
       "99   0.297992 -0.503868\n",
       "\n",
       "[100 rows x 2 columns]"
      ]
     },
     "execution_count": 66,
     "metadata": {},
     "output_type": "execute_result"
    }
   ],
   "source": [
    "# 정규분포 따라 데이터 생성\n",
    "np.random.seed(2020)\n",
    "x = pd.DataFrame({'A': np.random.randn(100) * 4 + 4,\n",
    "                 'B': np.random.randn(100) - 1})\n",
    "x"
   ]
  },
  {
   "cell_type": "markdown",
   "metadata": {},
   "source": [
    "### standardization"
   ]
  },
  {
   "cell_type": "code",
   "execution_count": 67,
   "metadata": {},
   "outputs": [
    {
     "data": {
      "text/html": [
       "<div>\n",
       "<style scoped>\n",
       "    .dataframe tbody tr th:only-of-type {\n",
       "        vertical-align: middle;\n",
       "    }\n",
       "\n",
       "    .dataframe tbody tr th {\n",
       "        vertical-align: top;\n",
       "    }\n",
       "\n",
       "    .dataframe thead th {\n",
       "        text-align: right;\n",
       "    }\n",
       "</style>\n",
       "<table border=\"1\" class=\"dataframe\">\n",
       "  <thead>\n",
       "    <tr style=\"text-align: right;\">\n",
       "      <th></th>\n",
       "      <th>A</th>\n",
       "      <th>B</th>\n",
       "    </tr>\n",
       "  </thead>\n",
       "  <tbody>\n",
       "    <tr>\n",
       "      <th>0</th>\n",
       "      <td>-1.862058</td>\n",
       "      <td>0.559307</td>\n",
       "    </tr>\n",
       "    <tr>\n",
       "      <th>1</th>\n",
       "      <td>0.072383</td>\n",
       "      <td>-1.132240</td>\n",
       "    </tr>\n",
       "    <tr>\n",
       "      <th>2</th>\n",
       "      <td>-1.192684</td>\n",
       "      <td>-0.232338</td>\n",
       "    </tr>\n",
       "    <tr>\n",
       "      <th>3</th>\n",
       "      <td>-0.690090</td>\n",
       "      <td>-0.156691</td>\n",
       "    </tr>\n",
       "    <tr>\n",
       "      <th>4</th>\n",
       "      <td>-0.943575</td>\n",
       "      <td>0.549839</td>\n",
       "    </tr>\n",
       "    <tr>\n",
       "      <th>...</th>\n",
       "      <td>...</td>\n",
       "      <td>...</td>\n",
       "    </tr>\n",
       "    <tr>\n",
       "      <th>95</th>\n",
       "      <td>2.418607</td>\n",
       "      <td>0.275419</td>\n",
       "    </tr>\n",
       "    <tr>\n",
       "      <th>96</th>\n",
       "      <td>-1.019573</td>\n",
       "      <td>-1.023639</td>\n",
       "    </tr>\n",
       "    <tr>\n",
       "      <th>97</th>\n",
       "      <td>-0.370038</td>\n",
       "      <td>-2.032961</td>\n",
       "    </tr>\n",
       "    <tr>\n",
       "      <th>98</th>\n",
       "      <td>1.007019</td>\n",
       "      <td>-1.121824</td>\n",
       "    </tr>\n",
       "    <tr>\n",
       "      <th>99</th>\n",
       "      <td>-0.977542</td>\n",
       "      <td>0.504345</td>\n",
       "    </tr>\n",
       "  </tbody>\n",
       "</table>\n",
       "<p>100 rows × 2 columns</p>\n",
       "</div>"
      ],
      "text/plain": [
       "           A         B\n",
       "0  -1.862058  0.559307\n",
       "1   0.072383 -1.132240\n",
       "2  -1.192684 -0.232338\n",
       "3  -0.690090 -0.156691\n",
       "4  -0.943575  0.549839\n",
       "..       ...       ...\n",
       "95  2.418607  0.275419\n",
       "96 -1.019573 -1.023639\n",
       "97 -0.370038 -2.032961\n",
       "98  1.007019 -1.121824\n",
       "99 -0.977542  0.504345\n",
       "\n",
       "[100 rows x 2 columns]"
      ]
     },
     "execution_count": 67,
     "metadata": {},
     "output_type": "execute_result"
    }
   ],
   "source": [
    "x_standardization = (x-x.mean()) / x.std()\n",
    "x_standardization"
   ]
  },
  {
   "cell_type": "code",
   "execution_count": 68,
   "metadata": {},
   "outputs": [
    {
     "data": {
      "image/png": "[encoded data removed]",
      "text/plain": [
       "<Figure size 864x288 with 2 Axes>"
      ]
     },
     "metadata": {
      "needs_background": "light"
     },
     "output_type": "display_data"
    }
   ],
   "source": [
    "fig, axs = plt.subplots(1, 2, figsize=(12, 4),\n",
    "                       gridspec_kw = {'width_ratios': [2,1]})\n",
    "\n",
    "axs[0].scatter(x['A'], x['B'])\n",
    "axs[0].set_xlim(-5, 15)\n",
    "axs[0].set_ylim(-5, 5)\n",
    "axs[0].axvline(c='grey', lw=1)\n",
    "axs[0].axhline(c='grey', lw=1)\n",
    "axs[0].set_title('Original Data')\n",
    "\n",
    "axs[1].scatter(x_standardization['A'], x_standardization['B'])\n",
    "axs[1].set_xlim(-5, 5)\n",
    "axs[1].set_ylim(-5, 5)\n",
    "axs[1].axvline(c='grey', lw=1)\n",
    "axs[1].axhline(c='grey', lw=1)\n",
    "axs[1].set_title('Data after standardization')\n",
    "\n",
    "plt.show()"
   ]
  },
  {
   "cell_type": "markdown",
   "metadata": {},
   "source": [
    "### min-max scaling method"
   ]
  },
  {
   "cell_type": "code",
   "execution_count": 62,
   "metadata": {},
   "outputs": [
    {
     "data": {
      "text/html": [
       "<div>\n",
       "<style scoped>\n",
       "    .dataframe tbody tr th:only-of-type {\n",
       "        vertical-align: middle;\n",
       "    }\n",
       "\n",
       "    .dataframe tbody tr th {\n",
       "        vertical-align: top;\n",
       "    }\n",
       "\n",
       "    .dataframe thead th {\n",
       "        text-align: right;\n",
       "    }\n",
       "</style>\n",
       "<table border=\"1\" class=\"dataframe\">\n",
       "  <thead>\n",
       "    <tr style=\"text-align: right;\">\n",
       "      <th></th>\n",
       "      <th>A</th>\n",
       "      <th>B</th>\n",
       "    </tr>\n",
       "  </thead>\n",
       "  <tbody>\n",
       "    <tr>\n",
       "      <th>0</th>\n",
       "      <td>0.991655</td>\n",
       "      <td>0.264633</td>\n",
       "    </tr>\n",
       "    <tr>\n",
       "      <th>1</th>\n",
       "      <td>0.876517</td>\n",
       "      <td>0.944519</td>\n",
       "    </tr>\n",
       "    <tr>\n",
       "      <th>2</th>\n",
       "      <td>0.505613</td>\n",
       "      <td>0.290975</td>\n",
       "    </tr>\n",
       "    <tr>\n",
       "      <th>3</th>\n",
       "      <td>0.262954</td>\n",
       "      <td>0.146048</td>\n",
       "    </tr>\n",
       "    <tr>\n",
       "      <th>4</th>\n",
       "      <td>0.329336</td>\n",
       "      <td>0.267911</td>\n",
       "    </tr>\n",
       "    <tr>\n",
       "      <th>...</th>\n",
       "      <td>...</td>\n",
       "      <td>...</td>\n",
       "    </tr>\n",
       "    <tr>\n",
       "      <th>95</th>\n",
       "      <td>0.263941</td>\n",
       "      <td>0.308798</td>\n",
       "    </tr>\n",
       "    <tr>\n",
       "      <th>96</th>\n",
       "      <td>0.936629</td>\n",
       "      <td>0.970186</td>\n",
       "    </tr>\n",
       "    <tr>\n",
       "      <th>97</th>\n",
       "      <td>0.407171</td>\n",
       "      <td>0.811181</td>\n",
       "    </tr>\n",
       "    <tr>\n",
       "      <th>98</th>\n",
       "      <td>0.149579</td>\n",
       "      <td>0.230641</td>\n",
       "    </tr>\n",
       "    <tr>\n",
       "      <th>99</th>\n",
       "      <td>0.463852</td>\n",
       "      <td>0.427662</td>\n",
       "    </tr>\n",
       "  </tbody>\n",
       "</table>\n",
       "<p>100 rows × 2 columns</p>\n",
       "</div>"
      ],
      "text/plain": [
       "           A         B\n",
       "0   0.991655  0.264633\n",
       "1   0.876517  0.944519\n",
       "2   0.505613  0.290975\n",
       "3   0.262954  0.146048\n",
       "4   0.329336  0.267911\n",
       "..       ...       ...\n",
       "95  0.263941  0.308798\n",
       "96  0.936629  0.970186\n",
       "97  0.407171  0.811181\n",
       "98  0.149579  0.230641\n",
       "99  0.463852  0.427662\n",
       "\n",
       "[100 rows x 2 columns]"
      ]
     },
     "execution_count": 62,
     "metadata": {},
     "output_type": "execute_result"
    }
   ],
   "source": [
    "x_min_max = (x-x.min()) / (x.max() - x.min())\n",
    "x_min_max"
   ]
  },
  {
   "cell_type": "code",
   "execution_count": 70,
   "metadata": {},
   "outputs": [
    {
     "data": {
      "image/png": "[encoded data removed]",
      "text/plain": [
       "<Figure size 864x288 with 2 Axes>"
      ]
     },
     "metadata": {
      "needs_background": "light"
     },
     "output_type": "display_data"
    }
   ],
   "source": [
    "fig, axs = plt.subplots(1, 2, figsize=(12, 4),\n",
    "                       gridspec_kw = {'width_ratios': [2, 1]})\n",
    "\n",
    "axs[0].scatter(x['A'], x['B'])\n",
    "axs[0].set_xlim(-5, 15)\n",
    "axs[0].set_ylim(-5, 5)\n",
    "axs[0].axvline(c='grey', lw=1)\n",
    "axs[0].axhline(c='grey', lw=1)\n",
    "axs[0].set_title('Original Data')\n",
    "\n",
    "axs[1].scatter(x_min_max['A'], x_min_max['B'])\n",
    "axs[1].set_xlim(-5, 5)\n",
    "axs[1].set_ylim(-5, 5)\n",
    "axs[1].axvline(c='grey', lw=1)\n",
    "axs[1].axhline(c='grey', lw=1)\n",
    "axs[1].set_title('Data after min-max scaling')\n",
    "\n",
    "plt.show()"
   ]
  },
  {
   "cell_type": "markdown",
   "metadata": {},
   "source": [
    "### trade 데이터에 적용\n",
    "#### 표준화"
   ]
  },
  {
   "cell_type": "code",
   "execution_count": 71,
   "metadata": {},
   "outputs": [
    {
     "data": {
      "text/html": [
       "<div>\n",
       "<style scoped>\n",
       "    .dataframe tbody tr th:only-of-type {\n",
       "        vertical-align: middle;\n",
       "    }\n",
       "\n",
       "    .dataframe tbody tr th {\n",
       "        vertical-align: top;\n",
       "    }\n",
       "\n",
       "    .dataframe thead th {\n",
       "        text-align: right;\n",
       "    }\n",
       "</style>\n",
       "<table border=\"1\" class=\"dataframe\">\n",
       "  <thead>\n",
       "    <tr style=\"text-align: right;\">\n",
       "      <th></th>\n",
       "      <th>수출건수</th>\n",
       "      <th>수출금액</th>\n",
       "      <th>수입건수</th>\n",
       "      <th>수입금액</th>\n",
       "      <th>무역수지</th>\n",
       "    </tr>\n",
       "  </thead>\n",
       "  <tbody>\n",
       "    <tr>\n",
       "      <th>0</th>\n",
       "      <td>-0.007488</td>\n",
       "      <td>1.398717</td>\n",
       "      <td>-0.163593</td>\n",
       "      <td>1.283660</td>\n",
       "      <td>1.255899</td>\n",
       "    </tr>\n",
       "    <tr>\n",
       "      <th>1</th>\n",
       "      <td>-0.689278</td>\n",
       "      <td>-0.253118</td>\n",
       "      <td>0.412529</td>\n",
       "      <td>-0.964444</td>\n",
       "      <td>0.400646</td>\n",
       "    </tr>\n",
       "    <tr>\n",
       "      <th>2</th>\n",
       "      <td>-0.847838</td>\n",
       "      <td>-1.091454</td>\n",
       "      <td>-0.993148</td>\n",
       "      <td>-0.863844</td>\n",
       "      <td>-1.098217</td>\n",
       "    </tr>\n",
       "    <tr>\n",
       "      <th>3</th>\n",
       "      <td>-0.417598</td>\n",
       "      <td>0.852621</td>\n",
       "      <td>-0.576399</td>\n",
       "      <td>0.705292</td>\n",
       "      <td>0.831767</td>\n",
       "    </tr>\n",
       "    <tr>\n",
       "      <th>4</th>\n",
       "      <td>-0.764918</td>\n",
       "      <td>-0.389947</td>\n",
       "      <td>0.146306</td>\n",
       "      <td>-1.276341</td>\n",
       "      <td>0.437586</td>\n",
       "    </tr>\n",
       "  </tbody>\n",
       "</table>\n",
       "</div>"
      ],
      "text/plain": [
       "       수출건수      수출금액      수입건수      수입금액      무역수지\n",
       "0 -0.007488  1.398717 -0.163593  1.283660  1.255899\n",
       "1 -0.689278 -0.253118  0.412529 -0.964444  0.400646\n",
       "2 -0.847838 -1.091454 -0.993148 -0.863844 -1.098217\n",
       "3 -0.417598  0.852621 -0.576399  0.705292  0.831767\n",
       "4 -0.764918 -0.389947  0.146306 -1.276341  0.437586"
      ]
     },
     "execution_count": 71,
     "metadata": {},
     "output_type": "execute_result"
    }
   ],
   "source": [
    "cols = ['수출건수', '수출금액', '수입건수', '수입금액', '무역수지']\n",
    "trade_stand = (trade[cols] - trade[cols].mean()) / trade[cols].std()\n",
    "trade_stand.head()"
   ]
  },
  {
   "cell_type": "code",
   "execution_count": 72,
   "metadata": {},
   "outputs": [
    {
     "data": {
      "text/html": [
       "<div>\n",
       "<style scoped>\n",
       "    .dataframe tbody tr th:only-of-type {\n",
       "        vertical-align: middle;\n",
       "    }\n",
       "\n",
       "    .dataframe tbody tr th {\n",
       "        vertical-align: top;\n",
       "    }\n",
       "\n",
       "    .dataframe thead th {\n",
       "        text-align: right;\n",
       "    }\n",
       "</style>\n",
       "<table border=\"1\" class=\"dataframe\">\n",
       "  <thead>\n",
       "    <tr style=\"text-align: right;\">\n",
       "      <th></th>\n",
       "      <th>수출건수</th>\n",
       "      <th>수출금액</th>\n",
       "      <th>수입건수</th>\n",
       "      <th>수입금액</th>\n",
       "      <th>무역수지</th>\n",
       "    </tr>\n",
       "  </thead>\n",
       "  <tbody>\n",
       "    <tr>\n",
       "      <th>count</th>\n",
       "      <td>1.950000e+02</td>\n",
       "      <td>1.950000e+02</td>\n",
       "      <td>1.950000e+02</td>\n",
       "      <td>1.950000e+02</td>\n",
       "      <td>1.950000e+02</td>\n",
       "    </tr>\n",
       "    <tr>\n",
       "      <th>mean</th>\n",
       "      <td>-1.019128e-16</td>\n",
       "      <td>8.312439e-17</td>\n",
       "      <td>6.091993e-17</td>\n",
       "      <td>-8.312439e-17</td>\n",
       "      <td>2.618988e-17</td>\n",
       "    </tr>\n",
       "    <tr>\n",
       "      <th>std</th>\n",
       "      <td>1.000000e+00</td>\n",
       "      <td>1.000000e+00</td>\n",
       "      <td>1.000000e+00</td>\n",
       "      <td>1.000000e+00</td>\n",
       "      <td>1.000000e+00</td>\n",
       "    </tr>\n",
       "    <tr>\n",
       "      <th>min</th>\n",
       "      <td>-9.194976e-01</td>\n",
       "      <td>-1.232064e+00</td>\n",
       "      <td>-9.984408e-01</td>\n",
       "      <td>-1.276341e+00</td>\n",
       "      <td>-1.604200e+00</td>\n",
       "    </tr>\n",
       "    <tr>\n",
       "      <th>25%</th>\n",
       "      <td>-5.937426e-01</td>\n",
       "      <td>-1.041635e+00</td>\n",
       "      <td>-7.673625e-01</td>\n",
       "      <td>-7.911669e-01</td>\n",
       "      <td>-1.117203e+00</td>\n",
       "    </tr>\n",
       "    <tr>\n",
       "      <th>50%</th>\n",
       "      <td>-4.373265e-01</td>\n",
       "      <td>-1.567366e-01</td>\n",
       "      <td>-3.429346e-01</td>\n",
       "      <td>-4.137392e-01</td>\n",
       "      <td>1.422420e-01</td>\n",
       "    </tr>\n",
       "    <tr>\n",
       "      <th>75%</th>\n",
       "      <td>4.420459e-01</td>\n",
       "      <td>1.036974e+00</td>\n",
       "      <td>3.927781e-01</td>\n",
       "      <td>8.827841e-01</td>\n",
       "      <td>7.457220e-01</td>\n",
       "    </tr>\n",
       "    <tr>\n",
       "      <th>max</th>\n",
       "      <td>5.486317e+00</td>\n",
       "      <td>2.078226e+00</td>\n",
       "      <td>3.239068e+00</td>\n",
       "      <td>2.376092e+00</td>\n",
       "      <td>2.433663e+00</td>\n",
       "    </tr>\n",
       "  </tbody>\n",
       "</table>\n",
       "</div>"
      ],
      "text/plain": [
       "               수출건수          수출금액          수입건수          수입금액          무역수지\n",
       "count  1.950000e+02  1.950000e+02  1.950000e+02  1.950000e+02  1.950000e+02\n",
       "mean  -1.019128e-16  8.312439e-17  6.091993e-17 -8.312439e-17  2.618988e-17\n",
       "std    1.000000e+00  1.000000e+00  1.000000e+00  1.000000e+00  1.000000e+00\n",
       "min   -9.194976e-01 -1.232064e+00 -9.984408e-01 -1.276341e+00 -1.604200e+00\n",
       "25%   -5.937426e-01 -1.041635e+00 -7.673625e-01 -7.911669e-01 -1.117203e+00\n",
       "50%   -4.373265e-01 -1.567366e-01 -3.429346e-01 -4.137392e-01  1.422420e-01\n",
       "75%    4.420459e-01  1.036974e+00  3.927781e-01  8.827841e-01  7.457220e-01\n",
       "max    5.486317e+00  2.078226e+00  3.239068e+00  2.376092e+00  2.433663e+00"
      ]
     },
     "execution_count": 72,
     "metadata": {},
     "output_type": "execute_result"
    }
   ],
   "source": [
    "trade_stand.describe()"
   ]
  },
  {
   "cell_type": "markdown",
   "metadata": {},
   "source": [
    "#### Min-Max Scaling"
   ]
  },
  {
   "cell_type": "code",
   "execution_count": 75,
   "metadata": {},
   "outputs": [
    {
     "data": {
      "text/html": [
       "<div>\n",
       "<style scoped>\n",
       "    .dataframe tbody tr th:only-of-type {\n",
       "        vertical-align: middle;\n",
       "    }\n",
       "\n",
       "    .dataframe tbody tr th {\n",
       "        vertical-align: top;\n",
       "    }\n",
       "\n",
       "    .dataframe thead th {\n",
       "        text-align: right;\n",
       "    }\n",
       "</style>\n",
       "<table border=\"1\" class=\"dataframe\">\n",
       "  <thead>\n",
       "    <tr style=\"text-align: right;\">\n",
       "      <th></th>\n",
       "      <th>기간</th>\n",
       "      <th>국가명</th>\n",
       "      <th>수출건수</th>\n",
       "      <th>수출금액</th>\n",
       "      <th>수입건수</th>\n",
       "      <th>수입금액</th>\n",
       "      <th>무역수지</th>\n",
       "    </tr>\n",
       "  </thead>\n",
       "  <tbody>\n",
       "    <tr>\n",
       "      <th>0</th>\n",
       "      <td>2015년 01월</td>\n",
       "      <td>중국</td>\n",
       "      <td>0.142372</td>\n",
       "      <td>0.794728</td>\n",
       "      <td>0.197014</td>\n",
       "      <td>0.700903</td>\n",
       "      <td>0.708320</td>\n",
       "    </tr>\n",
       "    <tr>\n",
       "      <th>1</th>\n",
       "      <td>2015년 01월</td>\n",
       "      <td>미국</td>\n",
       "      <td>0.035939</td>\n",
       "      <td>0.295728</td>\n",
       "      <td>0.332972</td>\n",
       "      <td>0.085394</td>\n",
       "      <td>0.496512</td>\n",
       "    </tr>\n",
       "    <tr>\n",
       "      <th>2</th>\n",
       "      <td>2015년 01월</td>\n",
       "      <td>일본</td>\n",
       "      <td>0.011187</td>\n",
       "      <td>0.042477</td>\n",
       "      <td>0.001249</td>\n",
       "      <td>0.112938</td>\n",
       "      <td>0.125310</td>\n",
       "    </tr>\n",
       "    <tr>\n",
       "      <th>3</th>\n",
       "      <td>2015년 02월</td>\n",
       "      <td>중국</td>\n",
       "      <td>0.078351</td>\n",
       "      <td>0.629759</td>\n",
       "      <td>0.099597</td>\n",
       "      <td>0.542551</td>\n",
       "      <td>0.603281</td>\n",
       "    </tr>\n",
       "    <tr>\n",
       "      <th>4</th>\n",
       "      <td>2015년 02월</td>\n",
       "      <td>미국</td>\n",
       "      <td>0.024131</td>\n",
       "      <td>0.254394</td>\n",
       "      <td>0.270146</td>\n",
       "      <td>0.000000</td>\n",
       "      <td>0.505660</td>\n",
       "    </tr>\n",
       "  </tbody>\n",
       "</table>\n",
       "</div>"
      ],
      "text/plain": [
       "          기간 국가명      수출건수      수출금액      수입건수      수입금액      무역수지\n",
       "0  2015년 01월  중국  0.142372  0.794728  0.197014  0.700903  0.708320\n",
       "1  2015년 01월  미국  0.035939  0.295728  0.332972  0.085394  0.496512\n",
       "2  2015년 01월  일본  0.011187  0.042477  0.001249  0.112938  0.125310\n",
       "3  2015년 02월  중국  0.078351  0.629759  0.099597  0.542551  0.603281\n",
       "4  2015년 02월  미국  0.024131  0.254394  0.270146  0.000000  0.505660"
      ]
     },
     "execution_count": 75,
     "metadata": {},
     "output_type": "execute_result"
    }
   ],
   "source": [
    "trade[cols] = (trade[cols]-trade[cols].min()) / (trade[cols].max() - trade[cols].min())\n",
    "trade.head()"
   ]
  },
  {
   "cell_type": "code",
   "execution_count": 76,
   "metadata": {},
   "outputs": [
    {
     "data": {
      "text/html": [
       "<div>\n",
       "<style scoped>\n",
       "    .dataframe tbody tr th:only-of-type {\n",
       "        vertical-align: middle;\n",
       "    }\n",
       "\n",
       "    .dataframe tbody tr th {\n",
       "        vertical-align: top;\n",
       "    }\n",
       "\n",
       "    .dataframe thead th {\n",
       "        text-align: right;\n",
       "    }\n",
       "</style>\n",
       "<table border=\"1\" class=\"dataframe\">\n",
       "  <thead>\n",
       "    <tr style=\"text-align: right;\">\n",
       "      <th></th>\n",
       "      <th>수출건수</th>\n",
       "      <th>수출금액</th>\n",
       "      <th>수입건수</th>\n",
       "      <th>수입금액</th>\n",
       "      <th>무역수지</th>\n",
       "    </tr>\n",
       "  </thead>\n",
       "  <tbody>\n",
       "    <tr>\n",
       "      <th>count</th>\n",
       "      <td>195.000000</td>\n",
       "      <td>195.000000</td>\n",
       "      <td>195.000000</td>\n",
       "      <td>195.000000</td>\n",
       "      <td>195.000000</td>\n",
       "    </tr>\n",
       "    <tr>\n",
       "      <th>mean</th>\n",
       "      <td>0.143541</td>\n",
       "      <td>0.372192</td>\n",
       "      <td>0.235620</td>\n",
       "      <td>0.349450</td>\n",
       "      <td>0.397289</td>\n",
       "    </tr>\n",
       "    <tr>\n",
       "      <th>std</th>\n",
       "      <td>0.156108</td>\n",
       "      <td>0.302088</td>\n",
       "      <td>0.235988</td>\n",
       "      <td>0.273790</td>\n",
       "      <td>0.247656</td>\n",
       "    </tr>\n",
       "    <tr>\n",
       "      <th>min</th>\n",
       "      <td>0.000000</td>\n",
       "      <td>0.000000</td>\n",
       "      <td>0.000000</td>\n",
       "      <td>0.000000</td>\n",
       "      <td>0.000000</td>\n",
       "    </tr>\n",
       "    <tr>\n",
       "      <th>25%</th>\n",
       "      <td>0.050853</td>\n",
       "      <td>0.057527</td>\n",
       "      <td>0.054532</td>\n",
       "      <td>0.132836</td>\n",
       "      <td>0.120608</td>\n",
       "    </tr>\n",
       "    <tr>\n",
       "      <th>50%</th>\n",
       "      <td>0.075271</td>\n",
       "      <td>0.324844</td>\n",
       "      <td>0.154691</td>\n",
       "      <td>0.236172</td>\n",
       "      <td>0.432516</td>\n",
       "    </tr>\n",
       "    <tr>\n",
       "      <th>75%</th>\n",
       "      <td>0.212548</td>\n",
       "      <td>0.685450</td>\n",
       "      <td>0.328311</td>\n",
       "      <td>0.591147</td>\n",
       "      <td>0.581972</td>\n",
       "    </tr>\n",
       "    <tr>\n",
       "      <th>max</th>\n",
       "      <td>1.000000</td>\n",
       "      <td>1.000000</td>\n",
       "      <td>1.000000</td>\n",
       "      <td>1.000000</td>\n",
       "      <td>1.000000</td>\n",
       "    </tr>\n",
       "  </tbody>\n",
       "</table>\n",
       "</div>"
      ],
      "text/plain": [
       "             수출건수        수출금액        수입건수        수입금액        무역수지\n",
       "count  195.000000  195.000000  195.000000  195.000000  195.000000\n",
       "mean     0.143541    0.372192    0.235620    0.349450    0.397289\n",
       "std      0.156108    0.302088    0.235988    0.273790    0.247656\n",
       "min      0.000000    0.000000    0.000000    0.000000    0.000000\n",
       "25%      0.050853    0.057527    0.054532    0.132836    0.120608\n",
       "50%      0.075271    0.324844    0.154691    0.236172    0.432516\n",
       "75%      0.212548    0.685450    0.328311    0.591147    0.581972\n",
       "max      1.000000    1.000000    1.000000    1.000000    1.000000"
      ]
     },
     "execution_count": 76,
     "metadata": {},
     "output_type": "execute_result"
    }
   ],
   "source": [
    "trade.describe()"
   ]
  },
  {
   "cell_type": "markdown",
   "metadata": {},
   "source": [
    "#### train, test에도 적용해야 함"
   ]
  },
  {
   "cell_type": "code",
   "execution_count": 77,
   "metadata": {},
   "outputs": [
    {
     "name": "stdout",
     "output_type": "stream",
     "text": [
      "👽 It's okay, no biggie.\n"
     ]
    }
   ],
   "source": [
    "train = pd.DataFrame([[10, -10], [30, 10], [50, 0]])\n",
    "test = pd.DataFrame([[0, 1], [10, 10]])\n",
    "print(\"👽 It's okay, no biggie.\")"
   ]
  },
  {
   "cell_type": "code",
   "execution_count": 78,
   "metadata": {},
   "outputs": [
    {
     "name": "stdout",
     "output_type": "stream",
     "text": [
      "💫 It's okay, no biggie...\n"
     ]
    }
   ],
   "source": [
    "train_min = train.min()\n",
    "train_max = train.max()\n",
    "\n",
    "train_min_max = (train - train_min)/(train_max - train_min)\n",
    "test_min_max =  (test - train_min)/(train_max - train_min)    # test를 min-max scaling할 때도 train 정규화 기준으로 수행\n",
    "print(\"💫 It's okay, no biggie...\")"
   ]
  },
  {
   "cell_type": "code",
   "execution_count": 79,
   "metadata": {},
   "outputs": [
    {
     "data": {
      "text/html": [
       "<div>\n",
       "<style scoped>\n",
       "    .dataframe tbody tr th:only-of-type {\n",
       "        vertical-align: middle;\n",
       "    }\n",
       "\n",
       "    .dataframe tbody tr th {\n",
       "        vertical-align: top;\n",
       "    }\n",
       "\n",
       "    .dataframe thead th {\n",
       "        text-align: right;\n",
       "    }\n",
       "</style>\n",
       "<table border=\"1\" class=\"dataframe\">\n",
       "  <thead>\n",
       "    <tr style=\"text-align: right;\">\n",
       "      <th></th>\n",
       "      <th>0</th>\n",
       "      <th>1</th>\n",
       "    </tr>\n",
       "  </thead>\n",
       "  <tbody>\n",
       "    <tr>\n",
       "      <th>0</th>\n",
       "      <td>0.0</td>\n",
       "      <td>0.0</td>\n",
       "    </tr>\n",
       "    <tr>\n",
       "      <th>1</th>\n",
       "      <td>0.5</td>\n",
       "      <td>1.0</td>\n",
       "    </tr>\n",
       "    <tr>\n",
       "      <th>2</th>\n",
       "      <td>1.0</td>\n",
       "      <td>0.5</td>\n",
       "    </tr>\n",
       "  </tbody>\n",
       "</table>\n",
       "</div>"
      ],
      "text/plain": [
       "     0    1\n",
       "0  0.0  0.0\n",
       "1  0.5  1.0\n",
       "2  1.0  0.5"
      ]
     },
     "execution_count": 79,
     "metadata": {},
     "output_type": "execute_result"
    }
   ],
   "source": [
    "train_min_max"
   ]
  },
  {
   "cell_type": "code",
   "execution_count": 80,
   "metadata": {},
   "outputs": [
    {
     "data": {
      "text/html": [
       "<div>\n",
       "<style scoped>\n",
       "    .dataframe tbody tr th:only-of-type {\n",
       "        vertical-align: middle;\n",
       "    }\n",
       "\n",
       "    .dataframe tbody tr th {\n",
       "        vertical-align: top;\n",
       "    }\n",
       "\n",
       "    .dataframe thead th {\n",
       "        text-align: right;\n",
       "    }\n",
       "</style>\n",
       "<table border=\"1\" class=\"dataframe\">\n",
       "  <thead>\n",
       "    <tr style=\"text-align: right;\">\n",
       "      <th></th>\n",
       "      <th>0</th>\n",
       "      <th>1</th>\n",
       "    </tr>\n",
       "  </thead>\n",
       "  <tbody>\n",
       "    <tr>\n",
       "      <th>0</th>\n",
       "      <td>-0.25</td>\n",
       "      <td>0.55</td>\n",
       "    </tr>\n",
       "    <tr>\n",
       "      <th>1</th>\n",
       "      <td>0.00</td>\n",
       "      <td>1.00</td>\n",
       "    </tr>\n",
       "  </tbody>\n",
       "</table>\n",
       "</div>"
      ],
      "text/plain": [
       "      0     1\n",
       "0 -0.25  0.55\n",
       "1  0.00  1.00"
      ]
     },
     "execution_count": 80,
     "metadata": {},
     "output_type": "execute_result"
    }
   ],
   "source": [
    "test_min_max"
   ]
  },
  {
   "cell_type": "markdown",
   "metadata": {},
   "source": [
    "#### sklearn의 standardscaler, minmaxscaler 사용"
   ]
  },
  {
   "cell_type": "code",
   "execution_count": 81,
   "metadata": {},
   "outputs": [],
   "source": [
    "from sklearn.preprocessing import MinMaxScaler\n",
    "train = pd.DataFrame([[10, -10], [30, 10], [50, 0]])\n",
    "test = pd.DataFrame([[0, 1]])\n",
    "scaler = MinMaxScaler()"
   ]
  },
  {
   "cell_type": "code",
   "execution_count": 82,
   "metadata": {},
   "outputs": [
    {
     "data": {
      "text/plain": [
       "array([[0. , 0. ],\n",
       "       [0.5, 1. ],\n",
       "       [1. , 0.5]])"
      ]
     },
     "execution_count": 82,
     "metadata": {},
     "output_type": "execute_result"
    }
   ],
   "source": [
    "scaler.fit_transform(train)"
   ]
  },
  {
   "cell_type": "code",
   "execution_count": 83,
   "metadata": {},
   "outputs": [
    {
     "data": {
      "text/plain": [
       "array([[-0.25,  0.55]])"
      ]
     },
     "execution_count": 83,
     "metadata": {},
     "output_type": "execute_result"
    }
   ],
   "source": [
    "scaler.transform(test)"
   ]
  },
  {
   "cell_type": "markdown",
   "metadata": {},
   "source": [
    "## 원-핫 인코딩(One-Hot Encoding)"
   ]
  },
  {
   "cell_type": "code",
   "execution_count": 87,
   "metadata": {},
   "outputs": [
    {
     "name": "stdout",
     "output_type": "stream",
     "text": [
      "0    중국\n",
      "1    미국\n",
      "2    일본\n",
      "3    중국\n",
      "4    미국\n",
      "Name: 국가명, dtype: object\n"
     ]
    },
    {
     "data": {
      "text/html": [
       "<div>\n",
       "<style scoped>\n",
       "    .dataframe tbody tr th:only-of-type {\n",
       "        vertical-align: middle;\n",
       "    }\n",
       "\n",
       "    .dataframe tbody tr th {\n",
       "        vertical-align: top;\n",
       "    }\n",
       "\n",
       "    .dataframe thead th {\n",
       "        text-align: right;\n",
       "    }\n",
       "</style>\n",
       "<table border=\"1\" class=\"dataframe\">\n",
       "  <thead>\n",
       "    <tr style=\"text-align: right;\">\n",
       "      <th></th>\n",
       "      <th>미국</th>\n",
       "      <th>일본</th>\n",
       "      <th>중국</th>\n",
       "    </tr>\n",
       "  </thead>\n",
       "  <tbody>\n",
       "    <tr>\n",
       "      <th>0</th>\n",
       "      <td>0</td>\n",
       "      <td>0</td>\n",
       "      <td>1</td>\n",
       "    </tr>\n",
       "    <tr>\n",
       "      <th>1</th>\n",
       "      <td>1</td>\n",
       "      <td>0</td>\n",
       "      <td>0</td>\n",
       "    </tr>\n",
       "    <tr>\n",
       "      <th>2</th>\n",
       "      <td>0</td>\n",
       "      <td>1</td>\n",
       "      <td>0</td>\n",
       "    </tr>\n",
       "    <tr>\n",
       "      <th>3</th>\n",
       "      <td>0</td>\n",
       "      <td>0</td>\n",
       "      <td>1</td>\n",
       "    </tr>\n",
       "    <tr>\n",
       "      <th>4</th>\n",
       "      <td>1</td>\n",
       "      <td>0</td>\n",
       "      <td>0</td>\n",
       "    </tr>\n",
       "    <tr>\n",
       "      <th>...</th>\n",
       "      <td>...</td>\n",
       "      <td>...</td>\n",
       "      <td>...</td>\n",
       "    </tr>\n",
       "    <tr>\n",
       "      <th>191</th>\n",
       "      <td>1</td>\n",
       "      <td>0</td>\n",
       "      <td>0</td>\n",
       "    </tr>\n",
       "    <tr>\n",
       "      <th>192</th>\n",
       "      <td>0</td>\n",
       "      <td>1</td>\n",
       "      <td>0</td>\n",
       "    </tr>\n",
       "    <tr>\n",
       "      <th>193</th>\n",
       "      <td>0</td>\n",
       "      <td>0</td>\n",
       "      <td>1</td>\n",
       "    </tr>\n",
       "    <tr>\n",
       "      <th>194</th>\n",
       "      <td>1</td>\n",
       "      <td>0</td>\n",
       "      <td>0</td>\n",
       "    </tr>\n",
       "    <tr>\n",
       "      <th>195</th>\n",
       "      <td>0</td>\n",
       "      <td>1</td>\n",
       "      <td>0</td>\n",
       "    </tr>\n",
       "  </tbody>\n",
       "</table>\n",
       "<p>195 rows × 3 columns</p>\n",
       "</div>"
      ],
      "text/plain": [
       "     미국  일본  중국\n",
       "0     0   0   1\n",
       "1     1   0   0\n",
       "2     0   1   0\n",
       "3     0   0   1\n",
       "4     1   0   0\n",
       "..   ..  ..  ..\n",
       "191   1   0   0\n",
       "192   0   1   0\n",
       "193   0   0   1\n",
       "194   1   0   0\n",
       "195   0   1   0\n",
       "\n",
       "[195 rows x 3 columns]"
      ]
     },
     "execution_count": 87,
     "metadata": {},
     "output_type": "execute_result"
    }
   ],
   "source": [
    "print(trade['국가명'].head())\n",
    "\n",
    "country = pd.get_dummies(trade['국가명'])\n",
    "country"
   ]
  },
  {
   "cell_type": "code",
   "execution_count": 88,
   "metadata": {},
   "outputs": [
    {
     "data": {
      "text/html": [
       "<div>\n",
       "<style scoped>\n",
       "    .dataframe tbody tr th:only-of-type {\n",
       "        vertical-align: middle;\n",
       "    }\n",
       "\n",
       "    .dataframe tbody tr th {\n",
       "        vertical-align: top;\n",
       "    }\n",
       "\n",
       "    .dataframe thead th {\n",
       "        text-align: right;\n",
       "    }\n",
       "</style>\n",
       "<table border=\"1\" class=\"dataframe\">\n",
       "  <thead>\n",
       "    <tr style=\"text-align: right;\">\n",
       "      <th></th>\n",
       "      <th>기간</th>\n",
       "      <th>국가명</th>\n",
       "      <th>수출건수</th>\n",
       "      <th>수출금액</th>\n",
       "      <th>수입건수</th>\n",
       "      <th>수입금액</th>\n",
       "      <th>무역수지</th>\n",
       "      <th>미국</th>\n",
       "      <th>일본</th>\n",
       "      <th>중국</th>\n",
       "    </tr>\n",
       "  </thead>\n",
       "  <tbody>\n",
       "    <tr>\n",
       "      <th>0</th>\n",
       "      <td>2015년 01월</td>\n",
       "      <td>중국</td>\n",
       "      <td>0.142372</td>\n",
       "      <td>0.794728</td>\n",
       "      <td>0.197014</td>\n",
       "      <td>0.700903</td>\n",
       "      <td>0.708320</td>\n",
       "      <td>0</td>\n",
       "      <td>0</td>\n",
       "      <td>1</td>\n",
       "    </tr>\n",
       "    <tr>\n",
       "      <th>1</th>\n",
       "      <td>2015년 01월</td>\n",
       "      <td>미국</td>\n",
       "      <td>0.035939</td>\n",
       "      <td>0.295728</td>\n",
       "      <td>0.332972</td>\n",
       "      <td>0.085394</td>\n",
       "      <td>0.496512</td>\n",
       "      <td>1</td>\n",
       "      <td>0</td>\n",
       "      <td>0</td>\n",
       "    </tr>\n",
       "    <tr>\n",
       "      <th>2</th>\n",
       "      <td>2015년 01월</td>\n",
       "      <td>일본</td>\n",
       "      <td>0.011187</td>\n",
       "      <td>0.042477</td>\n",
       "      <td>0.001249</td>\n",
       "      <td>0.112938</td>\n",
       "      <td>0.125310</td>\n",
       "      <td>0</td>\n",
       "      <td>1</td>\n",
       "      <td>0</td>\n",
       "    </tr>\n",
       "    <tr>\n",
       "      <th>3</th>\n",
       "      <td>2015년 02월</td>\n",
       "      <td>중국</td>\n",
       "      <td>0.078351</td>\n",
       "      <td>0.629759</td>\n",
       "      <td>0.099597</td>\n",
       "      <td>0.542551</td>\n",
       "      <td>0.603281</td>\n",
       "      <td>0</td>\n",
       "      <td>0</td>\n",
       "      <td>1</td>\n",
       "    </tr>\n",
       "    <tr>\n",
       "      <th>4</th>\n",
       "      <td>2015년 02월</td>\n",
       "      <td>미국</td>\n",
       "      <td>0.024131</td>\n",
       "      <td>0.254394</td>\n",
       "      <td>0.270146</td>\n",
       "      <td>0.000000</td>\n",
       "      <td>0.505660</td>\n",
       "      <td>1</td>\n",
       "      <td>0</td>\n",
       "      <td>0</td>\n",
       "    </tr>\n",
       "  </tbody>\n",
       "</table>\n",
       "</div>"
      ],
      "text/plain": [
       "          기간 국가명      수출건수      수출금액      수입건수      수입금액      무역수지  미국  일본  중국\n",
       "0  2015년 01월  중국  0.142372  0.794728  0.197014  0.700903  0.708320   0   0   1\n",
       "1  2015년 01월  미국  0.035939  0.295728  0.332972  0.085394  0.496512   1   0   0\n",
       "2  2015년 01월  일본  0.011187  0.042477  0.001249  0.112938  0.125310   0   1   0\n",
       "3  2015년 02월  중국  0.078351  0.629759  0.099597  0.542551  0.603281   0   0   1\n",
       "4  2015년 02월  미국  0.024131  0.254394  0.270146  0.000000  0.505660   1   0   0"
      ]
     },
     "execution_count": 88,
     "metadata": {},
     "output_type": "execute_result"
    }
   ],
   "source": [
    "trade = pd.concat([trade, country], axis=1)\n",
    "trade.head()"
   ]
  },
  {
   "cell_type": "code",
   "execution_count": 89,
   "metadata": {},
   "outputs": [
    {
     "data": {
      "text/html": [
       "<div>\n",
       "<style scoped>\n",
       "    .dataframe tbody tr th:only-of-type {\n",
       "        vertical-align: middle;\n",
       "    }\n",
       "\n",
       "    .dataframe tbody tr th {\n",
       "        vertical-align: top;\n",
       "    }\n",
       "\n",
       "    .dataframe thead th {\n",
       "        text-align: right;\n",
       "    }\n",
       "</style>\n",
       "<table border=\"1\" class=\"dataframe\">\n",
       "  <thead>\n",
       "    <tr style=\"text-align: right;\">\n",
       "      <th></th>\n",
       "      <th>기간</th>\n",
       "      <th>수출건수</th>\n",
       "      <th>수출금액</th>\n",
       "      <th>수입건수</th>\n",
       "      <th>수입금액</th>\n",
       "      <th>무역수지</th>\n",
       "      <th>미국</th>\n",
       "      <th>일본</th>\n",
       "      <th>중국</th>\n",
       "    </tr>\n",
       "  </thead>\n",
       "  <tbody>\n",
       "    <tr>\n",
       "      <th>0</th>\n",
       "      <td>2015년 01월</td>\n",
       "      <td>0.142372</td>\n",
       "      <td>0.794728</td>\n",
       "      <td>0.197014</td>\n",
       "      <td>0.700903</td>\n",
       "      <td>0.708320</td>\n",
       "      <td>0</td>\n",
       "      <td>0</td>\n",
       "      <td>1</td>\n",
       "    </tr>\n",
       "    <tr>\n",
       "      <th>1</th>\n",
       "      <td>2015년 01월</td>\n",
       "      <td>0.035939</td>\n",
       "      <td>0.295728</td>\n",
       "      <td>0.332972</td>\n",
       "      <td>0.085394</td>\n",
       "      <td>0.496512</td>\n",
       "      <td>1</td>\n",
       "      <td>0</td>\n",
       "      <td>0</td>\n",
       "    </tr>\n",
       "    <tr>\n",
       "      <th>2</th>\n",
       "      <td>2015년 01월</td>\n",
       "      <td>0.011187</td>\n",
       "      <td>0.042477</td>\n",
       "      <td>0.001249</td>\n",
       "      <td>0.112938</td>\n",
       "      <td>0.125310</td>\n",
       "      <td>0</td>\n",
       "      <td>1</td>\n",
       "      <td>0</td>\n",
       "    </tr>\n",
       "    <tr>\n",
       "      <th>3</th>\n",
       "      <td>2015년 02월</td>\n",
       "      <td>0.078351</td>\n",
       "      <td>0.629759</td>\n",
       "      <td>0.099597</td>\n",
       "      <td>0.542551</td>\n",
       "      <td>0.603281</td>\n",
       "      <td>0</td>\n",
       "      <td>0</td>\n",
       "      <td>1</td>\n",
       "    </tr>\n",
       "    <tr>\n",
       "      <th>4</th>\n",
       "      <td>2015년 02월</td>\n",
       "      <td>0.024131</td>\n",
       "      <td>0.254394</td>\n",
       "      <td>0.270146</td>\n",
       "      <td>0.000000</td>\n",
       "      <td>0.505660</td>\n",
       "      <td>1</td>\n",
       "      <td>0</td>\n",
       "      <td>0</td>\n",
       "    </tr>\n",
       "  </tbody>\n",
       "</table>\n",
       "</div>"
      ],
      "text/plain": [
       "          기간      수출건수      수출금액      수입건수      수입금액      무역수지  미국  일본  중국\n",
       "0  2015년 01월  0.142372  0.794728  0.197014  0.700903  0.708320   0   0   1\n",
       "1  2015년 01월  0.035939  0.295728  0.332972  0.085394  0.496512   1   0   0\n",
       "2  2015년 01월  0.011187  0.042477  0.001249  0.112938  0.125310   0   1   0\n",
       "3  2015년 02월  0.078351  0.629759  0.099597  0.542551  0.603281   0   0   1\n",
       "4  2015년 02월  0.024131  0.254394  0.270146  0.000000  0.505660   1   0   0"
      ]
     },
     "execution_count": 89,
     "metadata": {},
     "output_type": "execute_result"
    }
   ],
   "source": [
    "# 국가 컬럼 삭제\n",
    "trade.drop(['국가명'], axis=1, inplace=True)\n",
    "trade.head()"
   ]
  },
  {
   "cell_type": "markdown",
   "metadata": {},
   "source": [
    "## Binning (구간화)\n",
    "- 데이터를 구간별로 나누는 것\n",
    "- binning or bucketing"
   ]
  },
  {
   "cell_type": "code",
   "execution_count": 91,
   "metadata": {},
   "outputs": [
    {
     "name": "stdout",
     "output_type": "stream",
     "text": [
      "👽 Almost there..\n"
     ]
    }
   ],
   "source": [
    "salary = pd.Series([4300, 8370, 1750, 3830, 1840, 4220, 3020, 2290, 4740, 4600, \n",
    "                    2860, 3400, 4800, 4470, 2440, 4530, 4850, 4850, 4760, 4500, \n",
    "                    4640, 3000, 1880, 4880, 2240, 4750, 2750, 2810, 3100, 4290, \n",
    "                    1540, 2870, 1780, 4670, 4150, 2010, 3580, 1610, 2930, 4300, \n",
    "                    2740, 1680, 3490, 4350, 1680, 6420, 8740, 8980, 9080, 3990, \n",
    "                    4960, 3700, 9600, 9330, 5600, 4100, 1770, 8280, 3120, 1950, \n",
    "                    4210, 2020, 3820, 3170, 6330, 2570, 6940, 8610, 5060, 6370,\n",
    "                    9080, 3760, 8060, 2500, 4660, 1770, 9220, 3380, 2490, 3450, \n",
    "                    1960, 7210, 5810, 9450, 8910, 3470, 7350, 8410, 7520, 9610, \n",
    "                    5150, 2630, 5610, 2750, 7050, 3350, 9450, 7140, 4170, 3090])\n",
    "print(\"👽 Almost there..\")"
   ]
  },
  {
   "cell_type": "code",
   "execution_count": 93,
   "metadata": {},
   "outputs": [
    {
     "data": {
      "text/plain": [
       "<matplotlib.axes._subplots.AxesSubplot at 0x7f972a2ff210>"
      ]
     },
     "execution_count": 93,
     "metadata": {},
     "output_type": "execute_result"
    },
    {
     "data": {
      "image/png": "[encoded data removed]",
      "text/plain": [
       "<Figure size 432x288 with 1 Axes>"
      ]
     },
     "metadata": {
      "needs_background": "light"
     },
     "output_type": "display_data"
    }
   ],
   "source": [
    "# binning은 아래 히스토그램과 같이 연속적인 데이터를 구간 별로 나눠 분석할 때 사용\n",
    "salary.hist()"
   ]
  },
  {
   "cell_type": "code",
   "execution_count": 94,
   "metadata": {},
   "outputs": [],
   "source": [
    "bins = [0, 2000, 4000, 6000, 8000, 10000]"
   ]
  },
  {
   "cell_type": "markdown",
   "metadata": {},
   "source": [
    "- cut, qcut으로 수치형 -> 범주형으로 변형"
   ]
  },
  {
   "cell_type": "code",
   "execution_count": 97,
   "metadata": {},
   "outputs": [
    {
     "data": {
      "text/plain": [
       "0      (4000, 6000]\n",
       "1     (8000, 10000]\n",
       "2         (0, 2000]\n",
       "3      (2000, 4000]\n",
       "4         (0, 2000]\n",
       "          ...      \n",
       "95     (2000, 4000]\n",
       "96    (8000, 10000]\n",
       "97     (6000, 8000]\n",
       "98     (4000, 6000]\n",
       "99     (2000, 4000]\n",
       "Length: 100, dtype: category\n",
       "Categories (5, interval[int64]): [(0, 2000] < (2000, 4000] < (4000, 6000] < (6000, 8000] < (8000, 10000]]"
      ]
     },
     "execution_count": 97,
     "metadata": {},
     "output_type": "execute_result"
    }
   ],
   "source": [
    "# 구간의 범위를 지정\n",
    "ctg = pd.cut(salary, bins=bins)\n",
    "ctg"
   ]
  },
  {
   "cell_type": "code",
   "execution_count": 100,
   "metadata": {},
   "outputs": [
    {
     "name": "stdout",
     "output_type": "stream",
     "text": [
      "salary[0] :  4300\n",
      "salary[0]가 속한 category :  (4000, 6000]\n"
     ]
    }
   ],
   "source": [
    "print('salary[0] : ', salary[0])\n",
    "print('salary[0]가 속한 category : ',ctg[0])"
   ]
  },
  {
   "cell_type": "code",
   "execution_count": 101,
   "metadata": {},
   "outputs": [
    {
     "data": {
      "text/plain": [
       "(0, 2000]        12\n",
       "(2000, 4000]     34\n",
       "(4000, 6000]     29\n",
       "(6000, 8000]      9\n",
       "(8000, 10000]    16\n",
       "dtype: int64"
      ]
     },
     "execution_count": 101,
     "metadata": {},
     "output_type": "execute_result"
    }
   ],
   "source": [
    "ctg.value_counts().sort_index()"
   ]
  },
  {
   "cell_type": "code",
   "execution_count": 103,
   "metadata": {},
   "outputs": [
    {
     "data": {
      "text/plain": [
       "0      (4230.0, 5575.0]\n",
       "1      (8265.0, 9610.0]\n",
       "2     (1531.93, 2885.0]\n",
       "3      (2885.0, 4230.0]\n",
       "4     (1531.93, 2885.0]\n",
       "            ...        \n",
       "95     (2885.0, 4230.0]\n",
       "96     (8265.0, 9610.0]\n",
       "97     (6920.0, 8265.0]\n",
       "98     (2885.0, 4230.0]\n",
       "99     (2885.0, 4230.0]\n",
       "Length: 100, dtype: category\n",
       "Categories (6, interval[float64]): [(1531.93, 2885.0] < (2885.0, 4230.0] < (4230.0, 5575.0] < (5575.0, 6920.0] < (6920.0, 8265.0] < (8265.0, 9610.0]]"
      ]
     },
     "execution_count": 103,
     "metadata": {},
     "output_type": "execute_result"
    }
   ],
   "source": [
    "# 구간의 개수를 지정\n",
    "ctg = pd.cut(salary, bins=6)\n",
    "ctg"
   ]
  },
  {
   "cell_type": "code",
   "execution_count": 104,
   "metadata": {},
   "outputs": [
    {
     "data": {
      "text/plain": [
       "(1531.93, 2885.0]    27\n",
       "(2885.0, 4230.0]     24\n",
       "(4230.0, 5575.0]     21\n",
       "(5575.0, 6920.0]      6\n",
       "(6920.0, 8265.0]      7\n",
       "(8265.0, 9610.0]     15\n",
       "dtype: int64"
      ]
     },
     "execution_count": 104,
     "metadata": {},
     "output_type": "execute_result"
    }
   ],
   "source": [
    "ctg.value_counts().sort_index()"
   ]
  },
  {
   "cell_type": "code",
   "execution_count": 107,
   "metadata": {},
   "outputs": [
    {
     "data": {
      "text/plain": [
       "0       (3544.0, 4648.0]\n",
       "1       (7068.0, 9610.0]\n",
       "2     (1539.999, 2618.0]\n",
       "3       (3544.0, 4648.0]\n",
       "4     (1539.999, 2618.0]\n",
       "             ...        \n",
       "95      (2618.0, 3544.0]\n",
       "96      (7068.0, 9610.0]\n",
       "97      (7068.0, 9610.0]\n",
       "98      (3544.0, 4648.0]\n",
       "99      (2618.0, 3544.0]\n",
       "Length: 100, dtype: category\n",
       "Categories (5, interval[float64]): [(1539.999, 2618.0] < (2618.0, 3544.0] < (3544.0, 4648.0] < (4648.0, 7068.0] < (7068.0, 9610.0]]"
      ]
     },
     "execution_count": 107,
     "metadata": {},
     "output_type": "execute_result"
    }
   ],
   "source": [
    "# 데이터 분포를 비슷한 크기로 나눠줌\n",
    "ctg = pd.qcut(salary, q=5)\n",
    "ctg"
   ]
  },
  {
   "cell_type": "code",
   "execution_count": 108,
   "metadata": {},
   "outputs": [
    {
     "data": {
      "text/plain": [
       "(1539.999, 2618.0]    20\n",
       "(2618.0, 3544.0]      20\n",
       "(3544.0, 4648.0]      20\n",
       "(4648.0, 7068.0]      20\n",
       "(7068.0, 9610.0]      20\n",
       "dtype: int64"
      ]
     },
     "execution_count": 108,
     "metadata": {},
     "output_type": "execute_result"
    }
   ],
   "source": [
    "ctg.value_counts().sort_index()"
   ]
  },
  {
   "cell_type": "markdown",
   "metadata": {},
   "source": [
    "- 연습을 위한 데이터\n",
    "\n",
    "\n",
    "[kaggle, Video Game Sales](https://www.kaggle.com/gregorut/videogamesales)   \n",
    "[공공데이터포털](https://www.data.go.kr/)   "
   ]
  },
  {
   "cell_type": "code",
   "execution_count": null,
   "metadata": {},
   "outputs": [],
   "source": []
  }
 ],
 "metadata": {
  "kernelspec": {
   "display_name": "aiffel",
   "language": "python",
   "name": "aiffel"
  },
  "language_info": {
   "codemirror_mode": {
    "name": "ipython",
    "version": 3
   },
   "file_extension": ".py",
   "mimetype": "text/x-python",
   "name": "python",
   "nbconvert_exporter": "python",
   "pygments_lexer": "ipython3",
   "version": "3.7.6"
  },
  "toc": {
   "base_numbering": 1,
   "nav_menu": {},
   "number_sections": true,
   "sideBar": true,
   "skip_h1_title": false,
   "title_cell": "Table of Contents",
   "title_sidebar": "Contents",
   "toc_cell": false,
   "toc_position": {},
   "toc_section_display": true,
   "toc_window_display": false
  },
  "varInspector": {
   "cols": {
    "lenName": 16,
    "lenType": 16,
    "lenVar": 40
   },
   "kernels_config": {
    "python": {
     "delete_cmd_postfix": "",
     "delete_cmd_prefix": "del ",
     "library": "var_list.py",
     "varRefreshCmd": "print(var_dic_list())"
    },
    "r": {
     "delete_cmd_postfix": ") ",
     "delete_cmd_prefix": "rm(",
     "library": "var_list.r",
     "varRefreshCmd": "cat(var_dic_list()) "
    }
   },
   "types_to_exclude": [
    "module",
    "function",
    "builtin_function_or_method",
    "instance",
    "_Feature"
   ],
   "window_display": false
  }
 },
 "nbformat": 4,
 "nbformat_minor": 4
}
