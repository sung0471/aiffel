{
 "cells": [
  {
   "cell_type": "code",
   "execution_count": 1,
   "metadata": {},
   "outputs": [
    {
     "name": "stdout",
     "output_type": "stream",
     "text": [
      "Model: \"sequential\"\n",
      "_________________________________________________________________\n",
      "Layer (type)                 Output Shape              Param #   \n",
      "=================================================================\n",
      "dense (Dense)                (None, 50)                39250     \n",
      "_________________________________________________________________\n",
      "dense_1 (Dense)              (None, 10)                510       \n",
      "=================================================================\n",
      "Total params: 39,760\n",
      "Trainable params: 39,760\n",
      "Non-trainable params: 0\n",
      "_________________________________________________________________\n",
      "Epoch 1/10\n",
      "1875/1875 [==============================] - 2s 823us/step - loss: 0.4927 - accuracy: 0.8836\n",
      "Epoch 2/10\n",
      "1875/1875 [==============================] - 1s 743us/step - loss: 0.2270 - accuracy: 0.9362\n",
      "Epoch 3/10\n",
      "1875/1875 [==============================] - 1s 756us/step - loss: 0.1776 - accuracy: 0.9492\n",
      "Epoch 4/10\n",
      "1875/1875 [==============================] - 2s 839us/step - loss: 0.1483 - accuracy: 0.9578\n",
      "Epoch 5/10\n",
      "1875/1875 [==============================] - 1s 730us/step - loss: 0.1277 - accuracy: 0.9640\n",
      "Epoch 6/10\n",
      "1875/1875 [==============================] - 2s 814us/step - loss: 0.1124 - accuracy: 0.9684\n",
      "Epoch 7/10\n",
      "1875/1875 [==============================] - 2s 838us/step - loss: 0.1008 - accuracy: 0.9712\n",
      "Epoch 8/10\n",
      "1875/1875 [==============================] - 2s 966us/step - loss: 0.0911 - accuracy: 0.9739\n",
      "Epoch 9/10\n",
      "1875/1875 [==============================] - 2s 993us/step - loss: 0.0830 - accuracy: 0.9765\n",
      "Epoch 10/10\n",
      "1875/1875 [==============================] - 2s 977us/step - loss: 0.0759 - accuracy: 0.9787\n",
      "313/313 - 0s - loss: 0.1026 - accuracy: 0.9694\n",
      "test_loss: 0.10258176177740097 \n",
      "test_accuracy: 0.9693999886512756\n"
     ]
    }
   ],
   "source": [
    "import tensorflow as tf\n",
    "from tensorflow import keras\n",
    "import numpy as np\n",
    "import matplotlib.pyplot as plt\n",
    "\n",
    "# MNIST 데이터를 로드. 다운로드하지 않았다면 다운로드까지 자동으로 진행됩니다. \n",
    "mnist = keras.datasets.mnist\n",
    "(x_train, y_train), (x_test, y_test) = mnist.load_data()   \n",
    "\n",
    "# 모델에 맞게 데이터 가공\n",
    "x_train_norm, x_test_norm = x_train / 255.0, x_test / 255.0\n",
    "x_train_reshaped = x_train_norm.reshape(-1, x_train_norm.shape[1]*x_train_norm.shape[2])\n",
    "x_test_reshaped = x_test_norm.reshape(-1, x_test_norm.shape[1]*x_test_norm.shape[2])\n",
    "\n",
    "# 딥러닝 모델 구성 - 2 Layer Perceptron\n",
    "model=keras.models.Sequential()\n",
    "model.add(keras.layers.Dense(50, activation='sigmoid', input_shape=(784,)))  # 입력층 d=784, 은닉층 레이어 H=50\n",
    "model.add(keras.layers.Dense(10, activation='softmax'))   # 출력층 레이어 K=10\n",
    "model.summary()\n",
    "\n",
    "# 모델 구성과 학습\n",
    "model.compile(optimizer='adam',\n",
    "             loss='sparse_categorical_crossentropy',\n",
    "             metrics=['accuracy'])\n",
    "model.fit(x_train_reshaped, y_train, epochs=10)\n",
    "\n",
    "# 모델 테스트 결과\n",
    "test_loss, test_accuracy = model.evaluate(x_test_reshaped,y_test, verbose=2)\n",
    "print(\"test_loss: {} \".format(test_loss))\n",
    "print(\"test_accuracy: {}\".format(test_accuracy))"
   ]
  },
  {
   "cell_type": "markdown",
   "metadata": {},
   "source": [
    "## 다중 퍼셉트론"
   ]
  },
  {
   "cell_type": "code",
   "execution_count": 2,
   "metadata": {},
   "outputs": [
    {
     "name": "stdout",
     "output_type": "stream",
     "text": [
      "(60000, 784)\n",
      "(5, 784)\n"
     ]
    }
   ],
   "source": [
    "# 입력층 데이터의 모양(shape)\n",
    "print(x_train_reshaped.shape)\n",
    "\n",
    "# 테스트를 위해 x_train_reshaped의 앞 5개의 데이터를 가져온다.\n",
    "X = x_train_reshaped[:5]\n",
    "print(X.shape)"
   ]
  },
  {
   "cell_type": "code",
   "execution_count": 3,
   "metadata": {},
   "outputs": [
    {
     "name": "stdout",
     "output_type": "stream",
     "text": [
      "(784, 50)\n",
      "(50,)\n",
      "(5, 50)\n"
     ]
    }
   ],
   "source": [
    "weight_init_std = 0.1\n",
    "input_size = 784\n",
    "hidden_size = 50\n",
    "\n",
    "# 인접 레이어간 관계를 나타내는 파라미터 W를 생성하고 random 초기화\n",
    "W1 = weight_init_std * np.random.randn(input_size, hidden_size)\n",
    "# 바이어스 파라미터 b를 생성하고 Zero로 초기화\n",
    "b1 = np.zeros(hidden_size)\n",
    "\n",
    "a1 = np.dot(X, W1) + b1 # 은닉층 출력\n",
    "\n",
    "print(W1.shape)\n",
    "print(b1.shape)\n",
    "print(a1.shape)"
   ]
  },
  {
   "cell_type": "code",
   "execution_count": 4,
   "metadata": {},
   "outputs": [
    {
     "data": {
      "text/plain": [
       "array([-1.48099008, -1.04006828, -0.29723936,  1.03423452,  0.87014776,\n",
       "        1.35192929, -0.47481785, -0.06156481, -0.85526209, -0.04315815,\n",
       "        0.85936902,  0.18435168,  0.56426983, -0.95716621, -0.20110514,\n",
       "       -0.68361341, -0.63037418,  1.08347583,  0.45040321,  1.33284248,\n",
       "        0.47534004, -0.60308627, -1.2318538 ,  0.8763762 ,  1.06104756,\n",
       "        0.88244319, -0.14347332, -1.22740893,  0.3447011 , -2.04599138,\n",
       "        1.01593618,  0.83864359, -1.38698003,  1.12418363,  0.4317148 ,\n",
       "        0.8616657 ,  0.18100458,  0.50743837, -0.35827228, -0.79667329,\n",
       "        1.39837625,  1.13515609,  0.50976921, -1.16355201, -1.79674015,\n",
       "        1.19085923, -0.55049533, -0.859402  , -0.54515442,  0.20738491])"
      ]
     },
     "execution_count": 4,
     "metadata": {},
     "output_type": "execute_result"
    }
   ],
   "source": [
    "# 첫번째 데이터의 은닉층 출력을 확인해 봅시다.  50dim의 벡터가 나오나요?\n",
    "a1[0]"
   ]
  },
  {
   "cell_type": "markdown",
   "metadata": {},
   "source": [
    "## 활성화 함수, 손실 함수"
   ]
  },
  {
   "cell_type": "markdown",
   "metadata": {},
   "source": [
    "### Sigmoid"
   ]
  },
  {
   "cell_type": "code",
   "execution_count": 5,
   "metadata": {},
   "outputs": [
    {
     "name": "stdout",
     "output_type": "stream",
     "text": [
      "[0.18527792 0.26113682 0.42623248 0.73773602 0.70477644 0.79444486\n",
      " 0.38347656 0.48461366 0.29833018 0.48921214 0.70252881 0.54595784\n",
      " 0.63743992 0.27744593 0.44989248 0.3354553  0.3474257  0.74715119\n",
      " 0.6107351  0.79131043 0.61664689 0.35363792 0.22585713 0.70607072\n",
      " 0.74289068 0.70732825 0.46419307 0.22663524 0.58533202 0.11445806\n",
      " 0.73418026 0.69817946 0.19989032 0.75476391 0.60628307 0.70300855\n",
      " 0.545128   0.62420578 0.41137786 0.31073758 0.8019261  0.75678918\n",
      " 0.62475237 0.23802247 0.14224835 0.7668947  0.3657495  0.2974643\n",
      " 0.36698935 0.5516612 ]\n"
     ]
    }
   ],
   "source": [
    "# 위 수식의 sigmoid 함수를 구현해 봅니다.\n",
    "def sigmoid(x):\n",
    "    return 1 / (1 + np.exp(-x))\n",
    "\n",
    "z1 = sigmoid(a1)\n",
    "print(z1[0])  # sigmoid의 출력은 모든 엘리먼트가 0에서 1사이"
   ]
  },
  {
   "cell_type": "markdown",
   "metadata": {},
   "source": [
    "## 단일 레이어 구현"
   ]
  },
  {
   "cell_type": "code",
   "execution_count": 6,
   "metadata": {},
   "outputs": [],
   "source": [
    "def affine_layer_forward(X, W, b):\n",
    "    y = np.dot(X,W)+b\n",
    "    cache = (X,W,b)\n",
    "    return y, cache"
   ]
  },
  {
   "cell_type": "code",
   "execution_count": 7,
   "metadata": {},
   "outputs": [
    {
     "name": "stdout",
     "output_type": "stream",
     "text": [
      "[-0.00214827 -0.01405865 -0.04628361  0.26961687 -0.25859359  0.11089166\n",
      " -0.25995219  0.691356    0.51199881 -0.55668283]\n"
     ]
    }
   ],
   "source": [
    "input_size = 784\n",
    "hidden_size = 50\n",
    "output_size = 10\n",
    "\n",
    "W1 = weight_init_std * np.random.randn(input_size, hidden_size)\n",
    "b1 = np.zeros(hidden_size)\n",
    "W2 = weight_init_std * np.random.randn(hidden_size, output_size)\n",
    "b2 = np.zeros(output_size)\n",
    "\n",
    "a1, cache1 = affine_layer_forward(X, W1, b1)\n",
    "z1 = sigmoid(a1)\n",
    "a2, cache2 = affine_layer_forward(z1, W2, b2)   # z1이 다시 두번째 레이어의 입력이 됩니다. \n",
    "\n",
    "print(a2[0])  # 최종 출력이 output_size만큼의 벡터가 되었습니다."
   ]
  },
  {
   "cell_type": "code",
   "execution_count": 8,
   "metadata": {},
   "outputs": [],
   "source": [
    "def softmax(x : np.array):\n",
    "    if x.ndim == 2:\n",
    "        x = x.T\n",
    "        x = x - np.max(x, axis=0)\n",
    "        y = np.exp(x) / np.sum(np.exp(x), axis=0)\n",
    "        return y.T\n",
    "    \n",
    "    x = x - np.max(x)  # 오버플로 대책\n",
    "    return np.exp(x) / np.sum(np.exp(x))"
   ]
  },
  {
   "cell_type": "code",
   "execution_count": 9,
   "metadata": {},
   "outputs": [
    {
     "data": {
      "text/plain": [
       "array([0.08951951, 0.08845962, 0.08565445, 0.11747455, 0.06926995,\n",
       "       0.1002329 , 0.06917591, 0.17910296, 0.14969556, 0.05141459])"
      ]
     },
     "execution_count": 9,
     "metadata": {},
     "output_type": "execute_result"
    }
   ],
   "source": [
    "y_hat = softmax(a2)\n",
    "y_hat[0]"
   ]
  },
  {
   "cell_type": "markdown",
   "metadata": {},
   "source": [
    "## 오차함수 (손실함수)"
   ]
  },
  {
   "cell_type": "code",
   "execution_count": 10,
   "metadata": {},
   "outputs": [
    {
     "data": {
      "text/plain": [
       "array([[0., 0., 0., 0., 0., 1., 0., 0., 0., 0.],\n",
       "       [1., 0., 0., 0., 0., 0., 0., 0., 0., 0.],\n",
       "       [0., 0., 0., 0., 1., 0., 0., 0., 0., 0.],\n",
       "       [0., 1., 0., 0., 0., 0., 0., 0., 0., 0.],\n",
       "       [0., 0., 0., 0., 0., 0., 0., 0., 0., 1.]])"
      ]
     },
     "execution_count": 10,
     "metadata": {},
     "output_type": "execute_result"
    }
   ],
   "source": [
    "# 정답 라벨을 One-hot 인코딩하는 함수\n",
    "def _change_one_hot_label(X, num_category):\n",
    "    T = np.zeros((X.size, num_category))\n",
    "    for idx, row in enumerate(T):\n",
    "        row[X[idx]] = 1\n",
    "    \n",
    "    return T\n",
    "\n",
    "Y_digit = y_train[:5]\n",
    "t = _change_one_hot_label(Y_digit, 10)\n",
    "t     # 정답 라벨의 One-hot 인코딩"
   ]
  },
  {
   "cell_type": "code",
   "execution_count": 11,
   "metadata": {},
   "outputs": [
    {
     "name": "stdout",
     "output_type": "stream",
     "text": [
      "[0.08951951 0.08845962 0.08565445 0.11747455 0.06926995 0.1002329\n",
      " 0.06917591 0.17910296 0.14969556 0.05141459]\n",
      "[0. 0. 0. 0. 0. 1. 0. 0. 0. 0.]\n"
     ]
    }
   ],
   "source": [
    "print(y_hat[0])\n",
    "print(t[0])"
   ]
  },
  {
   "cell_type": "code",
   "execution_count": 12,
   "metadata": {},
   "outputs": [
    {
     "data": {
      "text/plain": [
       "2.5077793330878833"
      ]
     },
     "execution_count": 12,
     "metadata": {},
     "output_type": "execute_result"
    }
   ],
   "source": [
    "def cross_entropy_error(y: np.ndarray,t: np.ndarray):\n",
    "    if y.ndim == 1:\n",
    "        t=t.reshape(1, t.size)\n",
    "        y=y.reshape(1, y,size)\n",
    "        \n",
    "    # 훈련 데이터가 원-핫 벡터라면 정답 레이블의 인덱스로 반환\n",
    "    if t.size == y.size:\n",
    "        t = t.argmax(axis=1)\n",
    "\n",
    "    batch_size = y.shape[0]\n",
    "    return -np.sum(np.log(y[np.arange(batch_size), t])) / batch_size\n",
    "    \n",
    "Loss = cross_entropy_error(y_hat, t)\n",
    "Loss"
   ]
  },
  {
   "cell_type": "markdown",
   "metadata": {},
   "source": [
    "## 경사하강법\n",
    "- cross_entropy_error의 미분   \n",
    "https://deepnotes.io/softmax-crossentropy"
   ]
  },
  {
   "cell_type": "markdown",
   "metadata": {},
   "source": [
    "- Cross_entropy_error(Softmax)의 미분\n",
    "\n",
    "$$\\frac{\\partial Loss}{\\partial O_i} = p_i-y_i $$"
   ]
  },
  {
   "cell_type": "code",
   "execution_count": 13,
   "metadata": {},
   "outputs": [
    {
     "data": {
      "text/plain": [
       "array([[ 0.0179039 ,  0.01769192,  0.01713089,  0.02349491,  0.01385399,\n",
       "        -0.17995342,  0.01383518,  0.03582059,  0.02993911,  0.01028292],\n",
       "       [-0.17799287,  0.02011079,  0.01605329,  0.02554569,  0.01243581,\n",
       "         0.02078119,  0.01293193,  0.03040419,  0.03085231,  0.00887767],\n",
       "       [ 0.01836317,  0.02337388,  0.01671633,  0.02048622, -0.18782166,\n",
       "         0.01662264,  0.01338683,  0.02729659,  0.04105071,  0.01052529],\n",
       "       [ 0.01807155, -0.17939895,  0.01613336,  0.02648186,  0.01225499,\n",
       "         0.01978049,  0.01427819,  0.03012297,  0.03289452,  0.00938102],\n",
       "       [ 0.02079968,  0.02007569,  0.01540233,  0.01864757,  0.01325988,\n",
       "         0.02065843,  0.01153811,  0.03143959,  0.03781547, -0.18963678]])"
      ]
     },
     "execution_count": 13,
     "metadata": {},
     "output_type": "execute_result"
    }
   ],
   "source": [
    "batch_num = y_hat.shape[0]\n",
    "dy = (y_hat - t) / batch_num\n",
    "dy  # softmax값의 출력으로 Loss를 미분한 값"
   ]
  },
  {
   "cell_type": "markdown",
   "metadata": {},
   "source": [
    "- Chain rule로 다른 Weight의 기울기 구하기\n",
    "\n",
    "\n",
    "\n",
    "$$\\frac{\\partial Loss}{\\partial W2} = \\frac{\\partial Loss}{\\partial y}\\frac{\\partial y}{\\partial W2} \\\\\n",
    "y={W2}\\cdot{z1}+b2 \\\\\n",
    "\\frac{\\partial Loss}{\\partial W2} = {dy}\\cdot{z1}\n",
    "$$"
   ]
  },
  {
   "cell_type": "code",
   "execution_count": 14,
   "metadata": {},
   "outputs": [],
   "source": [
    "dW2 = np.dot(z1.T, dy)\n",
    "db2 = np.sum(dy, axis=0)"
   ]
  },
  {
   "cell_type": "code",
   "execution_count": 15,
   "metadata": {},
   "outputs": [],
   "source": [
    "# sigmoid gradient\n",
    "def sigmoid_grad(x):\n",
    "    return (1.0 - sigmoid(x)) * sigmoid(x)"
   ]
  },
  {
   "cell_type": "code",
   "execution_count": 16,
   "metadata": {},
   "outputs": [],
   "source": [
    "dz1 = np.dot(dy, W2.T)\n",
    "da1 = sigmoid_grad(a1) * dz1\n",
    "dW1 = np.dot(X.T, da1)\n",
    "db1 = np.sum(dz1, axis=0)"
   ]
  },
  {
   "cell_type": "code",
   "execution_count": 17,
   "metadata": {},
   "outputs": [],
   "source": [
    "learning_rate = 1e-1\n",
    "\n",
    "def update_params(W1, b1, W2, b2, dW1, db1, dW2, db2, learning_rate):\n",
    "    W1 = W1 - learning_rate * dW1\n",
    "    b1 = b1 - learning_rate * db1\n",
    "    W2 = W2 - learning_rate * dW2\n",
    "    b2 = b2 - learning_rate * db2\n",
    "    return W1, b1, W2, b2"
   ]
  },
  {
   "cell_type": "markdown",
   "metadata": {},
   "source": [
    "## 오차역전파법"
   ]
  },
  {
   "cell_type": "code",
   "execution_count": 18,
   "metadata": {},
   "outputs": [],
   "source": [
    "def affine_layer_backward(dy, cache):\n",
    "    X, W, b = cache\n",
    "    dX = np.dot(dy, W.T)\n",
    "    dW = np.dot(X.T, dy)\n",
    "    db = np.sum(dy, axis=0)\n",
    "    return dX, dW, db"
   ]
  },
  {
   "cell_type": "markdown",
   "metadata": {},
   "source": [
    "## 학습하는 과정\n",
    "- 초기화, 순전파, 손실함수의 오차, 기울기, 경사하강법"
   ]
  },
  {
   "cell_type": "code",
   "execution_count": 19,
   "metadata": {},
   "outputs": [
    {
     "name": "stdout",
     "output_type": "stream",
     "text": [
      "[[0.07682302 0.12043365 0.08031143 0.10448095 0.11152734 0.12154945\n",
      "  0.0795281  0.10993899 0.10458934 0.09081773]\n",
      " [0.07545841 0.11786192 0.0744111  0.11034405 0.12185095 0.11571054\n",
      "  0.07087113 0.12365814 0.09252398 0.09730979]\n",
      " [0.08053186 0.10778535 0.09278188 0.09641179 0.11261346 0.14238011\n",
      "  0.09252071 0.09271963 0.10140637 0.08084883]\n",
      " [0.08067985 0.10963362 0.08173851 0.1235233  0.11360062 0.14211472\n",
      "  0.08741377 0.10666508 0.08351368 0.07111685]\n",
      " [0.06299005 0.14146918 0.07346407 0.09644788 0.11362958 0.14725755\n",
      "  0.09604249 0.10402404 0.08623942 0.07843575]]\n",
      "[[0. 0. 0. 0. 0. 1. 0. 0. 0. 0.]\n",
      " [1. 0. 0. 0. 0. 0. 0. 0. 0. 0.]\n",
      " [0. 0. 0. 0. 1. 0. 0. 0. 0. 0.]\n",
      " [0. 1. 0. 0. 0. 0. 0. 0. 0. 0.]\n",
      " [0. 0. 0. 0. 0. 0. 0. 0. 0. 1.]]\n",
      "Loss :  2.3262976923354373\n"
     ]
    }
   ],
   "source": [
    "# 파라미터 초기화\n",
    "W1 = weight_init_std * np.random.randn(input_size, hidden_size)\n",
    "b1 = np.zeros(hidden_size)\n",
    "W2 = weight_init_std * np.random.randn(hidden_size, output_size)\n",
    "b2 = np.zeros(output_size)\n",
    "\n",
    "# 순전파\n",
    "a1, cache1 = affine_layer_forward(X, W1, b1)\n",
    "z1 = sigmoid(a1)\n",
    "a2, cache2 = affine_layer_forward(z1, W2, b2)\n",
    "\n",
    "# 추론과 오차(Loss) 계산\n",
    "y_hat = softmax(a2)\n",
    "t = _change_one_hot_label(Y_digit, 10)\n",
    "Loss = cross_entropy_error(y_hat, t)\n",
    "\n",
    "print(y_hat)\n",
    "print(t)\n",
    "print('Loss : ', Loss)\n",
    "\n",
    "dy = (y_hat - t) / X.shape[0]\n",
    "dz1, dW2, db2 = affine_layer_backward(dy, cache2)\n",
    "da1 = sigmoid_grad(a1) * dz1\n",
    "dX, dW1, db1 = affine_layer_backward(da1, cache1)\n",
    "\n",
    "# 경사하강법으로 파라미터 업데이트\n",
    "learning_rate = 0.1\n",
    "W1, b1, W2, b2 = update_params(W1, b1, W2, b2, dW1, db1, dW2, db2, learning_rate)"
   ]
  },
  {
   "cell_type": "markdown",
   "metadata": {},
   "source": [
    "## training step 함수"
   ]
  },
  {
   "cell_type": "code",
   "execution_count": 20,
   "metadata": {},
   "outputs": [],
   "source": [
    "# 파라미터 초기화\n",
    "W1 = weight_init_std * np.random.randn(input_size, hidden_size)\n",
    "b1 = np.zeros(hidden_size)\n",
    "W2 = weight_init_std * np.random.randn(hidden_size, output_size)\n",
    "b2 = np.zeros(output_size)"
   ]
  },
  {
   "cell_type": "code",
   "execution_count": 21,
   "metadata": {},
   "outputs": [],
   "source": [
    "# 훈련 1번 진행하는 함수\n",
    "def train_step(X, Y, W1, b1, W2, b2, learning_rate=0.1, verbose=False):\n",
    "    a1, cache1 = affine_layer_forward(X, W1, b1)\n",
    "    z1 = sigmoid(a1)\n",
    "    a2, cache2 = affine_layer_forward(z1, W2, b2)\n",
    "    y_hat = softmax(a2)\n",
    "    t = _change_one_hot_label(Y, 10)\n",
    "    Loss = cross_entropy_error(y_hat,t)\n",
    "    \n",
    "    if verbose:\n",
    "        print('----------')\n",
    "        print(y_hat)\n",
    "        print(t)\n",
    "        print('Loss : ',Loss)\n",
    "    \n",
    "    dy = (y_hat - t) / X.shape[0]\n",
    "    dz1, dW2, db2 = affine_layer_backward(dy, cache2)\n",
    "    da1 = sigmoid_grad(a1) * dz1\n",
    "    dX, dW1, db1 = affine_layer_backward(da1, cache1)\n",
    "    \n",
    "    # 경사하강법을 통한 파라미터 업데이트\n",
    "    W1, b1, W2, b2 = update_params(W1, b1, W2, b2, dW1, db1, dW2, db2, learning_rate)\n",
    "    \n",
    "    return W1, b1, W2, b2, Loss"
   ]
  },
  {
   "cell_type": "code",
   "execution_count": 22,
   "metadata": {},
   "outputs": [
    {
     "name": "stdout",
     "output_type": "stream",
     "text": [
      "----------\n",
      "[[0.06103815 0.14674694 0.10551228 0.09400224 0.13081939 0.21431178\n",
      "  0.08641272 0.05139482 0.07162626 0.03813542]\n",
      " [0.05287679 0.1474312  0.09864658 0.08541203 0.12641216 0.23137785\n",
      "  0.09314516 0.059026   0.07115167 0.03452056]\n",
      " [0.06734278 0.13173538 0.10123678 0.09870762 0.12664933 0.21870928\n",
      "  0.08881497 0.05089033 0.07524184 0.04067168]\n",
      " [0.05042254 0.16564288 0.08671952 0.07640116 0.14113348 0.21344997\n",
      "  0.0863111  0.05194566 0.08836352 0.03961017]\n",
      " [0.06167816 0.11374534 0.09012152 0.08143565 0.14600308 0.22433365\n",
      "  0.08239594 0.05610342 0.08867194 0.05551129]]\n",
      "[[0. 0. 0. 0. 0. 1. 0. 0. 0. 0.]\n",
      " [1. 0. 0. 0. 0. 0. 0. 0. 0. 0.]\n",
      " [0. 0. 0. 0. 1. 0. 0. 0. 0. 0.]\n",
      " [0. 1. 0. 0. 0. 0. 0. 0. 0. 0.]\n",
      " [0. 0. 0. 0. 0. 0. 0. 0. 0. 1.]]\n",
      "Loss :  2.2471074797413366\n",
      "----------\n",
      "[[0.07920355 0.1597943  0.09088724 0.08207324 0.14058582 0.21584559\n",
      "  0.07444708 0.04669837 0.0629224  0.0475424 ]\n",
      " [0.0722158  0.1631713  0.08475235 0.07476447 0.13609539 0.22820445\n",
      "  0.08011117 0.05417549 0.06256224 0.04394734]\n",
      " [0.08346746 0.14223354 0.08823889 0.08660424 0.14333476 0.2123292\n",
      "  0.07833224 0.04712412 0.06778875 0.0505468 ]\n",
      " [0.0634731  0.18996742 0.07438565 0.0668302  0.15033184 0.20507248\n",
      "  0.07476793 0.04780674 0.07767197 0.04969267]\n",
      " [0.0767306  0.1249109  0.07839745 0.07192455 0.15723769 0.21516895\n",
      "  0.07197062 0.05219592 0.07899685 0.07246645]]\n",
      "[[0. 0. 0. 0. 0. 1. 0. 0. 0. 0.]\n",
      " [1. 0. 0. 0. 0. 0. 0. 0. 0. 0.]\n",
      " [0. 0. 0. 0. 1. 0. 0. 0. 0. 0.]\n",
      " [0. 1. 0. 0. 0. 0. 0. 0. 0. 0.]\n",
      " [0. 0. 0. 0. 0. 0. 0. 0. 0. 1.]]\n",
      "Loss :  2.0778790020990616\n",
      "----------\n",
      "[[0.09868143 0.16757407 0.07891241 0.07194941 0.14669797 0.21680531\n",
      "  0.06452459 0.0421487  0.05531967 0.05738644]\n",
      " [0.0941573  0.17319501 0.07335491 0.06570308 0.14182134 0.22432063\n",
      "  0.0692855  0.0492963  0.05498043 0.0538855 ]\n",
      " [0.09968314 0.1485164  0.07744542 0.07625782 0.15770636 0.20552125\n",
      "  0.06943623 0.04335572 0.06110415 0.06097352]\n",
      " [0.07680259 0.21025684 0.06433765 0.05871276 0.15564383 0.19658826\n",
      "  0.06515483 0.0437195  0.0683746  0.06040913]\n",
      " [0.09163262 0.1323131  0.06867469 0.06373566 0.16451821 0.20587697\n",
      "  0.06319137 0.04819919 0.07037072 0.09148747]]\n",
      "[[0. 0. 0. 0. 0. 1. 0. 0. 0. 0.]\n",
      " [1. 0. 0. 0. 0. 0. 0. 0. 0. 0.]\n",
      " [0. 0. 0. 0. 1. 0. 0. 0. 0. 0.]\n",
      " [0. 1. 0. 0. 0. 0. 0. 0. 0. 0.]\n",
      " [0. 0. 0. 0. 0. 0. 0. 0. 0. 1.]]\n",
      "Loss :  1.93790863611068\n",
      "----------\n",
      "[[0.1184056  0.17110165 0.06901363 0.06335997 0.1499724  0.21792514\n",
      "  0.05626553 0.03791889 0.04875432 0.06728287]\n",
      " [0.11766377 0.17840439 0.06389579 0.05797133 0.14444163 0.22048888\n",
      "  0.0602445  0.04462547 0.04836398 0.06390026]\n",
      " [0.11505227 0.15148962 0.0684213  0.06743807 0.17012993 0.19901376\n",
      "  0.06187942 0.03976266 0.05519745 0.07161552]\n",
      " [0.08961208 0.22700715 0.05607562 0.05183559 0.15802624 0.18868459\n",
      "  0.05712678 0.03986339 0.06037527 0.0713933 ]\n",
      " [0.10544669 0.13660424 0.06051855 0.05667507 0.16868788 0.19709032\n",
      "  0.05575699 0.04431304 0.06276187 0.11214535]]\n",
      "[[0. 0. 0. 0. 0. 1. 0. 0. 0. 0.]\n",
      " [1. 0. 0. 0. 0. 0. 0. 0. 0. 0.]\n",
      " [0. 0. 0. 0. 1. 0. 0. 0. 0. 0.]\n",
      " [0. 1. 0. 0. 0. 0. 0. 0. 0. 0.]\n",
      " [0. 0. 0. 0. 0. 0. 0. 0. 0. 1.]]\n",
      "Loss :  1.8210907632810265\n",
      "----------\n",
      "[[0.1372734  0.17161106 0.06077561 0.05607246 0.15125584 0.21960472\n",
      "  0.0493697  0.03408868 0.04312453 0.076824  ]\n",
      " [0.14151648 0.18005205 0.0559863  0.05136545 0.14485756 0.21708663\n",
      "  0.05266653 0.04029572 0.04263525 0.07353805]\n",
      " [0.12874303 0.15217258 0.06084024 0.05993057 0.18113878 0.19314209\n",
      "  0.05545407 0.03643879 0.0500275  0.08211235]\n",
      " [0.10115289 0.24112155 0.04922819 0.04600363 0.15839734 0.18161623\n",
      "  0.05039807 0.0363227  0.05352717 0.08223223]\n",
      " [0.11738177 0.13861346 0.05362579 0.05058419 0.17062662 0.18906948\n",
      "  0.04943875 0.04065456 0.05609912 0.13390627]]\n",
      "[[0. 0. 0. 0. 0. 1. 0. 0. 0. 0.]\n",
      " [1. 0. 0. 0. 0. 0. 0. 0. 0. 0.]\n",
      " [0. 0. 0. 0. 1. 0. 0. 0. 0. 0.]\n",
      " [0. 1. 0. 0. 0. 0. 0. 0. 0. 0.]\n",
      " [0. 0. 0. 0. 0. 0. 0. 0. 0. 1.]]\n",
      "Loss :  1.722565276110569\n"
     ]
    }
   ],
   "source": [
    "X = x_train_reshaped[:5]\n",
    "Y = y_train[:5]\n",
    "\n",
    "for i in range(5):\n",
    "    W1, b1, W2, b2, _ = train_step(X, Y, W1, b1, W2, b2, learning_rate=0.1, verbose=True)"
   ]
  },
  {
   "cell_type": "markdown",
   "metadata": {},
   "source": [
    "## 추론과정, 정확도(Accuracy) 계산"
   ]
  },
  {
   "cell_type": "code",
   "execution_count": 23,
   "metadata": {},
   "outputs": [],
   "source": [
    "def predict(W1, b1, W2, b2, X):\n",
    "    a1 = np.dot(X, W1) + b1\n",
    "    z1 = sigmoid(a1)\n",
    "    a2 = np.dot(z1, W2) + b2\n",
    "    y = softmax(a2)\n",
    "    \n",
    "    return y"
   ]
  },
  {
   "cell_type": "code",
   "execution_count": 24,
   "metadata": {},
   "outputs": [
    {
     "data": {
      "text/plain": [
       "array([0.15439536, 0.17021578, 0.05389031, 0.04989357, 0.15127919,\n",
       "       0.22208195, 0.04360028, 0.03068334, 0.03832092, 0.0856393 ])"
      ]
     },
     "execution_count": 24,
     "metadata": {},
     "output_type": "execute_result"
    }
   ],
   "source": [
    "# X = x_train[:100]에 대해 모델 추론 시행\n",
    "\n",
    "X = x_train_reshaped[:100]\n",
    "Y = y_train[:100]\n",
    "result = predict(W1, b1, W2, b2, X)\n",
    "result[0]"
   ]
  },
  {
   "cell_type": "code",
   "execution_count": 25,
   "metadata": {},
   "outputs": [],
   "source": [
    "def accuracy(W1, b1, W2, b2, x, y):\n",
    "    y_hat = predict(W1, b1, W2, b2, x)\n",
    "    y_hat = np.argmax(y_hat, axis = 1)\n",
    "    # t = np.argmax(t, axis=1)\n",
    "    \n",
    "    accuracy = np.sum(y_hat == y) / float(x.shape[0])\n",
    "    return accuracy"
   ]
  },
  {
   "cell_type": "code",
   "execution_count": 26,
   "metadata": {},
   "outputs": [
    {
     "name": "stdout",
     "output_type": "stream",
     "text": [
      "[0.15439536 0.17021578 0.05389031 0.04989357 0.15127919 0.22208195\n",
      " 0.04360028 0.03068334 0.03832092 0.0856393 ]\n",
      "[0. 0. 0. 0. 0. 1. 0. 0. 0. 0.]\n",
      "0.16\n"
     ]
    }
   ],
   "source": [
    "acc = accuracy(W1, b1, W2, b2, X, Y)\n",
    "\n",
    "t = _change_one_hot_label(Y, 10)\n",
    "print(result[0])\n",
    "print(t[0])\n",
    "print(acc)"
   ]
  },
  {
   "cell_type": "markdown",
   "metadata": {},
   "source": [
    "## 전체 학습 사이클 수행"
   ]
  },
  {
   "cell_type": "code",
   "execution_count": 27,
   "metadata": {},
   "outputs": [],
   "source": [
    "# 파라미터 초기화\n",
    "def init_params(input_size, hidden_size, output_size, weight_init_std = 0.01):\n",
    "    W1 = weight_init_std * np.random.randn(input_size, hidden_size)\n",
    "    b1 = np.zeros(hidden_size)\n",
    "    W2 = weight_init_std * np.random.randn(hidden_size, output_size)\n",
    "    b2 = np.zeros(output_size)\n",
    "    \n",
    "    print(W1.shape)\n",
    "    print(b1.shape)\n",
    "    print(W2.shape)\n",
    "    print(b2.shape)\n",
    "    \n",
    "    return W1, b1, W2, b2"
   ]
  },
  {
   "cell_type": "code",
   "execution_count": 28,
   "metadata": {},
   "outputs": [
    {
     "name": "stdout",
     "output_type": "stream",
     "text": [
      "(784, 50)\n",
      "(50,)\n",
      "(50, 10)\n",
      "(10,)\n",
      "Epoch 0.0 / Loss 2.304916750602861\n",
      "train_acc, test_acc | 0.09736666666666667, 0.0982\n",
      "Epoch 1.0 / Loss 0.9145698835713745\n",
      "train_acc, test_acc | 0.7844833333333333, 0.7897\n",
      "Epoch 2.0 / Loss 0.4686824325259391\n",
      "train_acc, test_acc | 0.87695, 0.8796\n",
      "Epoch 3.0 / Loss 0.3664774409671739\n",
      "train_acc, test_acc | 0.8988, 0.9015\n",
      "Epoch 4.0 / Loss 0.2387454850798708\n",
      "train_acc, test_acc | 0.90925, 0.9121\n",
      "Epoch 5.0 / Loss 0.25751657195543437\n",
      "train_acc, test_acc | 0.9157333333333333, 0.9185\n",
      "Epoch 6.0 / Loss 0.22730735372924152\n",
      "train_acc, test_acc | 0.9202333333333333, 0.9232\n",
      "Epoch 7.0 / Loss 0.20351960677351424\n",
      "train_acc, test_acc | 0.9254333333333333, 0.928\n",
      "Epoch 8.0 / Loss 0.40580242462129357\n",
      "train_acc, test_acc | 0.92855, 0.9323\n",
      "Epoch 9.0 / Loss 0.25881732698463655\n",
      "train_acc, test_acc | 0.9321833333333334, 0.9343\n",
      "Epoch 10.0 / Loss 0.22996858498942635\n",
      "train_acc, test_acc | 0.93545, 0.9368\n",
      "Epoch 11.0 / Loss 0.17801819304176633\n",
      "train_acc, test_acc | 0.9376333333333333, 0.9389\n",
      "Epoch 12.0 / Loss 0.2238967506920374\n",
      "train_acc, test_acc | 0.9407666666666666, 0.942\n",
      "Epoch 13.0 / Loss 0.10695362883162528\n",
      "train_acc, test_acc | 0.94165, 0.9427\n",
      "Epoch 14.0 / Loss 0.2088859307563737\n",
      "train_acc, test_acc | 0.9441833333333334, 0.9445\n",
      "Epoch 15.0 / Loss 0.12416731182448373\n",
      "train_acc, test_acc | 0.9463666666666667, 0.9461\n",
      "Epoch 16.0 / Loss 0.12449081275740555\n",
      "train_acc, test_acc | 0.94825, 0.9467\n",
      "Epoch 17.0 / Loss 0.4367586241572677\n",
      "train_acc, test_acc | 0.9492666666666667, 0.9485\n",
      "Epoch 18.0 / Loss 0.12843820972278533\n",
      "train_acc, test_acc | 0.9514, 0.9495\n",
      "Epoch 19.0 / Loss 0.19940286553756523\n",
      "train_acc, test_acc | 0.9525666666666667, 0.9504\n",
      "Epoch 20.0 / Loss 0.23557794896756384\n",
      "train_acc, test_acc | 0.9538333333333333, 0.9527\n",
      "Epoch 21.0 / Loss 0.1334950712738556\n",
      "train_acc, test_acc | 0.9547833333333333, 0.9536\n",
      "Epoch 22.0 / Loss 0.16947397254259722\n",
      "train_acc, test_acc | 0.9561333333333333, 0.9541\n",
      "Epoch 23.0 / Loss 0.06667453554472011\n",
      "train_acc, test_acc | 0.9566, 0.9535\n",
      "Epoch 24.0 / Loss 0.2377148260192303\n",
      "train_acc, test_acc | 0.9580833333333333, 0.9554\n",
      "Epoch 25.0 / Loss 0.1663453960854265\n",
      "train_acc, test_acc | 0.9590166666666666, 0.9552\n",
      "Epoch 26.0 / Loss 0.17165122717169737\n",
      "train_acc, test_acc | 0.9599166666666666, 0.9555\n",
      "Epoch 27.0 / Loss 0.07052131409723879\n",
      "train_acc, test_acc | 0.9611833333333333, 0.9565\n",
      "Epoch 28.0 / Loss 0.09906787475886994\n",
      "train_acc, test_acc | 0.9617666666666667, 0.9577\n",
      "Epoch 29.0 / Loss 0.15437369916987864\n",
      "train_acc, test_acc | 0.9628, 0.9576\n",
      "Epoch 30.0 / Loss 0.09892152771409479\n",
      "train_acc, test_acc | 0.9631333333333333, 0.9581\n",
      "Epoch 31.0 / Loss 0.1593355391276647\n",
      "train_acc, test_acc | 0.9641333333333333, 0.958\n",
      "Epoch 32.0 / Loss 0.11649807227383233\n",
      "train_acc, test_acc | 0.9650333333333333, 0.9594\n",
      "Epoch 33.0 / Loss 0.20224652034868093\n",
      "train_acc, test_acc | 0.96585, 0.9595\n",
      "Epoch 34.0 / Loss 0.12833740202951005\n",
      "train_acc, test_acc | 0.9662333333333334, 0.96\n",
      "Epoch 35.0 / Loss 0.07980329296264436\n",
      "train_acc, test_acc | 0.9669166666666666, 0.9598\n",
      "Epoch 36.0 / Loss 0.22653289160734158\n",
      "train_acc, test_acc | 0.9674333333333334, 0.9604\n",
      "Epoch 37.0 / Loss 0.1617131435349962\n",
      "train_acc, test_acc | 0.9682833333333334, 0.9613\n",
      "Epoch 38.0 / Loss 0.08054297134806902\n",
      "train_acc, test_acc | 0.96875, 0.9616\n",
      "Epoch 39.0 / Loss 0.10312798054980693\n",
      "train_acc, test_acc | 0.9696, 0.9616\n",
      "Epoch 40.0 / Loss 0.059295611829850436\n",
      "train_acc, test_acc | 0.9695666666666667, 0.964\n",
      "Epoch 41.0 / Loss 0.2263861537089569\n",
      "train_acc, test_acc | 0.9706833333333333, 0.9629\n",
      "Epoch 42.0 / Loss 0.06053496074603779\n",
      "train_acc, test_acc | 0.9702, 0.9638\n",
      "Epoch 43.0 / Loss 0.08098793232692497\n",
      "train_acc, test_acc | 0.9713333333333334, 0.9634\n",
      "Epoch 44.0 / Loss 0.1352673034454387\n",
      "train_acc, test_acc | 0.9716833333333333, 0.9638\n",
      "Epoch 45.0 / Loss 0.12008699110431323\n",
      "train_acc, test_acc | 0.97225, 0.9644\n",
      "Epoch 46.0 / Loss 0.10952022975092236\n",
      "train_acc, test_acc | 0.9724833333333334, 0.9652\n",
      "Epoch 47.0 / Loss 0.10030917411919271\n",
      "train_acc, test_acc | 0.9729166666666667, 0.965\n",
      "Epoch 48.0 / Loss 0.039513233075503466\n",
      "train_acc, test_acc | 0.9736666666666667, 0.9648\n",
      "Epoch 49.0 / Loss 0.0867243768310349\n",
      "train_acc, test_acc | 0.97405, 0.9649\n",
      "Epoch 50.0 / Loss 0.06768812709147679\n",
      "train_acc, test_acc | 0.9742833333333333, 0.9655\n",
      "Epoch 51.0 / Loss 0.06310207423500425\n",
      "train_acc, test_acc | 0.97465, 0.9655\n",
      "Epoch 52.0 / Loss 0.06822003263845965\n",
      "train_acc, test_acc | 0.9744833333333334, 0.966\n",
      "Epoch 53.0 / Loss 0.09230792856757239\n",
      "train_acc, test_acc | 0.9754666666666667, 0.9653\n",
      "Epoch 54.0 / Loss 0.08443003610628207\n",
      "train_acc, test_acc | 0.9753833333333334, 0.9665\n",
      "Epoch 55.0 / Loss 0.1406572956266601\n",
      "train_acc, test_acc | 0.9758833333333333, 0.9668\n",
      "Epoch 56.0 / Loss 0.04776561472076215\n",
      "train_acc, test_acc | 0.9764333333333334, 0.9672\n",
      "Epoch 57.0 / Loss 0.05120243320467301\n",
      "train_acc, test_acc | 0.9769666666666666, 0.9664\n",
      "Epoch 58.0 / Loss 0.05245187464526979\n",
      "train_acc, test_acc | 0.97745, 0.9674\n",
      "Epoch 59.0 / Loss 0.07340008037820225\n",
      "train_acc, test_acc | 0.9776, 0.9676\n",
      "Epoch 60.0 / Loss 0.11743514767912565\n",
      "train_acc, test_acc | 0.97755, 0.9682\n",
      "Epoch 61.0 / Loss 0.07032448206251839\n",
      "train_acc, test_acc | 0.9781666666666666, 0.9678\n",
      "Epoch 62.0 / Loss 0.046436158682464763\n",
      "train_acc, test_acc | 0.9784, 0.9679\n",
      "Epoch 63.0 / Loss 0.04327354591855317\n",
      "train_acc, test_acc | 0.9788, 0.9683\n",
      "Epoch 64.0 / Loss 0.021504041570820566\n",
      "train_acc, test_acc | 0.9789833333333333, 0.968\n",
      "Epoch 65.0 / Loss 0.06365181275940461\n",
      "train_acc, test_acc | 0.97945, 0.9682\n",
      "Epoch 66.0 / Loss 0.05135958800689917\n",
      "train_acc, test_acc | 0.9794666666666667, 0.9688\n",
      "Epoch 67.0 / Loss 0.08608162666712418\n",
      "train_acc, test_acc | 0.9797666666666667, 0.9692\n",
      "Epoch 68.0 / Loss 0.046552622084419265\n",
      "train_acc, test_acc | 0.97995, 0.9691\n",
      "Epoch 69.0 / Loss 0.07399936443464139\n",
      "train_acc, test_acc | 0.9799666666666667, 0.9694\n",
      "Epoch 70.0 / Loss 0.10730264279729897\n",
      "train_acc, test_acc | 0.9805, 0.9689\n",
      "Epoch 71.0 / Loss 0.07713701010872988\n",
      "train_acc, test_acc | 0.9806166666666667, 0.9692\n",
      "Epoch 72.0 / Loss 0.04904278075239763\n",
      "train_acc, test_acc | 0.9808333333333333, 0.9692\n",
      "Epoch 73.0 / Loss 0.04404007117353784\n",
      "train_acc, test_acc | 0.9813333333333333, 0.9699\n",
      "Epoch 74.0 / Loss 0.07202626339407532\n",
      "train_acc, test_acc | 0.9813333333333333, 0.9695\n",
      "Epoch 75.0 / Loss 0.06926108986757455\n",
      "train_acc, test_acc | 0.9817, 0.9696\n",
      "Epoch 76.0 / Loss 0.09849525145523928\n",
      "train_acc, test_acc | 0.9818333333333333, 0.97\n",
      "Epoch 77.0 / Loss 0.021382487321451902\n",
      "train_acc, test_acc | 0.9819666666666667, 0.9703\n",
      "Epoch 78.0 / Loss 0.048355664972638567\n",
      "train_acc, test_acc | 0.9818833333333333, 0.9697\n",
      "Epoch 79.0 / Loss 0.04297936552678653\n",
      "train_acc, test_acc | 0.9823166666666666, 0.9697\n",
      "Epoch 80.0 / Loss 0.036929945992805566\n",
      "train_acc, test_acc | 0.9826833333333334, 0.9696\n",
      "Epoch 81.0 / Loss 0.07669370445553966\n",
      "train_acc, test_acc | 0.9826, 0.9696\n",
      "Epoch 82.0 / Loss 0.08978288490716359\n",
      "train_acc, test_acc | 0.9829666666666667, 0.9703\n",
      "Epoch 83.0 / Loss 0.0502431404033849\n",
      "train_acc, test_acc | 0.9831333333333333, 0.9716\n"
     ]
    }
   ],
   "source": [
    "# 하이퍼 파라미터\n",
    "iters_num = 50000\n",
    "train_size = x_train.shape[0]  # 60000개 data\n",
    "batch_size = 100 # 미니배치 크기\n",
    "learning_rate = 0.1\n",
    "\n",
    "train_loss_list = []\n",
    "train_acc_list = []\n",
    "test_acc_list = []\n",
    "\n",
    "# 1 epoch 당 반복 수\n",
    "iter_per_epoch = max(train_size / batch_size, 1)\n",
    "\n",
    "W1, b1, W2, b2 = init_params(784, 50, 10)\n",
    "\n",
    "for i in range(iters_num):\n",
    "    # 미니배치 획득\n",
    "    batch_mask = np.random.choice(train_size, batch_size)\n",
    "    x_batch = x_train_reshaped[batch_mask]\n",
    "    y_batch = y_train[batch_mask]\n",
    "    \n",
    "    W1, b1, W2, b2, Loss = train_step(x_batch, y_batch, W1, b1, W2, b2, learning_rate=learning_rate, verbose=False)\n",
    "    \n",
    "    # 학습경과 기록\n",
    "    train_loss_list.append(Loss)\n",
    "    \n",
    "    if i % iter_per_epoch == 0:\n",
    "        epoch = i // iter_per_epoch\n",
    "        print('Epoch {} / Loss {}'.format(epoch, Loss))\n",
    "        train_acc = accuracy(W1, b1, W2, b2, x_train_reshaped, y_train)\n",
    "        test_acc = accuracy(W1, b1, W2, b2, x_test_reshaped, y_test)\n",
    "        train_acc_list.append(train_acc)\n",
    "        test_acc_list.append(test_acc)\n",
    "        print('train_acc, test_acc | ' + str(train_acc) + ', ' + str(test_acc))"
   ]
  },
  {
   "cell_type": "code",
   "execution_count": 29,
   "metadata": {},
   "outputs": [
    {
     "data": {
      "image/png": "[encoded data removed]",
      "text/plain": [
       "<Figure size 864x432 with 1 Axes>"
      ]
     },
     "metadata": {
      "needs_background": "light"
     },
     "output_type": "display_data"
    }
   ],
   "source": [
    "from matplotlib.pylab import rcParams\n",
    "rcParams['figure.figsize'] = 12, 6\n",
    "\n",
    "# Accuracy 그리기\n",
    "markers = {'train': 'o', 'test': 's'}\n",
    "x = np.arange(len(train_acc_list))\n",
    "plt.plot(x, train_acc_list, label='train_acc')\n",
    "plt.plot(x, test_acc_list, label='test_acc', linestyle='--')\n",
    "plt.xlabel('epochs')\n",
    "plt.ylabel('accuracy')\n",
    "plt.ylim(0, 1.0)\n",
    "plt.legend(loc='lower right')\n",
    "plt.show()"
   ]
  },
  {
   "cell_type": "code",
   "execution_count": 30,
   "metadata": {},
   "outputs": [
    {
     "data": {
      "image/png": "[encoded data removed]",
      "text/plain": [
       "<Figure size 864x432 with 1 Axes>"
      ]
     },
     "metadata": {
      "needs_background": "light"
     },
     "output_type": "display_data"
    }
   ],
   "source": [
    "# Loss 그래프 그리기\n",
    "x = np.arange(len(train_loss_list))\n",
    "plt.plot(x, train_loss_list, label = 'train loss')\n",
    "plt.xlabel('epochs')\n",
    "plt.ylabel('Loss')\n",
    "plt.ylim(0, 3.0)\n",
    "plt.legend(loc='best')\n",
    "plt.show()"
   ]
  }
 ],
 "metadata": {
  "kernelspec": {
   "display_name": "aiffel",
   "language": "python",
   "name": "aiffel"
  },
  "language_info": {
   "codemirror_mode": {
    "name": "ipython",
    "version": 3
   },
   "file_extension": ".py",
   "mimetype": "text/x-python",
   "name": "python",
   "nbconvert_exporter": "python",
   "pygments_lexer": "ipython3",
   "version": "3.7.6"
  },
  "toc": {
   "base_numbering": 1,
   "nav_menu": {},
   "number_sections": true,
   "sideBar": true,
   "skip_h1_title": false,
   "title_cell": "Table of Contents",
   "title_sidebar": "Contents",
   "toc_cell": false,
   "toc_position": {},
   "toc_section_display": true,
   "toc_window_display": false
  },
  "varInspector": {
   "cols": {
    "lenName": 16,
    "lenType": 16,
    "lenVar": 40
   },
   "kernels_config": {
    "python": {
     "delete_cmd_postfix": "",
     "delete_cmd_prefix": "del ",
     "library": "var_list.py",
     "varRefreshCmd": "print(var_dic_list())"
    },
    "r": {
     "delete_cmd_postfix": ") ",
     "delete_cmd_prefix": "rm(",
     "library": "var_list.r",
     "varRefreshCmd": "cat(var_dic_list()) "
    }
   },
   "types_to_exclude": [
    "module",
    "function",
    "builtin_function_or_method",
    "instance",
    "_Feature"
   ],
   "window_display": false
  }
 },
 "nbformat": 4,
 "nbformat_minor": 4
}
