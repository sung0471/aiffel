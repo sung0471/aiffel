{
 "cells": [
  {
   "cell_type": "code",
   "execution_count": 1,
   "metadata": {},
   "outputs": [],
   "source": [
    "# 미분함수 작성\n",
    "\n",
    "def derivative(f, var):\n",
    "  h=1e-5\n",
    "  f_deriv = (f(var+h) - f(var-h)) / 2*h\n",
    "  return f_deriv"
   ]
  },
  {
   "cell_type": "code",
   "execution_count": 2,
   "metadata": {},
   "outputs": [
    {
     "data": {
      "text/plain": [
       "6.000000000039308e-10"
      ]
     },
     "execution_count": 2,
     "metadata": {},
     "output_type": "execute_result"
    }
   ],
   "source": [
    "# x^2의 미분\n",
    "def func(x):\n",
    "    return x**2\n",
    "\n",
    "derfunc = derivative(func, 3)\n",
    "\n",
    "derfunc"
   ]
  },
  {
   "cell_type": "code",
   "execution_count": 3,
   "metadata": {},
   "outputs": [],
   "source": [
    "# x^3+10의 미분\n",
    "def func2(x):\n",
    "    return (x**3 + 10)\n",
    "\n",
    "def derivative(f, var):\n",
    "        h = 1e-5\n",
    "        f_deriv = (f(var+h) - f(var-h)) / 2*h\n",
    "        return f_deriv"
   ]
  },
  {
   "cell_type": "code",
   "execution_count": 4,
   "metadata": {},
   "outputs": [
    {
     "name": "stdout",
     "output_type": "stream",
     "text": [
      "2.999999999872216e-08\n"
     ]
    }
   ],
   "source": [
    "# f`(10)\n",
    "print(derivative(func2, 10))"
   ]
  }
 ],
 "metadata": {
  "kernelspec": {
   "display_name": "aiffel",
   "language": "python",
   "name": "aiffel"
  },
  "language_info": {
   "codemirror_mode": {
    "name": "ipython",
    "version": 3
   },
   "file_extension": ".py",
   "mimetype": "text/x-python",
   "name": "python",
   "nbconvert_exporter": "python",
   "pygments_lexer": "ipython3",
   "version": "3.7.6"
  }
 },
 "nbformat": 4,
 "nbformat_minor": 4
}
