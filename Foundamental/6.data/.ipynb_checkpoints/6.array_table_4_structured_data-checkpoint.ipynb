{
 "cells": [
  {
   "cell_type": "markdown",
   "metadata": {},
   "source": [
    "## dict의 기본구조"
   ]
  },
  {
   "cell_type": "code",
   "execution_count": 2,
   "metadata": {},
   "outputs": [
    {
     "name": "stdout",
     "output_type": "stream",
     "text": [
      "Congraturation!! you got a treasure box\n",
      "you have rope 2pcs\n",
      "you have apple 10pcs\n",
      "you have torch 6pcs\n",
      "you have gold coin 50pcs\n",
      "you have knife 1pcs\n",
      "you have arrow 30pcs\n"
     ]
    }
   ],
   "source": [
    "treasure_box = {'rope':2, \n",
    "                'apple':10, \n",
    "                'torch': 6, \n",
    "                'gold coin': 50, \n",
    "                'knife': 1, \n",
    "                'arrow': 30}\n",
    "\n",
    "def display_stuff(treasure_box):\n",
    "    print(\"Congraturation!! you got a treasure box\")\n",
    "    for k, v in treasure_box.items():\n",
    "        print(\"you have {} {}pcs\".format(k, v))\n",
    "display_stuff(treasure_box)"
   ]
  },
  {
   "cell_type": "markdown",
   "metadata": {},
   "source": [
    "## 두 dict을 이용한 프로그래밍"
   ]
  },
  {
   "cell_type": "code",
   "execution_count": 4,
   "metadata": {},
   "outputs": [
    {
     "name": "stdout",
     "output_type": "stream",
     "text": [
      "rope : 1coins/pcs * 2pcs = 2 coins\n",
      "apple : 2coins/pcs * 10pcs = 20 coins\n",
      "torch : 2coins/pcs * 6pcs = 12 coins\n",
      "gold coin : 5coins/pcs * 50pcs = 250 coins\n",
      "knife : 30coins/pcs * 1pcs = 30 coins\n",
      "arrow : 1coins/pcs * 30pcs = 30 coins\n",
      "total_coin :  344\n"
     ]
    }
   ],
   "source": [
    "coin_per_treasure = {'rope':1,\n",
    "        'apple':2,\n",
    "        'torch': 2,\n",
    "        'gold coin': 5, \n",
    "        'knife': 30,\n",
    "        'arrow': 1}\n",
    "\n",
    "def total_silver(treasure_box, coin_per_treasure):\n",
    "    total_coin = 0\n",
    "    for treasure in treasure_box:\n",
    "        coin = coin_per_treasure[treasure] * treasure_box[treasure]\n",
    "        print(\"{} : {}coins/pcs * {}pcs = {} coins\".format(\n",
    "          treasure, coin_per_treasure[treasure], treasure_box[treasure], coin))\n",
    "        total_coin += coin\n",
    "    print('total_coin : ', total_coin)\n",
    "total_silver(treasure_box, coin_per_treasure)"
   ]
  },
  {
   "cell_type": "markdown",
   "metadata": {},
   "source": [
    "## dict{dict}의 구조"
   ]
  },
  {
   "cell_type": "code",
   "execution_count": 6,
   "metadata": {},
   "outputs": [
    {
     "data": {
      "text/plain": [
       "{'coin': 1, 'pcs': 2}"
      ]
     },
     "execution_count": 6,
     "metadata": {},
     "output_type": "execute_result"
    }
   ],
   "source": [
    "treasure_box = {'rope': {'coin': 1, 'pcs': 2},\n",
    "                'apple': {'coin': 2, 'pcs': 10},\n",
    "                'torch': {'coin': 2, 'pcs': 6},\n",
    "                'gold coin': {'coin': 5, 'pcs': 50},\n",
    "                'knife': {'coin': 1, 'pcs': 30}}\n",
    "treasure_box['rope']"
   ]
  },
  {
   "cell_type": "code",
   "execution_count": 8,
   "metadata": {},
   "outputs": [
    {
     "name": "stdout",
     "output_type": "stream",
     "text": [
      "You get rope 2pcs\n",
      "You get apple 10pcs\n",
      "You get torch 6pcs\n",
      "You get gold coin 50pcs\n",
      "You get knife 30pcs\n"
     ]
    }
   ],
   "source": [
    "def display_stuff(treasure_box):\n",
    "    ## type your code\n",
    "    for key, value in treasure_box.items():\n",
    "        print('You get {} {}pcs'.format(key, value['pcs']))\n",
    "\n",
    "display_stuff(treasure_box)"
   ]
  },
  {
   "cell_type": "code",
   "execution_count": 9,
   "metadata": {},
   "outputs": [
    {
     "name": "stdout",
     "output_type": "stream",
     "text": [
      "rope : 1 coins/pcs * 2 pcs = 2 coins\n",
      "apple : 2 coins/pcs * 10 pcs = 20 coins\n",
      "torch : 2 coins/pcs * 6 pcs = 12 coins\n",
      "gold coin : 5 coins/pcs * 50 pcs = 250 coins\n",
      "knife : 1 coins/pcs * 30 pcs = 30 coins\n"
     ]
    }
   ],
   "source": [
    "def total_silver(treasure_box):\n",
    "    ## type your code\n",
    "    for key, value in treasure_box.items():\n",
    "        coin = value['coin']\n",
    "        pcs = value['pcs']\n",
    "        silver = coin * pcs\n",
    "        print(f'{key} : {coin} coins/pcs * {pcs} pcs = {silver} coins')\n",
    "    \n",
    "  \n",
    "total_silver(treasure_box)"
   ]
  },
  {
   "cell_type": "markdown",
   "metadata": {},
   "source": [
    "## Pandas"
   ]
  },
  {
   "cell_type": "markdown",
   "metadata": {},
   "source": [
    "## 배열 데이터를 pandas.Series 객체로 변환"
   ]
  },
  {
   "cell_type": "code",
   "execution_count": 12,
   "metadata": {},
   "outputs": [
    {
     "data": {
      "text/plain": [
       "0    a\n",
       "1    b\n",
       "2    c\n",
       "3    3\n",
       "dtype: object"
      ]
     },
     "execution_count": 12,
     "metadata": {},
     "output_type": "execute_result"
    }
   ],
   "source": [
    "import pandas as pd\n",
    "ser = pd.Series(['a','b','c',3])\n",
    "ser"
   ]
  },
  {
   "cell_type": "code",
   "execution_count": 13,
   "metadata": {},
   "outputs": [
    {
     "data": {
      "text/plain": [
       "array(['a', 'b', 'c', 3], dtype=object)"
      ]
     },
     "execution_count": 13,
     "metadata": {},
     "output_type": "execute_result"
    }
   ],
   "source": [
    "ser.values"
   ]
  },
  {
   "cell_type": "code",
   "execution_count": 14,
   "metadata": {},
   "outputs": [
    {
     "data": {
      "text/plain": [
       "RangeIndex(start=0, stop=4, step=1)"
      ]
     },
     "execution_count": 14,
     "metadata": {},
     "output_type": "execute_result"
    }
   ],
   "source": [
    "ser.index"
   ]
  },
  {
   "cell_type": "markdown",
   "metadata": {},
   "source": [
    "#### array형태의 Series.index는 RangeIndex라는 객체의 범위형태로 출력"
   ]
  },
  {
   "cell_type": "markdown",
   "metadata": {},
   "source": [
    "## Index를 지정한 Series 객체"
   ]
  },
  {
   "cell_type": "code",
   "execution_count": 15,
   "metadata": {},
   "outputs": [
    {
     "data": {
      "text/plain": [
       "i    a\n",
       "j    b\n",
       "k    c\n",
       "h    3\n",
       "dtype: object"
      ]
     },
     "execution_count": 15,
     "metadata": {},
     "output_type": "execute_result"
    }
   ],
   "source": [
    "ser2 = pd.Series(['a', 'b', 'c', 3], index=['i','j','k','h'])\n",
    "ser2"
   ]
  },
  {
   "cell_type": "code",
   "execution_count": 17,
   "metadata": {},
   "outputs": [
    {
     "data": {
      "text/plain": [
       "Jhon     a\n",
       "Steve    b\n",
       "Jack     c\n",
       "Bob      3\n",
       "dtype: object"
      ]
     },
     "execution_count": 17,
     "metadata": {},
     "output_type": "execute_result"
    }
   ],
   "source": [
    "ser2.index = ['Jhon', 'Steve', 'Jack', 'Bob']\n",
    "ser2"
   ]
  },
  {
   "cell_type": "code",
   "execution_count": 18,
   "metadata": {},
   "outputs": [
    {
     "data": {
      "text/plain": [
       "Index(['Jhon', 'Steve', 'Jack', 'Bob'], dtype='object')"
      ]
     },
     "execution_count": 18,
     "metadata": {},
     "output_type": "execute_result"
    }
   ],
   "source": [
    "ser2.index"
   ]
  },
  {
   "cell_type": "markdown",
   "metadata": {},
   "source": [
    "#### RangeIndex가 아닌 Index타입의 객체로 반환됨"
   ]
  },
  {
   "cell_type": "markdown",
   "metadata": {},
   "source": [
    "## 전화번호 예시"
   ]
  },
  {
   "cell_type": "code",
   "execution_count": 21,
   "metadata": {},
   "outputs": [
    {
     "data": {
      "text/plain": [
       "Korea      82\n",
       "America     1\n",
       "Swiss      41\n",
       "Italy      39\n",
       "Japan      81\n",
       "China      86\n",
       "Rusia       7\n",
       "dtype: int64"
      ]
     },
     "execution_count": 21,
     "metadata": {},
     "output_type": "execute_result"
    }
   ],
   "source": [
    "Country_PhoneNumber = {'Korea': 82, 'America': 1, 'Swiss': 41, 'Italy': 39, 'Japan': 81, 'China': 86, 'Rusia': 7}\n",
    "ser3 = pd.Series(Country_PhoneNumber)\n",
    "ser3"
   ]
  },
  {
   "cell_type": "code",
   "execution_count": 22,
   "metadata": {},
   "outputs": [
    {
     "data": {
      "text/plain": [
       "82"
      ]
     },
     "execution_count": 22,
     "metadata": {},
     "output_type": "execute_result"
    }
   ],
   "source": [
    "ser3['Korea']"
   ]
  },
  {
   "cell_type": "markdown",
   "metadata": {},
   "source": [
    "### Slicing이 가능함 (index는 순서대로 되어있음)"
   ]
  },
  {
   "cell_type": "code",
   "execution_count": 23,
   "metadata": {},
   "outputs": [
    {
     "data": {
      "text/plain": [
       "Italy    39\n",
       "Japan    81\n",
       "China    86\n",
       "Rusia     7\n",
       "dtype: int64"
      ]
     },
     "execution_count": 23,
     "metadata": {},
     "output_type": "execute_result"
    }
   ],
   "source": [
    "ser3['Italy':]"
   ]
  },
  {
   "cell_type": "markdown",
   "metadata": {},
   "source": [
    "### Dataframe의 이름과 Index 이름을 설정할 수 있음"
   ]
  },
  {
   "cell_type": "code",
   "execution_count": 24,
   "metadata": {},
   "outputs": [
    {
     "data": {
      "text/plain": [
       "Country_Name\n",
       "Korea      82\n",
       "America     1\n",
       "Swiss      41\n",
       "Italy      39\n",
       "Japan      81\n",
       "China      86\n",
       "Rusia       7\n",
       "Name: Country_PhoneNumber, dtype: int64"
      ]
     },
     "execution_count": 24,
     "metadata": {},
     "output_type": "execute_result"
    }
   ],
   "source": [
    "ser3.name = 'Country_PhoneNumber'\n",
    "ser3.index.name = 'Country_Name'\n",
    "ser3"
   ]
  },
  {
   "cell_type": "markdown",
   "metadata": {},
   "source": [
    "## Series와 DataFrame"
   ]
  },
  {
   "cell_type": "code",
   "execution_count": 28,
   "metadata": {},
   "outputs": [
    {
     "data": {
      "text/plain": [
       "Region      [Korea, America, Chaina, Canada, Italy]\n",
       "Sales                      [300, 200, 500, 150, 50]\n",
       "Amount                        [90, 80, 100, 30, 10]\n",
       "Employee                         [20, 10, 30, 5, 3]\n",
       "dtype: object"
      ]
     },
     "execution_count": 28,
     "metadata": {},
     "output_type": "execute_result"
    }
   ],
   "source": [
    "data = {'Region' : ['Korea', 'America', 'Chaina', 'Canada', 'Italy'],\n",
    "        'Sales' : [300, 200, 500, 150, 50],\n",
    "        'Amount' : [90, 80, 100, 30, 10],\n",
    "        'Employee' : [20, 10, 30, 5, 3]\n",
    "        }\n",
    "s = pd.Series(data)\n",
    "s"
   ]
  },
  {
   "cell_type": "code",
   "execution_count": 29,
   "metadata": {},
   "outputs": [
    {
     "data": {
      "text/html": [
       "<div>\n",
       "<style scoped>\n",
       "    .dataframe tbody tr th:only-of-type {\n",
       "        vertical-align: middle;\n",
       "    }\n",
       "\n",
       "    .dataframe tbody tr th {\n",
       "        vertical-align: top;\n",
       "    }\n",
       "\n",
       "    .dataframe thead th {\n",
       "        text-align: right;\n",
       "    }\n",
       "</style>\n",
       "<table border=\"1\" class=\"dataframe\">\n",
       "  <thead>\n",
       "    <tr style=\"text-align: right;\">\n",
       "      <th></th>\n",
       "      <th>Region</th>\n",
       "      <th>Sales</th>\n",
       "      <th>Amount</th>\n",
       "      <th>Employee</th>\n",
       "    </tr>\n",
       "  </thead>\n",
       "  <tbody>\n",
       "    <tr>\n",
       "      <th>0</th>\n",
       "      <td>Korea</td>\n",
       "      <td>300</td>\n",
       "      <td>90</td>\n",
       "      <td>20</td>\n",
       "    </tr>\n",
       "    <tr>\n",
       "      <th>1</th>\n",
       "      <td>America</td>\n",
       "      <td>200</td>\n",
       "      <td>80</td>\n",
       "      <td>10</td>\n",
       "    </tr>\n",
       "    <tr>\n",
       "      <th>2</th>\n",
       "      <td>Chaina</td>\n",
       "      <td>500</td>\n",
       "      <td>100</td>\n",
       "      <td>30</td>\n",
       "    </tr>\n",
       "    <tr>\n",
       "      <th>3</th>\n",
       "      <td>Canada</td>\n",
       "      <td>150</td>\n",
       "      <td>30</td>\n",
       "      <td>5</td>\n",
       "    </tr>\n",
       "    <tr>\n",
       "      <th>4</th>\n",
       "      <td>Italy</td>\n",
       "      <td>50</td>\n",
       "      <td>10</td>\n",
       "      <td>3</td>\n",
       "    </tr>\n",
       "  </tbody>\n",
       "</table>\n",
       "</div>"
      ],
      "text/plain": [
       "    Region  Sales  Amount  Employee\n",
       "0    Korea    300      90        20\n",
       "1  America    200      80        10\n",
       "2   Chaina    500     100        30\n",
       "3   Canada    150      30         5\n",
       "4    Italy     50      10         3"
      ]
     },
     "execution_count": 29,
     "metadata": {},
     "output_type": "execute_result"
    }
   ],
   "source": [
    "s = pd.DataFrame(data)\n",
    "s"
   ]
  },
  {
   "cell_type": "code",
   "execution_count": 30,
   "metadata": {},
   "outputs": [
    {
     "data": {
      "text/plain": [
       "Index(['Region', 'Sales', 'Amount', 'Employee'], dtype='object')"
      ]
     },
     "execution_count": 30,
     "metadata": {},
     "output_type": "execute_result"
    }
   ],
   "source": [
    "s.columns"
   ]
  },
  {
   "cell_type": "code",
   "execution_count": 31,
   "metadata": {},
   "outputs": [
    {
     "data": {
      "text/plain": [
       "RangeIndex(start=0, stop=5, step=1)"
      ]
     },
     "execution_count": 31,
     "metadata": {},
     "output_type": "execute_result"
    }
   ],
   "source": [
    "s.index"
   ]
  },
  {
   "cell_type": "code",
   "execution_count": 32,
   "metadata": {},
   "outputs": [
    {
     "data": {
      "text/html": [
       "<div>\n",
       "<style scoped>\n",
       "    .dataframe tbody tr th:only-of-type {\n",
       "        vertical-align: middle;\n",
       "    }\n",
       "\n",
       "    .dataframe tbody tr th {\n",
       "        vertical-align: top;\n",
       "    }\n",
       "\n",
       "    .dataframe thead th {\n",
       "        text-align: right;\n",
       "    }\n",
       "</style>\n",
       "<table border=\"1\" class=\"dataframe\">\n",
       "  <thead>\n",
       "    <tr style=\"text-align: right;\">\n",
       "      <th></th>\n",
       "      <th>a</th>\n",
       "      <th>b</th>\n",
       "      <th>c</th>\n",
       "      <th>d</th>\n",
       "    </tr>\n",
       "  </thead>\n",
       "  <tbody>\n",
       "    <tr>\n",
       "      <th>one</th>\n",
       "      <td>Korea</td>\n",
       "      <td>300</td>\n",
       "      <td>90</td>\n",
       "      <td>20</td>\n",
       "    </tr>\n",
       "    <tr>\n",
       "      <th>two</th>\n",
       "      <td>America</td>\n",
       "      <td>200</td>\n",
       "      <td>80</td>\n",
       "      <td>10</td>\n",
       "    </tr>\n",
       "    <tr>\n",
       "      <th>three</th>\n",
       "      <td>Chaina</td>\n",
       "      <td>500</td>\n",
       "      <td>100</td>\n",
       "      <td>30</td>\n",
       "    </tr>\n",
       "    <tr>\n",
       "      <th>four</th>\n",
       "      <td>Canada</td>\n",
       "      <td>150</td>\n",
       "      <td>30</td>\n",
       "      <td>5</td>\n",
       "    </tr>\n",
       "    <tr>\n",
       "      <th>five</th>\n",
       "      <td>Italy</td>\n",
       "      <td>50</td>\n",
       "      <td>10</td>\n",
       "      <td>3</td>\n",
       "    </tr>\n",
       "  </tbody>\n",
       "</table>\n",
       "</div>"
      ],
      "text/plain": [
       "             a    b    c   d\n",
       "one      Korea  300   90  20\n",
       "two    America  200   80  10\n",
       "three   Chaina  500  100  30\n",
       "four    Canada  150   30   5\n",
       "five     Italy   50   10   3"
      ]
     },
     "execution_count": 32,
     "metadata": {},
     "output_type": "execute_result"
    }
   ],
   "source": [
    "s.index=['one','two','three','four','five']\n",
    "s.columns = ['a','b','c','d']\n",
    "s"
   ]
  },
  {
   "cell_type": "code",
   "execution_count": 36,
   "metadata": {},
   "outputs": [
    {
     "data": {
      "image/png": "[encoded data removed]",
      "text/plain": [
       "<PIL.PngImagePlugin.PngImageFile image mode=RGBA size=800x460 at 0x7F3EC28FCC90>"
      ]
     },
     "execution_count": 36,
     "metadata": {},
     "output_type": "execute_result"
    }
   ],
   "source": [
    "from PIL import Image\n",
    "import os\n",
    "img_path = os.getcwd() + '/f-11-10.1.max-800x600.png'\n",
    "img = Image.open(img_path)\n",
    "img"
   ]
  },
  {
   "cell_type": "code",
   "execution_count": null,
   "metadata": {},
   "outputs": [],
   "source": []
  }
 ],
 "metadata": {
  "kernelspec": {
   "display_name": "aiffel",
   "language": "python",
   "name": "aiffel"
  },
  "language_info": {
   "codemirror_mode": {
    "name": "ipython",
    "version": 3
   },
   "file_extension": ".py",
   "mimetype": "text/x-python",
   "name": "python",
   "nbconvert_exporter": "python",
   "pygments_lexer": "ipython3",
   "version": "3.7.6"
  }
 },
 "nbformat": 4,
 "nbformat_minor": 4
}
