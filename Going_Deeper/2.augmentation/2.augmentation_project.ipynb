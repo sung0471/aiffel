{
 "cells": [
  {
   "cell_type": "markdown",
   "metadata": {},
   "source": [
    "## Project: CutMix, Mixup 비교실험"
   ]
  },
  {
   "cell_type": "markdown",
   "metadata": {},
   "source": [
    "## import"
   ]
  },
  {
   "cell_type": "code",
   "execution_count": 1,
   "metadata": {},
   "outputs": [],
   "source": [
    "# TensorFlow and tf.keras\n",
    "import tensorflow as tf\n",
    "from tensorflow import keras\n",
    "\n",
    "# Helper libraries\n",
    "import numpy as np\n",
    "import matplotlib.pyplot as plt\n",
    "\n",
    "import tensorflow_datasets as tfds"
   ]
  },
  {
   "cell_type": "markdown",
   "metadata": {},
   "source": [
    "### load dataset"
   ]
  },
  {
   "cell_type": "code",
   "execution_count": 2,
   "metadata": {},
   "outputs": [],
   "source": [
    "import urllib3\n",
    "urllib3.disable_warnings()\n",
    "(ds_train, ds_test), ds_info = tfds.load(\n",
    "    'stanford_dogs',\n",
    "    split=['train', 'test'],\n",
    "    shuffle_files=True,\n",
    "    with_info=True,\n",
    ")"
   ]
  },
  {
   "cell_type": "markdown",
   "metadata": {},
   "source": [
    "## normalization and augmentation"
   ]
  },
  {
   "cell_type": "markdown",
   "metadata": {},
   "source": [
    "### Onehot"
   ]
  },
  {
   "cell_type": "code",
   "execution_count": 3,
   "metadata": {},
   "outputs": [],
   "source": [
    "def onehot(image, label, prob = 1.0, batch_size=16, img_size=224, num_classes=120):\n",
    "    onehot_imgs = []\n",
    "    onehot_labels = []\n",
    "    for i in range(batch_size):\n",
    "        onehot_imgs.append(image[i])\n",
    "        onehot_labels.append(tf.one_hot(label[i], num_classes))\n",
    "\n",
    "    onehot_imgs = tf.reshape(tf.stack(onehot_imgs),(batch_size, img_size, img_size, 3))\n",
    "    onehot_labels = tf.reshape(tf.stack(onehot_labels),(batch_size, num_classes))\n",
    "\n",
    "    return onehot_imgs, onehot_labels"
   ]
  },
  {
   "cell_type": "markdown",
   "metadata": {},
   "source": [
    "### cutmix"
   ]
  },
  {
   "cell_type": "code",
   "execution_count": 4,
   "metadata": {},
   "outputs": [],
   "source": [
    "def get_clip_box(image_a, image_b, img_size=224):\n",
    "    # get center of box\n",
    "    x = tf.cast( tf.random.uniform([],0, img_size),tf.int32)\n",
    "    y = tf.cast( tf.random.uniform([],0, img_size),tf.int32)\n",
    "\n",
    "    # get width of box\n",
    "    _prob = tf.random.uniform([],0,1)\n",
    "    width = tf.cast(img_size * tf.math.sqrt(1-_prob),tf.int32)\n",
    "    \n",
    "    # clip box in image and get minmax bbox\n",
    "    xa = tf.math.maximum(0, x-width//2)\n",
    "    ya = tf.math.maximum(0, y-width//2)\n",
    "    yb = tf.math.minimum(img_size, y+width//2)\n",
    "    xb = tf.math.minimum(img_size, x+width//2)\n",
    "    \n",
    "    return xa, ya, xb, yb\n",
    "\n",
    "# xa, ya, xb, yb = get_clip_box(image_a, image_b)\n",
    "# print(xa, ya, xb, yb)"
   ]
  },
  {
   "cell_type": "code",
   "execution_count": 5,
   "metadata": {},
   "outputs": [],
   "source": [
    "# mix two images\n",
    "def mix_2_images(image_a, image_b, xa, ya, xb, yb, img_size=224):\n",
    "    one = image_a[ya:yb,0:xa,:]\n",
    "    two = image_b[ya:yb,xa:xb,:]\n",
    "    three = image_a[ya:yb,xb:img_size,:]\n",
    "    middle = tf.concat([one,two,three],axis=1)\n",
    "    top = image_a[0:ya,:,:]\n",
    "    bottom = image_a[yb:img_size,:,:]\n",
    "    mixed_img = tf.concat([top, middle, bottom],axis=0)\n",
    "    \n",
    "    return mixed_img\n",
    "\n",
    "# mixed_img = mix_2_images(image_a, image_b, xa, ya, xb, yb)\n",
    "# plt.imshow(mixed_img.numpy())"
   ]
  },
  {
   "cell_type": "code",
   "execution_count": 6,
   "metadata": {},
   "outputs": [],
   "source": [
    "# mix two labels\n",
    "def mix_2_label(label_a, label_b, xa, ya, xb, yb, img_size=224, num_classes=120):\n",
    "    mixed_area = (xb-xa)*(yb-ya)\n",
    "    total_area = img_size*img_size\n",
    "    a = tf.cast(mixed_area/total_area, tf.float32)\n",
    "\n",
    "    if len(label_a.shape)==0:\n",
    "        label_a = tf.one_hot(label_a, num_classes)\n",
    "    if len(label_b.shape)==0:\n",
    "        label_b = tf.one_hot(label_b, num_classes)\n",
    "    mixed_label = (1-a)*label_a + a*label_b\n",
    "    return mixed_label\n",
    "\n",
    "# mixed_label = mix_2_label(label_a, label_b, xa, ya, xb, yb)\n",
    "# mixed_label"
   ]
  },
  {
   "cell_type": "code",
   "execution_count": 7,
   "metadata": {},
   "outputs": [],
   "source": [
    "def cutmix(image, label, prob = 1.0, batch_size=16, img_size=224, num_classes=120):\n",
    "    mixed_imgs = []\n",
    "    mixed_labels = []\n",
    "\n",
    "    for i in range(batch_size):\n",
    "        image_a = image[i]\n",
    "        label_a = label[i]\n",
    "        j = tf.cast(tf.random.uniform([],0, batch_size),tf.int32)\n",
    "        image_b = image[j]\n",
    "        label_b = label[j]\n",
    "        xa, ya, xb, yb = get_clip_box(image_a, image_b)\n",
    "        mixed_imgs.append(mix_2_images(image_a, image_b, xa, ya, xb, yb))\n",
    "        mixed_labels.append(mix_2_label(label_a, label_b, xa, ya, xb, yb))\n",
    "\n",
    "    mixed_imgs = tf.reshape(tf.stack(mixed_imgs),(batch_size, img_size, img_size, 3))\n",
    "    mixed_labels = tf.reshape(tf.stack(mixed_labels),(batch_size, num_classes))\n",
    "    return mixed_imgs, mixed_labels"
   ]
  },
  {
   "cell_type": "markdown",
   "metadata": {},
   "source": [
    "### Mixup"
   ]
  },
  {
   "cell_type": "code",
   "execution_count": 8,
   "metadata": {},
   "outputs": [],
   "source": [
    "# function for mixup\n",
    "def mixup_2_images(image_a, image_b, label_a, label_b):\n",
    "    a = tf.random.uniform([],0,1)\n",
    "    \n",
    "    if len(label_a.shape)==0:\n",
    "        label_a = tf.one_hot(label_a, num_classes)\n",
    "    if len(label_b.shape)==0:\n",
    "        label_b = tf.one_hot(label_b, num_classes)\n",
    "    mixed_image= (1-a)*image_a + a*image_b\n",
    "    mixed_label = (1-a)*label_a + a*label_b\n",
    "    \n",
    "    return mixed_image, mixed_label\n",
    "\n",
    "# mixed_img, _ = mixup_2_images(image_a, image_b, label_a, label_b)\n",
    "# plt.imshow(mixed_img.numpy())\n",
    "# print(mixed_label)"
   ]
  },
  {
   "cell_type": "code",
   "execution_count": 9,
   "metadata": {},
   "outputs": [],
   "source": [
    "def mixup(image, label, prob = 1.0, batch_size=16, img_size=224, num_classes=120):\n",
    "    mixed_imgs = []\n",
    "    mixed_labels = []\n",
    "\n",
    "    for i in range(batch_size):\n",
    "        image_a = image[i]\n",
    "        label_a = label[i]\n",
    "        j = tf.cast(tf.random.uniform([],0, batch_size),tf.int32)\n",
    "        image_b = image[j]\n",
    "        label_b = label[j]\n",
    "        mixed_img, mixed_label = mixup_2_images(image_a, image_b, label_a, label_b)\n",
    "        mixed_imgs.append(mixed_img)\n",
    "        mixed_labels.append(mixed_label)\n",
    "\n",
    "    mixed_imgs = tf.reshape(tf.stack(mixed_imgs),(batch_size, img_size, img_size, 3))\n",
    "    mixed_labels = tf.reshape(tf.stack(mixed_labels),(batch_size, num_classes))\n",
    "    return mixed_imgs, mixed_labels"
   ]
  },
  {
   "cell_type": "code",
   "execution_count": 10,
   "metadata": {},
   "outputs": [],
   "source": [
    "def normalize_and_resize_img(image, label):\n",
    "    \"\"\"Normalizes images: `uint8` -> `float32`.\"\"\"\n",
    "    image = tf.image.resize(image, [224, 224])\n",
    "    return tf.cast(image, tf.float32) / 255., label\n",
    "\n",
    "def augment(image,label):\n",
    "    image = tf.image.random_flip_left_right(image)\n",
    "    image = tf.image.random_brightness(image, max_delta=0.2)\n",
    "    return image,label\n",
    "\n",
    "def apply_normalize_on_dataset(ds, is_test=False, batch_size=16, with_aug=False, with_cutmix=False, with_mixup=False):\n",
    "    ds = ds.map(\n",
    "        normalize_and_resize_img, \n",
    "        num_parallel_calls=2\n",
    "    )\n",
    "    if not is_test and with_aug:\n",
    "        ds = ds.map(\n",
    "            augment\n",
    "        )\n",
    "    ds = ds.batch(batch_size)\n",
    "    if not is_test and with_cutmix:\n",
    "        ds = ds.map(\n",
    "            cutmix,\n",
    "            num_parallel_calls=2\n",
    "        )\n",
    "    elif not is_test and with_mixup:\n",
    "        ds = ds.map(\n",
    "            mixup,\n",
    "            num_parallel_calls=2\n",
    "        )\n",
    "    else:\n",
    "        ds = ds.map(\n",
    "            onehot,\n",
    "            num_parallel_calls=2\n",
    "        )\n",
    "    if not is_test:\n",
    "        ds = ds.repeat()\n",
    "        ds = ds.shuffle(200)\n",
    "    ds = ds.prefetch(tf.data.experimental.AUTOTUNE)\n",
    "    return ds"
   ]
  },
  {
   "cell_type": "markdown",
   "metadata": {},
   "source": [
    "## model training"
   ]
  },
  {
   "cell_type": "code",
   "execution_count": 11,
   "metadata": {},
   "outputs": [],
   "source": [
    "BATCH_SIZE = 16\n",
    "EPOCHS = 20"
   ]
  },
  {
   "cell_type": "code",
   "execution_count": 12,
   "metadata": {},
   "outputs": [],
   "source": [
    "tf.random.set_seed(2020)\n",
    "num_classes = ds_info.features[\"label\"].num_classes"
   ]
  },
  {
   "cell_type": "code",
   "execution_count": 13,
   "metadata": {},
   "outputs": [],
   "source": [
    "(ds_train, ds_test), ds_info = tfds.load(\n",
    "    'stanford_dogs',\n",
    "    split=['train', 'test'],\n",
    "    as_supervised=True,\n",
    "    shuffle_files=True,\n",
    "    with_info=True,\n",
    ")\n",
    "ds_train_no_aug = apply_normalize_on_dataset(ds_train, batch_size=BATCH_SIZE)\n",
    "ds_train_aug = apply_normalize_on_dataset(ds_train, with_aug=True, batch_size=BATCH_SIZE)\n",
    "ds_train_cutmix = apply_normalize_on_dataset(ds_train, with_aug=True, with_cutmix=True, batch_size=BATCH_SIZE)\n",
    "ds_train_mixup = apply_normalize_on_dataset(ds_train, with_aug=True, with_mixup=True, batch_size=BATCH_SIZE)\n",
    "ds_test = apply_normalize_on_dataset(ds_test, is_test = True, batch_size=BATCH_SIZE)"
   ]
  },
  {
   "cell_type": "code",
   "execution_count": 14,
   "metadata": {},
   "outputs": [],
   "source": [
    "import pickle"
   ]
  },
  {
   "cell_type": "code",
   "execution_count": 41,
   "metadata": {},
   "outputs": [
    {
     "name": "stdout",
     "output_type": "stream",
     "text": [
      "Epoch 1/20\n",
      "750/750 [==============================] - 121s 161ms/step - loss: 2.2075 - accuracy: 0.4472 - val_loss: 3.2626 - val_accuracy: 0.2347\n",
      "Epoch 2/20\n",
      "750/750 [==============================] - 122s 162ms/step - loss: 0.7867 - accuracy: 0.7831 - val_loss: 1.1364 - val_accuracy: 0.6720\n",
      "Epoch 3/20\n",
      "750/750 [==============================] - 124s 166ms/step - loss: 0.3096 - accuracy: 0.9268 - val_loss: 0.9508 - val_accuracy: 0.7241\n",
      "Epoch 4/20\n",
      "750/750 [==============================] - 124s 166ms/step - loss: 0.0934 - accuracy: 0.9874 - val_loss: 0.9259 - val_accuracy: 0.7361\n",
      "Epoch 5/20\n",
      "750/750 [==============================] - 125s 166ms/step - loss: 0.0321 - accuracy: 0.9984 - val_loss: 0.8912 - val_accuracy: 0.7458\n",
      "Epoch 6/20\n",
      "750/750 [==============================] - 122s 162ms/step - loss: 0.0325 - accuracy: 0.9983 - val_loss: 0.9292 - val_accuracy: 0.7425\n",
      "Epoch 7/20\n",
      "750/750 [==============================] - 119s 158ms/step - loss: 0.0218 - accuracy: 0.9984 - val_loss: 0.9372 - val_accuracy: 0.7432\n",
      "Epoch 8/20\n",
      "750/750 [==============================] - 118s 157ms/step - loss: 0.0107 - accuracy: 0.9995 - val_loss: 0.9189 - val_accuracy: 0.7502\n",
      "Epoch 9/20\n",
      "750/750 [==============================] - 121s 161ms/step - loss: 0.0064 - accuracy: 0.9999 - val_loss: 0.9205 - val_accuracy: 0.7544\n",
      "Epoch 10/20\n",
      "750/750 [==============================] - 121s 161ms/step - loss: 0.0092 - accuracy: 0.9994 - val_loss: 0.9486 - val_accuracy: 0.7457\n",
      "Epoch 11/20\n",
      "750/750 [==============================] - 121s 161ms/step - loss: 0.0094 - accuracy: 0.9998 - val_loss: 0.9470 - val_accuracy: 0.7494\n",
      "Epoch 12/20\n",
      "750/750 [==============================] - 123s 164ms/step - loss: 0.0128 - accuracy: 0.9987 - val_loss: 0.9693 - val_accuracy: 0.7487\n",
      "Epoch 13/20\n",
      "750/750 [==============================] - 125s 166ms/step - loss: 0.0105 - accuracy: 0.9989 - val_loss: 0.9626 - val_accuracy: 0.7469\n",
      "Epoch 14/20\n",
      "750/750 [==============================] - 124s 165ms/step - loss: 0.0055 - accuracy: 0.9998 - val_loss: 0.9634 - val_accuracy: 0.7503\n",
      "Epoch 15/20\n",
      "750/750 [==============================] - 120s 160ms/step - loss: 0.0065 - accuracy: 0.9995 - val_loss: 0.9678 - val_accuracy: 0.7514\n",
      "Epoch 16/20\n",
      "750/750 [==============================] - 120s 160ms/step - loss: 0.0064 - accuracy: 0.9995 - val_loss: 0.9725 - val_accuracy: 0.7517\n",
      "Epoch 17/20\n",
      "750/750 [==============================] - 120s 160ms/step - loss: 0.0070 - accuracy: 0.9992 - val_loss: 0.9799 - val_accuracy: 0.7476\n",
      "Epoch 18/20\n",
      "750/750 [==============================] - 118s 158ms/step - loss: 0.0048 - accuracy: 0.9997 - val_loss: 1.0234 - val_accuracy: 0.7445\n",
      "Epoch 19/20\n",
      "750/750 [==============================] - 119s 159ms/step - loss: 0.0046 - accuracy: 0.9995 - val_loss: 0.9793 - val_accuracy: 0.7540\n",
      "Epoch 20/20\n",
      "750/750 [==============================] - 119s 159ms/step - loss: 0.0026 - accuracy: 0.9998 - val_loss: 0.9846 - val_accuracy: 0.7520\n"
     ]
    }
   ],
   "source": [
    "model = keras.models.Sequential([\n",
    "    keras.applications.resnet.ResNet50(\n",
    "        include_top=False,\n",
    "        weights='imagenet',\n",
    "        input_shape=(224, 224,3),\n",
    "        pooling='avg',\n",
    "    ),\n",
    "    keras.layers.Dense(num_classes, activation = 'softmax')\n",
    "])\n",
    "model.compile(\n",
    "    loss='categorical_crossentropy',\n",
    "    optimizer=tf.keras.optimizers.SGD(lr=0.01),\n",
    "    metrics=['accuracy'],\n",
    ")\n",
    "\n",
    "history_resnet50_no_aug = model.fit(\n",
    "    ds_train_no_aug, # augmentation 적용하지 않은 데이터셋 사용\n",
    "    steps_per_epoch=int(ds_info.splits['train'].num_examples/BATCH_SIZE),\n",
    "    validation_steps=int(ds_info.splits['test'].num_examples/BATCH_SIZE),\n",
    "    epochs=EPOCHS,\n",
    "    validation_data=ds_test,\n",
    "    verbose=1,\n",
    "    use_multiprocessing=True,\n",
    ")"
   ]
  },
  {
   "cell_type": "code",
   "execution_count": 43,
   "metadata": {},
   "outputs": [],
   "source": [
    "model.save_weights('resnet50_no_aug.h5')"
   ]
  },
  {
   "cell_type": "code",
   "execution_count": 47,
   "metadata": {},
   "outputs": [],
   "source": [
    "path = 'history_resnet50_no_aug.pkl'\n",
    "pickle.dump(history_resnet50_no_aug.history, open(path, 'wb'))"
   ]
  },
  {
   "cell_type": "code",
   "execution_count": 15,
   "metadata": {},
   "outputs": [
    {
     "name": "stdout",
     "output_type": "stream",
     "text": [
      "Epoch 1/20\n",
      "750/750 [==============================] - 121s 161ms/step - loss: 2.2467 - accuracy: 0.4367 - val_loss: 3.1047 - val_accuracy: 0.2472\n",
      "Epoch 2/20\n",
      "750/750 [==============================] - 120s 160ms/step - loss: 0.9521 - accuracy: 0.7218 - val_loss: 1.4741 - val_accuracy: 0.5891\n",
      "Epoch 3/20\n",
      "750/750 [==============================] - 124s 165ms/step - loss: 0.5447 - accuracy: 0.8461 - val_loss: 1.4333 - val_accuracy: 0.5946\n",
      "Epoch 4/20\n",
      "750/750 [==============================] - 127s 169ms/step - loss: 0.3258 - accuracy: 0.9137 - val_loss: 1.0817 - val_accuracy: 0.6855\n",
      "Epoch 5/20\n",
      "750/750 [==============================] - 125s 166ms/step - loss: 0.1795 - accuracy: 0.9612 - val_loss: 1.0463 - val_accuracy: 0.7045\n",
      "Epoch 6/20\n",
      "750/750 [==============================] - 113s 150ms/step - loss: 0.1054 - accuracy: 0.9806 - val_loss: 0.9797 - val_accuracy: 0.7274\n",
      "Epoch 7/20\n",
      "750/750 [==============================] - 112s 150ms/step - loss: 0.0674 - accuracy: 0.9901 - val_loss: 0.9828 - val_accuracy: 0.7308\n",
      "Epoch 8/20\n",
      "750/750 [==============================] - 112s 150ms/step - loss: 0.0565 - accuracy: 0.9912 - val_loss: 1.0336 - val_accuracy: 0.7206\n",
      "Epoch 9/20\n",
      "750/750 [==============================] - 112s 150ms/step - loss: 0.0357 - accuracy: 0.9952 - val_loss: 0.9501 - val_accuracy: 0.7404\n",
      "Epoch 10/20\n",
      "750/750 [==============================] - 112s 150ms/step - loss: 0.0220 - accuracy: 0.9982 - val_loss: 0.9918 - val_accuracy: 0.7397\n",
      "Epoch 11/20\n",
      "750/750 [==============================] - 112s 150ms/step - loss: 0.0234 - accuracy: 0.9968 - val_loss: 1.0024 - val_accuracy: 0.7395\n",
      "Epoch 12/20\n",
      "750/750 [==============================] - 112s 150ms/step - loss: 0.0230 - accuracy: 0.9976 - val_loss: 0.9760 - val_accuracy: 0.7466\n",
      "Epoch 13/20\n",
      "750/750 [==============================] - 120s 159ms/step - loss: 0.0151 - accuracy: 0.9983 - val_loss: 1.0011 - val_accuracy: 0.7457\n",
      "Epoch 14/20\n",
      "750/750 [==============================] - 117s 156ms/step - loss: 0.0081 - accuracy: 0.9993 - val_loss: 0.9698 - val_accuracy: 0.7507\n",
      "Epoch 15/20\n",
      "750/750 [==============================] - 117s 156ms/step - loss: 0.0106 - accuracy: 0.9988 - val_loss: 0.9729 - val_accuracy: 0.7542\n",
      "Epoch 16/20\n",
      "750/750 [==============================] - 117s 156ms/step - loss: 0.0107 - accuracy: 0.9989 - val_loss: 1.0016 - val_accuracy: 0.7499\n",
      "Epoch 17/20\n",
      "750/750 [==============================] - 116s 155ms/step - loss: 0.0076 - accuracy: 0.9991 - val_loss: 1.0068 - val_accuracy: 0.7439\n",
      "Epoch 18/20\n",
      "750/750 [==============================] - 116s 154ms/step - loss: 0.0056 - accuracy: 0.9997 - val_loss: 0.9990 - val_accuracy: 0.7515\n",
      "Epoch 19/20\n",
      "750/750 [==============================] - 117s 156ms/step - loss: 0.0041 - accuracy: 0.9998 - val_loss: 1.0037 - val_accuracy: 0.7538\n",
      "Epoch 20/20\n",
      "750/750 [==============================] - 119s 159ms/step - loss: 0.0057 - accuracy: 0.9995 - val_loss: 1.0021 - val_accuracy: 0.7538\n"
     ]
    }
   ],
   "source": [
    "model = keras.models.Sequential([\n",
    "    keras.applications.resnet.ResNet50(\n",
    "        include_top=False,\n",
    "        weights='imagenet',\n",
    "        input_shape=(224, 224,3),\n",
    "        pooling='avg',\n",
    "    ),\n",
    "    keras.layers.Dense(num_classes, activation = 'softmax')\n",
    "])\n",
    "\n",
    "model.compile(\n",
    "    loss='categorical_crossentropy',\n",
    "    optimizer=tf.keras.optimizers.SGD(lr=0.01),\n",
    "    metrics=['accuracy'],\n",
    ")\n",
    "\n",
    "history_resnet50_aug = model.fit(\n",
    "    ds_train_aug, # augmentation 적용한 데이터셋 사용\n",
    "    steps_per_epoch=int(ds_info.splits['train'].num_examples/BATCH_SIZE),\n",
    "    validation_steps=int(ds_info.splits['test'].num_examples/BATCH_SIZE),\n",
    "    epochs=EPOCHS,\n",
    "    validation_data=ds_test,\n",
    "    verbose=1,\n",
    "    use_multiprocessing=True,\n",
    ")"
   ]
  },
  {
   "cell_type": "code",
   "execution_count": 16,
   "metadata": {},
   "outputs": [],
   "source": [
    "model.save_weights('resnet50_aug.h5')"
   ]
  },
  {
   "cell_type": "code",
   "execution_count": 17,
   "metadata": {},
   "outputs": [],
   "source": [
    "path = 'resnet50_aug.pkl'\n",
    "pickle.dump(history_resnet50_aug.history, open(path, 'wb'))"
   ]
  },
  {
   "cell_type": "code",
   "execution_count": 18,
   "metadata": {},
   "outputs": [
    {
     "name": "stdout",
     "output_type": "stream",
     "text": [
      "Epoch 1/20\n",
      "750/750 [==============================] - 122s 163ms/step - loss: 2.2489 - accuracy: 0.4328 - val_loss: 3.4235 - val_accuracy: 0.2006\n",
      "Epoch 2/20\n",
      "750/750 [==============================] - 121s 161ms/step - loss: 0.9395 - accuracy: 0.7262 - val_loss: 1.2406 - val_accuracy: 0.6393\n",
      "Epoch 3/20\n",
      "750/750 [==============================] - 122s 163ms/step - loss: 0.5482 - accuracy: 0.8470 - val_loss: 1.1585 - val_accuracy: 0.6610\n",
      "Epoch 4/20\n",
      "750/750 [==============================] - 123s 164ms/step - loss: 0.2960 - accuracy: 0.9244 - val_loss: 1.0035 - val_accuracy: 0.7062\n",
      "Epoch 5/20\n",
      "750/750 [==============================] - 126s 167ms/step - loss: 0.1784 - accuracy: 0.9622 - val_loss: 1.0840 - val_accuracy: 0.7013\n",
      "Epoch 6/20\n",
      "750/750 [==============================] - 123s 165ms/step - loss: 0.1017 - accuracy: 0.9817 - val_loss: 0.9940 - val_accuracy: 0.7246\n",
      "Epoch 7/20\n",
      "750/750 [==============================] - 121s 161ms/step - loss: 0.0769 - accuracy: 0.9862 - val_loss: 1.0371 - val_accuracy: 0.7177\n",
      "Epoch 8/20\n",
      "750/750 [==============================] - 121s 161ms/step - loss: 0.0407 - accuracy: 0.9950 - val_loss: 0.9171 - val_accuracy: 0.7480\n",
      "Epoch 9/20\n",
      "750/750 [==============================] - 120s 161ms/step - loss: 0.0394 - accuracy: 0.9948 - val_loss: 0.9912 - val_accuracy: 0.7403\n",
      "Epoch 10/20\n",
      "750/750 [==============================] - 118s 158ms/step - loss: 0.0224 - accuracy: 0.9973 - val_loss: 1.0554 - val_accuracy: 0.7288\n",
      "Epoch 11/20\n",
      "750/750 [==============================] - 118s 157ms/step - loss: 0.0184 - accuracy: 0.9988 - val_loss: 0.9417 - val_accuracy: 0.7576\n",
      "Epoch 12/20\n",
      "750/750 [==============================] - 119s 158ms/step - loss: 0.0165 - accuracy: 0.9988 - val_loss: 0.9753 - val_accuracy: 0.7490\n",
      "Epoch 13/20\n",
      "750/750 [==============================] - 122s 163ms/step - loss: 0.0191 - accuracy: 0.9979 - val_loss: 0.9666 - val_accuracy: 0.7530\n",
      "Epoch 14/20\n",
      "750/750 [==============================] - 119s 158ms/step - loss: 0.0102 - accuracy: 0.9989 - val_loss: 0.9699 - val_accuracy: 0.7552\n",
      "Epoch 15/20\n",
      "750/750 [==============================] - 121s 161ms/step - loss: 0.0116 - accuracy: 0.9988 - val_loss: 0.9642 - val_accuracy: 0.7526\n",
      "Epoch 16/20\n",
      "750/750 [==============================] - 120s 160ms/step - loss: 0.0100 - accuracy: 0.9992 - val_loss: 0.9874 - val_accuracy: 0.7534\n",
      "Epoch 17/20\n",
      "750/750 [==============================] - 121s 162ms/step - loss: 0.0114 - accuracy: 0.9987 - val_loss: 1.0147 - val_accuracy: 0.7478\n",
      "Epoch 18/20\n",
      "750/750 [==============================] - 122s 163ms/step - loss: 0.0063 - accuracy: 0.9993 - val_loss: 0.9755 - val_accuracy: 0.7580\n",
      "Epoch 19/20\n",
      "750/750 [==============================] - 122s 163ms/step - loss: 0.0085 - accuracy: 0.9991 - val_loss: 1.0134 - val_accuracy: 0.7527\n",
      "Epoch 20/20\n",
      "750/750 [==============================] - 122s 163ms/step - loss: 0.0053 - accuracy: 0.9994 - val_loss: 0.9885 - val_accuracy: 0.7569\n"
     ]
    }
   ],
   "source": [
    "model = keras.models.Sequential([\n",
    "    keras.applications.resnet.ResNet50(\n",
    "        include_top=False,\n",
    "        weights='imagenet',\n",
    "        input_shape=(224, 224,3),\n",
    "        pooling='avg',\n",
    "    ),\n",
    "    keras.layers.Dense(num_classes, activation = 'softmax')\n",
    "])\n",
    "\n",
    "model.compile(\n",
    "    loss='categorical_crossentropy',\n",
    "    optimizer=tf.keras.optimizers.SGD(lr=0.01),\n",
    "    metrics=['accuracy'],\n",
    ")\n",
    "\n",
    "history_resnet50_aug_cutmix = model.fit(\n",
    "    ds_train_aug, # augmentation 적용한 데이터셋 사용\n",
    "    steps_per_epoch=int(ds_info.splits['train'].num_examples/BATCH_SIZE),\n",
    "    validation_steps=int(ds_info.splits['test'].num_examples/BATCH_SIZE),\n",
    "    epochs=EPOCHS,\n",
    "    validation_data=ds_test,\n",
    "    verbose=1,\n",
    "    use_multiprocessing=True,\n",
    ")"
   ]
  },
  {
   "cell_type": "code",
   "execution_count": 19,
   "metadata": {},
   "outputs": [],
   "source": [
    "model.save_weights('resnet50_aug_cutmix.h5')"
   ]
  },
  {
   "cell_type": "code",
   "execution_count": 20,
   "metadata": {},
   "outputs": [],
   "source": [
    "path = 'resnet50_aug_cutmix.pkl'\n",
    "pickle.dump(history_resnet50_aug_cutmix.history, open(path, 'wb'))"
   ]
  },
  {
   "cell_type": "code",
   "execution_count": 21,
   "metadata": {},
   "outputs": [
    {
     "name": "stdout",
     "output_type": "stream",
     "text": [
      "Epoch 1/20\n",
      "750/750 [==============================] - 122s 163ms/step - loss: 2.2691 - accuracy: 0.4303 - val_loss: 3.0326 - val_accuracy: 0.2703\n",
      "Epoch 2/20\n",
      "750/750 [==============================] - 123s 164ms/step - loss: 0.9702 - accuracy: 0.7213 - val_loss: 1.1998 - val_accuracy: 0.6498\n",
      "Epoch 3/20\n",
      "750/750 [==============================] - 124s 165ms/step - loss: 0.5469 - accuracy: 0.8447 - val_loss: 1.0552 - val_accuracy: 0.6891\n",
      "Epoch 4/20\n",
      "750/750 [==============================] - 120s 160ms/step - loss: 0.3119 - accuracy: 0.9179 - val_loss: 1.1232 - val_accuracy: 0.6797\n",
      "Epoch 5/20\n",
      "750/750 [==============================] - 120s 160ms/step - loss: 0.1845 - accuracy: 0.9592 - val_loss: 1.0337 - val_accuracy: 0.7084\n",
      "Epoch 6/20\n",
      "750/750 [==============================] - 121s 162ms/step - loss: 0.1190 - accuracy: 0.9777 - val_loss: 0.9982 - val_accuracy: 0.7172\n",
      "Epoch 7/20\n",
      "750/750 [==============================] - 119s 159ms/step - loss: 0.0822 - accuracy: 0.9851 - val_loss: 1.0219 - val_accuracy: 0.7256\n",
      "Epoch 8/20\n",
      "750/750 [==============================] - 119s 159ms/step - loss: 0.0529 - accuracy: 0.9933 - val_loss: 0.9929 - val_accuracy: 0.7346\n",
      "Epoch 9/20\n",
      "750/750 [==============================] - 119s 159ms/step - loss: 0.0362 - accuracy: 0.9960 - val_loss: 0.9591 - val_accuracy: 0.7438\n",
      "Epoch 10/20\n",
      "750/750 [==============================] - 122s 163ms/step - loss: 0.0236 - accuracy: 0.9977 - val_loss: 0.9459 - val_accuracy: 0.7550\n",
      "Epoch 11/20\n",
      "750/750 [==============================] - 121s 162ms/step - loss: 0.0258 - accuracy: 0.9968 - val_loss: 0.9798 - val_accuracy: 0.7477\n",
      "Epoch 12/20\n",
      "750/750 [==============================] - 121s 162ms/step - loss: 0.0182 - accuracy: 0.9982 - val_loss: 0.9672 - val_accuracy: 0.7494\n",
      "Epoch 13/20\n",
      "750/750 [==============================] - 123s 164ms/step - loss: 0.0163 - accuracy: 0.9981 - val_loss: 0.9899 - val_accuracy: 0.7424\n",
      "Epoch 14/20\n",
      "750/750 [==============================] - 122s 162ms/step - loss: 0.0116 - accuracy: 0.9987 - val_loss: 0.9801 - val_accuracy: 0.7523\n",
      "Epoch 15/20\n",
      "750/750 [==============================] - 122s 163ms/step - loss: 0.0085 - accuracy: 0.9992 - val_loss: 0.9839 - val_accuracy: 0.7498\n",
      "Epoch 16/20\n",
      "750/750 [==============================] - 121s 161ms/step - loss: 0.0052 - accuracy: 0.9997 - val_loss: 0.9682 - val_accuracy: 0.7557\n",
      "Epoch 17/20\n",
      "750/750 [==============================] - 124s 165ms/step - loss: 0.0081 - accuracy: 0.9992 - val_loss: 0.9705 - val_accuracy: 0.7564\n",
      "Epoch 18/20\n",
      "750/750 [==============================] - 122s 162ms/step - loss: 0.0099 - accuracy: 0.9989 - val_loss: 0.9926 - val_accuracy: 0.7534\n",
      "Epoch 19/20\n",
      "750/750 [==============================] - 119s 159ms/step - loss: 0.0071 - accuracy: 0.9993 - val_loss: 1.0222 - val_accuracy: 0.7503\n",
      "Epoch 20/20\n",
      "750/750 [==============================] - 118s 158ms/step - loss: 0.0083 - accuracy: 0.9992 - val_loss: 1.0118 - val_accuracy: 0.7479\n"
     ]
    }
   ],
   "source": [
    "model = keras.models.Sequential([\n",
    "    keras.applications.resnet.ResNet50(\n",
    "        include_top=False,\n",
    "        weights='imagenet',\n",
    "        input_shape=(224, 224,3),\n",
    "        pooling='avg',\n",
    "    ),\n",
    "    keras.layers.Dense(num_classes, activation = 'softmax')\n",
    "])\n",
    "\n",
    "model.compile(\n",
    "    loss='categorical_crossentropy',\n",
    "    optimizer=tf.keras.optimizers.SGD(lr=0.01),\n",
    "    metrics=['accuracy'],\n",
    ")\n",
    "\n",
    "history_resnet50_aug_mixup = model.fit(\n",
    "    ds_train_aug, # augmentation 적용한 데이터셋 사용\n",
    "    steps_per_epoch=int(ds_info.splits['train'].num_examples/BATCH_SIZE),\n",
    "    validation_steps=int(ds_info.splits['test'].num_examples/BATCH_SIZE),\n",
    "    epochs=EPOCHS,\n",
    "    validation_data=ds_test,\n",
    "    verbose=1,\n",
    "    use_multiprocessing=True,\n",
    ")"
   ]
  },
  {
   "cell_type": "code",
   "execution_count": 22,
   "metadata": {},
   "outputs": [],
   "source": [
    "model.save_weights('resnet50_aug_mixup.h5')"
   ]
  },
  {
   "cell_type": "code",
   "execution_count": 23,
   "metadata": {},
   "outputs": [],
   "source": [
    "path = 'resnet50_aug_mixup.pkl'\n",
    "pickle.dump(history_resnet50_aug_mixup.history, open(path, 'wb'))"
   ]
  },
  {
   "cell_type": "markdown",
   "metadata": {},
   "source": [
    "## visualization"
   ]
  },
  {
   "cell_type": "code",
   "execution_count": 25,
   "metadata": {},
   "outputs": [],
   "source": [
    "history_resnet50_no_aug = pickle.load(open('resnet50_no_aug.pkl', 'rb'))\n",
    "history_resnet50_aug = pickle.load(open('resnet50_aug.pkl', 'rb'))\n",
    "history_resnet50_aug_cutmix = pickle.load(open('resnet50_aug_cutmix.pkl', 'rb'))\n",
    "history_resnet50_aug_mixup = pickle.load(open('resnet50_aug_mixup.pkl', 'rb'))"
   ]
  },
  {
   "cell_type": "code",
   "execution_count": 26,
   "metadata": {},
   "outputs": [
    {
     "data": {
      "image/png": "[encoded data removed]",
      "text/plain": [
       "<Figure size 432x288 with 1 Axes>"
      ]
     },
     "metadata": {
      "needs_background": "light"
     },
     "output_type": "display_data"
    }
   ],
   "source": [
    "plt.plot(history_resnet50_no_aug['val_accuracy'], 'r')\n",
    "plt.plot(history_resnet50_aug['val_accuracy'], 'b')\n",
    "plt.plot(history_resnet50_aug_cutmix['val_accuracy'], 'g')\n",
    "plt.plot(history_resnet50_aug_mixup['val_accuracy'], 'c')\n",
    "plt.title('Model validation accuracy')\n",
    "plt.ylabel('Accuracy')\n",
    "plt.xlabel('Epoch')\n",
    "plt.legend(['No Augmentation', 'With Augmentation', 'Aug + Cutmix', 'Aug + Mixup'], loc='upper left')\n",
    "plt.show()"
   ]
  },
  {
   "cell_type": "code",
   "execution_count": 29,
   "metadata": {},
   "outputs": [
    {
     "data": {
      "image/png": "[encoded data removed]",
      "text/plain": [
       "<Figure size 432x288 with 1 Axes>"
      ]
     },
     "metadata": {
      "needs_background": "light"
     },
     "output_type": "display_data"
    }
   ],
   "source": [
    "plt.plot(history_resnet50_no_aug['val_accuracy'], 'r')\n",
    "plt.plot(history_resnet50_aug['val_accuracy'], 'b')\n",
    "plt.plot(history_resnet50_aug_cutmix['val_accuracy'], 'g')\n",
    "plt.plot(history_resnet50_aug_mixup['val_accuracy'], 'c')\n",
    "plt.title('Model validation accuracy')\n",
    "plt.ylabel('Accuracy')\n",
    "plt.xlabel('Epoch')\n",
    "plt.legend(['No Augmentation', 'With Augmentation', 'Aug + Cutmix', 'Aug + Mixup'], loc='upper left')\n",
    "plt.grid(True)\n",
    "plt.ylim(0.70, 0.76)\n",
    "plt.show()"
   ]
  },
  {
   "cell_type": "markdown",
   "metadata": {},
   "source": [
    "## 결론"
   ]
  },
  {
   "cell_type": "markdown",
   "metadata": {},
   "source": [
    "1. CutMix, Mixup을 적용한 데이터셋으로 모델을 훈련했을 때, 유의미한 학습이 수행됨\n",
    "    - 하지만, 수렴까지는 추가적인 학습이 필요할 것으로 생각됨\n",
    "2. 데이터 증강과 증강하지 않았을 때의 차이는 없었음\n",
    "    - 이 현상은 아직 모델이 최적화되지 않아서 발생한 문제로 생각됨\n",
    "    - 왜냐면, 데이터 증강이 없는 경우 빠르게 수렴했지만\n",
    "    - 데이터 증강을 한 경우엔 학습이 덜 된 듯한 양상을 보이기 때문\n",
    "    - 즉, 추가로 학습을 진행하면 유의미한 차이가 있을지 확인이 가능할 것으로 생각됨\n",
    "3. 4가지 방법(Aug, No Aug, Aug + CutMix, Aug + Mixup)으로 실험을 진행하고, 학습양상을 시각화 성공함\n",
    "4. 추가 실험 필요사항\n",
    "    - epochs를 20 -> 40~50으로 늘려, 유의미한 성능향상이 있는지 확인이 필요함"
   ]
  },
  {
   "cell_type": "code",
   "execution_count": null,
   "metadata": {},
   "outputs": [],
   "source": []
  }
 ],
 "metadata": {
  "kernelspec": {
   "display_name": "aiffel",
   "language": "python",
   "name": "aiffel"
  },
  "language_info": {
   "codemirror_mode": {
    "name": "ipython",
    "version": 3
   },
   "file_extension": ".py",
   "mimetype": "text/x-python",
   "name": "python",
   "nbconvert_exporter": "python",
   "pygments_lexer": "ipython3",
   "version": "3.7.6"
  },
  "toc": {
   "base_numbering": 1,
   "nav_menu": {},
   "number_sections": true,
   "sideBar": true,
   "skip_h1_title": false,
   "title_cell": "Table of Contents",
   "title_sidebar": "Contents",
   "toc_cell": false,
   "toc_position": {},
   "toc_section_display": true,
   "toc_window_display": false
  },
  "varInspector": {
   "cols": {
    "lenName": 16,
    "lenType": 16,
    "lenVar": 40
   },
   "kernels_config": {
    "python": {
     "delete_cmd_postfix": "",
     "delete_cmd_prefix": "del ",
     "library": "var_list.py",
     "varRefreshCmd": "print(var_dic_list())"
    },
    "r": {
     "delete_cmd_postfix": ") ",
     "delete_cmd_prefix": "rm(",
     "library": "var_list.r",
     "varRefreshCmd": "cat(var_dic_list()) "
    }
   },
   "types_to_exclude": [
    "module",
    "function",
    "builtin_function_or_method",
    "instance",
    "_Feature"
   ],
   "window_display": false
  }
 },
 "nbformat": 4,
 "nbformat_minor": 4
}
